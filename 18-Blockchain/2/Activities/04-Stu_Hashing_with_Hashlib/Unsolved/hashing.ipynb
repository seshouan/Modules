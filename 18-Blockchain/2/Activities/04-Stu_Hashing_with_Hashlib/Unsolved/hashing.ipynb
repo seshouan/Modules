{
 "cells": [
  {
   "cell_type": "code",
   "execution_count": 2,
   "id": "fa7db4af-4ba6-4758-ad20-bea5261df040",
   "metadata": {
    "tags": []
   },
   "outputs": [],
   "source": [
    "import hashlib"
   ]
  },
  {
   "cell_type": "code",
   "execution_count": 3,
   "id": "a02846d1-9277-439c-8528-7bc712c5a18c",
   "metadata": {},
   "outputs": [],
   "source": [
    "# output sha256 hash in hexadecimal string format\n",
    "def hash(message):\n",
    "    return hashlib.sha256(message).hexdigest()"
   ]
  },
  {
   "cell_type": "code",
   "execution_count": 7,
   "id": "808182b1-fe6c-4e3d-89de-4a419a62a974",
   "metadata": {},
   "outputs": [
    {
     "name": "stdout",
     "output_type": "stream",
     "text": [
      "msg1: b'hello world', hash1: b94d27b9934d3e08a52e52d7da7dabfac484efe37a5380ee9088f7ace2efcde9\n",
      "msg2: b'Hello World', hash2: a591a6d40bf420404a011733cfb7b190d62c65bf0bcda32b57b277d9ad9f146e\n"
     ]
    }
   ],
   "source": [
    "# modify these messages\n",
    "# note: we include the \"b\" before the string definition in order to represent it as bytes instead of a string\n",
    "message_one = b\"hello world\"\n",
    "message_two = b\"Hello World\"\n",
    "\n",
    "# print both messages and their corresponding hashes\n",
    "print(f'msg1: {message_one}, hash1: {hash(message_one)}')\n",
    "print(f'msg2: {message_two}, hash2: {hash(message_two)}')"
   ]
  },
  {
   "cell_type": "code",
   "execution_count": 5,
   "id": "1b74e8db-a8d7-4a65-9f0b-e498fc189b72",
   "metadata": {},
   "outputs": [
    {
     "name": "stdout",
     "output_type": "stream",
     "text": [
      "Different messages\n"
     ]
    }
   ],
   "source": [
    "# compare the hashes in an if/else statement\n",
    "hash_one = hash(message_one)\n",
    "hash_two = hash(message_two)\n",
    "\n",
    "if (hash_one == hash_two):\n",
    "    print('The messages are the same')\n",
    "else:\n",
    "    print('Different messages')"
   ]
  },
  {
   "cell_type": "code",
   "execution_count": 6,
   "id": "e0b65415-74df-4305-9998-26e39b462e4f",
   "metadata": {
    "tags": []
   },
   "outputs": [
    {
     "name": "stdout",
     "output_type": "stream",
     "text": [
      "64\n",
      "64\n"
     ]
    }
   ],
   "source": [
    "# compare the length of the hashes\n",
    "print(len(hash_one))\n",
    "print(len(hash_two))"
   ]
  }
 ],
 "metadata": {
  "kernelspec": {
   "display_name": "Python 3 (ipykernel)",
   "language": "python",
   "name": "python3"
  },
  "language_info": {
   "codemirror_mode": {
    "name": "ipython",
    "version": 3
   },
   "file_extension": ".py",
   "mimetype": "text/x-python",
   "name": "python",
   "nbconvert_exporter": "python",
   "pygments_lexer": "ipython3",
   "version": "3.11.3"
  }
 },
 "nbformat": 4,
 "nbformat_minor": 5
}
