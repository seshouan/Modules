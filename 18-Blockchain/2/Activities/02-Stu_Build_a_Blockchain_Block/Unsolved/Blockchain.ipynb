{
 "cells": [
  {
   "cell_type": "code",
   "execution_count": 9,
   "id": "1867ad76-d50f-4821-a62e-a54303b35e97",
   "metadata": {
    "tags": []
   },
   "outputs": [],
   "source": [
    "import time\n",
    "from dataclasses import dataclass\n",
    "from datetime import datetime\n",
    "from typing import List"
   ]
  },
  {
   "cell_type": "code",
   "execution_count": 10,
   "id": "06c68f79-b6ea-4c13-9244-27f87c7f94bd",
   "metadata": {
    "tags": []
   },
   "outputs": [],
   "source": [
    "@dataclass\n",
    "class Block():\n",
    "    # def __init__(self, input_data, input_creator_id):\n",
    "    #     self.data = input_data\n",
    "    #     self.creator_id = input_creator_id\n",
    "    #     self.timestampt = time.time()\n",
    "\n",
    "    data: List\n",
    "    creator_id: int\n",
    "    timestamp: str = datetime.utcnow().strftime('%H:%M:%S')"
   ]
  },
  {
   "cell_type": "code",
   "execution_count": 11,
   "id": "a1719eb0-b70d-47cd-ab14-d3548a8b6dc2",
   "metadata": {
    "tags": []
   },
   "outputs": [],
   "source": [
    "block_one = Block(['a', 'b', 'c'], 123)"
   ]
  },
  {
   "cell_type": "code",
   "execution_count": 14,
   "id": "a60d9791-1bd9-45f9-9406-f5ea08f52f2a",
   "metadata": {
    "tags": []
   },
   "outputs": [
    {
     "data": {
      "text/plain": [
       "'02:07:13'"
      ]
     },
     "execution_count": 14,
     "metadata": {},
     "output_type": "execute_result"
    }
   ],
   "source": [
    "block_one.timestamp"
   ]
  },
  {
   "cell_type": "code",
   "execution_count": null,
   "id": "7b0955b7-5af7-4305-a1a6-e0e58f77c446",
   "metadata": {},
   "outputs": [],
   "source": []
  }
 ],
 "metadata": {
  "kernelspec": {
   "display_name": "Python 3 (ipykernel)",
   "language": "python",
   "name": "python3"
  },
  "language_info": {
   "codemirror_mode": {
    "name": "ipython",
    "version": 3
   },
   "file_extension": ".py",
   "mimetype": "text/x-python",
   "name": "python",
   "nbconvert_exporter": "python",
   "pygments_lexer": "ipython3",
   "version": "3.11.3"
  }
 },
 "nbformat": 4,
 "nbformat_minor": 5
}
