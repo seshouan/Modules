{
 "cells": [
  {
   "cell_type": "code",
   "execution_count": 1,
   "id": "49347cbc-280e-4fc3-9284-905ec12cd14f",
   "metadata": {
    "tags": []
   },
   "outputs": [],
   "source": [
    "# Building a Blockchain Block\n",
    "################################################################################\n",
    "# In this activity, you’ll build a Streamlit application that accepts user\n",
    "# input and then stores that input in a `Block` data class.\n",
    "\n",
    "# The instructions for this activity are divided into the following high-level\n",
    "# steps:\n",
    "# 1. Create a data class for storing data from a user.\n",
    "# 2. Create a Streamlit component to accept user input.\n",
    "# 3. Create a button for storing and displaying the user input.\n",
    "# 4. Test the application.\n",
    "\n",
    "################################################################################"
   ]
  },
  {
   "cell_type": "code",
   "execution_count": null,
   "id": "df7f605f-ade6-4491-a91c-9a8f16cd3ee4",
   "metadata": {},
   "outputs": [],
   "source": [
    "# Imports\n",
    "import streamlit as st\n",
    "from dataclasses import dataclass\n",
    "from datetime import datetime\n",
    "from typing import Any"
   ]
  },
  {
   "cell_type": "code",
   "execution_count": null,
   "id": "b470c24f-b071-451c-a891-0425b7f98d4b",
   "metadata": {},
   "outputs": [],
   "source": [
    "################################################################################\n",
    "# Step 1:\n",
    "# Create a Data Class for Storing Data from a User\n",
    "\n",
    "# In this section, you’ll create a data class named `Block` for storing data\n",
    "# from a user. To do so, complete the following steps:\n",
    "# 1. Define a class named `Block` and add the `@dataclass` decorator.\n",
    "# 2. Inside the data class, define an attribute named `data` with a type of\n",
    "# `Any`.\n",
    "# 3. Inside the data class, define an attribute named `creator_id` with a type\n",
    "# of `int`.\n",
    "# 4. Inside the data class, define an attribute name `timestamp` with a type of\n",
    "# `str`.\n",
    "# 5. Assign a default value to the `timestamp` attribute by using the following\n",
    "# code: `datetime.utcnow().strftime(\"%H:%M:%S\")`\n",
    "\n",
    "# @TODO\n",
    "# Define a class `Block` and add the `@dataclass` decorator.\n",
    "# YOUR CODE HERE!\n",
    "# YOUR CODE HERE!\n",
    "\n",
    "    # @TODO:\n",
    "    # Define an attribute named `data` with a type of `Any`.\n",
    "    # YOUR CODE HERE!\n",
    "\n",
    "    # @TODO:\n",
    "    # Define an attribute named `creator_id` with a type of `int`.\n",
    "    # YOUR CODE HERE!\n",
    "\n",
    "    # @TODO:\n",
    "    # Define an attribute name `timestamp` with a type of `str`.\n",
    "    # Use the following code to set the value:\n",
    "    # `datetime.utcnow().strftime(\"%H:%M:%S\")`\n",
    "    # # YOUR CODE HERE!\n",
    "\n",
    "# Create the application headers using markdown strings.\n",
    "st.markdown(\"# First app#\")\n",
    "st.markdown(\"## Store Data in a Block\")"
   ]
  },
  {
   "cell_type": "code",
   "execution_count": null,
   "id": "5a2777d6-eb11-4928-9ff3-a35d3996bcfe",
   "metadata": {},
   "outputs": [],
   "source": [
    "################################################################################\n",
    "# Step 2:\n",
    "# Create a Streamlit Component to Accept User Input\n",
    "\n",
    "# @TODO:\n",
    "# Referencing the Streamlit library, use the `text_input` function and pass the\n",
    "# parameter \"Block Data\".\n",
    "input_data =  # YOUR CODE HERE!"
   ]
  },
  {
   "cell_type": "code",
   "execution_count": null,
   "id": "e01caa34-d3f5-438c-9584-74e29c0e308b",
   "metadata": {},
   "outputs": [],
   "source": [
    "################################################################################\n",
    "# Step 3:\n",
    "# Create a Button for Storing and Displaying the User Input\n",
    "\n",
    "# In this section, you’ll create a button that will store the user input in an\n",
    "# instance of the `Block` data class and then display it to the user. To do so,\n",
    "# complete the following steps:\n",
    "# 1. Create a Streamlit `button`, and pass the “Add Block” parameter to it.\n",
    "# 2. In the button statement, create an instance of the `Block` data class. Use\n",
    "# the user input from the preceding “Step 2” section for the data attribute,\n",
    "# and use the integer 42 for the creator ID.\n",
    "# Hint: Create an instance of the Block dataclass using the following code:\n",
    "# `new_block = Block(data=input_data, creator_id=42)`\n",
    "# 3. Use the `st.write` function to display the new block.\n",
    "\n",
    "# @TODO:\n",
    "# Create a Streamlit `button`, and pass the “Add Block” parameter to it.\n",
    "# YOUR CODE HERE!\n",
    "\n",
    "    # @TODO:\n",
    "    # Create an instance of the `Block` data class called `new_block`\n",
    "    # Use the user input from Step 2 for the `data` attribute\n",
    "    # Use the integer 42 for the `creator_id`\n",
    "    new_block =  # YOUR CODE HERE!\n",
    "\n",
    "    # @TODO:\n",
    "    # Use the `st.write` function to display the new block.\n",
    "    # YOUR CODE HERE!"
   ]
  },
  {
   "cell_type": "code",
   "execution_count": null,
   "id": "bc755300-0b68-400d-abf4-b3d591c51f02",
   "metadata": {},
   "outputs": [],
   "source": [
    "################################################################################\n",
    "# Step 4:\n",
    "# Test the application.\n",
    "\n",
    "# Complete the following steps:\n",
    "# 1. In the terminal, navigate to the `Unsolved` folder for this activity.\n",
    "# 2. Be sure that your Conda development environment is active.\n",
    "# 3. Run the Streamlit app in the terminal by using `streamlit run app.py`.\n",
    "# 4. Type some input text in the text box, and then click the Add Block button.\n",
    "# 5. Confirm that an instance of the `Block` class that appears on the page.\n",
    "\n",
    "################################################################################"
   ]
  },
  {
   "cell_type": "code",
   "execution_count": null,
   "id": "4148ab83-a166-4a7e-bb84-fc411d2e7d6e",
   "metadata": {},
   "outputs": [],
   "source": []
  }
 ],
 "metadata": {
  "kernelspec": {
   "display_name": "Python 3 (ipykernel)",
   "language": "python",
   "name": "python3"
  },
  "language_info": {
   "codemirror_mode": {
    "name": "ipython",
    "version": 3
   },
   "file_extension": ".py",
   "mimetype": "text/x-python",
   "name": "python",
   "nbconvert_exporter": "python",
   "pygments_lexer": "ipython3",
   "version": "3.11.3"
  }
 },
 "nbformat": 4,
 "nbformat_minor": 5
}
