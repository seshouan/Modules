{
 "cells": [
  {
   "cell_type": "code",
   "execution_count": 61,
   "metadata": {},
   "outputs": [],
   "source": [
    "# Import the moduels\n",
    "import pandas as pd\n",
    "from pathlib import Path\n",
    "import hvplot.pandas\n",
    "import warnings"
   ]
  },
  {
   "cell_type": "code",
   "execution_count": 62,
   "metadata": {
    "tags": []
   },
   "outputs": [],
   "source": [
    "warnings.filterwarnings('ignore')"
   ]
  },
  {
   "cell_type": "markdown",
   "metadata": {},
   "source": [
    "## Import the Pandas DataFrame"
   ]
  },
  {
   "cell_type": "code",
   "execution_count": 63,
   "metadata": {},
   "outputs": [],
   "source": [
    "# Read in the CSV file as a Pandas Dataframe\n",
    "ccinfo_df = pd.read_csv(\n",
    "    Path(\"../Resources/cc_info_default.csv\")\n",
    ")"
   ]
  },
  {
   "cell_type": "code",
   "execution_count": 64,
   "metadata": {},
   "outputs": [
    {
     "data": {
      "text/html": [
       "<div>\n",
       "<style scoped>\n",
       "    .dataframe tbody tr th:only-of-type {\n",
       "        vertical-align: middle;\n",
       "    }\n",
       "\n",
       "    .dataframe tbody tr th {\n",
       "        vertical-align: top;\n",
       "    }\n",
       "\n",
       "    .dataframe thead th {\n",
       "        text-align: right;\n",
       "    }\n",
       "</style>\n",
       "<table border=\"1\" class=\"dataframe\">\n",
       "  <thead>\n",
       "    <tr style=\"text-align: right;\">\n",
       "      <th></th>\n",
       "      <th>limit_bal</th>\n",
       "      <th>education</th>\n",
       "      <th>marriage</th>\n",
       "      <th>age</th>\n",
       "      <th>bill_amt</th>\n",
       "      <th>pay_amt</th>\n",
       "      <th>default</th>\n",
       "    </tr>\n",
       "  </thead>\n",
       "  <tbody>\n",
       "    <tr>\n",
       "      <th>4994</th>\n",
       "      <td>20000</td>\n",
       "      <td>secondary</td>\n",
       "      <td>yes</td>\n",
       "      <td>36</td>\n",
       "      <td>110994</td>\n",
       "      <td>7293</td>\n",
       "      <td>0</td>\n",
       "    </tr>\n",
       "    <tr>\n",
       "      <th>4995</th>\n",
       "      <td>180000</td>\n",
       "      <td>other</td>\n",
       "      <td>yes</td>\n",
       "      <td>34</td>\n",
       "      <td>35240</td>\n",
       "      <td>22066</td>\n",
       "      <td>0</td>\n",
       "    </tr>\n",
       "    <tr>\n",
       "      <th>4996</th>\n",
       "      <td>200000</td>\n",
       "      <td>secondary</td>\n",
       "      <td>yes</td>\n",
       "      <td>45</td>\n",
       "      <td>691806</td>\n",
       "      <td>21443</td>\n",
       "      <td>1</td>\n",
       "    </tr>\n",
       "    <tr>\n",
       "      <th>4997</th>\n",
       "      <td>310000</td>\n",
       "      <td>post-grad</td>\n",
       "      <td>yes</td>\n",
       "      <td>44</td>\n",
       "      <td>1548067</td>\n",
       "      <td>72000</td>\n",
       "      <td>0</td>\n",
       "    </tr>\n",
       "    <tr>\n",
       "      <th>4998</th>\n",
       "      <td>160000</td>\n",
       "      <td>primary</td>\n",
       "      <td>no</td>\n",
       "      <td>40</td>\n",
       "      <td>4440</td>\n",
       "      <td>3725</td>\n",
       "      <td>0</td>\n",
       "    </tr>\n",
       "  </tbody>\n",
       "</table>\n",
       "</div>"
      ],
      "text/plain": [
       "      limit_bal  education marriage  age  bill_amt  pay_amt  default\n",
       "4994      20000  secondary      yes   36    110994     7293        0\n",
       "4995     180000      other      yes   34     35240    22066        0\n",
       "4996     200000  secondary      yes   45    691806    21443        1\n",
       "4997     310000  post-grad      yes   44   1548067    72000        0\n",
       "4998     160000    primary       no   40      4440     3725        0"
      ]
     },
     "execution_count": 64,
     "metadata": {},
     "output_type": "execute_result"
    }
   ],
   "source": [
    "# Review the DataFrame\n",
    "ccinfo_df.tail()"
   ]
  },
  {
   "cell_type": "code",
   "execution_count": 65,
   "metadata": {},
   "outputs": [
    {
     "name": "stdout",
     "output_type": "stream",
     "text": [
      "<class 'pandas.core.frame.DataFrame'>\n",
      "RangeIndex: 4999 entries, 0 to 4998\n",
      "Data columns (total 7 columns):\n",
      " #   Column     Non-Null Count  Dtype \n",
      "---  ------     --------------  ----- \n",
      " 0   limit_bal  4999 non-null   int64 \n",
      " 1   education  4999 non-null   object\n",
      " 2   marriage   4999 non-null   object\n",
      " 3   age        4999 non-null   int64 \n",
      " 4   bill_amt   4999 non-null   int64 \n",
      " 5   pay_amt    4999 non-null   int64 \n",
      " 6   default    4999 non-null   int64 \n",
      "dtypes: int64(5), object(2)\n",
      "memory usage: 273.5+ KB\n"
     ]
    }
   ],
   "source": [
    "# Review the info\n",
    "ccinfo_df.info()"
   ]
  },
  {
   "cell_type": "markdown",
   "metadata": {},
   "source": [
    "## Transform \"education\" column with get_dummies"
   ]
  },
  {
   "cell_type": "code",
   "execution_count": 66,
   "metadata": {
    "tags": []
   },
   "outputs": [
    {
     "data": {
      "text/plain": [
       "secondary    2267\n",
       "primary      1862\n",
       "post-grad     822\n",
       "other          48\n",
       "Name: education, dtype: int64"
      ]
     },
     "execution_count": 66,
     "metadata": {},
     "output_type": "execute_result"
    }
   ],
   "source": [
    "# Get value_counts of eduction column\n",
    "ccinfo_df['education'].value_counts()"
   ]
  },
  {
   "cell_type": "code",
   "execution_count": 67,
   "metadata": {
    "tags": []
   },
   "outputs": [
    {
     "data": {
      "text/html": [
       "<div>\n",
       "<style scoped>\n",
       "    .dataframe tbody tr th:only-of-type {\n",
       "        vertical-align: middle;\n",
       "    }\n",
       "\n",
       "    .dataframe tbody tr th {\n",
       "        vertical-align: top;\n",
       "    }\n",
       "\n",
       "    .dataframe thead th {\n",
       "        text-align: right;\n",
       "    }\n",
       "</style>\n",
       "<table border=\"1\" class=\"dataframe\">\n",
       "  <thead>\n",
       "    <tr style=\"text-align: right;\">\n",
       "      <th></th>\n",
       "      <th>other</th>\n",
       "      <th>post-grad</th>\n",
       "      <th>primary</th>\n",
       "      <th>secondary</th>\n",
       "    </tr>\n",
       "  </thead>\n",
       "  <tbody>\n",
       "    <tr>\n",
       "      <th>4994</th>\n",
       "      <td>0</td>\n",
       "      <td>0</td>\n",
       "      <td>0</td>\n",
       "      <td>1</td>\n",
       "    </tr>\n",
       "    <tr>\n",
       "      <th>4995</th>\n",
       "      <td>1</td>\n",
       "      <td>0</td>\n",
       "      <td>0</td>\n",
       "      <td>0</td>\n",
       "    </tr>\n",
       "    <tr>\n",
       "      <th>4996</th>\n",
       "      <td>0</td>\n",
       "      <td>0</td>\n",
       "      <td>0</td>\n",
       "      <td>1</td>\n",
       "    </tr>\n",
       "    <tr>\n",
       "      <th>4997</th>\n",
       "      <td>0</td>\n",
       "      <td>1</td>\n",
       "      <td>0</td>\n",
       "      <td>0</td>\n",
       "    </tr>\n",
       "    <tr>\n",
       "      <th>4998</th>\n",
       "      <td>0</td>\n",
       "      <td>0</td>\n",
       "      <td>1</td>\n",
       "      <td>0</td>\n",
       "    </tr>\n",
       "  </tbody>\n",
       "</table>\n",
       "</div>"
      ],
      "text/plain": [
       "      other  post-grad  primary  secondary\n",
       "4994      0          0        0          1\n",
       "4995      1          0        0          0\n",
       "4996      0          0        0          1\n",
       "4997      0          1        0          0\n",
       "4998      0          0        1          0"
      ]
     },
     "execution_count": 67,
     "metadata": {},
     "output_type": "execute_result"
    }
   ],
   "source": [
    "# Transform the education column using get_dummies\n",
    "edu_dummies = pd.get_dummies(ccinfo_df['education'])\n",
    "\n",
    "# Display the transformed data\n",
    "edu_dummies.tail()"
   ]
  },
  {
   "cell_type": "code",
   "execution_count": 68,
   "metadata": {
    "tags": []
   },
   "outputs": [
    {
     "data": {
      "text/html": [
       "<div>\n",
       "<style scoped>\n",
       "    .dataframe tbody tr th:only-of-type {\n",
       "        vertical-align: middle;\n",
       "    }\n",
       "\n",
       "    .dataframe tbody tr th {\n",
       "        vertical-align: top;\n",
       "    }\n",
       "\n",
       "    .dataframe thead th {\n",
       "        text-align: right;\n",
       "    }\n",
       "</style>\n",
       "<table border=\"1\" class=\"dataframe\">\n",
       "  <thead>\n",
       "    <tr style=\"text-align: right;\">\n",
       "      <th></th>\n",
       "      <th>limit_bal</th>\n",
       "      <th>education</th>\n",
       "      <th>marriage</th>\n",
       "      <th>age</th>\n",
       "      <th>bill_amt</th>\n",
       "      <th>pay_amt</th>\n",
       "      <th>default</th>\n",
       "    </tr>\n",
       "  </thead>\n",
       "  <tbody>\n",
       "    <tr>\n",
       "      <th>0</th>\n",
       "      <td>20000</td>\n",
       "      <td>secondary</td>\n",
       "      <td>yes</td>\n",
       "      <td>24</td>\n",
       "      <td>7704</td>\n",
       "      <td>689</td>\n",
       "      <td>1</td>\n",
       "    </tr>\n",
       "    <tr>\n",
       "      <th>1</th>\n",
       "      <td>120000</td>\n",
       "      <td>secondary</td>\n",
       "      <td>no</td>\n",
       "      <td>26</td>\n",
       "      <td>17077</td>\n",
       "      <td>5000</td>\n",
       "      <td>1</td>\n",
       "    </tr>\n",
       "    <tr>\n",
       "      <th>2</th>\n",
       "      <td>90000</td>\n",
       "      <td>secondary</td>\n",
       "      <td>no</td>\n",
       "      <td>34</td>\n",
       "      <td>101653</td>\n",
       "      <td>11018</td>\n",
       "      <td>0</td>\n",
       "    </tr>\n",
       "    <tr>\n",
       "      <th>3</th>\n",
       "      <td>50000</td>\n",
       "      <td>secondary</td>\n",
       "      <td>yes</td>\n",
       "      <td>37</td>\n",
       "      <td>231334</td>\n",
       "      <td>8388</td>\n",
       "      <td>0</td>\n",
       "    </tr>\n",
       "    <tr>\n",
       "      <th>4</th>\n",
       "      <td>50000</td>\n",
       "      <td>secondary</td>\n",
       "      <td>yes</td>\n",
       "      <td>57</td>\n",
       "      <td>109339</td>\n",
       "      <td>59049</td>\n",
       "      <td>0</td>\n",
       "    </tr>\n",
       "  </tbody>\n",
       "</table>\n",
       "</div>"
      ],
      "text/plain": [
       "   limit_bal  education marriage  age  bill_amt  pay_amt  default\n",
       "0      20000  secondary      yes   24      7704      689        1\n",
       "1     120000  secondary       no   26     17077     5000        1\n",
       "2      90000  secondary       no   34    101653    11018        0\n",
       "3      50000  secondary      yes   37    231334     8388        0\n",
       "4      50000  secondary      yes   57    109339    59049        0"
      ]
     },
     "execution_count": 68,
     "metadata": {},
     "output_type": "execute_result"
    }
   ],
   "source": [
    "ccinfo_df.head()"
   ]
  },
  {
   "cell_type": "code",
   "execution_count": 69,
   "metadata": {
    "tags": []
   },
   "outputs": [
    {
     "data": {
      "text/html": [
       "<div>\n",
       "<style scoped>\n",
       "    .dataframe tbody tr th:only-of-type {\n",
       "        vertical-align: middle;\n",
       "    }\n",
       "\n",
       "    .dataframe tbody tr th {\n",
       "        vertical-align: top;\n",
       "    }\n",
       "\n",
       "    .dataframe thead th {\n",
       "        text-align: right;\n",
       "    }\n",
       "</style>\n",
       "<table border=\"1\" class=\"dataframe\">\n",
       "  <thead>\n",
       "    <tr style=\"text-align: right;\">\n",
       "      <th></th>\n",
       "      <th>limit_bal</th>\n",
       "      <th>marriage</th>\n",
       "      <th>age</th>\n",
       "      <th>bill_amt</th>\n",
       "      <th>pay_amt</th>\n",
       "      <th>default</th>\n",
       "      <th>other</th>\n",
       "      <th>post-grad</th>\n",
       "      <th>primary</th>\n",
       "      <th>secondary</th>\n",
       "    </tr>\n",
       "  </thead>\n",
       "  <tbody>\n",
       "    <tr>\n",
       "      <th>0</th>\n",
       "      <td>20000</td>\n",
       "      <td>yes</td>\n",
       "      <td>24</td>\n",
       "      <td>7704</td>\n",
       "      <td>689</td>\n",
       "      <td>1</td>\n",
       "      <td>0</td>\n",
       "      <td>0</td>\n",
       "      <td>0</td>\n",
       "      <td>1</td>\n",
       "    </tr>\n",
       "    <tr>\n",
       "      <th>1</th>\n",
       "      <td>120000</td>\n",
       "      <td>no</td>\n",
       "      <td>26</td>\n",
       "      <td>17077</td>\n",
       "      <td>5000</td>\n",
       "      <td>1</td>\n",
       "      <td>0</td>\n",
       "      <td>0</td>\n",
       "      <td>0</td>\n",
       "      <td>1</td>\n",
       "    </tr>\n",
       "    <tr>\n",
       "      <th>2</th>\n",
       "      <td>90000</td>\n",
       "      <td>no</td>\n",
       "      <td>34</td>\n",
       "      <td>101653</td>\n",
       "      <td>11018</td>\n",
       "      <td>0</td>\n",
       "      <td>0</td>\n",
       "      <td>0</td>\n",
       "      <td>0</td>\n",
       "      <td>1</td>\n",
       "    </tr>\n",
       "    <tr>\n",
       "      <th>3</th>\n",
       "      <td>50000</td>\n",
       "      <td>yes</td>\n",
       "      <td>37</td>\n",
       "      <td>231334</td>\n",
       "      <td>8388</td>\n",
       "      <td>0</td>\n",
       "      <td>0</td>\n",
       "      <td>0</td>\n",
       "      <td>0</td>\n",
       "      <td>1</td>\n",
       "    </tr>\n",
       "    <tr>\n",
       "      <th>4</th>\n",
       "      <td>50000</td>\n",
       "      <td>yes</td>\n",
       "      <td>57</td>\n",
       "      <td>109339</td>\n",
       "      <td>59049</td>\n",
       "      <td>0</td>\n",
       "      <td>0</td>\n",
       "      <td>0</td>\n",
       "      <td>0</td>\n",
       "      <td>1</td>\n",
       "    </tr>\n",
       "  </tbody>\n",
       "</table>\n",
       "</div>"
      ],
      "text/plain": [
       "   limit_bal marriage  age  bill_amt  pay_amt  default  other  post-grad  \\\n",
       "0      20000      yes   24      7704      689        1      0          0   \n",
       "1     120000       no   26     17077     5000        1      0          0   \n",
       "2      90000       no   34    101653    11018        0      0          0   \n",
       "3      50000      yes   37    231334     8388        0      0          0   \n",
       "4      50000      yes   57    109339    59049        0      0          0   \n",
       "\n",
       "   primary  secondary  \n",
       "0        0          1  \n",
       "1        0          1  \n",
       "2        0          1  \n",
       "3        0          1  \n",
       "4        0          1  "
      ]
     },
     "execution_count": 69,
     "metadata": {},
     "output_type": "execute_result"
    }
   ],
   "source": [
    "# Concatenate the df_shopping_transformed and the card_dummies DataFrames\n",
    "ccinfo_df = pd.concat([ccinfo_df,edu_dummies],axis=1)\n",
    "\n",
    "# Drop the original education column\n",
    "ccinfo_df = ccinfo_df.drop(columns=['education'])\n",
    "\n",
    "# Display the DataFrame\n",
    "ccinfo_df.head()"
   ]
  },
  {
   "cell_type": "markdown",
   "metadata": {},
   "source": [
    "## Transform \"marriage\" column with encoding function"
   ]
  },
  {
   "cell_type": "code",
   "execution_count": 70,
   "metadata": {
    "tags": []
   },
   "outputs": [
    {
     "data": {
      "text/html": [
       "<div>\n",
       "<style scoped>\n",
       "    .dataframe tbody tr th:only-of-type {\n",
       "        vertical-align: middle;\n",
       "    }\n",
       "\n",
       "    .dataframe tbody tr th {\n",
       "        vertical-align: top;\n",
       "    }\n",
       "\n",
       "    .dataframe thead th {\n",
       "        text-align: right;\n",
       "    }\n",
       "</style>\n",
       "<table border=\"1\" class=\"dataframe\">\n",
       "  <thead>\n",
       "    <tr style=\"text-align: right;\">\n",
       "      <th></th>\n",
       "      <th>limit_bal</th>\n",
       "      <th>marriage</th>\n",
       "      <th>age</th>\n",
       "      <th>bill_amt</th>\n",
       "      <th>pay_amt</th>\n",
       "      <th>default</th>\n",
       "      <th>other</th>\n",
       "      <th>post-grad</th>\n",
       "      <th>primary</th>\n",
       "      <th>secondary</th>\n",
       "    </tr>\n",
       "  </thead>\n",
       "  <tbody>\n",
       "    <tr>\n",
       "      <th>0</th>\n",
       "      <td>20000</td>\n",
       "      <td>1</td>\n",
       "      <td>24</td>\n",
       "      <td>7704</td>\n",
       "      <td>689</td>\n",
       "      <td>1</td>\n",
       "      <td>0</td>\n",
       "      <td>0</td>\n",
       "      <td>0</td>\n",
       "      <td>1</td>\n",
       "    </tr>\n",
       "    <tr>\n",
       "      <th>1</th>\n",
       "      <td>120000</td>\n",
       "      <td>0</td>\n",
       "      <td>26</td>\n",
       "      <td>17077</td>\n",
       "      <td>5000</td>\n",
       "      <td>1</td>\n",
       "      <td>0</td>\n",
       "      <td>0</td>\n",
       "      <td>0</td>\n",
       "      <td>1</td>\n",
       "    </tr>\n",
       "    <tr>\n",
       "      <th>2</th>\n",
       "      <td>90000</td>\n",
       "      <td>0</td>\n",
       "      <td>34</td>\n",
       "      <td>101653</td>\n",
       "      <td>11018</td>\n",
       "      <td>0</td>\n",
       "      <td>0</td>\n",
       "      <td>0</td>\n",
       "      <td>0</td>\n",
       "      <td>1</td>\n",
       "    </tr>\n",
       "    <tr>\n",
       "      <th>3</th>\n",
       "      <td>50000</td>\n",
       "      <td>1</td>\n",
       "      <td>37</td>\n",
       "      <td>231334</td>\n",
       "      <td>8388</td>\n",
       "      <td>0</td>\n",
       "      <td>0</td>\n",
       "      <td>0</td>\n",
       "      <td>0</td>\n",
       "      <td>1</td>\n",
       "    </tr>\n",
       "    <tr>\n",
       "      <th>4</th>\n",
       "      <td>50000</td>\n",
       "      <td>1</td>\n",
       "      <td>57</td>\n",
       "      <td>109339</td>\n",
       "      <td>59049</td>\n",
       "      <td>0</td>\n",
       "      <td>0</td>\n",
       "      <td>0</td>\n",
       "      <td>0</td>\n",
       "      <td>1</td>\n",
       "    </tr>\n",
       "  </tbody>\n",
       "</table>\n",
       "</div>"
      ],
      "text/plain": [
       "   limit_bal  marriage  age  bill_amt  pay_amt  default  other  post-grad  \\\n",
       "0      20000         1   24      7704      689        1      0          0   \n",
       "1     120000         0   26     17077     5000        1      0          0   \n",
       "2      90000         0   34    101653    11018        0      0          0   \n",
       "3      50000         1   37    231334     8388        0      0          0   \n",
       "4      50000         1   57    109339    59049        0      0          0   \n",
       "\n",
       "   primary  secondary  \n",
       "0        0          1  \n",
       "1        0          1  \n",
       "2        0          1  \n",
       "3        0          1  \n",
       "4        0          1  "
      ]
     },
     "execution_count": 70,
     "metadata": {},
     "output_type": "execute_result"
    }
   ],
   "source": [
    "# Encoding the marriage column using a custom function\n",
    "def encode_marriage(value):\n",
    "    if value == 'yes':\n",
    "        return 1\n",
    "    else:\n",
    "        return 0\n",
    "\n",
    "# Call the encode_marriage function on the marriage column\n",
    "ccinfo_df['marriage'] = ccinfo_df['marriage'].apply(encode_marriage)\n",
    "\n",
    "# Review the DataFrame \n",
    "ccinfo_df.head()"
   ]
  },
  {
   "cell_type": "markdown",
   "metadata": {},
   "source": [
    "## Apply the Standard Scaler to \"limit_bal\", \"bill_amt\", \"pay_amt\""
   ]
  },
  {
   "cell_type": "code",
   "execution_count": 71,
   "metadata": {
    "tags": []
   },
   "outputs": [],
   "source": [
    "# Import the module\n",
    "from sklearn.preprocessing import StandardScaler"
   ]
  },
  {
   "cell_type": "code",
   "execution_count": 72,
   "metadata": {
    "tags": []
   },
   "outputs": [
    {
     "data": {
      "text/plain": [
       "array([[-1.1173411 , -0.66070266, -0.5427793 ],\n",
       "       [-0.3499424 , -0.63637003, -0.46399421],\n",
       "       [-0.58016201, -0.41680786, -0.35401308],\n",
       "       ...,\n",
       "       [ 0.26397655,  1.1152494 , -0.16349243],\n",
       "       [ 1.10811512,  3.33813208,  0.76045505],\n",
       "       [-0.04298292, -0.66917611, -0.4872953 ]])"
      ]
     },
     "execution_count": 72,
     "metadata": {},
     "output_type": "execute_result"
    }
   ],
   "source": [
    "# Scaling the numeric columns\n",
    "scaled_data = StandardScaler().fit_transform(ccinfo_df[['limit_bal','bill_amt','pay_amt']])\n",
    "\n",
    "# Review the scaled data\n",
    "scaled_data"
   ]
  },
  {
   "cell_type": "code",
   "execution_count": 73,
   "metadata": {
    "tags": []
   },
   "outputs": [
    {
     "data": {
      "text/html": [
       "<div>\n",
       "<style scoped>\n",
       "    .dataframe tbody tr th:only-of-type {\n",
       "        vertical-align: middle;\n",
       "    }\n",
       "\n",
       "    .dataframe tbody tr th {\n",
       "        vertical-align: top;\n",
       "    }\n",
       "\n",
       "    .dataframe thead th {\n",
       "        text-align: right;\n",
       "    }\n",
       "</style>\n",
       "<table border=\"1\" class=\"dataframe\">\n",
       "  <thead>\n",
       "    <tr style=\"text-align: right;\">\n",
       "      <th></th>\n",
       "      <th>limit_bal</th>\n",
       "      <th>marriage</th>\n",
       "      <th>age</th>\n",
       "      <th>bill_amt</th>\n",
       "      <th>pay_amt</th>\n",
       "      <th>default</th>\n",
       "      <th>other</th>\n",
       "      <th>post-grad</th>\n",
       "      <th>primary</th>\n",
       "      <th>secondary</th>\n",
       "    </tr>\n",
       "  </thead>\n",
       "  <tbody>\n",
       "    <tr>\n",
       "      <th>0</th>\n",
       "      <td>-1.117341</td>\n",
       "      <td>1</td>\n",
       "      <td>24</td>\n",
       "      <td>-0.660703</td>\n",
       "      <td>-0.542779</td>\n",
       "      <td>1</td>\n",
       "      <td>0</td>\n",
       "      <td>0</td>\n",
       "      <td>0</td>\n",
       "      <td>1</td>\n",
       "    </tr>\n",
       "    <tr>\n",
       "      <th>1</th>\n",
       "      <td>-0.349942</td>\n",
       "      <td>0</td>\n",
       "      <td>26</td>\n",
       "      <td>-0.636370</td>\n",
       "      <td>-0.463994</td>\n",
       "      <td>1</td>\n",
       "      <td>0</td>\n",
       "      <td>0</td>\n",
       "      <td>0</td>\n",
       "      <td>1</td>\n",
       "    </tr>\n",
       "    <tr>\n",
       "      <th>2</th>\n",
       "      <td>-0.580162</td>\n",
       "      <td>0</td>\n",
       "      <td>34</td>\n",
       "      <td>-0.416808</td>\n",
       "      <td>-0.354013</td>\n",
       "      <td>0</td>\n",
       "      <td>0</td>\n",
       "      <td>0</td>\n",
       "      <td>0</td>\n",
       "      <td>1</td>\n",
       "    </tr>\n",
       "    <tr>\n",
       "      <th>3</th>\n",
       "      <td>-0.887121</td>\n",
       "      <td>1</td>\n",
       "      <td>37</td>\n",
       "      <td>-0.080152</td>\n",
       "      <td>-0.402077</td>\n",
       "      <td>0</td>\n",
       "      <td>0</td>\n",
       "      <td>0</td>\n",
       "      <td>0</td>\n",
       "      <td>1</td>\n",
       "    </tr>\n",
       "    <tr>\n",
       "      <th>4</th>\n",
       "      <td>-0.887121</td>\n",
       "      <td>1</td>\n",
       "      <td>57</td>\n",
       "      <td>-0.396855</td>\n",
       "      <td>0.523771</td>\n",
       "      <td>0</td>\n",
       "      <td>0</td>\n",
       "      <td>0</td>\n",
       "      <td>0</td>\n",
       "      <td>1</td>\n",
       "    </tr>\n",
       "  </tbody>\n",
       "</table>\n",
       "</div>"
      ],
      "text/plain": [
       "   limit_bal  marriage  age  bill_amt   pay_amt  default  other  post-grad  \\\n",
       "0  -1.117341         1   24 -0.660703 -0.542779        1      0          0   \n",
       "1  -0.349942         0   26 -0.636370 -0.463994        1      0          0   \n",
       "2  -0.580162         0   34 -0.416808 -0.354013        0      0          0   \n",
       "3  -0.887121         1   37 -0.080152 -0.402077        0      0          0   \n",
       "4  -0.887121         1   57 -0.396855  0.523771        0      0          0   \n",
       "\n",
       "   primary  secondary  \n",
       "0        0          1  \n",
       "1        0          1  \n",
       "2        0          1  \n",
       "3        0          1  \n",
       "4        0          1  "
      ]
     },
     "execution_count": 73,
     "metadata": {},
     "output_type": "execute_result"
    }
   ],
   "source": [
    "# Create a DataFrame of the scaled data\n",
    "scaled_df = pd.DataFrame(scaled_data,columns=['limit_bal','bill_amt','pay_amt'])\n",
    "\n",
    "# Replace the original data with the columns of information from the scaled Data\n",
    "ccinfo_df['limit_bal'] = scaled_df['limit_bal']\n",
    "ccinfo_df['bill_amt'] = scaled_df['bill_amt']\n",
    "ccinfo_df['pay_amt'] = scaled_df['pay_amt']\n",
    "\n",
    "# Review the DataFrame\n",
    "ccinfo_df.head()"
   ]
  },
  {
   "cell_type": "markdown",
   "metadata": {},
   "source": [
    "## Elbow Method to find k"
   ]
  },
  {
   "cell_type": "code",
   "execution_count": 74,
   "metadata": {
    "tags": []
   },
   "outputs": [],
   "source": [
    "# Import the KMeans module from SKLearn\n",
    "from sklearn.cluster import KMeans"
   ]
  },
  {
   "cell_type": "code",
   "execution_count": 75,
   "metadata": {
    "tags": []
   },
   "outputs": [],
   "source": [
    "# Create a a list to store inertia values and the values of k\n",
    "inertia = []\n",
    "k = list(range(1,11))"
   ]
  },
  {
   "cell_type": "code",
   "execution_count": 76,
   "metadata": {
    "tags": []
   },
   "outputs": [],
   "source": [
    "# Create a for-loop where each value of k is evaluated using the K-means algorithm\n",
    "# Fit the model using the service_ratings DataFrame\n",
    "# Append the value of the computed inertia from the `inertia_` attribute of the KMeans model instance\n",
    "for i in k:\n",
    "    model = KMeans(n_clusters=i,random_state=0)\n",
    "    model.fit(ccinfo_df)\n",
    "    inertia.append(model.inertia_)"
   ]
  },
  {
   "cell_type": "code",
   "execution_count": 77,
   "metadata": {
    "tags": []
   },
   "outputs": [
    {
     "data": {
      "text/html": [
       "<div>\n",
       "<style scoped>\n",
       "    .dataframe tbody tr th:only-of-type {\n",
       "        vertical-align: middle;\n",
       "    }\n",
       "\n",
       "    .dataframe tbody tr th {\n",
       "        vertical-align: top;\n",
       "    }\n",
       "\n",
       "    .dataframe thead th {\n",
       "        text-align: right;\n",
       "    }\n",
       "</style>\n",
       "<table border=\"1\" class=\"dataframe\">\n",
       "  <thead>\n",
       "    <tr style=\"text-align: right;\">\n",
       "      <th></th>\n",
       "      <th>k</th>\n",
       "      <th>inertia</th>\n",
       "    </tr>\n",
       "  </thead>\n",
       "  <tbody>\n",
       "    <tr>\n",
       "      <th>0</th>\n",
       "      <td>1</td>\n",
       "      <td>449413.376075</td>\n",
       "    </tr>\n",
       "    <tr>\n",
       "      <th>1</th>\n",
       "      <td>2</td>\n",
       "      <td>151307.029625</td>\n",
       "    </tr>\n",
       "    <tr>\n",
       "      <th>2</th>\n",
       "      <td>3</td>\n",
       "      <td>83260.050502</td>\n",
       "    </tr>\n",
       "    <tr>\n",
       "      <th>3</th>\n",
       "      <td>4</td>\n",
       "      <td>58169.904941</td>\n",
       "    </tr>\n",
       "    <tr>\n",
       "      <th>4</th>\n",
       "      <td>5</td>\n",
       "      <td>45604.614110</td>\n",
       "    </tr>\n",
       "  </tbody>\n",
       "</table>\n",
       "</div>"
      ],
      "text/plain": [
       "   k        inertia\n",
       "0  1  449413.376075\n",
       "1  2  151307.029625\n",
       "2  3   83260.050502\n",
       "3  4   58169.904941\n",
       "4  5   45604.614110"
      ]
     },
     "execution_count": 77,
     "metadata": {},
     "output_type": "execute_result"
    }
   ],
   "source": [
    "# Define a DataFrame to hold the values for k and the corresponding inertia\n",
    "elbow_data = {'k':k,'inertia':inertia}\n",
    "elbow_df = pd.DataFrame(elbow_data)\n",
    "\n",
    "# Review the DataFrame\n",
    "elbow_df.head()"
   ]
  },
  {
   "cell_type": "code",
   "execution_count": 80,
   "metadata": {
    "tags": []
   },
   "outputs": [
    {
     "data": {},
     "metadata": {},
     "output_type": "display_data"
    },
    {
     "data": {
      "application/vnd.holoviews_exec.v0+json": "",
      "text/html": [
       "<div id='p1298'>\n",
       "  <div id=\"a4f8e7f5-9514-497f-b269-232d8274977f\" data-root-id=\"p1298\" style=\"display: contents;\"></div>\n",
       "</div>\n",
       "<script type=\"application/javascript\">(function(root) {\n",
       "  var docs_json = {\"c5d3d499-72fa-46c9-95e3-e4c412945cfb\":{\"version\":\"3.1.1\",\"title\":\"Bokeh Application\",\"defs\":[{\"type\":\"model\",\"name\":\"ReactiveHTML1\"},{\"type\":\"model\",\"name\":\"FlexBox1\",\"properties\":[{\"name\":\"align_content\",\"kind\":\"Any\",\"default\":\"flex-start\"},{\"name\":\"align_items\",\"kind\":\"Any\",\"default\":\"flex-start\"},{\"name\":\"flex_direction\",\"kind\":\"Any\",\"default\":\"row\"},{\"name\":\"flex_wrap\",\"kind\":\"Any\",\"default\":\"wrap\"},{\"name\":\"justify_content\",\"kind\":\"Any\",\"default\":\"flex-start\"}]},{\"type\":\"model\",\"name\":\"FloatPanel1\",\"properties\":[{\"name\":\"config\",\"kind\":\"Any\",\"default\":{\"type\":\"map\"}},{\"name\":\"contained\",\"kind\":\"Any\",\"default\":true},{\"name\":\"position\",\"kind\":\"Any\",\"default\":\"right-top\"},{\"name\":\"offsetx\",\"kind\":\"Any\",\"default\":null},{\"name\":\"offsety\",\"kind\":\"Any\",\"default\":null},{\"name\":\"theme\",\"kind\":\"Any\",\"default\":\"primary\"},{\"name\":\"status\",\"kind\":\"Any\",\"default\":\"normalized\"}]},{\"type\":\"model\",\"name\":\"GridStack1\",\"properties\":[{\"name\":\"mode\",\"kind\":\"Any\",\"default\":\"warn\"},{\"name\":\"ncols\",\"kind\":\"Any\",\"default\":null},{\"name\":\"nrows\",\"kind\":\"Any\",\"default\":null},{\"name\":\"allow_resize\",\"kind\":\"Any\",\"default\":true},{\"name\":\"allow_drag\",\"kind\":\"Any\",\"default\":true},{\"name\":\"state\",\"kind\":\"Any\",\"default\":[]}]},{\"type\":\"model\",\"name\":\"drag1\",\"properties\":[{\"name\":\"slider_width\",\"kind\":\"Any\",\"default\":5},{\"name\":\"slider_color\",\"kind\":\"Any\",\"default\":\"black\"},{\"name\":\"value\",\"kind\":\"Any\",\"default\":50}]},{\"type\":\"model\",\"name\":\"click1\",\"properties\":[{\"name\":\"terminal_output\",\"kind\":\"Any\",\"default\":\"\"},{\"name\":\"debug_name\",\"kind\":\"Any\",\"default\":\"\"},{\"name\":\"clears\",\"kind\":\"Any\",\"default\":0}]},{\"type\":\"model\",\"name\":\"FastWrapper1\",\"properties\":[{\"name\":\"object\",\"kind\":\"Any\",\"default\":null},{\"name\":\"style\",\"kind\":\"Any\",\"default\":null}]},{\"type\":\"model\",\"name\":\"NotificationAreaBase1\",\"properties\":[{\"name\":\"position\",\"kind\":\"Any\",\"default\":\"bottom-right\"},{\"name\":\"_clear\",\"kind\":\"Any\",\"default\":0}]},{\"type\":\"model\",\"name\":\"NotificationArea1\",\"properties\":[{\"name\":\"notifications\",\"kind\":\"Any\",\"default\":[]},{\"name\":\"position\",\"kind\":\"Any\",\"default\":\"bottom-right\"},{\"name\":\"_clear\",\"kind\":\"Any\",\"default\":0},{\"name\":\"types\",\"kind\":\"Any\",\"default\":[{\"type\":\"map\",\"entries\":[[\"type\",\"warning\"],[\"background\",\"#ffc107\"],[\"icon\",{\"type\":\"map\",\"entries\":[[\"className\",\"fas fa-exclamation-triangle\"],[\"tagName\",\"i\"],[\"color\",\"white\"]]}]]},{\"type\":\"map\",\"entries\":[[\"type\",\"info\"],[\"background\",\"#007bff\"],[\"icon\",{\"type\":\"map\",\"entries\":[[\"className\",\"fas fa-info-circle\"],[\"tagName\",\"i\"],[\"color\",\"white\"]]}]]}]}]},{\"type\":\"model\",\"name\":\"Notification\",\"properties\":[{\"name\":\"background\",\"kind\":\"Any\",\"default\":null},{\"name\":\"duration\",\"kind\":\"Any\",\"default\":3000},{\"name\":\"icon\",\"kind\":\"Any\",\"default\":null},{\"name\":\"message\",\"kind\":\"Any\",\"default\":\"\"},{\"name\":\"notification_type\",\"kind\":\"Any\",\"default\":null},{\"name\":\"_destroyed\",\"kind\":\"Any\",\"default\":false}]},{\"type\":\"model\",\"name\":\"TemplateActions1\",\"properties\":[{\"name\":\"open_modal\",\"kind\":\"Any\",\"default\":0},{\"name\":\"close_modal\",\"kind\":\"Any\",\"default\":0}]},{\"type\":\"model\",\"name\":\"BootstrapTemplateActions1\",\"properties\":[{\"name\":\"open_modal\",\"kind\":\"Any\",\"default\":0},{\"name\":\"close_modal\",\"kind\":\"Any\",\"default\":0}]},{\"type\":\"model\",\"name\":\"MaterialTemplateActions1\",\"properties\":[{\"name\":\"open_modal\",\"kind\":\"Any\",\"default\":0},{\"name\":\"close_modal\",\"kind\":\"Any\",\"default\":0}]}],\"roots\":[{\"type\":\"object\",\"name\":\"Row\",\"id\":\"p1298\",\"attributes\":{\"name\":\"Row01117\",\"tags\":[\"embedded\"],\"stylesheets\":[\"\\n:host(.pn-loading.pn-arc):before, .pn-loading.pn-arc:before {\\n  background-image: url(\\\"data:image/svg+xml;base64,PHN2ZyB4bWxucz0iaHR0cDovL3d3dy53My5vcmcvMjAwMC9zdmciIHN0eWxlPSJtYXJnaW46IGF1dG87IGJhY2tncm91bmQ6IG5vbmU7IGRpc3BsYXk6IGJsb2NrOyBzaGFwZS1yZW5kZXJpbmc6IGF1dG87IiB2aWV3Qm94PSIwIDAgMTAwIDEwMCIgcHJlc2VydmVBc3BlY3RSYXRpbz0ieE1pZFlNaWQiPiAgPGNpcmNsZSBjeD0iNTAiIGN5PSI1MCIgZmlsbD0ibm9uZSIgc3Ryb2tlPSIjYzNjM2MzIiBzdHJva2Utd2lkdGg9IjEwIiByPSIzNSIgc3Ryb2tlLWRhc2hhcnJheT0iMTY0LjkzMzYxNDMxMzQ2NDE1IDU2Ljk3Nzg3MTQzNzgyMTM4Ij4gICAgPGFuaW1hdGVUcmFuc2Zvcm0gYXR0cmlidXRlTmFtZT0idHJhbnNmb3JtIiB0eXBlPSJyb3RhdGUiIHJlcGVhdENvdW50PSJpbmRlZmluaXRlIiBkdXI9IjFzIiB2YWx1ZXM9IjAgNTAgNTA7MzYwIDUwIDUwIiBrZXlUaW1lcz0iMDsxIj48L2FuaW1hdGVUcmFuc2Zvcm0+ICA8L2NpcmNsZT48L3N2Zz4=\\\");\\n  background-size: auto calc(min(50%, 400px));\\n}\",{\"type\":\"object\",\"name\":\"ImportedStyleSheet\",\"id\":\"p1301\",\"attributes\":{\"url\":\"https://cdn.holoviz.org/panel/1.2.0/dist/css/loading.css\"}},{\"type\":\"object\",\"name\":\"ImportedStyleSheet\",\"id\":\"p1392\",\"attributes\":{\"url\":\"https://cdn.holoviz.org/panel/1.2.0/dist/css/listpanel.css\"}},{\"type\":\"object\",\"name\":\"ImportedStyleSheet\",\"id\":\"p1299\",\"attributes\":{\"url\":\"https://cdn.holoviz.org/panel/1.2.0/dist/bundled/theme/default.css\"}},{\"type\":\"object\",\"name\":\"ImportedStyleSheet\",\"id\":\"p1300\",\"attributes\":{\"url\":\"https://cdn.holoviz.org/panel/1.2.0/dist/bundled/theme/native.css\"}}],\"min_width\":700,\"margin\":0,\"sizing_mode\":\"stretch_width\",\"align\":\"start\",\"children\":[{\"type\":\"object\",\"name\":\"Spacer\",\"id\":\"p1302\",\"attributes\":{\"name\":\"HSpacer01128\",\"stylesheets\":[\"\\n:host(.pn-loading.pn-arc):before, .pn-loading.pn-arc:before {\\n  background-image: url(\\\"data:image/svg+xml;base64,PHN2ZyB4bWxucz0iaHR0cDovL3d3dy53My5vcmcvMjAwMC9zdmciIHN0eWxlPSJtYXJnaW46IGF1dG87IGJhY2tncm91bmQ6IG5vbmU7IGRpc3BsYXk6IGJsb2NrOyBzaGFwZS1yZW5kZXJpbmc6IGF1dG87IiB2aWV3Qm94PSIwIDAgMTAwIDEwMCIgcHJlc2VydmVBc3BlY3RSYXRpbz0ieE1pZFlNaWQiPiAgPGNpcmNsZSBjeD0iNTAiIGN5PSI1MCIgZmlsbD0ibm9uZSIgc3Ryb2tlPSIjYzNjM2MzIiBzdHJva2Utd2lkdGg9IjEwIiByPSIzNSIgc3Ryb2tlLWRhc2hhcnJheT0iMTY0LjkzMzYxNDMxMzQ2NDE1IDU2Ljk3Nzg3MTQzNzgyMTM4Ij4gICAgPGFuaW1hdGVUcmFuc2Zvcm0gYXR0cmlidXRlTmFtZT0idHJhbnNmb3JtIiB0eXBlPSJyb3RhdGUiIHJlcGVhdENvdW50PSJpbmRlZmluaXRlIiBkdXI9IjFzIiB2YWx1ZXM9IjAgNTAgNTA7MzYwIDUwIDUwIiBrZXlUaW1lcz0iMDsxIj48L2FuaW1hdGVUcmFuc2Zvcm0+ICA8L2NpcmNsZT48L3N2Zz4=\\\");\\n  background-size: auto calc(min(50%, 400px));\\n}\",{\"id\":\"p1301\"},{\"id\":\"p1299\"},{\"id\":\"p1300\"}],\"margin\":0,\"sizing_mode\":\"stretch_width\",\"align\":\"start\"}},{\"type\":\"object\",\"name\":\"Figure\",\"id\":\"p1306\",\"attributes\":{\"width\":700,\"height\":300,\"margin\":[5,10],\"sizing_mode\":\"fixed\",\"align\":\"start\",\"x_range\":{\"type\":\"object\",\"name\":\"Range1d\",\"id\":\"p1303\",\"attributes\":{\"tags\":[[[\"k\",\"k\",null]]],\"start\":1.0,\"end\":10.0,\"reset_start\":1.0,\"reset_end\":10.0}},\"y_range\":{\"type\":\"object\",\"name\":\"Range1d\",\"id\":\"p1304\",\"attributes\":{\"tags\":[[[\"inertia\",\"inertia\",null]]],\"start\":-16117.269622033822,\"end\":491734.34386587393,\"reset_start\":-16117.269622033822,\"reset_end\":491734.34386587393}},\"x_scale\":{\"type\":\"object\",\"name\":\"LinearScale\",\"id\":\"p1318\"},\"y_scale\":{\"type\":\"object\",\"name\":\"LinearScale\",\"id\":\"p1320\"},\"title\":{\"type\":\"object\",\"name\":\"Title\",\"id\":\"p1309\",\"attributes\":{\"text\":\"Elbow graph\",\"text_color\":\"black\",\"text_font_size\":\"12pt\"}},\"renderers\":[{\"type\":\"object\",\"name\":\"GlyphRenderer\",\"id\":\"p1360\",\"attributes\":{\"data_source\":{\"type\":\"object\",\"name\":\"ColumnDataSource\",\"id\":\"p1350\",\"attributes\":{\"selected\":{\"type\":\"object\",\"name\":\"Selection\",\"id\":\"p1351\",\"attributes\":{\"indices\":[],\"line_indices\":[]}},\"selection_policy\":{\"type\":\"object\",\"name\":\"UnionRenderers\",\"id\":\"p1352\"},\"data\":{\"type\":\"map\",\"entries\":[[\"k\",{\"type\":\"ndarray\",\"array\":{\"type\":\"bytes\",\"data\":\"AQAAAAIAAAADAAAABAAAAAUAAAAGAAAABwAAAAgAAAAJAAAACgAAAA==\"},\"shape\":[10],\"dtype\":\"int32\",\"order\":\"little\"}],[\"inertia\",{\"type\":\"ndarray\",\"array\":{\"type\":\"bytes\",\"data\":\"dNwZgRVuG0FsC6w8WHgCQYIU287AU/RAiztH9Txn7EBUpcqmk0TmQG4grRUabuJAvHFq0otW4EDybCVMeFndQGMhibxmSNtACXXLruyW2UA=\"},\"shape\":[10],\"dtype\":\"float64\",\"order\":\"little\"}]]}}},\"view\":{\"type\":\"object\",\"name\":\"CDSView\",\"id\":\"p1361\",\"attributes\":{\"filter\":{\"type\":\"object\",\"name\":\"AllIndices\",\"id\":\"p1362\"}}},\"glyph\":{\"type\":\"object\",\"name\":\"Line\",\"id\":\"p1357\",\"attributes\":{\"tags\":[\"apply_ranges\"],\"x\":{\"type\":\"field\",\"field\":\"k\"},\"y\":{\"type\":\"field\",\"field\":\"inertia\"},\"line_color\":\"#30a2da\",\"line_width\":2}},\"selection_glyph\":{\"type\":\"object\",\"name\":\"Line\",\"id\":\"p1363\",\"attributes\":{\"tags\":[\"apply_ranges\"],\"x\":{\"type\":\"field\",\"field\":\"k\"},\"y\":{\"type\":\"field\",\"field\":\"inertia\"},\"line_color\":\"#30a2da\",\"line_width\":2}},\"nonselection_glyph\":{\"type\":\"object\",\"name\":\"Line\",\"id\":\"p1358\",\"attributes\":{\"tags\":[\"apply_ranges\"],\"x\":{\"type\":\"field\",\"field\":\"k\"},\"y\":{\"type\":\"field\",\"field\":\"inertia\"},\"line_color\":\"#30a2da\",\"line_alpha\":0.1,\"line_width\":2}},\"muted_glyph\":{\"type\":\"object\",\"name\":\"Line\",\"id\":\"p1359\",\"attributes\":{\"tags\":[\"apply_ranges\"],\"x\":{\"type\":\"field\",\"field\":\"k\"},\"y\":{\"type\":\"field\",\"field\":\"inertia\"},\"line_color\":\"#30a2da\",\"line_alpha\":0.2,\"line_width\":2}}}}],\"toolbar\":{\"type\":\"object\",\"name\":\"Toolbar\",\"id\":\"p1315\",\"attributes\":{\"tools\":[{\"type\":\"object\",\"name\":\"HoverTool\",\"id\":\"p1305\",\"attributes\":{\"tags\":[\"hv_created\"],\"renderers\":[{\"id\":\"p1360\"}],\"tooltips\":[[\"k\",\"@{k}\"],[\"inertia\",\"@{inertia}\"]]}},{\"type\":\"object\",\"name\":\"SaveTool\",\"id\":\"p1336\"},{\"type\":\"object\",\"name\":\"PanTool\",\"id\":\"p1337\"},{\"type\":\"object\",\"name\":\"WheelZoomTool\",\"id\":\"p1338\"},{\"type\":\"object\",\"name\":\"BoxZoomTool\",\"id\":\"p1339\",\"attributes\":{\"overlay\":{\"type\":\"object\",\"name\":\"BoxAnnotation\",\"id\":\"p1340\",\"attributes\":{\"syncable\":false,\"level\":\"overlay\",\"visible\":false,\"left_units\":\"canvas\",\"right_units\":\"canvas\",\"bottom_units\":\"canvas\",\"top_units\":\"canvas\",\"line_color\":\"black\",\"line_alpha\":1.0,\"line_width\":2,\"line_dash\":[4,4],\"fill_color\":\"lightgrey\",\"fill_alpha\":0.5}}}},{\"type\":\"object\",\"name\":\"ResetTool\",\"id\":\"p1341\"}],\"active_drag\":{\"id\":\"p1337\"},\"active_scroll\":{\"id\":\"p1338\"}}},\"left\":[{\"type\":\"object\",\"name\":\"LinearAxis\",\"id\":\"p1329\",\"attributes\":{\"ticker\":{\"type\":\"object\",\"name\":\"BasicTicker\",\"id\":\"p1330\",\"attributes\":{\"mantissas\":[1,2,5]}},\"formatter\":{\"type\":\"object\",\"name\":\"BasicTickFormatter\",\"id\":\"p1331\"},\"axis_label\":\"inertia\",\"major_label_policy\":{\"type\":\"object\",\"name\":\"AllLabels\",\"id\":\"p1332\"}}}],\"below\":[{\"type\":\"object\",\"name\":\"LinearAxis\",\"id\":\"p1322\",\"attributes\":{\"ticker\":{\"type\":\"object\",\"name\":\"FixedTicker\",\"id\":\"p1364\",\"attributes\":{\"ticks\":[1,2,3,4,5,6,7,8,9,10],\"minor_ticks\":[]}},\"formatter\":{\"type\":\"object\",\"name\":\"BasicTickFormatter\",\"id\":\"p1324\"},\"axis_label\":\"k\",\"major_label_policy\":{\"type\":\"object\",\"name\":\"AllLabels\",\"id\":\"p1325\"}}}],\"center\":[{\"type\":\"object\",\"name\":\"Grid\",\"id\":\"p1328\",\"attributes\":{\"axis\":{\"id\":\"p1322\"},\"grid_line_color\":null}},{\"type\":\"object\",\"name\":\"Grid\",\"id\":\"p1335\",\"attributes\":{\"dimension\":1,\"axis\":{\"id\":\"p1329\"},\"grid_line_color\":null}}],\"min_border_top\":10,\"min_border_bottom\":10,\"min_border_left\":10,\"min_border_right\":10,\"output_backend\":\"webgl\"}},{\"type\":\"object\",\"name\":\"Spacer\",\"id\":\"p1390\",\"attributes\":{\"name\":\"HSpacer01131\",\"stylesheets\":[\"\\n:host(.pn-loading.pn-arc):before, .pn-loading.pn-arc:before {\\n  background-image: url(\\\"data:image/svg+xml;base64,PHN2ZyB4bWxucz0iaHR0cDovL3d3dy53My5vcmcvMjAwMC9zdmciIHN0eWxlPSJtYXJnaW46IGF1dG87IGJhY2tncm91bmQ6IG5vbmU7IGRpc3BsYXk6IGJsb2NrOyBzaGFwZS1yZW5kZXJpbmc6IGF1dG87IiB2aWV3Qm94PSIwIDAgMTAwIDEwMCIgcHJlc2VydmVBc3BlY3RSYXRpbz0ieE1pZFlNaWQiPiAgPGNpcmNsZSBjeD0iNTAiIGN5PSI1MCIgZmlsbD0ibm9uZSIgc3Ryb2tlPSIjYzNjM2MzIiBzdHJva2Utd2lkdGg9IjEwIiByPSIzNSIgc3Ryb2tlLWRhc2hhcnJheT0iMTY0LjkzMzYxNDMxMzQ2NDE1IDU2Ljk3Nzg3MTQzNzgyMTM4Ij4gICAgPGFuaW1hdGVUcmFuc2Zvcm0gYXR0cmlidXRlTmFtZT0idHJhbnNmb3JtIiB0eXBlPSJyb3RhdGUiIHJlcGVhdENvdW50PSJpbmRlZmluaXRlIiBkdXI9IjFzIiB2YWx1ZXM9IjAgNTAgNTA7MzYwIDUwIDUwIiBrZXlUaW1lcz0iMDsxIj48L2FuaW1hdGVUcmFuc2Zvcm0+ICA8L2NpcmNsZT48L3N2Zz4=\\\");\\n  background-size: auto calc(min(50%, 400px));\\n}\",{\"id\":\"p1301\"},{\"id\":\"p1299\"},{\"id\":\"p1300\"}],\"margin\":0,\"sizing_mode\":\"stretch_width\",\"align\":\"start\"}}]}}],\"callbacks\":{\"type\":\"map\"}}};\n",
       "  var render_items = [{\"docid\":\"c5d3d499-72fa-46c9-95e3-e4c412945cfb\",\"roots\":{\"p1298\":\"a4f8e7f5-9514-497f-b269-232d8274977f\"},\"root_ids\":[\"p1298\"]}];\n",
       "  var docs = Object.values(docs_json)\n",
       "  if (!docs) {\n",
       "    return\n",
       "  }\n",
       "  const py_version = docs[0].version.replace('rc', '-rc.').replace('.dev', '-dev.')\n",
       "  const is_dev = py_version.indexOf(\"+\") !== -1 || py_version.indexOf(\"-\") !== -1\n",
       "  function embed_document(root) {\n",
       "    var Bokeh = get_bokeh(root)\n",
       "    Bokeh.embed.embed_items_notebook(docs_json, render_items);\n",
       "    for (const render_item of render_items) {\n",
       "      for (const root_id of render_item.root_ids) {\n",
       "\tconst id_el = document.getElementById(root_id)\n",
       "\tif (id_el.children.length && (id_el.children[0].className === 'bk-root')) {\n",
       "\t  const root_el = id_el.children[0]\n",
       "\t  root_el.id = root_el.id + '-rendered'\n",
       "\t}\n",
       "      }\n",
       "    }\n",
       "  }\n",
       "  function get_bokeh(root) {\n",
       "    if (root.Bokeh === undefined) {\n",
       "      return null\n",
       "    } else if (root.Bokeh.version !== py_version && !is_dev) {\n",
       "      if (root.Bokeh.versions === undefined || !root.Bokeh.versions.has(py_version)) {\n",
       "\treturn null\n",
       "      }\n",
       "      return root.Bokeh.versions.get(py_version);\n",
       "    } else if (root.Bokeh.version === py_version) {\n",
       "      return root.Bokeh\n",
       "    }\n",
       "    return null\n",
       "  }\n",
       "  function is_loaded(root) {\n",
       "    var Bokeh = get_bokeh(root)\n",
       "    return (Bokeh != null && Bokeh.Panel !== undefined)\n",
       "  }\n",
       "  if (is_loaded(root)) {\n",
       "    embed_document(root);\n",
       "  } else {\n",
       "    var attempts = 0;\n",
       "    var timer = setInterval(function(root) {\n",
       "      if (is_loaded(root)) {\n",
       "        clearInterval(timer);\n",
       "        embed_document(root);\n",
       "      } else if (document.readyState == \"complete\") {\n",
       "        attempts++;\n",
       "        if (attempts > 200) {\n",
       "          clearInterval(timer);\n",
       "\t  var Bokeh = get_bokeh(root)\n",
       "\t  if (Bokeh == null || Bokeh.Panel == null) {\n",
       "            console.warn(\"Panel: ERROR: Unable to run Panel code because Bokeh or Panel library is missing\");\n",
       "\t  } else {\n",
       "\t    console.warn(\"Panel: WARNING: Attempting to render but not all required libraries could be resolved.\")\n",
       "\t    embed_document(root)\n",
       "\t  }\n",
       "        }\n",
       "      }\n",
       "    }, 25, root)\n",
       "  }\n",
       "})(window);</script>"
      ],
      "text/plain": [
       ":Curve   [k]   (inertia)"
      ]
     },
     "execution_count": 80,
     "metadata": {
      "application/vnd.holoviews_exec.v0+json": {
       "id": "p1298"
      }
     },
     "output_type": "execute_result"
    }
   ],
   "source": [
    "# Plot the DataFrame\n",
    "elbow_df.hvplot.line(\n",
    "    x='k',\n",
    "    y='inertia',\n",
    "    title='Elbow graph',\n",
    "    xticks=k\n",
    ")"
   ]
  },
  {
   "cell_type": "markdown",
   "metadata": {},
   "source": [
    "## Kmeans algo to cluster data"
   ]
  },
  {
   "cell_type": "code",
   "execution_count": 84,
   "metadata": {
    "tags": []
   },
   "outputs": [],
   "source": [
    "# Define the model with 3 clusters\n",
    "model = KMeans(n_clusters=3,random_state=1)\n",
    "# Fit the model\n",
    "model.fit(ccinfo_df)\n",
    "# Make predictions\n",
    "defaults = model.predict(ccinfo_df)\n",
    "# Create a copy of the preprocessed data\n",
    "ccinfo_predictions_df = ccinfo_df.copy()\n",
    "# Add a class column with the labels\n",
    "ccinfo_predictions_df['segment'] = defaults"
   ]
  },
  {
   "cell_type": "code",
   "execution_count": 86,
   "metadata": {
    "tags": []
   },
   "outputs": [
    {
     "data": {},
     "metadata": {},
     "output_type": "display_data"
    },
    {
     "data": {
      "application/vnd.holoviews_exec.v0+json": "",
      "text/html": [
       "<div id='p1680'>\n",
       "  <div id=\"b3eb5cd8-a421-484e-baba-66f1f3c112aa\" data-root-id=\"p1680\" style=\"display: contents;\"></div>\n",
       "</div>\n",
       "<script type=\"application/javascript\">(function(root) {\n",
       "  var docs_json = {\"132795d5-c4db-4afc-913c-cc792b63970d\":{\"version\":\"3.1.1\",\"title\":\"Bokeh Application\",\"defs\":[{\"type\":\"model\",\"name\":\"ReactiveHTML1\"},{\"type\":\"model\",\"name\":\"FlexBox1\",\"properties\":[{\"name\":\"align_content\",\"kind\":\"Any\",\"default\":\"flex-start\"},{\"name\":\"align_items\",\"kind\":\"Any\",\"default\":\"flex-start\"},{\"name\":\"flex_direction\",\"kind\":\"Any\",\"default\":\"row\"},{\"name\":\"flex_wrap\",\"kind\":\"Any\",\"default\":\"wrap\"},{\"name\":\"justify_content\",\"kind\":\"Any\",\"default\":\"flex-start\"}]},{\"type\":\"model\",\"name\":\"FloatPanel1\",\"properties\":[{\"name\":\"config\",\"kind\":\"Any\",\"default\":{\"type\":\"map\"}},{\"name\":\"contained\",\"kind\":\"Any\",\"default\":true},{\"name\":\"position\",\"kind\":\"Any\",\"default\":\"right-top\"},{\"name\":\"offsetx\",\"kind\":\"Any\",\"default\":null},{\"name\":\"offsety\",\"kind\":\"Any\",\"default\":null},{\"name\":\"theme\",\"kind\":\"Any\",\"default\":\"primary\"},{\"name\":\"status\",\"kind\":\"Any\",\"default\":\"normalized\"}]},{\"type\":\"model\",\"name\":\"GridStack1\",\"properties\":[{\"name\":\"mode\",\"kind\":\"Any\",\"default\":\"warn\"},{\"name\":\"ncols\",\"kind\":\"Any\",\"default\":null},{\"name\":\"nrows\",\"kind\":\"Any\",\"default\":null},{\"name\":\"allow_resize\",\"kind\":\"Any\",\"default\":true},{\"name\":\"allow_drag\",\"kind\":\"Any\",\"default\":true},{\"name\":\"state\",\"kind\":\"Any\",\"default\":[]}]},{\"type\":\"model\",\"name\":\"drag1\",\"properties\":[{\"name\":\"slider_width\",\"kind\":\"Any\",\"default\":5},{\"name\":\"slider_color\",\"kind\":\"Any\",\"default\":\"black\"},{\"name\":\"value\",\"kind\":\"Any\",\"default\":50}]},{\"type\":\"model\",\"name\":\"click1\",\"properties\":[{\"name\":\"terminal_output\",\"kind\":\"Any\",\"default\":\"\"},{\"name\":\"debug_name\",\"kind\":\"Any\",\"default\":\"\"},{\"name\":\"clears\",\"kind\":\"Any\",\"default\":0}]},{\"type\":\"model\",\"name\":\"FastWrapper1\",\"properties\":[{\"name\":\"object\",\"kind\":\"Any\",\"default\":null},{\"name\":\"style\",\"kind\":\"Any\",\"default\":null}]},{\"type\":\"model\",\"name\":\"NotificationAreaBase1\",\"properties\":[{\"name\":\"position\",\"kind\":\"Any\",\"default\":\"bottom-right\"},{\"name\":\"_clear\",\"kind\":\"Any\",\"default\":0}]},{\"type\":\"model\",\"name\":\"NotificationArea1\",\"properties\":[{\"name\":\"notifications\",\"kind\":\"Any\",\"default\":[]},{\"name\":\"position\",\"kind\":\"Any\",\"default\":\"bottom-right\"},{\"name\":\"_clear\",\"kind\":\"Any\",\"default\":0},{\"name\":\"types\",\"kind\":\"Any\",\"default\":[{\"type\":\"map\",\"entries\":[[\"type\",\"warning\"],[\"background\",\"#ffc107\"],[\"icon\",{\"type\":\"map\",\"entries\":[[\"className\",\"fas fa-exclamation-triangle\"],[\"tagName\",\"i\"],[\"color\",\"white\"]]}]]},{\"type\":\"map\",\"entries\":[[\"type\",\"info\"],[\"background\",\"#007bff\"],[\"icon\",{\"type\":\"map\",\"entries\":[[\"className\",\"fas fa-info-circle\"],[\"tagName\",\"i\"],[\"color\",\"white\"]]}]]}]}]},{\"type\":\"model\",\"name\":\"Notification\",\"properties\":[{\"name\":\"background\",\"kind\":\"Any\",\"default\":null},{\"name\":\"duration\",\"kind\":\"Any\",\"default\":3000},{\"name\":\"icon\",\"kind\":\"Any\",\"default\":null},{\"name\":\"message\",\"kind\":\"Any\",\"default\":\"\"},{\"name\":\"notification_type\",\"kind\":\"Any\",\"default\":null},{\"name\":\"_destroyed\",\"kind\":\"Any\",\"default\":false}]},{\"type\":\"model\",\"name\":\"TemplateActions1\",\"properties\":[{\"name\":\"open_modal\",\"kind\":\"Any\",\"default\":0},{\"name\":\"close_modal\",\"kind\":\"Any\",\"default\":0}]},{\"type\":\"model\",\"name\":\"BootstrapTemplateActions1\",\"properties\":[{\"name\":\"open_modal\",\"kind\":\"Any\",\"default\":0},{\"name\":\"close_modal\",\"kind\":\"Any\",\"default\":0}]},{\"type\":\"model\",\"name\":\"MaterialTemplateActions1\",\"properties\":[{\"name\":\"open_modal\",\"kind\":\"Any\",\"default\":0},{\"name\":\"close_modal\",\"kind\":\"Any\",\"default\":0}]}],\"roots\":[{\"type\":\"object\",\"name\":\"Row\",\"id\":\"p1680\",\"attributes\":{\"name\":\"Row01535\",\"tags\":[\"embedded\"],\"stylesheets\":[\"\\n:host(.pn-loading.pn-arc):before, .pn-loading.pn-arc:before {\\n  background-image: url(\\\"data:image/svg+xml;base64,PHN2ZyB4bWxucz0iaHR0cDovL3d3dy53My5vcmcvMjAwMC9zdmciIHN0eWxlPSJtYXJnaW46IGF1dG87IGJhY2tncm91bmQ6IG5vbmU7IGRpc3BsYXk6IGJsb2NrOyBzaGFwZS1yZW5kZXJpbmc6IGF1dG87IiB2aWV3Qm94PSIwIDAgMTAwIDEwMCIgcHJlc2VydmVBc3BlY3RSYXRpbz0ieE1pZFlNaWQiPiAgPGNpcmNsZSBjeD0iNTAiIGN5PSI1MCIgZmlsbD0ibm9uZSIgc3Ryb2tlPSIjYzNjM2MzIiBzdHJva2Utd2lkdGg9IjEwIiByPSIzNSIgc3Ryb2tlLWRhc2hhcnJheT0iMTY0LjkzMzYxNDMxMzQ2NDE1IDU2Ljk3Nzg3MTQzNzgyMTM4Ij4gICAgPGFuaW1hdGVUcmFuc2Zvcm0gYXR0cmlidXRlTmFtZT0idHJhbnNmb3JtIiB0eXBlPSJyb3RhdGUiIHJlcGVhdENvdW50PSJpbmRlZmluaXRlIiBkdXI9IjFzIiB2YWx1ZXM9IjAgNTAgNTA7MzYwIDUwIDUwIiBrZXlUaW1lcz0iMDsxIj48L2FuaW1hdGVUcmFuc2Zvcm0+ICA8L2NpcmNsZT48L3N2Zz4=\\\");\\n  background-size: auto calc(min(50%, 400px));\\n}\",{\"type\":\"object\",\"name\":\"ImportedStyleSheet\",\"id\":\"p1683\",\"attributes\":{\"url\":\"https://cdn.holoviz.org/panel/1.2.0/dist/css/loading.css\"}},{\"type\":\"object\",\"name\":\"ImportedStyleSheet\",\"id\":\"p1816\",\"attributes\":{\"url\":\"https://cdn.holoviz.org/panel/1.2.0/dist/css/listpanel.css\"}},{\"type\":\"object\",\"name\":\"ImportedStyleSheet\",\"id\":\"p1681\",\"attributes\":{\"url\":\"https://cdn.holoviz.org/panel/1.2.0/dist/bundled/theme/default.css\"}},{\"type\":\"object\",\"name\":\"ImportedStyleSheet\",\"id\":\"p1682\",\"attributes\":{\"url\":\"https://cdn.holoviz.org/panel/1.2.0/dist/bundled/theme/native.css\"}}],\"min_width\":700,\"margin\":0,\"sizing_mode\":\"stretch_width\",\"align\":\"start\",\"children\":[{\"type\":\"object\",\"name\":\"Spacer\",\"id\":\"p1684\",\"attributes\":{\"name\":\"HSpacer01546\",\"stylesheets\":[\"\\n:host(.pn-loading.pn-arc):before, .pn-loading.pn-arc:before {\\n  background-image: url(\\\"data:image/svg+xml;base64,PHN2ZyB4bWxucz0iaHR0cDovL3d3dy53My5vcmcvMjAwMC9zdmciIHN0eWxlPSJtYXJnaW46IGF1dG87IGJhY2tncm91bmQ6IG5vbmU7IGRpc3BsYXk6IGJsb2NrOyBzaGFwZS1yZW5kZXJpbmc6IGF1dG87IiB2aWV3Qm94PSIwIDAgMTAwIDEwMCIgcHJlc2VydmVBc3BlY3RSYXRpbz0ieE1pZFlNaWQiPiAgPGNpcmNsZSBjeD0iNTAiIGN5PSI1MCIgZmlsbD0ibm9uZSIgc3Ryb2tlPSIjYzNjM2MzIiBzdHJva2Utd2lkdGg9IjEwIiByPSIzNSIgc3Ryb2tlLWRhc2hhcnJheT0iMTY0LjkzMzYxNDMxMzQ2NDE1IDU2Ljk3Nzg3MTQzNzgyMTM4Ij4gICAgPGFuaW1hdGVUcmFuc2Zvcm0gYXR0cmlidXRlTmFtZT0idHJhbnNmb3JtIiB0eXBlPSJyb3RhdGUiIHJlcGVhdENvdW50PSJpbmRlZmluaXRlIiBkdXI9IjFzIiB2YWx1ZXM9IjAgNTAgNTA7MzYwIDUwIDUwIiBrZXlUaW1lcz0iMDsxIj48L2FuaW1hdGVUcmFuc2Zvcm0+ICA8L2NpcmNsZT48L3N2Zz4=\\\");\\n  background-size: auto calc(min(50%, 400px));\\n}\",{\"id\":\"p1683\"},{\"id\":\"p1681\"},{\"id\":\"p1682\"}],\"margin\":0,\"sizing_mode\":\"stretch_width\",\"align\":\"start\"}},{\"type\":\"object\",\"name\":\"Figure\",\"id\":\"p1690\",\"attributes\":{\"width\":700,\"height\":300,\"margin\":[5,10],\"sizing_mode\":\"fixed\",\"align\":\"start\",\"x_range\":{\"type\":\"object\",\"name\":\"Range1d\",\"id\":\"p1685\",\"attributes\":{\"tags\":[[[\"age\",\"age\",null]]],\"start\":18.685714285714287,\"end\":77.31428571428572,\"reset_start\":18.685714285714287,\"reset_end\":77.31428571428572}},\"y_range\":{\"type\":\"object\",\"name\":\"Range1d\",\"id\":\"p1686\",\"attributes\":{\"tags\":[[[\"limit_bal\",\"limit_bal\",null]]],\"start\":-1.9538056721927077,\"end\":7.162890815719004,\"reset_start\":-1.9538056721927077,\"reset_end\":7.162890815719004}},\"x_scale\":{\"type\":\"object\",\"name\":\"LinearScale\",\"id\":\"p1702\"},\"y_scale\":{\"type\":\"object\",\"name\":\"LinearScale\",\"id\":\"p1704\"},\"title\":{\"type\":\"object\",\"name\":\"Title\",\"id\":\"p1693\",\"attributes\":{\"text\":\"Credit profile clusters\",\"text_color\":\"black\",\"text_font_size\":\"12pt\"}},\"renderers\":[{\"type\":\"object\",\"name\":\"GlyphRenderer\",\"id\":\"p1750\",\"attributes\":{\"data_source\":{\"type\":\"object\",\"name\":\"ColumnDataSource\",\"id\":\"p1740\",\"attributes\":{\"selected\":{\"type\":\"object\",\"name\":\"Selection\",\"id\":\"p1741\",\"attributes\":{\"indices\":[],\"line_indices\":[]}},\"selection_policy\":{\"type\":\"object\",\"name\":\"UnionRenderers\",\"id\":\"p1742\"},\"data\":{\"type\":\"map\",\"entries\":[[\"age\",{\"type\":\"ndarray\",\"array\":{\"type\":\"bytes\",\"data\":\"GAAAABoAAAAdAAAAFwAAABwAAAAeAAAAHQAAABcAAAAYAAAAHQAAABoAAAAXAAAAFwAAABsAAAAeAAAAGgAAABsAAAAgAAAAHgAAABYAAAAZAAAAHwAAABkAAAAWAAAAHgAAAB0AAAAWAAAAIAAAABgAAAAZAAAAHQAAAB0AAAAcAAAAHQAAAB4AAAAdAAAAFgAAAB8AAAAdAAAAIAAAACAAAAAYAAAAGQAAABYAAAAaAAAAHgAAACAAAAAbAAAAFwAAABsAAAAWAAAAIAAAAB4AAAAWAAAAGgAAABgAAAAfAAAAGAAAABgAAAAcAAAAGgAAABsAAAAXAAAAFwAAABYAAAAbAAAAGAAAABwAAAAXAAAAHQAAAB0AAAAcAAAAGwAAABcAAAAgAAAAGQAAABoAAAAeAAAAGwAAABsAAAAbAAAAFgAAAB4AAAAWAAAAGAAAAB0AAAAeAAAAHgAAABYAAAAdAAAAGAAAABkAAAAgAAAAHwAAACAAAAAbAAAAHQAAABgAAAAYAAAAFgAAABYAAAAfAAAAGgAAABoAAAAYAAAAGAAAABsAAAAfAAAAHAAAABcAAAAYAAAAGAAAABcAAAAaAAAAGwAAAB8AAAAcAAAAGwAAACAAAAAbAAAAGQAAABoAAAAcAAAAGgAAABwAAAAdAAAAGQAAAB0AAAAdAAAAGQAAABcAAAAbAAAAIAAAABwAAAAaAAAAHwAAABsAAAAeAAAAHAAAACAAAAAZAAAAFgAAABsAAAAdAAAAHwAAAB0AAAAZAAAAGwAAABoAAAAbAAAAGwAAABsAAAAXAAAAHQAAAB0AAAAbAAAAGAAAABwAAAAgAAAAHAAAABsAAAAcAAAAHgAAAB8AAAAfAAAAHgAAAB0AAAAaAAAAHQAAABoAAAAdAAAAHwAAABoAAAAaAAAAHgAAABoAAAAYAAAAFwAAAB4AAAAgAAAAGAAAACAAAAAeAAAAHAAAAB4AAAAfAAAAHQAAABwAAAAZAAAAHQAAAB4AAAAdAAAAGwAAABYAAAAeAAAAGQAAAB0AAAAdAAAAGQAAABsAAAAfAAAAFwAAACAAAAAbAAAAHwAAAB4AAAAYAAAAHQAAAB4AAAAgAAAAHwAAABsAAAAZAAAAGwAAAB0AAAAgAAAAGwAAABkAAAAXAAAAFwAAACAAAAAaAAAAGwAAABwAAAAeAAAAGgAAACAAAAAaAAAAHAAAACAAAAAgAAAAHQAAAB8AAAAaAAAAHAAAAB8AAAAgAAAAHgAAABwAAAAcAAAAFwAAABwAAAAeAAAAGgAAAB8AAAAcAAAAFwAAABcAAAAgAAAAFgAAAB8AAAAbAAAAHAAAACAAAAAbAAAAGwAAABoAAAAVAAAAFwAAAB4AAAAaAAAAGQAAABwAAAAYAAAAHwAAABkAAAAcAAAAGwAAABgAAAAgAAAAHQAAABgAAAAcAAAAGgAAAB0AAAAXAAAAHAAAAB8AAAAcAAAAGgAAABkAAAAZAAAAHQAAAB8AAAAeAAAAIAAAAB0AAAAfAAAAGAAAABwAAAAfAAAAGAAAAB0AAAAXAAAAGQAAABwAAAAbAAAAGAAAABgAAAAXAAAAGQAAAB8AAAAcAAAAIAAAABwAAAAfAAAAHwAAABgAAAAgAAAAGgAAABYAAAAbAAAAHAAAABcAAAAcAAAAFgAAACAAAAAbAAAAHgAAABwAAAAZAAAAHAAAAB8AAAAdAAAAHAAAABsAAAAgAAAAGwAAAB0AAAAeAAAAHQAAAB8AAAAbAAAAFgAAAB4AAAAWAAAAGgAAABgAAAAeAAAAHwAAABsAAAAWAAAAFgAAABsAAAAdAAAAHQAAABoAAAAcAAAAHwAAABkAAAAZAAAAHgAAAB8AAAAZAAAAGgAAABkAAAAaAAAAGgAAAB4AAAAfAAAAGAAAABgAAAAdAAAAHAAAACAAAAAaAAAAGgAAABoAAAAgAAAAHwAAAB0AAAAbAAAAHAAAACAAAAAaAAAAHQAAAB0AAAAbAAAAIAAAAB4AAAAdAAAAFgAAABkAAAAcAAAAHQAAABcAAAAaAAAAGAAAAB0AAAAYAAAAHgAAABgAAAAWAAAAGwAAABgAAAAcAAAAGAAAABsAAAAeAAAAFwAAABcAAAAWAAAAHwAAACAAAAAXAAAAIAAAABcAAAAZAAAAHQAAAB0AAAAbAAAAGgAAAB8AAAAgAAAAGQAAABsAAAAeAAAAFwAAAB4AAAAeAAAAGAAAABwAAAAgAAAAGwAAAB8AAAAcAAAAHgAAABkAAAAbAAAAHgAAABoAAAAbAAAAGwAAABkAAAAgAAAAHgAAACAAAAAXAAAAGAAAABgAAAAYAAAAGwAAABYAAAAYAAAAHQAAACAAAAAeAAAAHQAAACAAAAAgAAAAGQAAABgAAAAXAAAAHQAAABsAAAAgAAAAHgAAAB8AAAAeAAAAGAAAABwAAAAbAAAAIAAAAB4AAAAeAAAAFgAAABkAAAAcAAAAGgAAABgAAAAdAAAAFwAAABkAAAAbAAAAGQAAAB0AAAAXAAAAGQAAAB0AAAAcAAAAHgAAAB0AAAAbAAAAHwAAAB8AAAAaAAAAGQAAAB8AAAAfAAAAGwAAABcAAAAXAAAAGAAAABoAAAAWAAAAFwAAAB4AAAAYAAAAHwAAABcAAAAdAAAAGQAAAB4AAAAbAAAAHQAAACAAAAAeAAAAGQAAABcAAAAcAAAAHwAAAB0AAAAfAAAAHQAAABoAAAAdAAAAGAAAABwAAAAdAAAAGAAAABsAAAAYAAAAHgAAABoAAAAdAAAAHQAAABcAAAAcAAAAHwAAAB8AAAAZAAAAGQAAABgAAAAgAAAAHwAAAB4AAAAeAAAAHgAAAB0AAAAXAAAAGgAAABgAAAAZAAAAFwAAABwAAAAgAAAAHQAAABkAAAAbAAAAGAAAAB0AAAAbAAAAHQAAAB0AAAAXAAAAHgAAABgAAAAdAAAAHQAAABcAAAAdAAAAFwAAABoAAAAeAAAAGgAAACAAAAAeAAAAFgAAABgAAAAYAAAAGgAAABUAAAAWAAAAFwAAABYAAAAeAAAAGwAAACAAAAAaAAAAHQAAABYAAAAeAAAAHAAAABoAAAAcAAAAGAAAAB0AAAAbAAAAIAAAACAAAAAaAAAAGgAAABoAAAAfAAAAHgAAAB8AAAAaAAAAHQAAABgAAAAXAAAAHgAAAB0AAAAdAAAAFgAAAB4AAAAaAAAAGQAAABcAAAAcAAAAGAAAAB8AAAAYAAAAIAAAAB8AAAAfAAAAGQAAABwAAAAcAAAAHQAAACAAAAAaAAAAHwAAABcAAAAWAAAAGgAAAB0AAAAeAAAAHAAAABsAAAAdAAAAFgAAACAAAAAeAAAAHQAAABkAAAAWAAAAGwAAAB4AAAAcAAAAGAAAABoAAAAfAAAAGwAAABYAAAAWAAAAHgAAABoAAAAXAAAAFwAAABgAAAAXAAAAGQAAABoAAAAZAAAAHwAAAB4AAAAZAAAAGQAAABgAAAAdAAAAGwAAAB8AAAAcAAAAGAAAABsAAAAbAAAAIAAAAB0AAAAgAAAAHwAAAB0AAAAXAAAAGAAAABgAAAAZAAAAFwAAABkAAAAZAAAAGgAAACAAAAAYAAAAGgAAABsAAAAYAAAAGwAAABcAAAAdAAAAFQAAAB0AAAAaAAAAHgAAAB8AAAAZAAAAIAAAABYAAAAgAAAAHAAAAB0AAAAcAAAAGQAAABsAAAAeAAAAGAAAAB4AAAAbAAAAGAAAAB8AAAAZAAAAGwAAABsAAAAbAAAAGQAAABsAAAAgAAAAGQAAAB0AAAAYAAAAGwAAABkAAAAcAAAAFgAAABYAAAAeAAAAIAAAABcAAAAdAAAAHAAAAB8AAAAeAAAAHQAAABcAAAAbAAAAFwAAABgAAAAZAAAAIAAAAB8AAAAdAAAAHQAAAB4AAAAbAAAAHwAAABoAAAAaAAAAFwAAAB4AAAAgAAAAGQAAABoAAAAdAAAAGgAAAB8AAAAfAAAAIAAAAB0AAAAbAAAAHQAAABsAAAAaAAAAHgAAAB8AAAAdAAAAHAAAAB8AAAAWAAAAGwAAAB8AAAAeAAAAIAAAAB8AAAAYAAAAHwAAAB0AAAAYAAAAHgAAABwAAAAWAAAAFwAAABgAAAAbAAAAGQAAABkAAAAfAAAAHgAAAB0AAAAYAAAAIAAAAB0AAAAeAAAAGgAAABoAAAAdAAAAGwAAABsAAAAdAAAAGgAAAB8AAAAbAAAAHQAAABcAAAAZAAAAHQAAACAAAAAdAAAAFgAAAB0AAAAfAAAAGAAAABsAAAAdAAAAGwAAACAAAAAaAAAAGwAAABoAAAAbAAAAGAAAABoAAAAbAAAAGgAAABkAAAAcAAAAGgAAABwAAAAWAAAAGQAAABsAAAAZAAAAGgAAABoAAAAdAAAAGwAAABwAAAAfAAAAHwAAAB8AAAAeAAAAGwAAABsAAAAXAAAAIAAAAB0AAAAeAAAAFwAAAB4AAAAgAAAAGAAAACAAAAAgAAAAGAAAABYAAAAfAAAAGgAAAB4AAAAcAAAAHgAAABsAAAAeAAAAIAAAABgAAAAYAAAAFwAAAB0AAAAXAAAAHwAAABoAAAAgAAAAFgAAACAAAAAdAAAAHwAAABkAAAAcAAAAHwAAACAAAAAaAAAAHgAAAB4AAAAeAAAAHwAAACAAAAAWAAAAIAAAAB0AAAAdAAAAHwAAAB0AAAAcAAAAGgAAACAAAAAeAAAAHAAAABoAAAAWAAAAGgAAABgAAAAcAAAAGAAAABsAAAAeAAAAGgAAAB4AAAAbAAAAHwAAABwAAAAWAAAAHwAAABkAAAAgAAAAGgAAAB0AAAAeAAAAGgAAABkAAAAbAAAAHwAAABoAAAAdAAAAGAAAABkAAAAcAAAAGAAAACAAAAAWAAAAFwAAACAAAAAaAAAAGwAAABYAAAAfAAAAHgAAACAAAAAfAAAAGAAAAB4AAAAbAAAAGQAAACAAAAAWAAAAHQAAABwAAAAgAAAAGgAAABkAAAAcAAAAGwAAAB4AAAAcAAAAHgAAABoAAAAXAAAAGgAAAB0AAAAdAAAAGwAAABgAAAAcAAAAHwAAABcAAAAXAAAAHAAAABgAAAAeAAAAFwAAABwAAAAWAAAAHwAAABsAAAAcAAAAGwAAAB0AAAAeAAAAHwAAABoAAAAfAAAAGwAAABsAAAAXAAAAFgAAABsAAAAcAAAAGgAAAB0AAAAeAAAAGAAAABkAAAAZAAAAHQAAABkAAAAeAAAAHgAAAB0AAAAdAAAAHwAAAB8AAAAbAAAAGAAAABYAAAAdAAAAFwAAABYAAAAeAAAAHgAAABUAAAAgAAAAGwAAAB4AAAAVAAAAGQAAABgAAAAgAAAAIAAAAB8AAAAYAAAAHQAAABkAAAAeAAAAGgAAABgAAAAbAAAAFgAAABwAAAAgAAAAIAAAAB4AAAAgAAAAHgAAACAAAAAYAAAAGQAAABwAAAAeAAAAGgAAABkAAAAbAAAAGgAAABgAAAAXAAAAHQAAAB0AAAAbAAAAHAAAAB0AAAAgAAAAGwAAAB4AAAAdAAAAIAAAABoAAAAaAAAAHgAAABkAAAAaAAAAHAAAAB8AAAAaAAAAGAAAAB4AAAAXAAAAHAAAAB0AAAAXAAAAGgAAAB0AAAAcAAAAGwAAABkAAAAdAAAAHgAAABkAAAAcAAAAGwAAACAAAAAaAAAAGQAAAB0AAAAaAAAAGAAAABkAAAAcAAAAFwAAAB0AAAAZAAAAHgAAABwAAAAYAAAAHQAAACAAAAAgAAAAGAAAABsAAAAdAAAAHQAAABwAAAAeAAAAHQAAAB0AAAAgAAAAHwAAABkAAAAbAAAAGAAAABgAAAAYAAAAGAAAAB0AAAAWAAAAGAAAABsAAAAZAAAAGAAAABgAAAAZAAAAHQAAABwAAAAXAAAAGQAAABkAAAAaAAAAGgAAABwAAAAbAAAAHQAAACAAAAAZAAAAHwAAABoAAAAdAAAAHQAAAB4AAAAZAAAAGwAAABwAAAAXAAAAFwAAABsAAAAcAAAAFwAAAB4AAAAfAAAAIAAAABoAAAAcAAAAGgAAABwAAAAeAAAAHgAAAB4AAAAZAAAAHAAAABgAAAAZAAAAHAAAABgAAAAcAAAAHQAAAB4AAAAXAAAAGQAAABsAAAAWAAAAGAAAAB0AAAAXAAAAGgAAABoAAAAcAAAAGQAAABgAAAAaAAAAIAAAABcAAAAaAAAAHAAAAB8AAAAaAAAAHgAAABwAAAAcAAAAHAAAACAAAAAdAAAAIAAAABcAAAAeAAAAHwAAAB8AAAAdAAAAHAAAABsAAAAbAAAAFgAAAB8AAAAWAAAAGQAAACAAAAAZAAAAFgAAABsAAAAYAAAAGQAAAB4AAAAYAAAAGgAAACAAAAAZAAAAHwAAABsAAAAYAAAAFwAAACAAAAAgAAAAHgAAAB8AAAAcAAAAGQAAABkAAAAfAAAAGQAAABoAAAAXAAAAGwAAABkAAAAdAAAAFgAAACAAAAAdAAAAHgAAACAAAAAeAAAAHwAAABYAAAAaAAAAFwAAABYAAAAXAAAAFgAAABkAAAAYAAAAGgAAABcAAAAcAAAAHwAAABgAAAAeAAAAGQAAABsAAAAeAAAAHwAAABkAAAAfAAAAHAAAABwAAAAcAAAAGwAAABwAAAAgAAAAFgAAABYAAAAZAAAAHwAAABcAAAAfAAAAHgAAABYAAAAbAAAAGAAAABcAAAAZAAAAHgAAABoAAAAYAAAAGwAAAB8AAAAbAAAAGQAAABcAAAAcAAAAHAAAAB4AAAAaAAAAGAAAAB4AAAAbAAAAGgAAABgAAAAbAAAAHwAAAB0AAAAfAAAAGAAAACAAAAAgAAAAHgAAABsAAAAaAAAAHwAAACAAAAAcAAAAHQAAAB8AAAAZAAAAHAAAABgAAAAYAAAAGQAAABwAAAAZAAAAHAAAABoAAAAbAAAAGQAAABkAAAAaAAAAFwAAABcAAAAaAAAAFwAAABcAAAAfAAAAGAAAAB0AAAAdAAAAIAAAABkAAAAdAAAAHQAAABoAAAAXAAAAFwAAABoAAAAgAAAAGwAAABwAAAAZAAAAGwAAAB4AAAAcAAAAGAAAAB0AAAAfAAAAHwAAABYAAAAaAAAAHgAAABgAAAAcAAAAGgAAABsAAAAfAAAAGAAAABoAAAAYAAAAFgAAACAAAAAgAAAAHgAAABgAAAAgAAAAGQAAAB8AAAAbAAAAHgAAABsAAAAgAAAAIAAAABsAAAAcAAAAGwAAABgAAAAZAAAAGQAAACAAAAAcAAAAHAAAABYAAAAeAAAAGQAAAB8AAAAgAAAAHgAAABYAAAAZAAAAHQAAABoAAAAaAAAAHQAAABoAAAAbAAAAGgAAABkAAAAZAAAAFwAAABwAAAAeAAAAHwAAAB0AAAAWAAAAHQAAACAAAAAdAAAAGAAAAB0AAAAbAAAAHAAAABsAAAAeAAAAIAAAABwAAAAdAAAAHAAAACAAAAAZAAAAGwAAABwAAAAgAAAAHgAAAB0AAAAYAAAAHAAAABoAAAAcAAAAGQAAABgAAAAeAAAAGQAAABUAAAAaAAAAGQAAABwAAAAaAAAAHAAAACAAAAAcAAAAHwAAABcAAAAWAAAAFwAAABoAAAAcAAAAHQAAABgAAAAbAAAAFgAAABwAAAAaAAAAFwAAABoAAAAXAAAAGQAAAB8AAAAYAAAAGgAAAB4AAAAZAAAAHAAAABcAAAAZAAAAHgAAABkAAAAcAAAAHwAAABkAAAAdAAAAGAAAABwAAAAZAAAAIAAAABoAAAAbAAAAHQAAABoAAAAZAAAAHQAAABYAAAAaAAAAGgAAABwAAAAbAAAAHgAAABYAAAAYAAAAIAAAABsAAAAdAAAAHQAAABcAAAAYAAAAFwAAAB8AAAAbAAAAFQAAAB4AAAAcAAAAGAAAAB8AAAAXAAAAGgAAABoAAAAYAAAAFwAAAB0AAAAgAAAAFQAAAB8AAAAbAAAAGwAAAB8AAAAdAAAAGwAAABgAAAAcAAAAHwAAAB0AAAAfAAAAGAAAABgAAAAcAAAAHAAAABsAAAAdAAAAGQAAABkAAAAbAAAAGwAAABwAAAAcAAAAGgAAACAAAAAfAAAAGgAAABwAAAAdAAAAFwAAACAAAAAdAAAAFgAAACAAAAAaAAAAHgAAACAAAAAZAAAAFgAAABwAAAAYAAAAHgAAACAAAAAaAAAAHgAAABoAAAAZAAAAHgAAAB0AAAAeAAAAGAAAABoAAAAeAAAAFgAAABsAAAAfAAAAGgAAABoAAAAdAAAAHgAAABYAAAAgAAAAHAAAAB4AAAAWAAAAHAAAAB0AAAAbAAAAGwAAABcAAAAcAAAAHQAAABsAAAAZAAAAGwAAAB4AAAAcAAAAHgAAABgAAAAZAAAAFwAAABwAAAAeAAAAGgAAABsAAAAaAAAAGwAAABgAAAAdAAAAHAAAABkAAAAdAAAAHgAAABwAAAAYAAAAGAAAABsAAAAaAAAAFwAAABwAAAAfAAAAGQAAABcAAAAcAAAAHAAAAB8AAAAbAAAAHQAAABcAAAAYAAAAGwAAABsAAAAYAAAAGAAAABwAAAAcAAAAIAAAABwAAAAfAAAAGgAAAB8AAAAcAAAAGwAAABcAAAAcAAAAHQAAAB8AAAAgAAAAHAAAABsAAAAgAAAAHQAAABsAAAAWAAAAGQAAABwAAAAeAAAAHgAAABoAAAAgAAAAGgAAAB4AAAAZAAAAHwAAABwAAAAbAAAAHgAAAB8AAAAYAAAAHQAAABwAAAAfAAAAHQAAABoAAAAaAAAAGQAAABoAAAAdAAAAHgAAABcAAAAgAAAAGgAAACAAAAAcAAAAFwAAABsAAAAdAAAAHQAAABsAAAAXAAAAHAAAACAAAAAdAAAAHQAAABYAAAAeAAAAGwAAAB8AAAAdAAAAGwAAAB4AAAAdAAAAHgAAAB0AAAAfAAAAFwAAAB0AAAAYAAAAHAAAAB8AAAAdAAAAHAAAABoAAAAgAAAAGwAAAB0AAAAfAAAAGgAAABsAAAAbAAAAGwAAABYAAAAWAAAAHgAAAB0AAAAgAAAAGgAAABgAAAAdAAAAHAAAABkAAAAgAAAAFwAAABwAAAAYAAAAFgAAACAAAAAZAAAAGwAAABYAAAAZAAAAGwAAABoAAAAcAAAAIAAAABgAAAAgAAAAGAAAABsAAAAcAAAAFgAAABwAAAAXAAAAGQAAAB4AAAAbAAAAFgAAABwAAAAfAAAAGAAAABoAAAAZAAAAHQAAABwAAAAcAAAAIAAAABgAAAAYAAAAHAAAACAAAAAXAAAAHwAAABoAAAAZAAAAFwAAABoAAAAgAAAAGAAAABgAAAAcAAAAHQAAABsAAAAWAAAAGQAAABgAAAAbAAAAHgAAAB4AAAAdAAAAGAAAAB4AAAAgAAAAGwAAABoAAAAgAAAAGgAAABoAAAAZAAAAGQAAABgAAAAdAAAAGwAAACAAAAAbAAAAIAAAAB4AAAAdAAAAHwAAABkAAAAeAAAAHAAAAB4AAAAWAAAAFwAAAB8AAAAcAAAAFwAAABkAAAAaAAAAGgAAAB8AAAAdAAAAGQAAABYAAAAfAAAAGgAAABoAAAAcAAAAHgAAABYAAAAWAAAAFwAAABoAAAAXAAAAHQAAAB0AAAAZAAAAGAAAABgAAAAfAAAAHQAAABYAAAAXAAAAGwAAABcAAAAfAAAAGAAAAB0AAAAbAAAAGgAAACAAAAAeAAAAFwAAAB4AAAAdAAAAIAAAACAAAAAYAAAAGgAAABgAAAAcAAAAGAAAAB0AAAAfAAAAGQAAABgAAAAeAAAAHAAAABwAAAAdAAAAHwAAABcAAAAcAAAAGAAAAB0AAAAYAAAAFwAAAB8AAAAeAAAAIAAAABoAAAAZAAAAFwAAAB0AAAAgAAAAHQAAABwAAAAZAAAAGgAAABkAAAAgAAAAIAAAAB0AAAAaAAAAGwAAABkAAAAZAAAAGgAAAB8AAAAYAAAAGgAAABoAAAAbAAAAHgAAABsAAAAdAAAAGQAAAB0AAAAbAAAAGwAAAB8AAAAcAAAAHgAAACAAAAAZAAAAFgAAABoAAAAZAAAAIAAAAB0AAAAXAAAAGQAAABcAAAAeAAAAGAAAAB8AAAAfAAAAHgAAABgAAAAdAAAAHgAAABoAAAAaAAAAHgAAACAAAAAdAAAAHQAAAB4AAAAeAAAAIAAAABoAAAAfAAAAGQAAAB4AAAAgAAAAGwAAAB0AAAAVAAAAHAAAAB0AAAAbAAAAGQAAABkAAAAfAAAAHwAAABYAAAAXAAAAGQAAAB4AAAAaAAAAFwAAABcAAAAfAAAAHwAAAB4AAAAYAAAAIAAAABwAAAAgAAAAHAAAACAAAAAaAAAAGAAAAB4AAAAfAAAAHwAAAB4AAAAZAAAAGAAAABoAAAAeAAAAHgAAACAAAAAaAAAAGwAAABkAAAAXAAAAGQAAABkAAAAZAAAAGwAAABkAAAAYAAAAGQAAAB0AAAAcAAAAHwAAABsAAAAcAAAAHQAAABsAAAAVAAAAHQAAAB0AAAAXAAAAGQAAACAAAAAgAAAAGgAAABkAAAAcAAAAGwAAABsAAAAcAAAAHAAAAB0AAAAcAAAAHQAAAB4AAAAZAAAAGwAAAB0AAAAZAAAAHQAAABkAAAAbAAAAFgAAABwAAAAZAAAAIAAAABsAAAAaAAAAGgAAAB0AAAAaAAAAIAAAABkAAAAXAAAAFQAAABgAAAAgAAAAGwAAABcAAAAZAAAAGgAAAB8AAAAYAAAAHwAAABcAAAAYAAAAGwAAAB4AAAAdAAAAGQAAABgAAAAZAAAAGQAAAB0AAAAgAAAAGQAAABsAAAAfAAAAFwAAAB8AAAAZAAAAHQAAAB4AAAAbAAAAHgAAABgAAAAdAAAAGgAAABgAAAAcAAAAIAAAAB0AAAAfAAAAIAAAABsAAAAeAAAAGwAAABoAAAAgAAAAFwAAAB0AAAAaAAAAFgAAAB0AAAAXAAAAFgAAAB8AAAAZAAAAHAAAACAAAAAeAAAAGAAAACAAAAAaAAAAHQAAAB8AAAAeAAAAFwAAABgAAAAbAAAAFwAAABgAAAAdAAAAHgAAABkAAAAcAAAAGgAAAB4AAAAbAAAAGwAAABwAAAAZAAAAHAAAAB8AAAAdAAAAGQAAAB4AAAAbAAAAGgAAABwAAAAbAAAAFwAAABgAAAAeAAAAGgAAABsAAAAdAAAAHQAAAB0AAAAgAAAAGgAAAB4AAAAeAAAAGQAAAB0AAAAYAAAAHAAAAB8AAAAgAAAAIAAAABgAAAAZAAAAHgAAABkAAAAfAAAAIAAAABoAAAAdAAAAFwAAABgAAAAaAAAAGAAAABwAAAAbAAAAGAAAAB0AAAAZAAAAGwAAAB4AAAAWAAAAFgAAAB0AAAAfAAAAFwAAABgAAAAZAAAAFwAAAB0AAAAeAAAAHgAAABwAAAAYAAAAGQAAACAAAAAYAAAAFgAAAB0AAAAcAAAAGwAAAB8AAAAbAAAAHwAAABsAAAAdAAAAHwAAABkAAAAfAAAAHAAAABgAAAAaAAAAFgAAABsAAAAeAAAAFwAAABYAAAAbAAAAHgAAABcAAAAbAAAAIAAAACAAAAAbAAAAIAAAABwAAAAdAAAAHQAAAB4AAAAbAAAAGwAAAB0AAAAgAAAAHgAAAB0AAAAfAAAAHQAAABwAAAAcAAAAHQAAABwAAAAbAAAAFgAAABcAAAAeAAAAHQAAACAAAAAfAAAAGgAAABsAAAAeAAAAHQAAAB8AAAAeAAAAHAAAAB0AAAAYAAAAFgAAABgAAAAaAAAAHwAAAB8AAAAZAAAAIAAAABgAAAAYAAAAGwAAABgAAAAdAAAAHgAAABYAAAAWAAAAGQAAABoAAAAeAAAAGgAAAB8AAAAYAAAAHgAAAB8AAAAaAAAAHQAAABgAAAAgAAAAHAAAACAAAAA=\"},\"shape\":[2252],\"dtype\":\"int32\",\"order\":\"little\"}],[\"limit_bal\",{\"type\":\"ndarray\",\"array\":{\"type\":\"bytes\",\"data\":\"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\"},\"shape\":[2252],\"dtype\":\"float64\",\"order\":\"little\"}],[\"segment\",[0,0,0,0,0,0,0,0,0,0,0,0,0,0,0,0,0,0,0,0,0,0,0,0,0,0,0,0,0,0,0,0,0,0,0,0,0,0,0,0,0,0,0,0,0,0,0,0,0,0,0,0,0,0,0,0,0,0,0,0,0,0,0,0,0,0,0,0,0,0,0,0,0,0,0,0,0,0,0,0,0,0,0,0,0,0,0,0,0,0,0,0,0,0,0,0,0,0,0,0,0,0,0,0,0,0,0,0,0,0,0,0,0,0,0,0,0,0,0,0,0,0,0,0,0,0,0,0,0,0,0,0,0,0,0,0,0,0,0,0,0,0,0,0,0,0,0,0,0,0,0,0,0,0,0,0,0,0,0,0,0,0,0,0,0,0,0,0,0,0,0,0,0,0,0,0,0,0,0,0,0,0,0,0,0,0,0,0,0,0,0,0,0,0,0,0,0,0,0,0,0,0,0,0,0,0,0,0,0,0,0,0,0,0,0,0,0,0,0,0,0,0,0,0,0,0,0,0,0,0,0,0,0,0,0,0,0,0,0,0,0,0,0,0,0,0,0,0,0,0,0,0,0,0,0,0,0,0,0,0,0,0,0,0,0,0,0,0,0,0,0,0,0,0,0,0,0,0,0,0,0,0,0,0,0,0,0,0,0,0,0,0,0,0,0,0,0,0,0,0,0,0,0,0,0,0,0,0,0,0,0,0,0,0,0,0,0,0,0,0,0,0,0,0,0,0,0,0,0,0,0,0,0,0,0,0,0,0,0,0,0,0,0,0,0,0,0,0,0,0,0,0,0,0,0,0,0,0,0,0,0,0,0,0,0,0,0,0,0,0,0,0,0,0,0,0,0,0,0,0,0,0,0,0,0,0,0,0,0,0,0,0,0,0,0,0,0,0,0,0,0,0,0,0,0,0,0,0,0,0,0,0,0,0,0,0,0,0,0,0,0,0,0,0,0,0,0,0,0,0,0,0,0,0,0,0,0,0,0,0,0,0,0,0,0,0,0,0,0,0,0,0,0,0,0,0,0,0,0,0,0,0,0,0,0,0,0,0,0,0,0,0,0,0,0,0,0,0,0,0,0,0,0,0,0,0,0,0,0,0,0,0,0,0,0,0,0,0,0,0,0,0,0,0,0,0,0,0,0,0,0,0,0,0,0,0,0,0,0,0,0,0,0,0,0,0,0,0,0,0,0,0,0,0,0,0,0,0,0,0,0,0,0,0,0,0,0,0,0,0,0,0,0,0,0,0,0,0,0,0,0,0,0,0,0,0,0,0,0,0,0,0,0,0,0,0,0,0,0,0,0,0,0,0,0,0,0,0,0,0,0,0,0,0,0,0,0,0,0,0,0,0,0,0,0,0,0,0,0,0,0,0,0,0,0,0,0,0,0,0,0,0,0,0,0,0,0,0,0,0,0,0,0,0,0,0,0,0,0,0,0,0,0,0,0,0,0,0,0,0,0,0,0,0,0,0,0,0,0,0,0,0,0,0,0,0,0,0,0,0,0,0,0,0,0,0,0,0,0,0,0,0,0,0,0,0,0,0,0,0,0,0,0,0,0,0,0,0,0,0,0,0,0,0,0,0,0,0,0,0,0,0,0,0,0,0,0,0,0,0,0,0,0,0,0,0,0,0,0,0,0,0,0,0,0,0,0,0,0,0,0,0,0,0,0,0,0,0,0,0,0,0,0,0,0,0,0,0,0,0,0,0,0,0,0,0,0,0,0,0,0,0,0,0,0,0,0,0,0,0,0,0,0,0,0,0,0,0,0,0,0,0,0,0,0,0,0,0,0,0,0,0,0,0,0,0,0,0,0,0,0,0,0,0,0,0,0,0,0,0,0,0,0,0,0,0,0,0,0,0,0,0,0,0,0,0,0,0,0,0,0,0,0,0,0,0,0,0,0,0,0,0,0,0,0,0,0,0,0,0,0,0,0,0,0,0,0,0,0,0,0,0,0,0,0,0,0,0,0,0,0,0,0,0,0,0,0,0,0,0,0,0,0,0,0,0,0,0,0,0,0,0,0,0,0,0,0,0,0,0,0,0,0,0,0,0,0,0,0,0,0,0,0,0,0,0,0,0,0,0,0,0,0,0,0,0,0,0,0,0,0,0,0,0,0,0,0,0,0,0,0,0,0,0,0,0,0,0,0,0,0,0,0,0,0,0,0,0,0,0,0,0,0,0,0,0,0,0,0,0,0,0,0,0,0,0,0,0,0,0,0,0,0,0,0,0,0,0,0,0,0,0,0,0,0,0,0,0,0,0,0,0,0,0,0,0,0,0,0,0,0,0,0,0,0,0,0,0,0,0,0,0,0,0,0,0,0,0,0,0,0,0,0,0,0,0,0,0,0,0,0,0,0,0,0,0,0,0,0,0,0,0,0,0,0,0,0,0,0,0,0,0,0,0,0,0,0,0,0,0,0,0,0,0,0,0,0,0,0,0,0,0,0,0,0,0,0,0,0,0,0,0,0,0,0,0,0,0,0,0,0,0,0,0,0,0,0,0,0,0,0,0,0,0,0,0,0,0,0,0,0,0,0,0,0,0,0,0,0,0,0,0,0,0,0,0,0,0,0,0,0,0,0,0,0,0,0,0,0,0,0,0,0,0,0,0,0,0,0,0,0,0,0,0,0,0,0,0,0,0,0,0,0,0,0,0,0,0,0,0,0,0,0,0,0,0,0,0,0,0,0,0,0,0,0,0,0,0,0,0,0,0,0,0,0,0,0,0,0,0,0,0,0,0,0,0,0,0,0,0,0,0,0,0,0,0,0,0,0,0,0,0,0,0,0,0,0,0,0,0,0,0,0,0,0,0,0,0,0,0,0,0,0,0,0,0,0,0,0,0,0,0,0,0,0,0,0,0,0,0,0,0,0,0,0,0,0,0,0,0,0,0,0,0,0,0,0,0,0,0,0,0,0,0,0,0,0,0,0,0,0,0,0,0,0,0,0,0,0,0,0,0,0,0,0,0,0,0,0,0,0,0,0,0,0,0,0,0,0,0,0,0,0,0,0,0,0,0,0,0,0,0,0,0,0,0,0,0,0,0,0,0,0,0,0,0,0,0,0,0,0,0,0,0,0,0,0,0,0,0,0,0,0,0,0,0,0,0,0,0,0,0,0,0,0,0,0,0,0,0,0,0,0,0,0,0,0,0,0,0,0,0,0,0,0,0,0,0,0,0,0,0,0,0,0,0,0,0,0,0,0,0,0,0,0,0,0,0,0,0,0,0,0,0,0,0,0,0,0,0,0,0,0,0,0,0,0,0,0,0,0,0,0,0,0,0,0,0,0,0,0,0,0,0,0,0,0,0,0,0,0,0,0,0,0,0,0,0,0,0,0,0,0,0,0,0,0,0,0,0,0,0,0,0,0,0,0,0,0,0,0,0,0,0,0,0,0,0,0,0,0,0,0,0,0,0,0,0,0,0,0,0,0,0,0,0,0,0,0,0,0,0,0,0,0,0,0,0,0,0,0,0,0,0,0,0,0,0,0,0,0,0,0,0,0,0,0,0,0,0,0,0,0,0,0,0,0,0,0,0,0,0,0,0,0,0,0,0,0,0,0,0,0,0,0,0,0,0,0,0,0,0,0,0,0,0,0,0,0,0,0,0,0,0,0,0,0,0,0,0,0,0,0,0,0,0,0,0,0,0,0,0,0,0,0,0,0,0,0,0,0,0,0,0,0,0,0,0,0,0,0,0,0,0,0,0,0,0,0,0,0,0,0,0,0,0,0,0,0,0,0,0,0,0,0,0,0,0,0,0,0,0,0,0,0,0,0,0,0,0,0,0,0,0,0,0,0,0,0,0,0,0,0,0,0,0,0,0,0,0,0,0,0,0,0,0,0,0,0,0,0,0,0,0,0,0,0,0,0,0,0,0,0,0,0,0,0,0,0,0,0,0,0,0,0,0,0,0,0,0,0,0,0,0,0,0,0,0,0,0,0,0,0,0,0,0,0,0,0,0,0,0,0,0,0,0,0,0,0,0,0,0,0,0,0,0,0,0,0,0,0,0,0,0,0,0,0,0,0,0,0,0,0,0,0,0,0,0,0,0,0,0,0,0,0,0,0,0,0,0,0,0,0,0,0,0,0,0,0,0,0,0,0,0,0,0,0,0,0,0,0,0,0,0,0,0,0,0,0,0,0,0,0,0,0,0,0,0,0,0,0,0,0,0,0,0,0,0,0,0,0,0,0,0,0,0,0,0,0,0,0,0,0,0,0,0,0,0,0,0,0,0,0,0,0,0,0,0,0,0,0,0,0,0,0,0,0,0,0,0,0,0,0,0,0,0,0,0,0,0,0,0,0,0,0,0,0,0,0,0,0,0,0,0,0,0,0,0,0,0,0,0,0,0,0,0,0,0,0,0,0,0,0,0,0,0,0,0,0,0,0,0,0,0,0,0,0,0,0,0,0,0,0,0,0,0,0,0,0,0,0,0,0,0,0,0,0,0,0,0,0,0,0,0,0,0,0,0,0,0,0,0,0,0,0,0,0,0,0,0,0,0,0,0,0,0,0,0,0,0,0,0,0,0,0,0,0,0,0,0,0,0,0,0,0,0,0,0,0,0,0,0,0,0,0,0,0,0,0,0,0,0,0,0,0,0,0,0,0,0,0,0,0,0,0,0,0,0,0,0,0,0,0,0,0,0,0,0,0,0,0,0,0,0,0,0,0,0,0,0,0,0,0,0,0,0,0,0,0,0,0,0,0,0,0,0,0,0,0,0,0,0,0,0,0,0,0,0,0,0,0,0,0,0,0,0,0,0,0,0,0,0,0,0,0,0,0,0,0,0,0,0,0,0,0,0,0,0,0,0,0,0,0,0,0,0,0,0,0,0,0,0,0,0,0,0,0,0,0,0,0,0,0,0,0,0,0,0,0,0,0,0,0,0,0,0,0,0,0,0,0,0,0,0,0,0,0,0,0,0,0,0,0,0,0,0,0,0,0,0,0,0,0,0,0,0,0,0,0,0,0,0,0,0,0,0,0,0,0,0,0,0,0,0,0,0,0,0,0,0,0,0,0,0,0,0,0,0,0,0,0,0]]]}}},\"view\":{\"type\":\"object\",\"name\":\"CDSView\",\"id\":\"p1751\",\"attributes\":{\"filter\":{\"type\":\"object\",\"name\":\"AllIndices\",\"id\":\"p1752\"}}},\"glyph\":{\"type\":\"object\",\"name\":\"Scatter\",\"id\":\"p1747\",\"attributes\":{\"tags\":[\"apply_ranges\"],\"x\":{\"type\":\"field\",\"field\":\"age\"},\"y\":{\"type\":\"field\",\"field\":\"limit_bal\"},\"size\":{\"type\":\"value\",\"value\":5.477225575051661},\"line_color\":{\"type\":\"value\",\"value\":\"#30a2da\"},\"fill_color\":{\"type\":\"value\",\"value\":\"#30a2da\"},\"hatch_color\":{\"type\":\"value\",\"value\":\"#30a2da\"}}},\"selection_glyph\":{\"type\":\"object\",\"name\":\"Scatter\",\"id\":\"p1755\",\"attributes\":{\"tags\":[\"apply_ranges\"],\"x\":{\"type\":\"field\",\"field\":\"age\"},\"y\":{\"type\":\"field\",\"field\":\"limit_bal\"},\"size\":{\"type\":\"value\",\"value\":5.477225575051661},\"angle\":{\"type\":\"value\",\"value\":0.0},\"line_color\":{\"type\":\"value\",\"value\":\"#30a2da\"},\"line_alpha\":{\"type\":\"value\",\"value\":1.0},\"line_width\":{\"type\":\"value\",\"value\":1},\"line_join\":{\"type\":\"value\",\"value\":\"bevel\"},\"line_cap\":{\"type\":\"value\",\"value\":\"butt\"},\"line_dash\":{\"type\":\"value\",\"value\":[]},\"line_dash_offset\":{\"type\":\"value\",\"value\":0},\"fill_color\":{\"type\":\"value\",\"value\":\"#30a2da\"},\"fill_alpha\":{\"type\":\"value\",\"value\":1.0},\"hatch_color\":{\"type\":\"value\",\"value\":\"#30a2da\"},\"hatch_alpha\":{\"type\":\"value\",\"value\":1.0},\"hatch_scale\":{\"type\":\"value\",\"value\":12.0},\"hatch_pattern\":{\"type\":\"value\",\"value\":null},\"hatch_weight\":{\"type\":\"value\",\"value\":1.0},\"marker\":{\"type\":\"value\",\"value\":\"circle\"}}},\"nonselection_glyph\":{\"type\":\"object\",\"name\":\"Scatter\",\"id\":\"p1748\",\"attributes\":{\"tags\":[\"apply_ranges\"],\"x\":{\"type\":\"field\",\"field\":\"age\"},\"y\":{\"type\":\"field\",\"field\":\"limit_bal\"},\"size\":{\"type\":\"value\",\"value\":5.477225575051661},\"line_color\":{\"type\":\"value\",\"value\":\"#30a2da\"},\"line_alpha\":{\"type\":\"value\",\"value\":0.1},\"fill_color\":{\"type\":\"value\",\"value\":\"#30a2da\"},\"fill_alpha\":{\"type\":\"value\",\"value\":0.1},\"hatch_color\":{\"type\":\"value\",\"value\":\"#30a2da\"},\"hatch_alpha\":{\"type\":\"value\",\"value\":0.1}}},\"muted_glyph\":{\"type\":\"object\",\"name\":\"Scatter\",\"id\":\"p1749\",\"attributes\":{\"tags\":[\"apply_ranges\"],\"x\":{\"type\":\"field\",\"field\":\"age\"},\"y\":{\"type\":\"field\",\"field\":\"limit_bal\"},\"size\":{\"type\":\"value\",\"value\":5.477225575051661},\"line_color\":{\"type\":\"value\",\"value\":\"#30a2da\"},\"line_alpha\":{\"type\":\"value\",\"value\":0.2},\"fill_color\":{\"type\":\"value\",\"value\":\"#30a2da\"},\"fill_alpha\":{\"type\":\"value\",\"value\":0.2},\"hatch_color\":{\"type\":\"value\",\"value\":\"#30a2da\"},\"hatch_alpha\":{\"type\":\"value\",\"value\":0.2}}}}},{\"type\":\"object\",\"name\":\"GlyphRenderer\",\"id\":\"p1766\",\"attributes\":{\"data_source\":{\"type\":\"object\",\"name\":\"ColumnDataSource\",\"id\":\"p1756\",\"attributes\":{\"selected\":{\"type\":\"object\",\"name\":\"Selection\",\"id\":\"p1757\",\"attributes\":{\"indices\":[],\"line_indices\":[]}},\"selection_policy\":{\"type\":\"object\",\"name\":\"UnionRenderers\",\"id\":\"p1758\"},\"data\":{\"type\":\"map\",\"entries\":[[\"age\",{\"type\":\"ndarray\",\"array\":{\"type\":\"bytes\",\"data\":\"IgAAACUAAAAlAAAAIwAAACIAAAApAAAAJwAAACcAAAAoAAAAIQAAACgAAAAhAAAAJQAAACoAAAArAAAAIgAAACIAAAAiAAAAJwAAACUAAAAsAAAAIQAAACwAAAAhAAAAIwAAACwAAAAnAAAAJQAAACMAAAArAAAAJgAAACQAAAAmAAAAIwAAACkAAAApAAAAIgAAACYAAAAlAAAAKAAAACMAAAAkAAAAKQAAACIAAAAiAAAAIQAAACIAAAApAAAAIgAAACUAAAApAAAAIgAAACMAAAAlAAAAJQAAACMAAAAmAAAAIgAAACQAAAAiAAAAIgAAACYAAAArAAAAKQAAACYAAAArAAAAJwAAACoAAAAkAAAAJAAAACYAAAAoAAAAIwAAACEAAAAlAAAALAAAACUAAAAiAAAAIQAAACMAAAApAAAAJwAAACgAAAAoAAAAIQAAACsAAAAmAAAAJQAAACUAAAAiAAAAIQAAACQAAAAoAAAAIQAAACwAAAAmAAAAIQAAACsAAAAkAAAAJAAAACIAAAAlAAAAJAAAACgAAAAkAAAAJgAAACIAAAAoAAAAJAAAACsAAAApAAAAIgAAACgAAAAlAAAAKAAAACsAAAAiAAAAJAAAACcAAAAkAAAAKwAAACIAAAAiAAAAKAAAACMAAAAoAAAAJAAAACIAAAArAAAAJQAAACQAAAAqAAAAKwAAACYAAAAnAAAALAAAACYAAAAqAAAAKQAAACUAAAAmAAAAKQAAACMAAAAkAAAAJgAAACYAAAAhAAAAJAAAACUAAAAsAAAAIgAAACoAAAAlAAAAKgAAACcAAAAnAAAAKQAAACYAAAAkAAAAJgAAACYAAAApAAAAIwAAACkAAAAiAAAAJgAAACwAAAAlAAAAJgAAACgAAAArAAAAKgAAACcAAAAkAAAAIgAAACsAAAApAAAAJgAAACYAAAAjAAAAIQAAACMAAAArAAAAIwAAACIAAAAqAAAAIwAAACwAAAAoAAAAJgAAACQAAAAiAAAAKQAAACkAAAAqAAAAIQAAACIAAAAqAAAAJgAAACMAAAAoAAAAIQAAACQAAAAjAAAAIQAAACoAAAArAAAAIgAAACMAAAArAAAAJAAAACsAAAAiAAAAJAAAACQAAAAiAAAAKwAAACUAAAAlAAAAIQAAACUAAAAnAAAAJwAAACUAAAAnAAAALAAAACkAAAAoAAAAKgAAACcAAAAsAAAAKgAAACEAAAAnAAAAIQAAACgAAAAlAAAAKwAAACMAAAAjAAAAIgAAACIAAAApAAAAKgAAACgAAAAjAAAAKAAAACkAAAAoAAAAIwAAACUAAAAiAAAAIgAAACkAAAAoAAAAJgAAACoAAAAqAAAAIQAAACMAAAAiAAAAJwAAACEAAAAmAAAAIgAAACUAAAAhAAAAJgAAACIAAAAiAAAAKwAAACQAAAAjAAAAIQAAACMAAAAjAAAAKAAAACMAAAAsAAAAIQAAACEAAAAqAAAAJgAAACMAAAAoAAAAIgAAACMAAAAlAAAALAAAACQAAAAkAAAAJQAAACwAAAAnAAAAIQAAACcAAAAhAAAAJQAAACIAAAArAAAAIQAAACcAAAAmAAAAIgAAACoAAAAlAAAAJQAAACsAAAApAAAAIwAAACMAAAAnAAAAIgAAACgAAAAmAAAAKAAAACEAAAArAAAAKwAAACYAAAAiAAAAJQAAACUAAAAkAAAAJAAAACgAAAAnAAAAIQAAACgAAAAkAAAAIgAAACQAAAAiAAAALAAAACUAAAAlAAAAIQAAACoAAAAnAAAAKQAAACIAAAAjAAAAKQAAACsAAAAkAAAAJAAAACoAAAAhAAAAJwAAACQAAAArAAAAIQAAACcAAAAsAAAAJwAAACYAAAAoAAAAJAAAACQAAAAlAAAAIgAAACYAAAAkAAAAJAAAACgAAAAlAAAAIwAAACEAAAAmAAAAKQAAACEAAAAoAAAAIQAAACMAAAAnAAAAKgAAACQAAAAqAAAAIQAAACoAAAApAAAAIQAAACEAAAAiAAAAKgAAACsAAAAoAAAAIwAAACwAAAAhAAAAKAAAACMAAAAnAAAAKwAAACkAAAAoAAAAIwAAACYAAAApAAAAKgAAACMAAAAoAAAAKQAAACEAAAAsAAAAIQAAACUAAAAiAAAAKAAAACkAAAAmAAAAIwAAACIAAAAiAAAALAAAACQAAAApAAAALAAAACcAAAAjAAAAIQAAACQAAAAqAAAAJwAAACEAAAAsAAAAJAAAACcAAAAmAAAAIwAAACYAAAAmAAAAJgAAACIAAAAlAAAAJwAAACwAAAAsAAAAJAAAACgAAAAhAAAAJQAAACsAAAAmAAAAKgAAACkAAAAlAAAAKAAAACEAAAAjAAAAIwAAACcAAAAjAAAAKgAAACMAAAAhAAAAJQAAACwAAAArAAAAIgAAACUAAAAiAAAAIgAAACQAAAAiAAAAKwAAACkAAAAiAAAAJAAAACkAAAAiAAAAJQAAACQAAAAlAAAAIgAAACsAAAAjAAAAKgAAACQAAAApAAAAJgAAACkAAAAiAAAAJgAAACMAAAAoAAAAIgAAACcAAAAmAAAAKQAAACUAAAAqAAAAIwAAACwAAAAqAAAAJQAAACQAAAAnAAAAJAAAACcAAAAnAAAAJQAAACMAAAAjAAAAJAAAACwAAAAhAAAAJAAAACkAAAAmAAAAJQAAACEAAAAqAAAAJQAAACwAAAAqAAAALAAAACEAAAAhAAAALAAAACUAAAAiAAAAIQAAACsAAAAqAAAAJQAAACQAAAAnAAAAJwAAACQAAAAnAAAAJQAAACwAAAAoAAAAJAAAACwAAAApAAAAKwAAACQAAAAjAAAAIgAAACsAAAArAAAAJwAAACEAAAAiAAAAIQAAACcAAAAkAAAAKAAAACUAAAAjAAAAJgAAACIAAAAsAAAAIgAAACIAAAAsAAAAKgAAACEAAAApAAAAJQAAACYAAAAiAAAALAAAACUAAAAhAAAAKAAAACsAAAAkAAAAJAAAACYAAAAqAAAAKAAAACQAAAAhAAAALAAAACMAAAAjAAAAJQAAACEAAAAmAAAAJQAAACoAAAArAAAAJgAAACMAAAAsAAAAIwAAACMAAAAhAAAAJAAAACUAAAAiAAAAKwAAACYAAAAoAAAAIgAAACIAAAAsAAAALAAAACcAAAAoAAAAIgAAACsAAAAnAAAAJAAAACgAAAAkAAAAKgAAACgAAAAkAAAAJQAAACgAAAAsAAAAIwAAACgAAAAjAAAAJAAAACgAAAAhAAAAJgAAACUAAAAoAAAAJAAAACwAAAAqAAAAKgAAACkAAAAhAAAAIQAAACQAAAAlAAAAKQAAACEAAAAoAAAAJgAAACYAAAAiAAAAIgAAACQAAAAhAAAAIQAAACUAAAArAAAAKQAAACIAAAAsAAAAIQAAACUAAAAiAAAAIQAAACQAAAAjAAAAIwAAACQAAAAnAAAAJQAAACgAAAAsAAAAKQAAACMAAAAnAAAAJgAAACMAAAAlAAAAKAAAACQAAAAnAAAAKAAAACkAAAAnAAAAKwAAACEAAAAiAAAAJwAAACMAAAAjAAAAKQAAACIAAAAmAAAAKAAAACIAAAAhAAAAKQAAACQAAAAmAAAAKQAAACoAAAAsAAAAKgAAACcAAAAlAAAAJAAAACoAAAAkAAAAJgAAACoAAAAlAAAAIQAAACMAAAAhAAAAIQAAACMAAAAkAAAAJwAAACMAAAAoAAAAIgAAACEAAAAnAAAAJAAAACkAAAApAAAAKQAAACoAAAAlAAAAJQAAACYAAAAlAAAAKwAAACoAAAAoAAAAKQAAACMAAAAmAAAAKAAAACUAAAAjAAAAIgAAACoAAAArAAAAKwAAACIAAAAhAAAAIwAAACIAAAAoAAAAIQAAACgAAAAjAAAAJgAAACoAAAAjAAAAJAAAACYAAAAkAAAAJwAAACkAAAAqAAAAJwAAACIAAAAnAAAAJwAAACYAAAAkAAAAKAAAACgAAAAqAAAAJQAAACMAAAAoAAAAKAAAACEAAAAoAAAAJQAAACIAAAArAAAAIQAAACoAAAAlAAAAJwAAACQAAAAnAAAAKQAAACoAAAAiAAAAJAAAACUAAAAiAAAAIwAAACYAAAApAAAAKwAAACEAAAAsAAAALAAAACsAAAAnAAAAKgAAACIAAAAkAAAAKgAAACoAAAAkAAAAIgAAACsAAAApAAAAKQAAACoAAAAmAAAAIwAAACYAAAAlAAAAIwAAACIAAAAkAAAAIwAAACQAAAAhAAAAJQAAACoAAAAnAAAAJgAAACsAAAAjAAAAJQAAACEAAAAlAAAAKQAAACkAAAAmAAAAJAAAACkAAAAmAAAAJgAAACsAAAAmAAAAIwAAACMAAAAiAAAAJAAAACQAAAAjAAAAJAAAACEAAAAlAAAAJwAAACEAAAAnAAAALAAAACMAAAAoAAAAJQAAACMAAAApAAAAJQAAACEAAAAnAAAAIwAAACsAAAAmAAAAJQAAACEAAAAsAAAALAAAACgAAAArAAAAJwAAACcAAAAoAAAAKQAAACQAAAAmAAAAJAAAACEAAAAiAAAAKQAAACoAAAAiAAAAIwAAACkAAAAiAAAALAAAACEAAAAqAAAAJwAAACYAAAAjAAAAIQAAACkAAAAsAAAAIwAAACoAAAArAAAAJwAAACYAAAArAAAAKAAAACMAAAAqAAAAIwAAACYAAAAhAAAAIwAAACcAAAAhAAAAJAAAACIAAAAkAAAAKAAAACMAAAAqAAAALAAAACkAAAAsAAAAKAAAACMAAAAsAAAAKQAAACYAAAAlAAAAIgAAACcAAAAhAAAAJwAAACQAAAAiAAAALAAAACkAAAAlAAAAIgAAACYAAAAkAAAAIQAAACYAAAAhAAAAIwAAACQAAAAqAAAAJQAAACMAAAAiAAAAIQAAACcAAAAoAAAAJgAAACkAAAAqAAAAKwAAACEAAAAiAAAAIgAAACMAAAAqAAAAKQAAACIAAAArAAAAJAAAACIAAAAnAAAAJwAAACoAAAAlAAAALAAAACoAAAAsAAAAJwAAACYAAAAkAAAAKgAAACIAAAAoAAAAIQAAACMAAAAqAAAAJwAAACkAAAAlAAAAJQAAACgAAAAjAAAAIwAAACkAAAAkAAAAJgAAACIAAAArAAAAIgAAACYAAAApAAAAKAAAACUAAAArAAAAKAAAACQAAAAiAAAAKgAAACwAAAAsAAAAIwAAACoAAAAhAAAAJAAAACgAAAAkAAAAJAAAACUAAAAnAAAAIwAAACwAAAAnAAAAIQAAACkAAAAnAAAAKgAAACgAAAAlAAAAKAAAACIAAAAmAAAAKwAAACsAAAAnAAAAJAAAACYAAAAjAAAAJwAAACMAAAAkAAAAKQAAACMAAAAoAAAAJwAAACcAAAAiAAAAIQAAACQAAAAhAAAAKQAAACwAAAAhAAAAJgAAACYAAAAkAAAAKwAAACcAAAAmAAAALAAAACYAAAAmAAAAKgAAACUAAAAnAAAAIgAAACIAAAAlAAAAJwAAACcAAAAiAAAAKQAAACgAAAAjAAAAJQAAACoAAAApAAAAJAAAACoAAAAlAAAAIQAAACMAAAAsAAAAJAAAACUAAAAkAAAAJAAAACUAAAAoAAAAKwAAACUAAAAkAAAAJQAAACcAAAAhAAAAJAAAACYAAAAmAAAAIwAAACgAAAAsAAAAKgAAACIAAAAiAAAAIwAAACEAAAAqAAAAJgAAACUAAAAkAAAAIQAAACMAAAAqAAAAIQAAACEAAAAmAAAAKwAAACUAAAAqAAAAJwAAACgAAAAhAAAAKwAAACUAAAArAAAAKAAAACQAAAAhAAAAKwAAACYAAAAmAAAAJQAAACYAAAAiAAAALAAAACkAAAAlAAAALAAAACMAAAAmAAAAJAAAACIAAAAsAAAAJAAAACQAAAAlAAAAJQAAACUAAAAiAAAAJAAAACUAAAAnAAAAJgAAACYAAAAoAAAAJgAAACkAAAAmAAAAJQAAACwAAAAhAAAAKAAAACQAAAAlAAAAKgAAACQAAAAhAAAAJgAAACcAAAAoAAAAIQAAACQAAAAkAAAAIQAAACEAAAApAAAALAAAACcAAAAiAAAAJQAAACkAAAApAAAAKgAAACEAAAAnAAAAIwAAACMAAAArAAAALAAAACsAAAAkAAAALAAAACUAAAAlAAAAIQAAACoAAAAjAAAAIgAAACUAAAAiAAAAKAAAACkAAAApAAAAKAAAACcAAAAhAAAAJwAAACYAAAAqAAAAJQAAACYAAAApAAAAJQAAACEAAAAjAAAAIwAAACsAAAAnAAAAJgAAACYAAAAnAAAAIQAAACIAAAAmAAAAIgAAACUAAAAiAAAAJwAAACQAAAAhAAAALAAAACEAAAApAAAAJgAAACwAAAAoAAAAIQAAACIAAAAhAAAAKAAAACoAAAAhAAAAKAAAACUAAAAnAAAAIgAAACgAAAAjAAAAKwAAACEAAAAnAAAAIwAAACkAAAAkAAAAJQAAACIAAAAnAAAAKQAAACEAAAAnAAAAJAAAACQAAAAkAAAALAAAACoAAAAhAAAAJwAAACMAAAAoAAAAKgAAACkAAAApAAAAIQAAACcAAAAsAAAAIQAAACwAAAApAAAAIQAAACkAAAAiAAAAKgAAACcAAAAlAAAAJQAAACkAAAAjAAAAJAAAACQAAAAiAAAAJQAAACYAAAAkAAAAJQAAACUAAAAsAAAAKwAAACEAAAArAAAAKAAAACUAAAAhAAAAKwAAACUAAAAlAAAAIwAAACsAAAAqAAAAKAAAACgAAAAoAAAAIgAAACEAAAAlAAAALAAAACMAAAAhAAAAKAAAACoAAAAkAAAAIQAAACIAAAAlAAAAJQAAACMAAAAlAAAAIgAAACgAAAAnAAAAKQAAACMAAAAoAAAAJAAAACoAAAAlAAAAIgAAACgAAAAkAAAAIQAAACkAAAAhAAAAJAAAACIAAAAiAAAALAAAACUAAAAhAAAAJwAAACoAAAAhAAAAKQAAACgAAAAjAAAAJwAAACgAAAAnAAAAKQAAACcAAAAlAAAAJAAAACMAAAAjAAAAIQAAACEAAAAqAAAAJwAAACcAAAAnAAAAIwAAACUAAAAlAAAAKgAAACgAAAAmAAAAKAAAACoAAAAlAAAAIwAAACMAAAAiAAAAIwAAACkAAAAmAAAAJwAAACkAAAAhAAAAIwAAACQAAAAkAAAAJQAAACMAAAAmAAAAIwAAACIAAAAiAAAAIwAAACkAAAAlAAAAIwAAACIAAAAiAAAAKQAAACQAAAAsAAAAIgAAACwAAAAlAAAAIwAAACMAAAAlAAAAJAAAACEAAAAlAAAAKgAAACQAAAAnAAAAIQAAACwAAAAhAAAAIgAAACcAAAAnAAAAJAAAACYAAAApAAAAJgAAACEAAAAkAAAAKwAAACsAAAAhAAAALAAAACUAAAAiAAAAJwAAACcAAAArAAAAJQAAACUAAAApAAAAJAAAACUAAAApAAAAKAAAACYAAAAqAAAAKAAAACIAAAAnAAAAJwAAACsAAAAnAAAAJQAAACEAAAAsAAAAIgAAACMAAAAoAAAAIQAAACoAAAAjAAAAKgAAACkAAAAnAAAAIgAAACYAAAAjAAAAIwAAACUAAAAhAAAAIQAAACYAAAAkAAAALAAAACcAAAAnAAAAJAAAACcAAAArAAAAIQAAACIAAAArAAAAKwAAACIAAAAjAAAAKQAAACsAAAAlAAAAJAAAACQAAAAhAAAAIQAAACwAAAArAAAAJQAAACsAAAAjAAAAKgAAACkAAAAjAAAAKAAAACgAAAAiAAAAJgAAACwAAAAoAAAAIgAAACIAAAAjAAAAIwAAACwAAAAqAAAALAAAACUAAAAhAAAAKgAAACEAAAAjAAAAJAAAACkAAAAsAAAAJwAAACIAAAArAAAAIQAAACsAAAAnAAAAIwAAACYAAAAqAAAAIQAAACEAAAAnAAAAJwAAACwAAAAkAAAAJwAAACgAAAAjAAAAJAAAACYAAAAqAAAAJAAAACoAAAAiAAAAJwAAACgAAAAjAAAALAAAACwAAAArAAAAJQAAACMAAAAiAAAAJQAAACoAAAAnAAAAJQAAACIAAAAlAAAAIQAAACEAAAArAAAAKwAAACQAAAAoAAAAJgAAACsAAAAiAAAAJAAAACkAAAAoAAAAKwAAACkAAAAhAAAAJwAAACEAAAAhAAAAKgAAACoAAAAsAAAALAAAACIAAAAiAAAAIgAAACMAAAAoAAAALAAAACcAAAAqAAAAIgAAACEAAAAoAAAAKQAAACIAAAAiAAAAKAAAACEAAAAiAAAAKwAAACkAAAArAAAAIQAAACkAAAAsAAAAJQAAACQAAAApAAAAJwAAACEAAAAhAAAAJAAAACYAAAAqAAAAIwAAACsAAAApAAAAIQAAACwAAAAiAAAAIwAAACMAAAAqAAAALAAAACcAAAAnAAAAJQAAACUAAAAhAAAAKgAAACIAAAAhAAAAJwAAACQAAAAjAAAAIgAAACsAAAAjAAAALAAAACgAAAAiAAAAJQAAACwAAAAkAAAAIgAAACIAAAAoAAAAIgAAACkAAAAjAAAAJQAAACcAAAAkAAAAJwAAACIAAAAlAAAAJgAAACwAAAAhAAAAIgAAACIAAAAiAAAAKwAAACMAAAAhAAAALAAAACQAAAAiAAAAJAAAACIAAAAqAAAAIwAAACkAAAAkAAAAIwAAACcAAAAlAAAAJwAAACoAAAAnAAAAJwAAACUAAAAqAAAAJQAAACIAAAApAAAALAAAACkAAAAjAAAAJgAAACoAAAAjAAAALAAAACQAAAAlAAAAJAAAACcAAAAkAAAAJAAAACYAAAAjAAAALAAAACgAAAAnAAAAKAAAACcAAAAnAAAAKgAAACYAAAAkAAAAKgAAACoAAAAiAAAAIgAAACgAAAAnAAAAJgAAACgAAAAnAAAAJQAAACEAAAAkAAAAJQAAACUAAAAhAAAAIQAAACQAAAAsAAAAJgAAACwAAAAhAAAAJwAAACYAAAApAAAAKQAAACsAAAAoAAAAIQAAACMAAAArAAAAKwAAACMAAAArAAAAJAAAACYAAAAjAAAAKAAAACoAAAAqAAAAIwAAACcAAAArAAAAJwAAACkAAAAlAAAAKAAAACgAAAAjAAAALAAAACcAAAAkAAAAJQAAACwAAAAsAAAALAAAACQAAAAiAAAAKgAAACsAAAAsAAAALAAAACMAAAAlAAAAJAAAACwAAAAnAAAAJQAAACQAAAAhAAAAIwAAACoAAAApAAAAKQAAACkAAAAkAAAAJQAAACwAAAAqAAAAIwAAACcAAAAmAAAAIQAAACYAAAAiAAAAKgAAACIAAAAqAAAAKwAAACEAAAAkAAAAKwAAACkAAAAsAAAAKgAAACUAAAAlAAAALAAAACEAAAAsAAAAJQAAACgAAAAqAAAAJAAAACIAAAAoAAAAJAAAACMAAAAmAAAALAAAACwAAAAoAAAAKQAAACMAAAApAAAAJgAAACEAAAArAAAAKgAAACYAAAAlAAAAIQAAACMAAAArAAAAIgAAACQAAAAqAAAAJwAAACEAAAAhAAAAJQAAACEAAAAiAAAAKgAAACUAAAAhAAAAIwAAACkAAAApAAAAJQAAACgAAAAiAAAAKAAAACoAAAApAAAAIQAAACUAAAArAAAAJAAAACEAAAAhAAAAJgAAACkAAAAqAAAAJQAAACIAAAAiAAAAKwAAACIAAAAhAAAAKgAAACMAAAAnAAAAJgAAACoAAAAmAAAAJQAAACMAAAAlAAAAIwAAACQAAAAiAAAAIwAAACEAAAAiAAAAKgAAACwAAAAlAAAAJAAAACcAAAAsAAAAJAAAACMAAAArAAAAIQAAACQAAAAoAAAAJAAAACIAAAAsAAAAKAAAAA==\"},\"shape\":[1879],\"dtype\":\"int32\",\"order\":\"little\"}],[\"limit_bal\",{\"type\":\"ndarray\",\"array\":{\"type\":\"bytes\",\"data\":\"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\"},\"shape\":[1879],\"dtype\":\"float64\",\"order\":\"little\"}],[\"segment\",[1,1,1,1,1,1,1,1,1,1,1,1,1,1,1,1,1,1,1,1,1,1,1,1,1,1,1,1,1,1,1,1,1,1,1,1,1,1,1,1,1,1,1,1,1,1,1,1,1,1,1,1,1,1,1,1,1,1,1,1,1,1,1,1,1,1,1,1,1,1,1,1,1,1,1,1,1,1,1,1,1,1,1,1,1,1,1,1,1,1,1,1,1,1,1,1,1,1,1,1,1,1,1,1,1,1,1,1,1,1,1,1,1,1,1,1,1,1,1,1,1,1,1,1,1,1,1,1,1,1,1,1,1,1,1,1,1,1,1,1,1,1,1,1,1,1,1,1,1,1,1,1,1,1,1,1,1,1,1,1,1,1,1,1,1,1,1,1,1,1,1,1,1,1,1,1,1,1,1,1,1,1,1,1,1,1,1,1,1,1,1,1,1,1,1,1,1,1,1,1,1,1,1,1,1,1,1,1,1,1,1,1,1,1,1,1,1,1,1,1,1,1,1,1,1,1,1,1,1,1,1,1,1,1,1,1,1,1,1,1,1,1,1,1,1,1,1,1,1,1,1,1,1,1,1,1,1,1,1,1,1,1,1,1,1,1,1,1,1,1,1,1,1,1,1,1,1,1,1,1,1,1,1,1,1,1,1,1,1,1,1,1,1,1,1,1,1,1,1,1,1,1,1,1,1,1,1,1,1,1,1,1,1,1,1,1,1,1,1,1,1,1,1,1,1,1,1,1,1,1,1,1,1,1,1,1,1,1,1,1,1,1,1,1,1,1,1,1,1,1,1,1,1,1,1,1,1,1,1,1,1,1,1,1,1,1,1,1,1,1,1,1,1,1,1,1,1,1,1,1,1,1,1,1,1,1,1,1,1,1,1,1,1,1,1,1,1,1,1,1,1,1,1,1,1,1,1,1,1,1,1,1,1,1,1,1,1,1,1,1,1,1,1,1,1,1,1,1,1,1,1,1,1,1,1,1,1,1,1,1,1,1,1,1,1,1,1,1,1,1,1,1,1,1,1,1,1,1,1,1,1,1,1,1,1,1,1,1,1,1,1,1,1,1,1,1,1,1,1,1,1,1,1,1,1,1,1,1,1,1,1,1,1,1,1,1,1,1,1,1,1,1,1,1,1,1,1,1,1,1,1,1,1,1,1,1,1,1,1,1,1,1,1,1,1,1,1,1,1,1,1,1,1,1,1,1,1,1,1,1,1,1,1,1,1,1,1,1,1,1,1,1,1,1,1,1,1,1,1,1,1,1,1,1,1,1,1,1,1,1,1,1,1,1,1,1,1,1,1,1,1,1,1,1,1,1,1,1,1,1,1,1,1,1,1,1,1,1,1,1,1,1,1,1,1,1,1,1,1,1,1,1,1,1,1,1,1,1,1,1,1,1,1,1,1,1,1,1,1,1,1,1,1,1,1,1,1,1,1,1,1,1,1,1,1,1,1,1,1,1,1,1,1,1,1,1,1,1,1,1,1,1,1,1,1,1,1,1,1,1,1,1,1,1,1,1,1,1,1,1,1,1,1,1,1,1,1,1,1,1,1,1,1,1,1,1,1,1,1,1,1,1,1,1,1,1,1,1,1,1,1,1,1,1,1,1,1,1,1,1,1,1,1,1,1,1,1,1,1,1,1,1,1,1,1,1,1,1,1,1,1,1,1,1,1,1,1,1,1,1,1,1,1,1,1,1,1,1,1,1,1,1,1,1,1,1,1,1,1,1,1,1,1,1,1,1,1,1,1,1,1,1,1,1,1,1,1,1,1,1,1,1,1,1,1,1,1,1,1,1,1,1,1,1,1,1,1,1,1,1,1,1,1,1,1,1,1,1,1,1,1,1,1,1,1,1,1,1,1,1,1,1,1,1,1,1,1,1,1,1,1,1,1,1,1,1,1,1,1,1,1,1,1,1,1,1,1,1,1,1,1,1,1,1,1,1,1,1,1,1,1,1,1,1,1,1,1,1,1,1,1,1,1,1,1,1,1,1,1,1,1,1,1,1,1,1,1,1,1,1,1,1,1,1,1,1,1,1,1,1,1,1,1,1,1,1,1,1,1,1,1,1,1,1,1,1,1,1,1,1,1,1,1,1,1,1,1,1,1,1,1,1,1,1,1,1,1,1,1,1,1,1,1,1,1,1,1,1,1,1,1,1,1,1,1,1,1,1,1,1,1,1,1,1,1,1,1,1,1,1,1,1,1,1,1,1,1,1,1,1,1,1,1,1,1,1,1,1,1,1,1,1,1,1,1,1,1,1,1,1,1,1,1,1,1,1,1,1,1,1,1,1,1,1,1,1,1,1,1,1,1,1,1,1,1,1,1,1,1,1,1,1,1,1,1,1,1,1,1,1,1,1,1,1,1,1,1,1,1,1,1,1,1,1,1,1,1,1,1,1,1,1,1,1,1,1,1,1,1,1,1,1,1,1,1,1,1,1,1,1,1,1,1,1,1,1,1,1,1,1,1,1,1,1,1,1,1,1,1,1,1,1,1,1,1,1,1,1,1,1,1,1,1,1,1,1,1,1,1,1,1,1,1,1,1,1,1,1,1,1,1,1,1,1,1,1,1,1,1,1,1,1,1,1,1,1,1,1,1,1,1,1,1,1,1,1,1,1,1,1,1,1,1,1,1,1,1,1,1,1,1,1,1,1,1,1,1,1,1,1,1,1,1,1,1,1,1,1,1,1,1,1,1,1,1,1,1,1,1,1,1,1,1,1,1,1,1,1,1,1,1,1,1,1,1,1,1,1,1,1,1,1,1,1,1,1,1,1,1,1,1,1,1,1,1,1,1,1,1,1,1,1,1,1,1,1,1,1,1,1,1,1,1,1,1,1,1,1,1,1,1,1,1,1,1,1,1,1,1,1,1,1,1,1,1,1,1,1,1,1,1,1,1,1,1,1,1,1,1,1,1,1,1,1,1,1,1,1,1,1,1,1,1,1,1,1,1,1,1,1,1,1,1,1,1,1,1,1,1,1,1,1,1,1,1,1,1,1,1,1,1,1,1,1,1,1,1,1,1,1,1,1,1,1,1,1,1,1,1,1,1,1,1,1,1,1,1,1,1,1,1,1,1,1,1,1,1,1,1,1,1,1,1,1,1,1,1,1,1,1,1,1,1,1,1,1,1,1,1,1,1,1,1,1,1,1,1,1,1,1,1,1,1,1,1,1,1,1,1,1,1,1,1,1,1,1,1,1,1,1,1,1,1,1,1,1,1,1,1,1,1,1,1,1,1,1,1,1,1,1,1,1,1,1,1,1,1,1,1,1,1,1,1,1,1,1,1,1,1,1,1,1,1,1,1,1,1,1,1,1,1,1,1,1,1,1,1,1,1,1,1,1,1,1,1,1,1,1,1,1,1,1,1,1,1,1,1,1,1,1,1,1,1,1,1,1,1,1,1,1,1,1,1,1,1,1,1,1,1,1,1,1,1,1,1,1,1,1,1,1,1,1,1,1,1,1,1,1,1,1,1,1,1,1,1,1,1,1,1,1,1,1,1,1,1,1,1,1,1,1,1,1,1,1,1,1,1,1,1,1,1,1,1,1,1,1,1,1,1,1,1,1,1,1,1,1,1,1,1,1,1,1,1,1,1,1,1,1,1,1,1,1,1,1,1,1,1,1,1,1,1,1,1,1,1,1,1,1,1,1,1,1,1,1,1,1,1,1,1,1,1,1,1,1,1,1,1,1,1,1,1,1,1,1,1,1,1,1,1,1,1,1,1,1,1,1,1,1,1,1,1,1,1,1,1,1,1,1,1,1,1,1,1,1,1,1,1,1,1,1,1,1,1,1,1,1,1,1,1,1,1,1,1,1,1,1,1,1,1,1,1,1,1,1,1,1,1,1,1,1,1,1,1,1,1,1,1,1,1,1,1,1,1,1,1,1,1,1,1,1,1,1,1,1,1,1,1,1,1,1,1,1,1,1,1,1,1,1,1,1,1,1,1,1,1,1,1,1,1,1,1,1,1,1,1,1,1,1,1,1,1,1,1,1,1,1,1,1,1,1,1,1,1,1,1,1,1,1,1,1,1,1,1,1,1,1,1,1,1,1,1,1,1,1,1,1,1,1,1,1,1,1,1,1,1,1,1,1,1,1,1,1,1,1,1,1,1,1,1,1,1,1,1,1,1,1,1,1,1,1,1,1,1,1,1,1,1,1,1,1,1,1,1,1,1,1,1,1,1,1,1,1,1,1,1,1,1,1,1]]]}}},\"view\":{\"type\":\"object\",\"name\":\"CDSView\",\"id\":\"p1767\",\"attributes\":{\"filter\":{\"type\":\"object\",\"name\":\"AllIndices\",\"id\":\"p1768\"}}},\"glyph\":{\"type\":\"object\",\"name\":\"Scatter\",\"id\":\"p1763\",\"attributes\":{\"tags\":[\"apply_ranges\"],\"x\":{\"type\":\"field\",\"field\":\"age\"},\"y\":{\"type\":\"field\",\"field\":\"limit_bal\"},\"size\":{\"type\":\"value\",\"value\":5.477225575051661},\"line_color\":{\"type\":\"value\",\"value\":\"#fc4f30\"},\"fill_color\":{\"type\":\"value\",\"value\":\"#fc4f30\"},\"hatch_color\":{\"type\":\"value\",\"value\":\"#fc4f30\"}}},\"selection_glyph\":{\"type\":\"object\",\"name\":\"Scatter\",\"id\":\"p1770\",\"attributes\":{\"tags\":[\"apply_ranges\"],\"x\":{\"type\":\"field\",\"field\":\"age\"},\"y\":{\"type\":\"field\",\"field\":\"limit_bal\"},\"size\":{\"type\":\"value\",\"value\":5.477225575051661},\"angle\":{\"type\":\"value\",\"value\":0.0},\"line_color\":{\"type\":\"value\",\"value\":\"#fc4f30\"},\"line_alpha\":{\"type\":\"value\",\"value\":1.0},\"line_width\":{\"type\":\"value\",\"value\":1},\"line_join\":{\"type\":\"value\",\"value\":\"bevel\"},\"line_cap\":{\"type\":\"value\",\"value\":\"butt\"},\"line_dash\":{\"type\":\"value\",\"value\":[]},\"line_dash_offset\":{\"type\":\"value\",\"value\":0},\"fill_color\":{\"type\":\"value\",\"value\":\"#fc4f30\"},\"fill_alpha\":{\"type\":\"value\",\"value\":1.0},\"hatch_color\":{\"type\":\"value\",\"value\":\"#fc4f30\"},\"hatch_alpha\":{\"type\":\"value\",\"value\":1.0},\"hatch_scale\":{\"type\":\"value\",\"value\":12.0},\"hatch_pattern\":{\"type\":\"value\",\"value\":null},\"hatch_weight\":{\"type\":\"value\",\"value\":1.0},\"marker\":{\"type\":\"value\",\"value\":\"circle\"}}},\"nonselection_glyph\":{\"type\":\"object\",\"name\":\"Scatter\",\"id\":\"p1764\",\"attributes\":{\"tags\":[\"apply_ranges\"],\"x\":{\"type\":\"field\",\"field\":\"age\"},\"y\":{\"type\":\"field\",\"field\":\"limit_bal\"},\"size\":{\"type\":\"value\",\"value\":5.477225575051661},\"line_color\":{\"type\":\"value\",\"value\":\"#fc4f30\"},\"line_alpha\":{\"type\":\"value\",\"value\":0.1},\"fill_color\":{\"type\":\"value\",\"value\":\"#fc4f30\"},\"fill_alpha\":{\"type\":\"value\",\"value\":0.1},\"hatch_color\":{\"type\":\"value\",\"value\":\"#fc4f30\"},\"hatch_alpha\":{\"type\":\"value\",\"value\":0.1}}},\"muted_glyph\":{\"type\":\"object\",\"name\":\"Scatter\",\"id\":\"p1765\",\"attributes\":{\"tags\":[\"apply_ranges\"],\"x\":{\"type\":\"field\",\"field\":\"age\"},\"y\":{\"type\":\"field\",\"field\":\"limit_bal\"},\"size\":{\"type\":\"value\",\"value\":5.477225575051661},\"line_color\":{\"type\":\"value\",\"value\":\"#fc4f30\"},\"line_alpha\":{\"type\":\"value\",\"value\":0.2},\"fill_color\":{\"type\":\"value\",\"value\":\"#fc4f30\"},\"fill_alpha\":{\"type\":\"value\",\"value\":0.2},\"hatch_color\":{\"type\":\"value\",\"value\":\"#fc4f30\"},\"hatch_alpha\":{\"type\":\"value\",\"value\":0.2}}}}},{\"type\":\"object\",\"name\":\"GlyphRenderer\",\"id\":\"p1781\",\"attributes\":{\"data_source\":{\"type\":\"object\",\"name\":\"ColumnDataSource\",\"id\":\"p1771\",\"attributes\":{\"selected\":{\"type\":\"object\",\"name\":\"Selection\",\"id\":\"p1772\",\"attributes\":{\"indices\":[],\"line_indices\":[]}},\"selection_policy\":{\"type\":\"object\",\"name\":\"UnionRenderers\",\"id\":\"p1773\"},\"data\":{\"type\":\"map\",\"entries\":[[\"age\",{\"type\":\"ndarray\",\"array\":{\"type\":\"bytes\",\"data\":\"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\"},\"shape\":[868],\"dtype\":\"int32\",\"order\":\"little\"}],[\"limit_bal\",{\"type\":\"ndarray\",\"array\":{\"type\":\"bytes\",\"data\":\"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\"},\"shape\":[868],\"dtype\":\"float64\",\"order\":\"little\"}],[\"segment\",[2,2,2,2,2,2,2,2,2,2,2,2,2,2,2,2,2,2,2,2,2,2,2,2,2,2,2,2,2,2,2,2,2,2,2,2,2,2,2,2,2,2,2,2,2,2,2,2,2,2,2,2,2,2,2,2,2,2,2,2,2,2,2,2,2,2,2,2,2,2,2,2,2,2,2,2,2,2,2,2,2,2,2,2,2,2,2,2,2,2,2,2,2,2,2,2,2,2,2,2,2,2,2,2,2,2,2,2,2,2,2,2,2,2,2,2,2,2,2,2,2,2,2,2,2,2,2,2,2,2,2,2,2,2,2,2,2,2,2,2,2,2,2,2,2,2,2,2,2,2,2,2,2,2,2,2,2,2,2,2,2,2,2,2,2,2,2,2,2,2,2,2,2,2,2,2,2,2,2,2,2,2,2,2,2,2,2,2,2,2,2,2,2,2,2,2,2,2,2,2,2,2,2,2,2,2,2,2,2,2,2,2,2,2,2,2,2,2,2,2,2,2,2,2,2,2,2,2,2,2,2,2,2,2,2,2,2,2,2,2,2,2,2,2,2,2,2,2,2,2,2,2,2,2,2,2,2,2,2,2,2,2,2,2,2,2,2,2,2,2,2,2,2,2,2,2,2,2,2,2,2,2,2,2,2,2,2,2,2,2,2,2,2,2,2,2,2,2,2,2,2,2,2,2,2,2,2,2,2,2,2,2,2,2,2,2,2,2,2,2,2,2,2,2,2,2,2,2,2,2,2,2,2,2,2,2,2,2,2,2,2,2,2,2,2,2,2,2,2,2,2,2,2,2,2,2,2,2,2,2,2,2,2,2,2,2,2,2,2,2,2,2,2,2,2,2,2,2,2,2,2,2,2,2,2,2,2,2,2,2,2,2,2,2,2,2,2,2,2,2,2,2,2,2,2,2,2,2,2,2,2,2,2,2,2,2,2,2,2,2,2,2,2,2,2,2,2,2,2,2,2,2,2,2,2,2,2,2,2,2,2,2,2,2,2,2,2,2,2,2,2,2,2,2,2,2,2,2,2,2,2,2,2,2,2,2,2,2,2,2,2,2,2,2,2,2,2,2,2,2,2,2,2,2,2,2,2,2,2,2,2,2,2,2,2,2,2,2,2,2,2,2,2,2,2,2,2,2,2,2,2,2,2,2,2,2,2,2,2,2,2,2,2,2,2,2,2,2,2,2,2,2,2,2,2,2,2,2,2,2,2,2,2,2,2,2,2,2,2,2,2,2,2,2,2,2,2,2,2,2,2,2,2,2,2,2,2,2,2,2,2,2,2,2,2,2,2,2,2,2,2,2,2,2,2,2,2,2,2,2,2,2,2,2,2,2,2,2,2,2,2,2,2,2,2,2,2,2,2,2,2,2,2,2,2,2,2,2,2,2,2,2,2,2,2,2,2,2,2,2,2,2,2,2,2,2,2,2,2,2,2,2,2,2,2,2,2,2,2,2,2,2,2,2,2,2,2,2,2,2,2,2,2,2,2,2,2,2,2,2,2,2,2,2,2,2,2,2,2,2,2,2,2,2,2,2,2,2,2,2,2,2,2,2,2,2,2,2,2,2,2,2,2,2,2,2,2,2,2,2,2,2,2,2,2,2,2,2,2,2,2,2,2,2,2,2,2,2,2,2,2,2,2,2,2,2,2,2,2,2,2,2,2,2,2,2,2,2,2,2,2,2,2,2,2,2,2,2,2,2,2,2,2,2,2,2,2,2,2,2,2,2,2,2,2,2,2,2,2,2,2,2,2,2,2,2,2,2,2,2,2,2,2,2,2,2,2,2,2,2,2,2,2,2,2,2,2,2,2,2,2,2,2,2,2,2,2,2,2,2,2,2,2,2,2,2,2,2,2,2,2,2,2,2,2,2,2,2,2,2,2,2,2,2,2,2,2,2,2,2,2,2,2,2,2,2,2,2,2,2,2,2,2,2,2,2,2,2]]]}}},\"view\":{\"type\":\"object\",\"name\":\"CDSView\",\"id\":\"p1782\",\"attributes\":{\"filter\":{\"type\":\"object\",\"name\":\"AllIndices\",\"id\":\"p1783\"}}},\"glyph\":{\"type\":\"object\",\"name\":\"Scatter\",\"id\":\"p1778\",\"attributes\":{\"tags\":[\"apply_ranges\"],\"x\":{\"type\":\"field\",\"field\":\"age\"},\"y\":{\"type\":\"field\",\"field\":\"limit_bal\"},\"size\":{\"type\":\"value\",\"value\":5.477225575051661},\"line_color\":{\"type\":\"value\",\"value\":\"#e5ae38\"},\"fill_color\":{\"type\":\"value\",\"value\":\"#e5ae38\"},\"hatch_color\":{\"type\":\"value\",\"value\":\"#e5ae38\"}}},\"selection_glyph\":{\"type\":\"object\",\"name\":\"Scatter\",\"id\":\"p1785\",\"attributes\":{\"tags\":[\"apply_ranges\"],\"x\":{\"type\":\"field\",\"field\":\"age\"},\"y\":{\"type\":\"field\",\"field\":\"limit_bal\"},\"size\":{\"type\":\"value\",\"value\":5.477225575051661},\"angle\":{\"type\":\"value\",\"value\":0.0},\"line_color\":{\"type\":\"value\",\"value\":\"#e5ae38\"},\"line_alpha\":{\"type\":\"value\",\"value\":1.0},\"line_width\":{\"type\":\"value\",\"value\":1},\"line_join\":{\"type\":\"value\",\"value\":\"bevel\"},\"line_cap\":{\"type\":\"value\",\"value\":\"butt\"},\"line_dash\":{\"type\":\"value\",\"value\":[]},\"line_dash_offset\":{\"type\":\"value\",\"value\":0},\"fill_color\":{\"type\":\"value\",\"value\":\"#e5ae38\"},\"fill_alpha\":{\"type\":\"value\",\"value\":1.0},\"hatch_color\":{\"type\":\"value\",\"value\":\"#e5ae38\"},\"hatch_alpha\":{\"type\":\"value\",\"value\":1.0},\"hatch_scale\":{\"type\":\"value\",\"value\":12.0},\"hatch_pattern\":{\"type\":\"value\",\"value\":null},\"hatch_weight\":{\"type\":\"value\",\"value\":1.0},\"marker\":{\"type\":\"value\",\"value\":\"circle\"}}},\"nonselection_glyph\":{\"type\":\"object\",\"name\":\"Scatter\",\"id\":\"p1779\",\"attributes\":{\"tags\":[\"apply_ranges\"],\"x\":{\"type\":\"field\",\"field\":\"age\"},\"y\":{\"type\":\"field\",\"field\":\"limit_bal\"},\"size\":{\"type\":\"value\",\"value\":5.477225575051661},\"line_color\":{\"type\":\"value\",\"value\":\"#e5ae38\"},\"line_alpha\":{\"type\":\"value\",\"value\":0.1},\"fill_color\":{\"type\":\"value\",\"value\":\"#e5ae38\"},\"fill_alpha\":{\"type\":\"value\",\"value\":0.1},\"hatch_color\":{\"type\":\"value\",\"value\":\"#e5ae38\"},\"hatch_alpha\":{\"type\":\"value\",\"value\":0.1}}},\"muted_glyph\":{\"type\":\"object\",\"name\":\"Scatter\",\"id\":\"p1780\",\"attributes\":{\"tags\":[\"apply_ranges\"],\"x\":{\"type\":\"field\",\"field\":\"age\"},\"y\":{\"type\":\"field\",\"field\":\"limit_bal\"},\"size\":{\"type\":\"value\",\"value\":5.477225575051661},\"line_color\":{\"type\":\"value\",\"value\":\"#e5ae38\"},\"line_alpha\":{\"type\":\"value\",\"value\":0.2},\"fill_color\":{\"type\":\"value\",\"value\":\"#e5ae38\"},\"fill_alpha\":{\"type\":\"value\",\"value\":0.2},\"hatch_color\":{\"type\":\"value\",\"value\":\"#e5ae38\"},\"hatch_alpha\":{\"type\":\"value\",\"value\":0.2}}}}}],\"toolbar\":{\"type\":\"object\",\"name\":\"Toolbar\",\"id\":\"p1699\",\"attributes\":{\"tools\":[{\"type\":\"object\",\"name\":\"HoverTool\",\"id\":\"p1687\",\"attributes\":{\"tags\":[\"hv_created\"],\"renderers\":[{\"id\":\"p1750\"},{\"id\":\"p1766\"},{\"id\":\"p1781\"}],\"tooltips\":[[\"segment\",\"@{segment}\"],[\"age\",\"@{age}\"],[\"limit_bal\",\"@{limit_bal}\"]]}},{\"type\":\"object\",\"name\":\"SaveTool\",\"id\":\"p1720\"},{\"type\":\"object\",\"name\":\"PanTool\",\"id\":\"p1721\"},{\"type\":\"object\",\"name\":\"WheelZoomTool\",\"id\":\"p1722\"},{\"type\":\"object\",\"name\":\"BoxZoomTool\",\"id\":\"p1723\",\"attributes\":{\"overlay\":{\"type\":\"object\",\"name\":\"BoxAnnotation\",\"id\":\"p1724\",\"attributes\":{\"syncable\":false,\"level\":\"overlay\",\"visible\":false,\"left_units\":\"canvas\",\"right_units\":\"canvas\",\"bottom_units\":\"canvas\",\"top_units\":\"canvas\",\"line_color\":\"black\",\"line_alpha\":1.0,\"line_width\":2,\"line_dash\":[4,4],\"fill_color\":\"lightgrey\",\"fill_alpha\":0.5}}}},{\"type\":\"object\",\"name\":\"ResetTool\",\"id\":\"p1725\"}],\"active_drag\":{\"id\":\"p1721\"},\"active_scroll\":{\"id\":\"p1722\"}}},\"left\":[{\"type\":\"object\",\"name\":\"LinearAxis\",\"id\":\"p1713\",\"attributes\":{\"ticker\":{\"type\":\"object\",\"name\":\"BasicTicker\",\"id\":\"p1714\",\"attributes\":{\"mantissas\":[1,2,5]}},\"formatter\":{\"type\":\"object\",\"name\":\"BasicTickFormatter\",\"id\":\"p1715\"},\"axis_label\":\"limit_bal\",\"major_label_policy\":{\"type\":\"object\",\"name\":\"AllLabels\",\"id\":\"p1716\"}}}],\"right\":[{\"type\":\"object\",\"name\":\"Legend\",\"id\":\"p1753\",\"attributes\":{\"location\":[0,0],\"title\":\"segment\",\"click_policy\":\"mute\",\"items\":[{\"type\":\"object\",\"name\":\"LegendItem\",\"id\":\"p1754\",\"attributes\":{\"label\":{\"type\":\"value\",\"value\":\"0\"},\"renderers\":[{\"id\":\"p1750\"}]}},{\"type\":\"object\",\"name\":\"LegendItem\",\"id\":\"p1769\",\"attributes\":{\"label\":{\"type\":\"value\",\"value\":\"1\"},\"renderers\":[{\"id\":\"p1766\"}]}},{\"type\":\"object\",\"name\":\"LegendItem\",\"id\":\"p1784\",\"attributes\":{\"label\":{\"type\":\"value\",\"value\":\"2\"},\"renderers\":[{\"id\":\"p1781\"}]}}]}}],\"below\":[{\"type\":\"object\",\"name\":\"LinearAxis\",\"id\":\"p1706\",\"attributes\":{\"ticker\":{\"type\":\"object\",\"name\":\"BasicTicker\",\"id\":\"p1707\",\"attributes\":{\"mantissas\":[1,2,5]}},\"formatter\":{\"type\":\"object\",\"name\":\"BasicTickFormatter\",\"id\":\"p1708\"},\"axis_label\":\"age\",\"major_label_policy\":{\"type\":\"object\",\"name\":\"AllLabels\",\"id\":\"p1709\"}}}],\"center\":[{\"type\":\"object\",\"name\":\"Grid\",\"id\":\"p1712\",\"attributes\":{\"axis\":{\"id\":\"p1706\"},\"grid_line_color\":null}},{\"type\":\"object\",\"name\":\"Grid\",\"id\":\"p1719\",\"attributes\":{\"dimension\":1,\"axis\":{\"id\":\"p1713\"},\"grid_line_color\":null}}],\"min_border_top\":10,\"min_border_bottom\":10,\"min_border_left\":10,\"min_border_right\":10,\"output_backend\":\"webgl\"}},{\"type\":\"object\",\"name\":\"Spacer\",\"id\":\"p1814\",\"attributes\":{\"name\":\"HSpacer01549\",\"stylesheets\":[\"\\n:host(.pn-loading.pn-arc):before, .pn-loading.pn-arc:before {\\n  background-image: url(\\\"data:image/svg+xml;base64,PHN2ZyB4bWxucz0iaHR0cDovL3d3dy53My5vcmcvMjAwMC9zdmciIHN0eWxlPSJtYXJnaW46IGF1dG87IGJhY2tncm91bmQ6IG5vbmU7IGRpc3BsYXk6IGJsb2NrOyBzaGFwZS1yZW5kZXJpbmc6IGF1dG87IiB2aWV3Qm94PSIwIDAgMTAwIDEwMCIgcHJlc2VydmVBc3BlY3RSYXRpbz0ieE1pZFlNaWQiPiAgPGNpcmNsZSBjeD0iNTAiIGN5PSI1MCIgZmlsbD0ibm9uZSIgc3Ryb2tlPSIjYzNjM2MzIiBzdHJva2Utd2lkdGg9IjEwIiByPSIzNSIgc3Ryb2tlLWRhc2hhcnJheT0iMTY0LjkzMzYxNDMxMzQ2NDE1IDU2Ljk3Nzg3MTQzNzgyMTM4Ij4gICAgPGFuaW1hdGVUcmFuc2Zvcm0gYXR0cmlidXRlTmFtZT0idHJhbnNmb3JtIiB0eXBlPSJyb3RhdGUiIHJlcGVhdENvdW50PSJpbmRlZmluaXRlIiBkdXI9IjFzIiB2YWx1ZXM9IjAgNTAgNTA7MzYwIDUwIDUwIiBrZXlUaW1lcz0iMDsxIj48L2FuaW1hdGVUcmFuc2Zvcm0+ICA8L2NpcmNsZT48L3N2Zz4=\\\");\\n  background-size: auto calc(min(50%, 400px));\\n}\",{\"id\":\"p1683\"},{\"id\":\"p1681\"},{\"id\":\"p1682\"}],\"margin\":0,\"sizing_mode\":\"stretch_width\",\"align\":\"start\"}}]}}],\"callbacks\":{\"type\":\"map\"}}};\n",
       "  var render_items = [{\"docid\":\"132795d5-c4db-4afc-913c-cc792b63970d\",\"roots\":{\"p1680\":\"b3eb5cd8-a421-484e-baba-66f1f3c112aa\"},\"root_ids\":[\"p1680\"]}];\n",
       "  var docs = Object.values(docs_json)\n",
       "  if (!docs) {\n",
       "    return\n",
       "  }\n",
       "  const py_version = docs[0].version.replace('rc', '-rc.').replace('.dev', '-dev.')\n",
       "  const is_dev = py_version.indexOf(\"+\") !== -1 || py_version.indexOf(\"-\") !== -1\n",
       "  function embed_document(root) {\n",
       "    var Bokeh = get_bokeh(root)\n",
       "    Bokeh.embed.embed_items_notebook(docs_json, render_items);\n",
       "    for (const render_item of render_items) {\n",
       "      for (const root_id of render_item.root_ids) {\n",
       "\tconst id_el = document.getElementById(root_id)\n",
       "\tif (id_el.children.length && (id_el.children[0].className === 'bk-root')) {\n",
       "\t  const root_el = id_el.children[0]\n",
       "\t  root_el.id = root_el.id + '-rendered'\n",
       "\t}\n",
       "      }\n",
       "    }\n",
       "  }\n",
       "  function get_bokeh(root) {\n",
       "    if (root.Bokeh === undefined) {\n",
       "      return null\n",
       "    } else if (root.Bokeh.version !== py_version && !is_dev) {\n",
       "      if (root.Bokeh.versions === undefined || !root.Bokeh.versions.has(py_version)) {\n",
       "\treturn null\n",
       "      }\n",
       "      return root.Bokeh.versions.get(py_version);\n",
       "    } else if (root.Bokeh.version === py_version) {\n",
       "      return root.Bokeh\n",
       "    }\n",
       "    return null\n",
       "  }\n",
       "  function is_loaded(root) {\n",
       "    var Bokeh = get_bokeh(root)\n",
       "    return (Bokeh != null && Bokeh.Panel !== undefined)\n",
       "  }\n",
       "  if (is_loaded(root)) {\n",
       "    embed_document(root);\n",
       "  } else {\n",
       "    var attempts = 0;\n",
       "    var timer = setInterval(function(root) {\n",
       "      if (is_loaded(root)) {\n",
       "        clearInterval(timer);\n",
       "        embed_document(root);\n",
       "      } else if (document.readyState == \"complete\") {\n",
       "        attempts++;\n",
       "        if (attempts > 200) {\n",
       "          clearInterval(timer);\n",
       "\t  var Bokeh = get_bokeh(root)\n",
       "\t  if (Bokeh == null || Bokeh.Panel == null) {\n",
       "            console.warn(\"Panel: ERROR: Unable to run Panel code because Bokeh or Panel library is missing\");\n",
       "\t  } else {\n",
       "\t    console.warn(\"Panel: WARNING: Attempting to render but not all required libraries could be resolved.\")\n",
       "\t    embed_document(root)\n",
       "\t  }\n",
       "        }\n",
       "      }\n",
       "    }, 25, root)\n",
       "  }\n",
       "})(window);</script>"
      ],
      "text/plain": [
       ":NdOverlay   [segment]\n",
       "   :Scatter   [age]   (limit_bal)"
      ]
     },
     "execution_count": 86,
     "metadata": {
      "application/vnd.holoviews_exec.v0+json": {
       "id": "p1680"
      }
     },
     "output_type": "execute_result"
    }
   ],
   "source": [
    "# Plot the clusters\n",
    "ccinfo_predictions_df.hvplot.scatter(\n",
    "    y='limit_bal',\n",
    "    x='age',\n",
    "    by='segment',\n",
    "    title='Credit profile clusters'\n",
    ")"
   ]
  },
  {
   "cell_type": "code",
   "execution_count": null,
   "metadata": {},
   "outputs": [],
   "source": []
  }
 ],
 "metadata": {
  "kernelspec": {
   "display_name": "Python 3 (ipykernel)",
   "language": "python",
   "name": "python3"
  },
  "language_info": {
   "codemirror_mode": {
    "name": "ipython",
    "version": 3
   },
   "file_extension": ".py",
   "mimetype": "text/x-python",
   "name": "python",
   "nbconvert_exporter": "python",
   "pygments_lexer": "ipython3",
   "version": "3.11.3"
  }
 },
 "nbformat": 4,
 "nbformat_minor": 4
}
