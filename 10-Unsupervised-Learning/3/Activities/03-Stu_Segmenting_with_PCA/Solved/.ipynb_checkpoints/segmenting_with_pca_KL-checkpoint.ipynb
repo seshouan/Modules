{
 "cells": [
  {
   "cell_type": "markdown",
   "metadata": {},
   "source": [
    "# Segmenting with PCA\n",
    "\n",
    "In this activity, you will use your knowledge of PCA to reduce the dimensionality of the the customers DataFrame you used before, and then compare that result to the segmentation of the data using all of the factors."
   ]
  },
  {
   "cell_type": "code",
   "execution_count": null,
   "metadata": {},
   "outputs": [],
   "source": [
    "# Import the modules\n",
    "import pandas as pd\n",
    "import hvplot.pandas\n",
    "from pathlib import Path\n",
    "from sklearn.cluster import KMeans"
   ]
  },
  {
   "cell_type": "markdown",
   "metadata": {},
   "source": [
    "## Read in the CSV file and prepare the Pandas DataFrame"
   ]
  },
  {
   "cell_type": "code",
   "execution_count": null,
   "metadata": {},
   "outputs": [],
   "source": [
    "# Read the csv file into a pandas DataFrame\n",
    "customers_transformed_df = pd.read_csv(\n",
    "    Path(\"../Resources/customers.csv\")\n",
    ")\n",
    "\n",
    "# Review the DataFrame\n",
    "customers_transformed_df.head()"
   ]
  },
  {
   "cell_type": "code",
   "execution_count": null,
   "metadata": {},
   "outputs": [],
   "source": [
    "import matplotlib.pyplot as plt\n",
    "customers_transformed_df.hist()\n",
    "plt.tight_layout()"
   ]
  },
  {
   "cell_type": "code",
   "execution_count": null,
   "metadata": {},
   "outputs": [],
   "source": [
    "import seaborn as sns\n",
    "customers_transformed_df.corr()"
   ]
  },
  {
   "cell_type": "code",
   "execution_count": null,
   "metadata": {},
   "outputs": [],
   "source": []
  },
  {
   "cell_type": "markdown",
   "metadata": {},
   "source": [
    "## Part 1: Use PCA to reduce the dimensionality of the transformed customers DataFrame to 2 principal components"
   ]
  },
  {
   "cell_type": "markdown",
   "metadata": {},
   "source": [
    "### Step 1: Import the PCA module from SKLearn"
   ]
  },
  {
   "cell_type": "code",
   "execution_count": null,
   "metadata": {},
   "outputs": [],
   "source": [
    "# Import the PCA module\n",
    "# YOUR CODE HERE\n",
    "from sklearn.decomposition import PCA"
   ]
  },
  {
   "cell_type": "markdown",
   "metadata": {},
   "source": [
    "### Step 2: Instantiate the instace of the PCA model declaring the number of principal components as 2"
   ]
  },
  {
   "cell_type": "code",
   "execution_count": null,
   "metadata": {},
   "outputs": [],
   "source": [
    "# Instantiate the PCA instance and declare the number of PCA variables\n",
    "# YOUR CODE HERE\n",
    "pca=PCA(n_components=2)"
   ]
  },
  {
   "cell_type": "markdown",
   "metadata": {},
   "source": [
    "### Step 3: Using the `fit_transform` function from PCA, fit the PCA model to the `customers_transformed_df` DataFrame. Review the first 5 rows of list data."
   ]
  },
  {
   "cell_type": "code",
   "execution_count": null,
   "metadata": {},
   "outputs": [],
   "source": [
    "# Fit the PCA model on the transformed credit card DataFrame\n",
    "# YOUR CODE HERE\n",
    "pca.fit(customers_transformed_df)\n",
    "pca_data=pca.transform(customers_transformed_df)\n",
    "\n",
    "# Review the first 5 rows of the array of list data\n",
    "# YOUR CODE HERE\n",
    "pca_data[:5]"
   ]
  },
  {
   "cell_type": "markdown",
   "metadata": {},
   "source": [
    "### Step 4: Using the `explained_variance_ratio_` function from PCA, calculate the percentage of the total variance that is captured by the two PCA variables.  "
   ]
  },
  {
   "cell_type": "code",
   "execution_count": null,
   "metadata": {},
   "outputs": [],
   "source": [
    "# Calculate the PCA explained variance ratio\n",
    "# YOUR CODE HERE\n",
    "pca.explained_variance_ratio_"
   ]
  },
  {
   "cell_type": "markdown",
   "metadata": {},
   "source": [
    "**Question:** What is the explained variance ratio captured by the two PCA variables?\n",
    "    \n",
    "**Answer:** YOUR ANSWER HERE"
   ]
  },
  {
   "cell_type": "markdown",
   "metadata": {},
   "source": [
    "### Step 5: Using the `customer_pca` data, create a Pandas DataFrame called `customers_pca_df`. The columns of the DataFrame should be called \"PCA1\" and \"PCA2\"."
   ]
  },
  {
   "cell_type": "code",
   "execution_count": null,
   "metadata": {},
   "outputs": [],
   "source": [
    "# Create the PCA DataFrame\n",
    "# YOUR CODE HERE\n",
    "customers_pca_df=pd.DataFrame(pca_data, columns=['PCA1', 'PCA2'])\n",
    "\n",
    "# Review the PCA DataFrame\n",
    "# YOUR CODE HERE)\n",
    "customers_pca_df"
   ]
  },
  {
   "cell_type": "markdown",
   "metadata": {},
   "source": [
    "## Part 2: Using the `customers_pca_df` Dataframe, utilize the elbow method to determine the optimal value of k."
   ]
  },
  {
   "cell_type": "code",
   "execution_count": null,
   "metadata": {},
   "outputs": [],
   "source": [
    "# Create a a list to store inertia values and the values of k\n",
    "inertia = []\n",
    "k = list(range(1, 11))"
   ]
  },
  {
   "cell_type": "code",
   "execution_count": null,
   "metadata": {},
   "outputs": [],
   "source": [
    "# Create a for-loop where each value of k is evaluated using the K-means algorithm\n",
    "# Fit the model using the service_ratings DataFrame\n",
    "# Append the value of the computed inertia from the `inertia_` attribute of the KMeans model instance\n",
    "for i in k:\n",
    "    # YOUR CODE HERE\n",
    "    km=KMeans(n_clusters=i)\n",
    "    km.fit(customers_pca_df)\n",
    "    inertia.append(km.inertia_)"
   ]
  },
  {
   "cell_type": "code",
   "execution_count": null,
   "metadata": {},
   "outputs": [],
   "source": [
    "# Define a DataFrame to hold the values for k and the corresponding inertia\n",
    "# YOUR CODE HERE\n",
    "\n",
    "# Create the DataFrame from the elbow data\n",
    "# YOUR CODE HERE\n",
    "\n",
    "# Review the DataFrame\n",
    "# YOUR CODE HERE"
   ]
  },
  {
   "cell_type": "code",
   "execution_count": null,
   "metadata": {},
   "outputs": [],
   "source": [
    "# Plot the DataFrame\n",
    "# YOUR CODE HERE\n",
    "plt.plot(k, inertia)"
   ]
  },
  {
   "cell_type": "markdown",
   "metadata": {},
   "source": [
    "## Part 3: Segment the `customers_pca_df` DataFrame using the K-means algorithm."
   ]
  },
  {
   "cell_type": "code",
   "execution_count": null,
   "metadata": {},
   "outputs": [],
   "source": [
    "import time"
   ]
  },
  {
   "cell_type": "code",
   "execution_count": 50,
   "metadata": {},
   "outputs": [
    {
     "data": {
      "text/plain": [
       "KMeans(n_clusters=3)"
      ]
     },
     "execution_count": 50,
     "metadata": {},
     "output_type": "execute_result"
    }
   ],
   "source": [
    "# %%timeit\n",
    "\n",
    "# start=time.time()\n",
    "# Define the model Kmeans model using the optimal value of k for the number of clusters.\n",
    "# YOUR CODE HERE\n",
    "km_pca=KMeans(n_clusters=3)\n",
    "\n",
    "# Fit the model\n",
    "# YOUR CODE HERE\n",
    "km_pca.fit(customers_pca_df[['PCA1', 'PCA2']])\n",
    "\n",
    "# print(f'Calculations took {time.time()-start} seconds')\n",
    "\n",
    "# Make predictions\n",
    "# YOUR CODE HERE\n",
    "\n",
    "# Create a copy of the customers_pca_df DataFrame\n",
    "# YOUR CODE HERE\n",
    "\n",
    "# Add a class column with the labels\n",
    "# YOUR CODE HERE"
   ]
  },
  {
   "cell_type": "code",
   "execution_count": 51,
   "metadata": {},
   "outputs": [
    {
     "data": {},
     "metadata": {},
     "output_type": "display_data"
    },
    {
     "data": {
      "application/vnd.holoviews_exec.v0+json": "",
      "text/html": [
       "<div id='1310'>\n",
       "\n",
       "\n",
       "\n",
       "\n",
       "\n",
       "  <div class=\"bk-root\" id=\"52f461a2-9dc6-40be-9256-68f4c10760d7\" data-root-id=\"1310\"></div>\n",
       "</div>\n",
       "<script type=\"application/javascript\">(function(root) {\n",
       "  function embed_document(root) {\n",
       "    var docs_json = {\"267f0ffc-d48e-460e-84de-a86dfc066b2e\":{\"defs\":[{\"extends\":null,\"module\":null,\"name\":\"ReactiveHTML1\",\"overrides\":[],\"properties\":[]},{\"extends\":null,\"module\":null,\"name\":\"FlexBox1\",\"overrides\":[],\"properties\":[{\"default\":\"flex-start\",\"kind\":null,\"name\":\"align_content\"},{\"default\":\"flex-start\",\"kind\":null,\"name\":\"align_items\"},{\"default\":\"row\",\"kind\":null,\"name\":\"flex_direction\"},{\"default\":\"wrap\",\"kind\":null,\"name\":\"flex_wrap\"},{\"default\":\"flex-start\",\"kind\":null,\"name\":\"justify_content\"}]},{\"extends\":null,\"module\":null,\"name\":\"TemplateActions1\",\"overrides\":[],\"properties\":[{\"default\":0,\"kind\":null,\"name\":\"open_modal\"},{\"default\":0,\"kind\":null,\"name\":\"close_modal\"}]},{\"extends\":null,\"module\":null,\"name\":\"MaterialTemplateActions1\",\"overrides\":[],\"properties\":[{\"default\":0,\"kind\":null,\"name\":\"open_modal\"},{\"default\":0,\"kind\":null,\"name\":\"close_modal\"}]}],\"roots\":{\"references\":[{\"attributes\":{},\"id\":\"1322\",\"type\":\"LinearScale\"},{\"attributes\":{\"coordinates\":null,\"group\":null,\"text_color\":\"black\",\"text_font_size\":\"12pt\"},\"id\":\"1318\",\"type\":\"Title\"},{\"attributes\":{\"fill_alpha\":{\"value\":0.2},\"fill_color\":{\"value\":\"#e5ae38\"},\"hatch_alpha\":{\"value\":0.2},\"hatch_color\":{\"value\":\"#e5ae38\"},\"line_alpha\":{\"value\":0.2},\"line_color\":{\"value\":\"#e5ae38\"},\"size\":{\"value\":5.477225575051661},\"x\":{\"field\":\"PCA1\"},\"y\":{\"field\":\"PCA2\"}},\"id\":\"1401\",\"type\":\"Scatter\"},{\"attributes\":{\"fill_color\":{\"value\":\"#fc4f30\"},\"hatch_color\":{\"value\":\"#fc4f30\"},\"line_color\":{\"value\":\"#fc4f30\"},\"size\":{\"value\":5.477225575051661},\"x\":{\"field\":\"PCA1\"},\"y\":{\"field\":\"PCA2\"}},\"id\":\"1377\",\"type\":\"Scatter\"},{\"attributes\":{\"coordinates\":null,\"data_source\":{\"id\":\"1353\"},\"glyph\":{\"id\":\"1356\"},\"group\":null,\"hover_glyph\":null,\"muted_glyph\":{\"id\":\"1358\"},\"nonselection_glyph\":{\"id\":\"1357\"},\"selection_glyph\":{\"id\":\"1373\"},\"view\":{\"id\":\"1360\"}},\"id\":\"1359\",\"type\":\"GlyphRenderer\"},{\"attributes\":{},\"id\":\"1327\",\"type\":\"BasicTicker\"},{\"attributes\":{},\"id\":\"1324\",\"type\":\"LinearScale\"},{\"attributes\":{\"callback\":null,\"renderers\":[{\"id\":\"1359\"},{\"id\":\"1380\"},{\"id\":\"1402\"}],\"tags\":[\"hv_created\"],\"tooltips\":[[\"cluster_id\",\"@{cluster_id}\"],[\"PCA1\",\"@{PCA1}\"],[\"PCA2\",\"@{PCA2}\"]]},\"id\":\"1314\",\"type\":\"HoverTool\"},{\"attributes\":{},\"id\":\"1352\",\"type\":\"AllLabels\"},{\"attributes\":{\"axis\":{\"id\":\"1326\"},\"coordinates\":null,\"grid_line_color\":null,\"group\":null,\"ticker\":null},\"id\":\"1329\",\"type\":\"Grid\"},{\"attributes\":{\"angle\":{\"value\":0.0},\"fill_alpha\":{\"value\":1.0},\"fill_color\":{\"value\":\"#30a2da\"},\"hatch_alpha\":{\"value\":1.0},\"hatch_color\":{\"value\":\"#30a2da\"},\"hatch_scale\":{\"value\":12.0},\"hatch_weight\":{\"value\":1.0},\"line_alpha\":{\"value\":1.0},\"line_cap\":{\"value\":\"butt\"},\"line_color\":{\"value\":\"#30a2da\"},\"line_dash\":{\"value\":[]},\"line_dash_offset\":{\"value\":0},\"line_join\":{\"value\":\"bevel\"},\"line_width\":{\"value\":1},\"marker\":{\"value\":\"circle\"},\"size\":{\"value\":5.477225575051661},\"x\":{\"field\":\"PCA1\"},\"y\":{\"field\":\"PCA2\"}},\"id\":\"1373\",\"type\":\"Scatter\"},{\"attributes\":{\"coordinates\":null,\"data_source\":{\"id\":\"1374\"},\"glyph\":{\"id\":\"1377\"},\"group\":null,\"hover_glyph\":null,\"muted_glyph\":{\"id\":\"1379\"},\"nonselection_glyph\":{\"id\":\"1378\"},\"selection_glyph\":{\"id\":\"1395\"},\"view\":{\"id\":\"1381\"}},\"id\":\"1380\",\"type\":\"GlyphRenderer\"},{\"attributes\":{\"end\":16.08660555235295,\"reset_end\":16.08660555235295,\"reset_start\":-13.081378392319543,\"start\":-13.081378392319543,\"tags\":[[[\"PCA1\",\"PCA1\",null]]]},\"id\":\"1312\",\"type\":\"Range1d\"},{\"attributes\":{},\"id\":\"1331\",\"type\":\"BasicTicker\"},{\"attributes\":{},\"id\":\"1375\",\"type\":\"Selection\"},{\"attributes\":{\"below\":[{\"id\":\"1326\"}],\"center\":[{\"id\":\"1329\"},{\"id\":\"1333\"}],\"height\":300,\"left\":[{\"id\":\"1330\"}],\"margin\":[5,5,5,5],\"min_border_bottom\":10,\"min_border_left\":10,\"min_border_right\":10,\"min_border_top\":10,\"renderers\":[{\"id\":\"1359\"},{\"id\":\"1380\"},{\"id\":\"1402\"}],\"right\":[{\"id\":\"1371\"}],\"sizing_mode\":\"fixed\",\"title\":{\"id\":\"1318\"},\"toolbar\":{\"id\":\"1340\"},\"width\":700,\"x_range\":{\"id\":\"1312\"},\"x_scale\":{\"id\":\"1322\"},\"y_range\":{\"id\":\"1313\"},\"y_scale\":{\"id\":\"1324\"}},\"id\":\"1317\",\"subtype\":\"Figure\",\"type\":\"Plot\"},{\"attributes\":{\"axis_label\":\"PCA2\",\"coordinates\":null,\"formatter\":{\"id\":\"1351\"},\"group\":null,\"major_label_policy\":{\"id\":\"1352\"},\"ticker\":{\"id\":\"1331\"}},\"id\":\"1330\",\"type\":\"LinearAxis\"},{\"attributes\":{\"source\":{\"id\":\"1396\"}},\"id\":\"1403\",\"type\":\"CDSView\"},{\"attributes\":{\"end\":17.874428376631457,\"reset_end\":17.874428376631457,\"reset_start\":-9.73991441897509,\"start\":-9.73991441897509,\"tags\":[[[\"PCA2\",\"PCA2\",null]]]},\"id\":\"1313\",\"type\":\"Range1d\"},{\"attributes\":{\"fill_alpha\":{\"value\":0.2},\"fill_color\":{\"value\":\"#fc4f30\"},\"hatch_alpha\":{\"value\":0.2},\"hatch_color\":{\"value\":\"#fc4f30\"},\"line_alpha\":{\"value\":0.2},\"line_color\":{\"value\":\"#fc4f30\"},\"size\":{\"value\":5.477225575051661},\"x\":{\"field\":\"PCA1\"},\"y\":{\"field\":\"PCA2\"}},\"id\":\"1379\",\"type\":\"Scatter\"},{\"attributes\":{},\"id\":\"1351\",\"type\":\"BasicTickFormatter\"},{\"attributes\":{\"click_policy\":\"mute\",\"coordinates\":null,\"group\":null,\"items\":[{\"id\":\"1372\"},{\"id\":\"1394\"},{\"id\":\"1418\"}],\"location\":[0,0],\"title\":\"cluster_id\"},\"id\":\"1371\",\"type\":\"Legend\"},{\"attributes\":{\"angle\":{\"value\":0.0},\"fill_alpha\":{\"value\":1.0},\"fill_color\":{\"value\":\"#e5ae38\"},\"hatch_alpha\":{\"value\":1.0},\"hatch_color\":{\"value\":\"#e5ae38\"},\"hatch_scale\":{\"value\":12.0},\"hatch_weight\":{\"value\":1.0},\"line_alpha\":{\"value\":1.0},\"line_cap\":{\"value\":\"butt\"},\"line_color\":{\"value\":\"#e5ae38\"},\"line_dash\":{\"value\":[]},\"line_dash_offset\":{\"value\":0},\"line_join\":{\"value\":\"bevel\"},\"line_width\":{\"value\":1},\"marker\":{\"value\":\"circle\"},\"size\":{\"value\":5.477225575051661},\"x\":{\"field\":\"PCA1\"},\"y\":{\"field\":\"PCA2\"}},\"id\":\"1419\",\"type\":\"Scatter\"},{\"attributes\":{},\"id\":\"1391\",\"type\":\"UnionRenderers\"},{\"attributes\":{\"angle\":{\"value\":0.0},\"fill_alpha\":{\"value\":1.0},\"fill_color\":{\"value\":\"#fc4f30\"},\"hatch_alpha\":{\"value\":1.0},\"hatch_color\":{\"value\":\"#fc4f30\"},\"hatch_scale\":{\"value\":12.0},\"hatch_weight\":{\"value\":1.0},\"line_alpha\":{\"value\":1.0},\"line_cap\":{\"value\":\"butt\"},\"line_color\":{\"value\":\"#fc4f30\"},\"line_dash\":{\"value\":[]},\"line_dash_offset\":{\"value\":0},\"line_join\":{\"value\":\"bevel\"},\"line_width\":{\"value\":1},\"marker\":{\"value\":\"circle\"},\"size\":{\"value\":5.477225575051661},\"x\":{\"field\":\"PCA1\"},\"y\":{\"field\":\"PCA2\"}},\"id\":\"1395\",\"type\":\"Scatter\"},{\"attributes\":{\"label\":{\"value\":\"1\"},\"renderers\":[{\"id\":\"1380\"}]},\"id\":\"1394\",\"type\":\"LegendItem\"},{\"attributes\":{},\"id\":\"1415\",\"type\":\"UnionRenderers\"},{\"attributes\":{},\"id\":\"1354\",\"type\":\"Selection\"},{\"attributes\":{},\"id\":\"1397\",\"type\":\"Selection\"},{\"attributes\":{\"data\":{\"PCA1\":{\"__ndarray__\":\"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\",\"dtype\":\"float64\",\"order\":\"little\",\"shape\":[509]},\"PCA2\":{\"__ndarray__\":\"6aWae1Zb47/yrOESP7n1v/Nik8/j5gHADrVllVTD5b8+hHLrLpj0Pz6YJaOAlhDAf36ADccy5r8V0DzuLo0BQFU2FNqd1ATApL0YnA3d8r9+RD8nCkAFwL8ZJsg4Fsu/U7Ea7BUnEsBNoLxKlHj/v2zz8XgiRhHADJyTkS/FA8AhGolnQxgEwHKOJOHAiwbAAPxXH7cK0L/7UZ2tqMAMwHxx2R/UP+s/jy0KeNBK/j+nHri9K6njP+pkbztdIRDAHr4c2EBQ+j8QwBsuu2jwvzudFpWX5AHAqCexCTW+GsC9bdCdBmwGwGSAXkHcy/q/+R6ubjEtAsBss61wSJwFwBb7ImH5FgzAnIbVzoKf37+POcTzHVcLwBrZ3iFJJhbAoAqjOJ5HDcDq+Djft0fkv1pcIZ4uId0/SOexeFwwFMAjp0Hy0BblP5F8j/qA6QzAvE5Myf8BEMAQv4M5EMauP1g3vjDkeQHACJNd5Q5RB8A9nFt2bLjQv6L0vWLlYwrA/XPLjhPC8L8cspo89D8GwD6v0XJQevC/kF/ZyWovxb9/u0dijl4HwKTYW8EXEPe/jO1VrdkxEsCWVMw+wEDqvyYFaWovdfC/hWaM7HWU4r+MzFfhh9IAwFKGuJIwmRnAFrdyTasZ47/rChwpe5b8v/1OpEw74QDATpwndtxDAMAq1mLrxEkTwGHiJWXf5QjADdMBn+Ec+L9enlbk61vxv3+t0a7DERPAahNHVmjy8L/JCxGa9jHTP6CYo3vBehPA9qZ+4CcnDcAV8RDrxcn6vyblUHPgnRDA9Y9Ac050EMDol0utkBvzP0YOsLx+Ieg/oNaY7HmGo7/mZTudLp8GwABap1JvggrATfZkUJ8BAMBR6UgYTZDpv0gyqbkoP/U/uHiCi5a+C8CslFIP/VcGwOme4T6qkxTAkVns55zcEcDdu0+0mi74v7AnmnJA2Ou/ACdW8Sfmqj+AKmCXRrX7vxMdBposlg7A3tRW35R1AcCGgY4rDcEBwNZoILG/ew/AWhGoViucB8DE8vJpiZXev5gwywNve5A/rIYoxAk6+b8GnbQMrGPyvyx4vSiW4PW/P7W+Rgs68b9p5MwCA10IwMq4ln5emfi/xlf2Dw/lBMCs0jjysz4TwFYHbPKUNRfANyTEVf1A3r+C21LliKLzvxjQLCbOtdm/vPHOZSnx0D8K9a6f8HT2vwR1n4hWtBTA0pwbtUVbCcBsbs8q/Ibhv2ASjvhDEgLAN03HzVrsDMDxpU9e0fDwv2FKyKV2egTAOnaGx7BH/b9oO/DI1+7lP4yfLrpYxtu/pN0vt/fM/7/wna0IW+XXv/w79Wlcsg/AmQ2CAvsJBMBDJ1NbNq0IwC7+CpT8bfq/KlswIfXX9b+IYZfv2j79v4zvVyzlPf2/AFtSj8vH8L/GgycYf4rnP+CVEXFLIr0/tugFY7hGDsDA4udVnXP3v6qUadPZKv2/F+MZGQI4/r+CE5Sy75QTwLN7O476qQLAwBtl+eS/87+itgxyXRfjv9PlGieBCArA7leUqEpkD8CNW4DgkhkJwIi5l83Y4NS/VPpsVO2zEcDAM7XLQb8CwN/vbFnDHQPAXLprojRU3r8uWpdFXBX7v+CJJ5kAYQPAZiC2/b4o6b9HmqXCxI7lv4fJgiXMf/y/GQguXKOw9r91DKx2WckBwCiKHD4AXwvAyA4GuFrlEcCIlBmMHYIRwA1+GxXl5QDAZKd2mPqq1j/ytizEvl3hP4CCxM3BKhDA2vZ9NHndAcCONgcrsycLwA7+KNLTSfO/4U9CcHuxBsAkV6r+XpThv1aJNx0w0ATAlxEk1o0b378BGRnxaIXyP9hRfWULRwLA+4ZE0LWD8z8RdMJ21Z4MwKOCp/Y8ShPA3S4zkR7x+7+iM4QuXx8BwMR6MWMdoOA/FKUWV1ThDMANtD5XIVIFwC424sUFuu+/2JG7Q1hP9b/EZIfx09oGwCxfLrZi1xLAYpjcK6vi7b9rFDMTZsUHwPRcn1+t7fm/K2JoJWJPAMDwzORdIh7hv0j0GWiQ9t+/Yiq6o5lHz79VQDrEf2IGwHgwQTqYXes/0I5VDZR7/L+sbzXJ1g3vvyrJjyFl9RDAMiIcVulz8L/EoGZAOIsDwGm+Ue2PbtI/41T++t0X3T9VIDCaP8EdwK7yS0DvCBfATnBdMhck4r/0UdqJlijmvznnxDU0oADAK3stD8ed/b/7dCm3Q0UMwIxSBVqMSv+/U5LTBOMF7b+NxQ2FhqYJwJTMR0/Q/+Y/o4gjtXjB/7/6/SYl95AIwHCOMC9LkADABRwtBUyfBsB0zodERlDiv95D6d16Ne6/vh5ae8z6AcAclIVTKlfpv6ozt1SlsgnAxtG4HeYcG8AI/zeWxyvcv+KIeKpgywbAVmibNF0jC8D4g8ss/ybuv2qhDlRz1cm/0BSHa0f5xj93T50J6Fvxv3Tv/OGv+vI/xGwzsauW/7/wp+AjzrYRwAvqCt0XugTA7s6KZQ0S7b+0QfKojb/uvz7u6q3CvQPAwMajP8iGyz/ijsm0z/oKwB6uTgTtVgjAJzzr/Qi/BsBBAavZfKv0P+KSTLTJfQDA6v3GHFLI87/NdZodgfwXwA/XzvVleuO/vQ7m647F47/JdO5LAnX8vwm066E/yQLATH4WXRQ80D/sWCd3NEbuv5DXZ3pXxBLABpAfK0sw6D/MlGjLGB39v/Buo84B+tk/gO+XzVlipr8S8qHkDlANwI7afJk/Afu/O4bHl1IFC8Cy8JcFv631P6AxfMjkDwjA1bvmeMZF9D/qOo9uNrPlv+1407CJPfu/XAYwjox407+Kp0R6nBgDwBFVDM4I8QPAZ1rdAOEECcAALenr+ILTP58W0B2DeQDAeOqvAr1J9b8zbeJTP9Tkvyj2IMmXcvu/Ei3vbNJNCkCGUFOkINzzv0xq7yEWtgHAwsblYXKq7L8gwKAMAw4BwKMyAZUF9hDACBjgySVc4z9EwZ3Hzp/0PyZkBFNf/NQ/UH3DVeIJy7/4rEH3q7fev7eG4XqTcQrAMAoHimCv4T/IWnfSbdQAwBe5e9yFFuY/0uK8JEid7r/ISNIeut8EwBQ0Tp1I7/q/DBuR848RBcDQoo75/PzuvwfDABz2khjAYkSVrJc3zL85AJ/09VXjv6RqPNs3HRHAxTSU1Kkz8j+oipyQbRUWwPSx1NA2Ade/ZFQre0bF/r+37yhqww8IwBk6nlQHXPa/OlDWOuKd6b/QJddqN7oPwNhC7XPe0fe/EENA50rv3L89Y9B1o4kQwFd0klbt3gLAl4OShg6a9b/f+Zmh/lLyvz6E7G/ycfE/MrM7rg3JA8DukSHyt0XLP22aZlwIv96/lMpawV3V/L/j3Ys/JaP3v9DtyGpkjt4/eo5isrj3/r/uKdig5KYIwGzm8W//nQ7AsdPkGRmQ9r/BOH1fiXrwv+4K6bWoHhLAxNT5mArgBcDTiwJQsiMPwDxIYHnWORLAUhJJumt6AcCmghsToYELwIgRdhgIH9O/iKypY2sMxb//Bd/YS2n/v10N5ABJs9S/8IyUKBzlDcBo/y1jWEzxv4C14Spj6AjABIIoaC2Z4L9Bb+WVeRQCwE9S/OF9/P2/uQ8Fu6g4DsA1QLV4bqkFwMQmK6euKPy/2IL0Ook0wr8VUE9TqiAGwKM7P81vEOW/B2DdiG5J/L8ADfN+8qCAPxiRLtwXNO4/O8SrEMF92T+KUgSEcoe/v9YxC+8Cee6/PL6HydaW/7/6pTah2FoCwMiOANRhqA/ADcKw/ttxCMBWADtaXl4NwFQDg1SF0fC/JkhB+8ooAcB+Bw++jAHmv2wXQkQNSv0/Lp7afNet8L9IaLSJJHn6v8KHEmYl0w/AaOJulX3BAsDb0C+WalQDwMjs7L4OkOM/gFu0vIHSC8BpG6YW9bgFwIChF6rFRJk/WlsE1bhkCcB0RQ2xTjHhv9DalH+IOQfAFBbh+6Sn5T9YFd3xN93+v7DIIzCo6wXAcuBHQdBNE8B6KqIzApTwvyip9v9fDNK/DV1iZLku778vykAS6xfnv8QQOI/Azso/lCUaZKGL4b9kLbpC5U75vx8beVs5FPA/Cm60ITM90r9CbUE/VToDwKC4Ef00M7w/UrEjd3rhAMC09y9gQw4OwDRk1YHvEtG/AK5YQ6AOgT/AMIkZWYXmPzxexRsGWgLAsA43J5jg2b9Ct+W9z7Pzv461Rz2c0AbADNW8LTL60r8VnhptNQ4FwNOEp/SxKfi/0OvTTdLOF8Bg8zuSkK6yv4nvZJNwOg3AE9AR6JSbBcDaQJ9MzUUDwMU19Ymz/AfAPZ8RAZeA9L9g1/JdlWKnP0bEdN/x6fg/JTLm7hOcCcCyR4WudTcBwCi2BqKC2PY/Fgj8MpnaA8AsjZgDWzgJwE3A1YBJTQfAJLm/2FslAcBsf4vMt6YFwCDCesJ/VPA/Fxk4CMkm+L9FehCgxc8KwNUDCqOZiQPANYtgkW8uCcDw6eeAgBHaP8ieGnQc8w3AZJHwCfCgEMA+wNy5vnvxvy/Ja+BkowDAPbYb7xlMAcCvXW/C0ej3v7RCWIlaEP8/WOtmrWNX9b+SCetdnOMPwM+gZ9RO2gHApqeOp5GX8T+E0xxqU+vMPzT8lB5Y/RDACrrDNLSU+b+i3tW0+KgQwLpcCzsBbQPA2W0p+O/L978iipoEjmIRwNDyabGRE/u/ItwjSgt59r87MPHM3d/4v6pn4LjxUfw/0bKQjG1xB8BvgztVitbmv1pX+xxF5tu/EPgKnXemGMC9fWy5k9X2v3vpZVpk+OQ/FUDoB1CwC8A8bBBc9jvkv3Bykr3GhBrA1aYFziuy4b8Mts747PDxP/Bu+RgUMdM/bjN2cC644L8ckzONUNsMwKjt7VcqwArA1etl6O6j3L/GYG3hMcMJwFDCko/mgtG/MOTvEuC++r8QlkasNwELwE5oHXwQPADAXMCwlkPU8b9qdbarMLbyP2up/s68nwPA1qrS7QrxAcAguBNl0sjiv6h4WZ2uTxPAyf1mT4Yb+L9ehH1Ian/mP5CjIPRxEfy/spWI6z1MFsBYipd/A37fv1/Qvz4TnQzA9x2x70sLCMDgW8RTbXrPv1B61xpwnfC/XmXS930k7r80fhvB+q8BwJoVj6xz5wnA/csOd0VG/r9yQYezzBzqP1h43TYwst8/iPYMmTQq/7+FVO/IgjURwDWgNyAIxQjAXMnKMCa0379CoXO0N/r4v6Z0TU3l2w/AqMdxapcn5L+Q1hHutAe7P9fanzlGr+S/LuxtuiVGCcC2H8mwWQz2v5yAigJJ9AbA/EN5OchxFsDIMBUjOoXov/Ao4/r1auc/Xt1dUFa+8b9jDhJYaqATwKiL8GhYQxDAhB1VV8hzEsCdXuQ5FB0DwKBdNP9mcLg/pLJ49dD61j8MqwdhYKbVPw==\",\"dtype\":\"float64\",\"order\":\"little\",\"shape\":[509]},\"cluster_id\":[0,0,0,0,0,0,0,0,0,0,0,0,0,0,0,0,0,0,0,0,0,0,0,0,0,0,0,0,0,0,0,0,0,0,0,0,0,0,0,0,0,0,0,0,0,0,0,0,0,0,0,0,0,0,0,0,0,0,0,0,0,0,0,0,0,0,0,0,0,0,0,0,0,0,0,0,0,0,0,0,0,0,0,0,0,0,0,0,0,0,0,0,0,0,0,0,0,0,0,0,0,0,0,0,0,0,0,0,0,0,0,0,0,0,0,0,0,0,0,0,0,0,0,0,0,0,0,0,0,0,0,0,0,0,0,0,0,0,0,0,0,0,0,0,0,0,0,0,0,0,0,0,0,0,0,0,0,0,0,0,0,0,0,0,0,0,0,0,0,0,0,0,0,0,0,0,0,0,0,0,0,0,0,0,0,0,0,0,0,0,0,0,0,0,0,0,0,0,0,0,0,0,0,0,0,0,0,0,0,0,0,0,0,0,0,0,0,0,0,0,0,0,0,0,0,0,0,0,0,0,0,0,0,0,0,0,0,0,0,0,0,0,0,0,0,0,0,0,0,0,0,0,0,0,0,0,0,0,0,0,0,0,0,0,0,0,0,0,0,0,0,0,0,0,0,0,0,0,0,0,0,0,0,0,0,0,0,0,0,0,0,0,0,0,0,0,0,0,0,0,0,0,0,0,0,0,0,0,0,0,0,0,0,0,0,0,0,0,0,0,0,0,0,0,0,0,0,0,0,0,0,0,0,0,0,0,0,0,0,0,0,0,0,0,0,0,0,0,0,0,0,0,0,0,0,0,0,0,0,0,0,0,0,0,0,0,0,0,0,0,0,0,0,0,0,0,0,0,0,0,0,0,0,0,0,0,0,0,0,0,0,0,0,0,0,0,0,0,0,0,0,0,0,0,0,0,0,0,0,0,0,0,0,0,0,0,0,0,0,0,0,0,0,0,0,0,0,0,0,0,0,0,0,0,0,0,0,0,0,0,0,0,0,0,0,0,0,0,0,0,0,0,0,0,0,0,0,0,0,0,0,0,0,0,0,0,0,0,0,0,0,0,0,0,0,0,0,0,0,0,0,0,0,0,0,0,0,0,0,0,0,0,0,0,0,0,0,0,0,0,0,0,0,0,0,0,0,0,0]},\"selected\":{\"id\":\"1354\"},\"selection_policy\":{\"id\":\"1368\"}},\"id\":\"1353\",\"type\":\"ColumnDataSource\"},{\"attributes\":{\"label\":{\"value\":\"2\"},\"renderers\":[{\"id\":\"1402\"}]},\"id\":\"1418\",\"type\":\"LegendItem\"},{\"attributes\":{},\"id\":\"1368\",\"type\":\"UnionRenderers\"},{\"attributes\":{\"bottom_units\":\"screen\",\"coordinates\":null,\"fill_alpha\":0.5,\"fill_color\":\"lightgrey\",\"group\":null,\"left_units\":\"screen\",\"level\":\"overlay\",\"line_alpha\":1.0,\"line_color\":\"black\",\"line_dash\":[4,4],\"line_width\":2,\"right_units\":\"screen\",\"syncable\":false,\"top_units\":\"screen\"},\"id\":\"1339\",\"type\":\"BoxAnnotation\"},{\"attributes\":{\"fill_color\":{\"value\":\"#30a2da\"},\"hatch_color\":{\"value\":\"#30a2da\"},\"line_color\":{\"value\":\"#30a2da\"},\"size\":{\"value\":5.477225575051661},\"x\":{\"field\":\"PCA1\"},\"y\":{\"field\":\"PCA2\"}},\"id\":\"1356\",\"type\":\"Scatter\"},{\"attributes\":{\"fill_alpha\":{\"value\":0.2},\"fill_color\":{\"value\":\"#30a2da\"},\"hatch_alpha\":{\"value\":0.2},\"hatch_color\":{\"value\":\"#30a2da\"},\"line_alpha\":{\"value\":0.2},\"line_color\":{\"value\":\"#30a2da\"},\"size\":{\"value\":5.477225575051661},\"x\":{\"field\":\"PCA1\"},\"y\":{\"field\":\"PCA2\"}},\"id\":\"1358\",\"type\":\"Scatter\"},{\"attributes\":{},\"id\":\"1334\",\"type\":\"SaveTool\"},{\"attributes\":{\"label\":{\"value\":\"0\"},\"renderers\":[{\"id\":\"1359\"}]},\"id\":\"1372\",\"type\":\"LegendItem\"},{\"attributes\":{\"source\":{\"id\":\"1353\"}},\"id\":\"1360\",\"type\":\"CDSView\"},{\"attributes\":{\"fill_color\":{\"value\":\"#e5ae38\"},\"hatch_color\":{\"value\":\"#e5ae38\"},\"line_color\":{\"value\":\"#e5ae38\"},\"size\":{\"value\":5.477225575051661},\"x\":{\"field\":\"PCA1\"},\"y\":{\"field\":\"PCA2\"}},\"id\":\"1399\",\"type\":\"Scatter\"},{\"attributes\":{},\"id\":\"1335\",\"type\":\"PanTool\"},{\"attributes\":{},\"id\":\"1338\",\"type\":\"ResetTool\"},{\"attributes\":{},\"id\":\"1349\",\"type\":\"AllLabels\"},{\"attributes\":{\"children\":[{\"id\":\"1311\"},{\"id\":\"1317\"},{\"id\":\"1546\"}],\"margin\":[0,0,0,0],\"name\":\"Row02287\",\"tags\":[\"embedded\"]},\"id\":\"1310\",\"type\":\"Row\"},{\"attributes\":{\"fill_alpha\":{\"value\":0.1},\"fill_color\":{\"value\":\"#30a2da\"},\"hatch_alpha\":{\"value\":0.1},\"hatch_color\":{\"value\":\"#30a2da\"},\"line_alpha\":{\"value\":0.1},\"line_color\":{\"value\":\"#30a2da\"},\"size\":{\"value\":5.477225575051661},\"x\":{\"field\":\"PCA1\"},\"y\":{\"field\":\"PCA2\"}},\"id\":\"1357\",\"type\":\"Scatter\"},{\"attributes\":{\"coordinates\":null,\"data_source\":{\"id\":\"1396\"},\"glyph\":{\"id\":\"1399\"},\"group\":null,\"hover_glyph\":null,\"muted_glyph\":{\"id\":\"1401\"},\"nonselection_glyph\":{\"id\":\"1400\"},\"selection_glyph\":{\"id\":\"1419\"},\"view\":{\"id\":\"1403\"}},\"id\":\"1402\",\"type\":\"GlyphRenderer\"},{\"attributes\":{},\"id\":\"1336\",\"type\":\"WheelZoomTool\"},{\"attributes\":{},\"id\":\"1348\",\"type\":\"BasicTickFormatter\"},{\"attributes\":{\"margin\":[5,5,5,5],\"name\":\"HSpacer02292\",\"sizing_mode\":\"stretch_width\"},\"id\":\"1546\",\"type\":\"Spacer\"},{\"attributes\":{\"margin\":[5,5,5,5],\"name\":\"HSpacer02291\",\"sizing_mode\":\"stretch_width\"},\"id\":\"1311\",\"type\":\"Spacer\"},{\"attributes\":{\"axis\":{\"id\":\"1330\"},\"coordinates\":null,\"dimension\":1,\"grid_line_color\":null,\"group\":null,\"ticker\":null},\"id\":\"1333\",\"type\":\"Grid\"},{\"attributes\":{\"fill_alpha\":{\"value\":0.1},\"fill_color\":{\"value\":\"#fc4f30\"},\"hatch_alpha\":{\"value\":0.1},\"hatch_color\":{\"value\":\"#fc4f30\"},\"line_alpha\":{\"value\":0.1},\"line_color\":{\"value\":\"#fc4f30\"},\"size\":{\"value\":5.477225575051661},\"x\":{\"field\":\"PCA1\"},\"y\":{\"field\":\"PCA2\"}},\"id\":\"1378\",\"type\":\"Scatter\"},{\"attributes\":{\"axis_label\":\"PCA1\",\"coordinates\":null,\"formatter\":{\"id\":\"1348\"},\"group\":null,\"major_label_policy\":{\"id\":\"1349\"},\"ticker\":{\"id\":\"1327\"}},\"id\":\"1326\",\"type\":\"LinearAxis\"},{\"attributes\":{\"overlay\":{\"id\":\"1339\"}},\"id\":\"1337\",\"type\":\"BoxZoomTool\"},{\"attributes\":{\"source\":{\"id\":\"1374\"}},\"id\":\"1381\",\"type\":\"CDSView\"},{\"attributes\":{\"data\":{\"PCA1\":{\"__ndarray__\":\"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\",\"dtype\":\"float64\",\"order\":\"little\",\"shape\":[294]},\"PCA2\":{\"__ndarray__\":\"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\",\"dtype\":\"float64\",\"order\":\"little\",\"shape\":[294]},\"cluster_id\":[1,1,1,1,1,1,1,1,1,1,1,1,1,1,1,1,1,1,1,1,1,1,1,1,1,1,1,1,1,1,1,1,1,1,1,1,1,1,1,1,1,1,1,1,1,1,1,1,1,1,1,1,1,1,1,1,1,1,1,1,1,1,1,1,1,1,1,1,1,1,1,1,1,1,1,1,1,1,1,1,1,1,1,1,1,1,1,1,1,1,1,1,1,1,1,1,1,1,1,1,1,1,1,1,1,1,1,1,1,1,1,1,1,1,1,1,1,1,1,1,1,1,1,1,1,1,1,1,1,1,1,1,1,1,1,1,1,1,1,1,1,1,1,1,1,1,1,1,1,1,1,1,1,1,1,1,1,1,1,1,1,1,1,1,1,1,1,1,1,1,1,1,1,1,1,1,1,1,1,1,1,1,1,1,1,1,1,1,1,1,1,1,1,1,1,1,1,1,1,1,1,1,1,1,1,1,1,1,1,1,1,1,1,1,1,1,1,1,1,1,1,1,1,1,1,1,1,1,1,1,1,1,1,1,1,1,1,1,1,1,1,1,1,1,1,1,1,1,1,1,1,1,1,1,1,1,1,1,1,1,1,1,1,1,1,1,1,1,1,1,1,1,1,1,1,1,1,1,1,1,1,1,1,1,1,1,1,1,1,1,1,1,1,1]},\"selected\":{\"id\":\"1375\"},\"selection_policy\":{\"id\":\"1391\"}},\"id\":\"1374\",\"type\":\"ColumnDataSource\"},{\"attributes\":{\"fill_alpha\":{\"value\":0.1},\"fill_color\":{\"value\":\"#e5ae38\"},\"hatch_alpha\":{\"value\":0.1},\"hatch_color\":{\"value\":\"#e5ae38\"},\"line_alpha\":{\"value\":0.1},\"line_color\":{\"value\":\"#e5ae38\"},\"size\":{\"value\":5.477225575051661},\"x\":{\"field\":\"PCA1\"},\"y\":{\"field\":\"PCA2\"}},\"id\":\"1400\",\"type\":\"Scatter\"},{\"attributes\":{\"data\":{\"PCA1\":{\"__ndarray__\":\"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\",\"dtype\":\"float64\",\"order\":\"little\",\"shape\":[197]},\"PCA2\":{\"__ndarray__\":\"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\",\"dtype\":\"float64\",\"order\":\"little\",\"shape\":[197]},\"cluster_id\":[2,2,2,2,2,2,2,2,2,2,2,2,2,2,2,2,2,2,2,2,2,2,2,2,2,2,2,2,2,2,2,2,2,2,2,2,2,2,2,2,2,2,2,2,2,2,2,2,2,2,2,2,2,2,2,2,2,2,2,2,2,2,2,2,2,2,2,2,2,2,2,2,2,2,2,2,2,2,2,2,2,2,2,2,2,2,2,2,2,2,2,2,2,2,2,2,2,2,2,2,2,2,2,2,2,2,2,2,2,2,2,2,2,2,2,2,2,2,2,2,2,2,2,2,2,2,2,2,2,2,2,2,2,2,2,2,2,2,2,2,2,2,2,2,2,2,2,2,2,2,2,2,2,2,2,2,2,2,2,2,2,2,2,2,2,2,2,2,2,2,2,2,2,2,2,2,2,2,2,2,2,2,2,2,2,2,2,2,2,2,2,2,2,2,2,2,2]},\"selected\":{\"id\":\"1397\"},\"selection_policy\":{\"id\":\"1415\"}},\"id\":\"1396\",\"type\":\"ColumnDataSource\"},{\"attributes\":{\"tools\":[{\"id\":\"1314\"},{\"id\":\"1334\"},{\"id\":\"1335\"},{\"id\":\"1336\"},{\"id\":\"1337\"},{\"id\":\"1338\"}]},\"id\":\"1340\",\"type\":\"Toolbar\"}],\"root_ids\":[\"1310\"]},\"title\":\"Bokeh Application\",\"version\":\"2.4.1\"}};\n",
       "    var render_items = [{\"docid\":\"267f0ffc-d48e-460e-84de-a86dfc066b2e\",\"root_ids\":[\"1310\"],\"roots\":{\"1310\":\"52f461a2-9dc6-40be-9256-68f4c10760d7\"}}];\n",
       "    root.Bokeh.embed.embed_items_notebook(docs_json, render_items);\n",
       "  }\n",
       "  if (root.Bokeh !== undefined && root.Bokeh.Panel !== undefined) {\n",
       "    embed_document(root);\n",
       "  } else {\n",
       "    var attempts = 0;\n",
       "    var timer = setInterval(function(root) {\n",
       "      if (root.Bokeh !== undefined && root.Bokeh.Panel !== undefined) {\n",
       "        clearInterval(timer);\n",
       "        embed_document(root);\n",
       "      } else if (document.readyState == \"complete\") {\n",
       "        attempts++;\n",
       "        if (attempts > 200) {\n",
       "          clearInterval(timer);\n",
       "          console.log(\"Bokeh: ERROR: Unable to run BokehJS code because BokehJS library is missing\");\n",
       "        }\n",
       "      }\n",
       "    }, 25, root)\n",
       "  }\n",
       "})(window);</script>"
      ],
      "text/plain": [
       ":NdOverlay   [cluster_id]\n",
       "   :Scatter   [PCA1]   (PCA2)"
      ]
     },
     "execution_count": 51,
     "metadata": {
      "application/vnd.holoviews_exec.v0+json": {
       "id": "1310"
      }
     },
     "output_type": "execute_result"
    }
   ],
   "source": [
    "# Plot the clusters\n",
    "# YOUR CODE HERE\n",
    "customers_pca_df['cluster_id']=km_pca.labels_\n",
    "customers_pca_df.hvplot(kind='scatter', \n",
    "                        x='PCA1', \n",
    "                        y='PCA2', \n",
    "                        by='cluster_id')"
   ]
  },
  {
   "cell_type": "markdown",
   "metadata": {},
   "source": [
    "## Part 4: Segment the `customers_transformed_df` DataFrame with all factors using the K-means algorithm"
   ]
  },
  {
   "cell_type": "code",
   "execution_count": 52,
   "metadata": {
    "scrolled": true,
    "tags": []
   },
   "outputs": [
    {
     "data": {
      "text/plain": [
       "KMeans(n_clusters=3)"
      ]
     },
     "execution_count": 52,
     "metadata": {},
     "output_type": "execute_result"
    }
   ],
   "source": [
    "# %%timeit\n",
    "# start=time.time()\n",
    "# Define the model Kmeans model using k=3 clusters\n",
    "# YOUR CODE HERE\n",
    "km=KMeans(n_clusters=3)\n",
    "\n",
    "# Fit the model\n",
    "# YOUR CODE HERE\n",
    "km.fit(customers_transformed_df)\n",
    "\n",
    "# print(f'Calculations took {time.time()-start} seconds')\n",
    "\n",
    "# Make predictions\n",
    "# YOUR CODE HERE\n",
    "\n",
    "# Create a copy of the customers_transformed_df DataFrame\n",
    "# YOUR CODE HERE\n",
    "\n",
    "# Add a class column with the labels\n",
    "# YOUR CODE HERE"
   ]
  },
  {
   "cell_type": "code",
   "execution_count": 55,
   "metadata": {},
   "outputs": [
    {
     "data": {
      "text/plain": [
       "array([0.55083554, 0.30256389])"
      ]
     },
     "execution_count": 55,
     "metadata": {},
     "output_type": "execute_result"
    }
   ],
   "source": [
    "pca.explained_variance_ratio_"
   ]
  },
  {
   "cell_type": "code",
   "execution_count": 57,
   "metadata": {},
   "outputs": [
    {
     "data": {
      "text/html": [
       "<div>\n",
       "<style scoped>\n",
       "    .dataframe tbody tr th:only-of-type {\n",
       "        vertical-align: middle;\n",
       "    }\n",
       "\n",
       "    .dataframe tbody tr th {\n",
       "        vertical-align: top;\n",
       "    }\n",
       "\n",
       "    .dataframe thead th {\n",
       "        text-align: right;\n",
       "    }\n",
       "</style>\n",
       "<table border=\"1\" class=\"dataframe\">\n",
       "  <thead>\n",
       "    <tr style=\"text-align: right;\">\n",
       "      <th></th>\n",
       "      <th>feature_1</th>\n",
       "      <th>feature_2</th>\n",
       "      <th>feature_3</th>\n",
       "      <th>feature_4</th>\n",
       "      <th>feature_5</th>\n",
       "      <th>feature_6</th>\n",
       "      <th>feature_7</th>\n",
       "      <th>feature_8</th>\n",
       "      <th>feature_9</th>\n",
       "      <th>feature_10</th>\n",
       "      <th>cluster_id</th>\n",
       "    </tr>\n",
       "  </thead>\n",
       "  <tbody>\n",
       "    <tr>\n",
       "      <th>0</th>\n",
       "      <td>1.148534</td>\n",
       "      <td>4.606077</td>\n",
       "      <td>2.699069</td>\n",
       "      <td>-2.661824</td>\n",
       "      <td>1.526433</td>\n",
       "      <td>1.236671</td>\n",
       "      <td>0.211421</td>\n",
       "      <td>1.482896</td>\n",
       "      <td>-4.445627</td>\n",
       "      <td>-1.936831</td>\n",
       "      <td>0</td>\n",
       "    </tr>\n",
       "    <tr>\n",
       "      <th>1</th>\n",
       "      <td>-1.149410</td>\n",
       "      <td>-1.650549</td>\n",
       "      <td>2.530167</td>\n",
       "      <td>-3.227088</td>\n",
       "      <td>0.572138</td>\n",
       "      <td>4.162600</td>\n",
       "      <td>-0.291679</td>\n",
       "      <td>-1.237575</td>\n",
       "      <td>3.604765</td>\n",
       "      <td>-1.635689</td>\n",
       "      <td>1</td>\n",
       "    </tr>\n",
       "    <tr>\n",
       "      <th>2</th>\n",
       "      <td>0.332427</td>\n",
       "      <td>-0.887985</td>\n",
       "      <td>-0.309216</td>\n",
       "      <td>0.399891</td>\n",
       "      <td>0.828492</td>\n",
       "      <td>3.641945</td>\n",
       "      <td>-0.916946</td>\n",
       "      <td>-1.978024</td>\n",
       "      <td>1.056772</td>\n",
       "      <td>-1.882747</td>\n",
       "      <td>1</td>\n",
       "    </tr>\n",
       "    <tr>\n",
       "      <th>3</th>\n",
       "      <td>2.245599</td>\n",
       "      <td>3.826309</td>\n",
       "      <td>0.264039</td>\n",
       "      <td>0.095471</td>\n",
       "      <td>1.984380</td>\n",
       "      <td>0.373991</td>\n",
       "      <td>-0.280279</td>\n",
       "      <td>1.602786</td>\n",
       "      <td>-5.993331</td>\n",
       "      <td>-2.258925</td>\n",
       "      <td>0</td>\n",
       "    </tr>\n",
       "    <tr>\n",
       "      <th>4</th>\n",
       "      <td>0.705503</td>\n",
       "      <td>-1.312329</td>\n",
       "      <td>0.895406</td>\n",
       "      <td>-0.405408</td>\n",
       "      <td>1.116187</td>\n",
       "      <td>3.699562</td>\n",
       "      <td>-1.427985</td>\n",
       "      <td>-1.494409</td>\n",
       "      <td>1.156908</td>\n",
       "      <td>-1.434964</td>\n",
       "      <td>1</td>\n",
       "    </tr>\n",
       "    <tr>\n",
       "      <th>...</th>\n",
       "      <td>...</td>\n",
       "      <td>...</td>\n",
       "      <td>...</td>\n",
       "      <td>...</td>\n",
       "      <td>...</td>\n",
       "      <td>...</td>\n",
       "      <td>...</td>\n",
       "      <td>...</td>\n",
       "      <td>...</td>\n",
       "      <td>...</td>\n",
       "      <td>...</td>\n",
       "    </tr>\n",
       "    <tr>\n",
       "      <th>995</th>\n",
       "      <td>1.923516</td>\n",
       "      <td>2.387442</td>\n",
       "      <td>1.746617</td>\n",
       "      <td>-0.850014</td>\n",
       "      <td>1.333114</td>\n",
       "      <td>-0.522750</td>\n",
       "      <td>-0.699195</td>\n",
       "      <td>1.876106</td>\n",
       "      <td>-4.063120</td>\n",
       "      <td>-0.244857</td>\n",
       "      <td>0</td>\n",
       "    </tr>\n",
       "    <tr>\n",
       "      <th>996</th>\n",
       "      <td>-0.760810</td>\n",
       "      <td>-2.490720</td>\n",
       "      <td>1.530053</td>\n",
       "      <td>-1.501746</td>\n",
       "      <td>0.423792</td>\n",
       "      <td>5.947200</td>\n",
       "      <td>-1.271437</td>\n",
       "      <td>-3.398691</td>\n",
       "      <td>4.745373</td>\n",
       "      <td>-1.616856</td>\n",
       "      <td>1</td>\n",
       "    </tr>\n",
       "    <tr>\n",
       "      <th>997</th>\n",
       "      <td>1.259010</td>\n",
       "      <td>2.469579</td>\n",
       "      <td>2.766727</td>\n",
       "      <td>-2.218555</td>\n",
       "      <td>1.203872</td>\n",
       "      <td>0.255983</td>\n",
       "      <td>-0.411843</td>\n",
       "      <td>1.691254</td>\n",
       "      <td>-3.021626</td>\n",
       "      <td>-0.452561</td>\n",
       "      <td>0</td>\n",
       "    </tr>\n",
       "    <tr>\n",
       "      <th>998</th>\n",
       "      <td>-3.063652</td>\n",
       "      <td>-2.770077</td>\n",
       "      <td>2.086373</td>\n",
       "      <td>-3.500722</td>\n",
       "      <td>-0.767900</td>\n",
       "      <td>5.048482</td>\n",
       "      <td>0.444592</td>\n",
       "      <td>-3.050005</td>\n",
       "      <td>7.259299</td>\n",
       "      <td>-1.254483</td>\n",
       "      <td>1</td>\n",
       "    </tr>\n",
       "    <tr>\n",
       "      <th>999</th>\n",
       "      <td>-3.370452</td>\n",
       "      <td>-4.027235</td>\n",
       "      <td>5.097022</td>\n",
       "      <td>-6.491598</td>\n",
       "      <td>-0.148749</td>\n",
       "      <td>7.455842</td>\n",
       "      <td>-0.223963</td>\n",
       "      <td>-3.133751</td>\n",
       "      <td>9.424171</td>\n",
       "      <td>-1.646406</td>\n",
       "      <td>1</td>\n",
       "    </tr>\n",
       "  </tbody>\n",
       "</table>\n",
       "<p>1000 rows × 11 columns</p>\n",
       "</div>"
      ],
      "text/plain": [
       "     feature_1  feature_2  feature_3  feature_4  feature_5  feature_6  \\\n",
       "0     1.148534   4.606077   2.699069  -2.661824   1.526433   1.236671   \n",
       "1    -1.149410  -1.650549   2.530167  -3.227088   0.572138   4.162600   \n",
       "2     0.332427  -0.887985  -0.309216   0.399891   0.828492   3.641945   \n",
       "3     2.245599   3.826309   0.264039   0.095471   1.984380   0.373991   \n",
       "4     0.705503  -1.312329   0.895406  -0.405408   1.116187   3.699562   \n",
       "..         ...        ...        ...        ...        ...        ...   \n",
       "995   1.923516   2.387442   1.746617  -0.850014   1.333114  -0.522750   \n",
       "996  -0.760810  -2.490720   1.530053  -1.501746   0.423792   5.947200   \n",
       "997   1.259010   2.469579   2.766727  -2.218555   1.203872   0.255983   \n",
       "998  -3.063652  -2.770077   2.086373  -3.500722  -0.767900   5.048482   \n",
       "999  -3.370452  -4.027235   5.097022  -6.491598  -0.148749   7.455842   \n",
       "\n",
       "     feature_7  feature_8  feature_9  feature_10  cluster_id  \n",
       "0     0.211421   1.482896  -4.445627   -1.936831           0  \n",
       "1    -0.291679  -1.237575   3.604765   -1.635689           1  \n",
       "2    -0.916946  -1.978024   1.056772   -1.882747           1  \n",
       "3    -0.280279   1.602786  -5.993331   -2.258925           0  \n",
       "4    -1.427985  -1.494409   1.156908   -1.434964           1  \n",
       "..         ...        ...        ...         ...         ...  \n",
       "995  -0.699195   1.876106  -4.063120   -0.244857           0  \n",
       "996  -1.271437  -3.398691   4.745373   -1.616856           1  \n",
       "997  -0.411843   1.691254  -3.021626   -0.452561           0  \n",
       "998   0.444592  -3.050005   7.259299   -1.254483           1  \n",
       "999  -0.223963  -3.133751   9.424171   -1.646406           1  \n",
       "\n",
       "[1000 rows x 11 columns]"
      ]
     },
     "execution_count": 57,
     "metadata": {},
     "output_type": "execute_result"
    }
   ],
   "source": [
    "customers_transformed_df"
   ]
  },
  {
   "cell_type": "code",
   "execution_count": 60,
   "metadata": {},
   "outputs": [
    {
     "data": {},
     "metadata": {},
     "output_type": "display_data"
    },
    {
     "data": {
      "application/vnd.holoviews_exec.v0+json": "",
      "text/html": [
       "<div id='2234'>\n",
       "\n",
       "\n",
       "\n",
       "\n",
       "\n",
       "  <div class=\"bk-root\" id=\"023f3e75-444d-4be2-92fc-a09a6c587226\" data-root-id=\"2234\"></div>\n",
       "</div>\n",
       "<script type=\"application/javascript\">(function(root) {\n",
       "  function embed_document(root) {\n",
       "    var docs_json = {\"1492ad87-2b3a-4a61-adc9-c13aa03211b8\":{\"defs\":[{\"extends\":null,\"module\":null,\"name\":\"ReactiveHTML1\",\"overrides\":[],\"properties\":[]},{\"extends\":null,\"module\":null,\"name\":\"FlexBox1\",\"overrides\":[],\"properties\":[{\"default\":\"flex-start\",\"kind\":null,\"name\":\"align_content\"},{\"default\":\"flex-start\",\"kind\":null,\"name\":\"align_items\"},{\"default\":\"row\",\"kind\":null,\"name\":\"flex_direction\"},{\"default\":\"wrap\",\"kind\":null,\"name\":\"flex_wrap\"},{\"default\":\"flex-start\",\"kind\":null,\"name\":\"justify_content\"}]},{\"extends\":null,\"module\":null,\"name\":\"TemplateActions1\",\"overrides\":[],\"properties\":[{\"default\":0,\"kind\":null,\"name\":\"open_modal\"},{\"default\":0,\"kind\":null,\"name\":\"close_modal\"}]},{\"extends\":null,\"module\":null,\"name\":\"MaterialTemplateActions1\",\"overrides\":[],\"properties\":[{\"default\":0,\"kind\":null,\"name\":\"open_modal\"},{\"default\":0,\"kind\":null,\"name\":\"close_modal\"}]}],\"roots\":{\"references\":[{\"attributes\":{\"coordinates\":null,\"group\":null,\"text_color\":\"black\",\"text_font_size\":\"12pt\"},\"id\":\"2242\",\"type\":\"Title\"},{\"attributes\":{\"fill_alpha\":{\"value\":0.2},\"fill_color\":{\"value\":\"#e5ae38\"},\"hatch_alpha\":{\"value\":0.2},\"hatch_color\":{\"value\":\"#e5ae38\"},\"line_alpha\":{\"value\":0.2},\"line_color\":{\"value\":\"#e5ae38\"},\"size\":{\"value\":5.477225575051661},\"x\":{\"field\":\"feature_3\"},\"y\":{\"field\":\"feature_4\"}},\"id\":\"2325\",\"type\":\"Scatter\"},{\"attributes\":{\"fill_color\":{\"value\":\"#fc4f30\"},\"hatch_color\":{\"value\":\"#fc4f30\"},\"line_color\":{\"value\":\"#fc4f30\"},\"size\":{\"value\":5.477225575051661},\"x\":{\"field\":\"feature_3\"},\"y\":{\"field\":\"feature_4\"}},\"id\":\"2301\",\"type\":\"Scatter\"},{\"attributes\":{\"label\":{\"value\":\"0\"},\"renderers\":[{\"id\":\"2283\"}]},\"id\":\"2296\",\"type\":\"LegendItem\"},{\"attributes\":{},\"id\":\"2251\",\"type\":\"BasicTicker\"},{\"attributes\":{},\"id\":\"2292\",\"type\":\"UnionRenderers\"},{\"attributes\":{\"below\":[{\"id\":\"2250\"}],\"center\":[{\"id\":\"2253\"},{\"id\":\"2257\"}],\"height\":300,\"left\":[{\"id\":\"2254\"}],\"margin\":[5,5,5,5],\"min_border_bottom\":10,\"min_border_left\":10,\"min_border_right\":10,\"min_border_top\":10,\"renderers\":[{\"id\":\"2283\"},{\"id\":\"2304\"},{\"id\":\"2326\"}],\"right\":[{\"id\":\"2295\"}],\"sizing_mode\":\"fixed\",\"title\":{\"id\":\"2242\"},\"toolbar\":{\"id\":\"2264\"},\"width\":700,\"x_range\":{\"id\":\"2236\"},\"x_scale\":{\"id\":\"2246\"},\"y_range\":{\"id\":\"2237\"},\"y_scale\":{\"id\":\"2248\"}},\"id\":\"2241\",\"subtype\":\"Figure\",\"type\":\"Plot\"},{\"attributes\":{},\"id\":\"2248\",\"type\":\"LinearScale\"},{\"attributes\":{\"fill_alpha\":{\"value\":0.1},\"fill_color\":{\"value\":\"#fc4f30\"},\"hatch_alpha\":{\"value\":0.1},\"hatch_color\":{\"value\":\"#fc4f30\"},\"line_alpha\":{\"value\":0.1},\"line_color\":{\"value\":\"#fc4f30\"},\"size\":{\"value\":5.477225575051661},\"x\":{\"field\":\"feature_3\"},\"y\":{\"field\":\"feature_4\"}},\"id\":\"2302\",\"type\":\"Scatter\"},{\"attributes\":{},\"id\":\"2315\",\"type\":\"UnionRenderers\"},{\"attributes\":{\"margin\":[5,5,5,5],\"name\":\"HSpacer04167\",\"sizing_mode\":\"stretch_width\"},\"id\":\"2470\",\"type\":\"Spacer\"},{\"attributes\":{\"axis\":{\"id\":\"2250\"},\"coordinates\":null,\"grid_line_color\":null,\"group\":null,\"ticker\":null},\"id\":\"2253\",\"type\":\"Grid\"},{\"attributes\":{\"angle\":{\"value\":0.0},\"fill_alpha\":{\"value\":1.0},\"fill_color\":{\"value\":\"#e5ae38\"},\"hatch_alpha\":{\"value\":1.0},\"hatch_color\":{\"value\":\"#e5ae38\"},\"hatch_scale\":{\"value\":12.0},\"hatch_weight\":{\"value\":1.0},\"line_alpha\":{\"value\":1.0},\"line_cap\":{\"value\":\"butt\"},\"line_color\":{\"value\":\"#e5ae38\"},\"line_dash\":{\"value\":[]},\"line_dash_offset\":{\"value\":0},\"line_join\":{\"value\":\"bevel\"},\"line_width\":{\"value\":1},\"marker\":{\"value\":\"circle\"},\"size\":{\"value\":5.477225575051661},\"x\":{\"field\":\"feature_3\"},\"y\":{\"field\":\"feature_4\"}},\"id\":\"2343\",\"type\":\"Scatter\"},{\"attributes\":{\"callback\":null,\"renderers\":[{\"id\":\"2283\"},{\"id\":\"2304\"},{\"id\":\"2326\"}],\"tags\":[\"hv_created\"],\"tooltips\":[[\"cluster_id\",\"@{cluster_id}\"],[\"feature_3\",\"@{feature_3}\"],[\"feature_4\",\"@{feature_4}\"]]},\"id\":\"2238\",\"type\":\"HoverTool\"},{\"attributes\":{\"end\":5.599784874825991,\"reset_end\":5.599784874825991,\"reset_start\":-10.039011291046625,\"start\":-10.039011291046625,\"tags\":[[[\"feature_4\",\"feature_4\",null]]]},\"id\":\"2237\",\"type\":\"Range1d\"},{\"attributes\":{\"source\":{\"id\":\"2298\"}},\"id\":\"2305\",\"type\":\"CDSView\"},{\"attributes\":{},\"id\":\"2255\",\"type\":\"BasicTicker\"},{\"attributes\":{\"axis_label\":\"feature_4\",\"coordinates\":null,\"formatter\":{\"id\":\"2275\"},\"group\":null,\"major_label_policy\":{\"id\":\"2276\"},\"ticker\":{\"id\":\"2255\"}},\"id\":\"2254\",\"type\":\"LinearAxis\"},{\"attributes\":{\"source\":{\"id\":\"2277\"}},\"id\":\"2284\",\"type\":\"CDSView\"},{\"attributes\":{},\"id\":\"2278\",\"type\":\"Selection\"},{\"attributes\":{\"data\":{\"cluster_id\":[1,1,1,1,1,1,1,1,1,1,1,1,1,1,1,1,1,1,1,1,1,1,1,1,1,1,1,1,1,1,1,1,1,1,1,1,1,1,1,1,1,1,1,1,1,1,1,1,1,1,1,1,1,1,1,1,1,1,1,1,1,1,1,1,1,1,1,1,1,1,1,1,1,1,1,1,1,1,1,1,1,1,1,1,1,1,1,1,1,1,1,1,1,1,1,1,1,1,1,1,1,1,1,1,1,1,1,1,1,1,1,1,1,1,1,1,1,1,1,1,1,1,1,1,1,1,1,1,1,1,1,1,1,1,1,1,1,1,1,1,1,1,1,1,1,1,1,1,1,1,1,1,1,1,1,1,1,1,1,1,1,1,1,1,1,1,1,1,1,1,1,1,1,1,1,1,1,1,1,1,1,1,1,1,1,1,1,1,1,1,1,1,1,1,1,1,1,1,1,1,1,1,1,1,1,1,1,1,1,1,1,1,1,1,1,1,1,1,1,1,1,1,1,1,1,1,1,1,1,1,1,1,1,1,1,1,1,1,1,1,1,1,1,1,1,1,1,1,1,1,1,1,1,1,1,1,1,1,1,1,1,1,1,1,1,1,1,1,1,1,1,1,1,1,1,1,1,1,1,1,1,1,1,1,1,1,1,1,1,1,1,1,1,1],\"feature_3\":{\"__ndarray__\":\"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\",\"dtype\":\"float64\",\"order\":\"little\",\"shape\":[294]},\"feature_4\":{\"__ndarray__\":\"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\",\"dtype\":\"float64\",\"order\":\"little\",\"shape\":[294]}},\"selected\":{\"id\":\"2299\"},\"selection_policy\":{\"id\":\"2315\"}},\"id\":\"2298\",\"type\":\"ColumnDataSource\"},{\"attributes\":{},\"id\":\"2276\",\"type\":\"AllLabels\"},{\"attributes\":{\"fill_color\":{\"value\":\"#30a2da\"},\"hatch_color\":{\"value\":\"#30a2da\"},\"line_color\":{\"value\":\"#30a2da\"},\"size\":{\"value\":5.477225575051661},\"x\":{\"field\":\"feature_3\"},\"y\":{\"field\":\"feature_4\"}},\"id\":\"2280\",\"type\":\"Scatter\"},{\"attributes\":{\"data\":{\"cluster_id\":[0,0,0,0,0,0,0,0,0,0,0,0,0,0,0,0,0,0,0,0,0,0,0,0,0,0,0,0,0,0,0,0,0,0,0,0,0,0,0,0,0,0,0,0,0,0,0,0,0,0,0,0,0,0,0,0,0,0,0,0,0,0,0,0,0,0,0,0,0,0,0,0,0,0,0,0,0,0,0,0,0,0,0,0,0,0,0,0,0,0,0,0,0,0,0,0,0,0,0,0,0,0,0,0,0,0,0,0,0,0,0,0,0,0,0,0,0,0,0,0,0,0,0,0,0,0,0,0,0,0,0,0,0,0,0,0,0,0,0,0,0,0,0,0,0,0,0,0,0,0,0,0,0,0,0,0,0,0,0,0,0,0,0,0,0,0,0,0,0,0,0,0,0,0,0,0,0,0,0,0,0,0,0,0,0,0,0,0,0,0,0,0,0,0,0,0,0,0,0,0,0,0,0,0,0,0,0,0,0,0,0,0,0,0,0,0,0,0,0,0,0,0,0,0,0,0,0,0,0,0,0,0,0,0,0,0,0,0,0,0,0,0,0,0,0,0,0,0,0,0,0,0,0,0,0,0,0,0,0,0,0,0,0,0,0,0,0,0,0,0,0,0,0,0,0,0,0,0,0,0,0,0,0,0,0,0,0,0,0,0,0,0,0,0,0,0,0,0,0,0,0,0,0,0,0,0,0,0,0,0,0,0,0,0,0,0,0,0,0,0,0,0,0,0,0,0,0,0,0,0,0,0,0,0,0,0,0,0,0,0,0,0,0,0,0,0,0,0,0,0,0,0,0,0,0,0,0,0,0,0,0,0,0,0,0,0,0,0,0,0,0,0,0,0,0,0,0,0,0,0,0,0,0,0,0,0,0,0,0,0,0,0,0,0,0,0,0,0,0,0,0,0,0,0,0,0,0,0,0,0,0,0,0,0,0,0,0,0,0,0,0,0,0,0,0,0,0,0,0,0,0,0,0,0,0,0,0,0,0,0,0,0,0,0,0,0,0,0,0,0,0,0,0,0,0,0,0,0,0,0,0,0,0,0,0,0,0,0,0,0,0,0,0,0,0,0,0,0,0,0,0,0,0,0,0,0,0,0,0,0,0,0,0,0,0,0,0,0,0,0,0,0,0,0,0,0,0,0,0],\"feature_3\":{\"__ndarray__\":\"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\",\"dtype\":\"float64\",\"order\":\"little\",\"shape\":[509]},\"feature_4\":{\"__ndarray__\":\"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\",\"dtype\":\"float64\",\"order\":\"little\",\"shape\":[509]}},\"selected\":{\"id\":\"2278\"},\"selection_policy\":{\"id\":\"2292\"}},\"id\":\"2277\",\"type\":\"ColumnDataSource\"},{\"attributes\":{\"angle\":{\"value\":0.0},\"fill_alpha\":{\"value\":1.0},\"fill_color\":{\"value\":\"#fc4f30\"},\"hatch_alpha\":{\"value\":1.0},\"hatch_color\":{\"value\":\"#fc4f30\"},\"hatch_scale\":{\"value\":12.0},\"hatch_weight\":{\"value\":1.0},\"line_alpha\":{\"value\":1.0},\"line_cap\":{\"value\":\"butt\"},\"line_color\":{\"value\":\"#fc4f30\"},\"line_dash\":{\"value\":[]},\"line_dash_offset\":{\"value\":0},\"line_join\":{\"value\":\"bevel\"},\"line_width\":{\"value\":1},\"marker\":{\"value\":\"circle\"},\"size\":{\"value\":5.477225575051661},\"x\":{\"field\":\"feature_3\"},\"y\":{\"field\":\"feature_4\"}},\"id\":\"2319\",\"type\":\"Scatter\"},{\"attributes\":{},\"id\":\"2272\",\"type\":\"BasicTickFormatter\"},{\"attributes\":{},\"id\":\"2321\",\"type\":\"Selection\"},{\"attributes\":{\"fill_alpha\":{\"value\":0.1},\"fill_color\":{\"value\":\"#e5ae38\"},\"hatch_alpha\":{\"value\":0.1},\"hatch_color\":{\"value\":\"#e5ae38\"},\"line_alpha\":{\"value\":0.1},\"line_color\":{\"value\":\"#e5ae38\"},\"size\":{\"value\":5.477225575051661},\"x\":{\"field\":\"feature_3\"},\"y\":{\"field\":\"feature_4\"}},\"id\":\"2324\",\"type\":\"Scatter\"},{\"attributes\":{\"label\":{\"value\":\"1\"},\"renderers\":[{\"id\":\"2304\"}]},\"id\":\"2318\",\"type\":\"LegendItem\"},{\"attributes\":{},\"id\":\"2273\",\"type\":\"AllLabels\"},{\"attributes\":{\"coordinates\":null,\"data_source\":{\"id\":\"2277\"},\"glyph\":{\"id\":\"2280\"},\"group\":null,\"hover_glyph\":null,\"muted_glyph\":{\"id\":\"2282\"},\"nonselection_glyph\":{\"id\":\"2281\"},\"selection_glyph\":{\"id\":\"2297\"},\"view\":{\"id\":\"2284\"}},\"id\":\"2283\",\"type\":\"GlyphRenderer\"},{\"attributes\":{\"coordinates\":null,\"data_source\":{\"id\":\"2320\"},\"glyph\":{\"id\":\"2323\"},\"group\":null,\"hover_glyph\":null,\"muted_glyph\":{\"id\":\"2325\"},\"nonselection_glyph\":{\"id\":\"2324\"},\"selection_glyph\":{\"id\":\"2343\"},\"view\":{\"id\":\"2327\"}},\"id\":\"2326\",\"type\":\"GlyphRenderer\"},{\"attributes\":{\"source\":{\"id\":\"2320\"}},\"id\":\"2327\",\"type\":\"CDSView\"},{\"attributes\":{},\"id\":\"2258\",\"type\":\"SaveTool\"},{\"attributes\":{\"fill_alpha\":{\"value\":0.1},\"fill_color\":{\"value\":\"#30a2da\"},\"hatch_alpha\":{\"value\":0.1},\"hatch_color\":{\"value\":\"#30a2da\"},\"line_alpha\":{\"value\":0.1},\"line_color\":{\"value\":\"#30a2da\"},\"size\":{\"value\":5.477225575051661},\"x\":{\"field\":\"feature_3\"},\"y\":{\"field\":\"feature_4\"}},\"id\":\"2281\",\"type\":\"Scatter\"},{\"attributes\":{\"fill_color\":{\"value\":\"#e5ae38\"},\"hatch_color\":{\"value\":\"#e5ae38\"},\"line_color\":{\"value\":\"#e5ae38\"},\"size\":{\"value\":5.477225575051661},\"x\":{\"field\":\"feature_3\"},\"y\":{\"field\":\"feature_4\"}},\"id\":\"2323\",\"type\":\"Scatter\"},{\"attributes\":{},\"id\":\"2259\",\"type\":\"PanTool\"},{\"attributes\":{\"margin\":[5,5,5,5],\"name\":\"HSpacer04166\",\"sizing_mode\":\"stretch_width\"},\"id\":\"2235\",\"type\":\"Spacer\"},{\"attributes\":{},\"id\":\"2246\",\"type\":\"LinearScale\"},{\"attributes\":{\"fill_alpha\":{\"value\":0.2},\"fill_color\":{\"value\":\"#30a2da\"},\"hatch_alpha\":{\"value\":0.2},\"hatch_color\":{\"value\":\"#30a2da\"},\"line_alpha\":{\"value\":0.2},\"line_color\":{\"value\":\"#30a2da\"},\"size\":{\"value\":5.477225575051661},\"x\":{\"field\":\"feature_3\"},\"y\":{\"field\":\"feature_4\"}},\"id\":\"2282\",\"type\":\"Scatter\"},{\"attributes\":{},\"id\":\"2260\",\"type\":\"WheelZoomTool\"},{\"attributes\":{},\"id\":\"2275\",\"type\":\"BasicTickFormatter\"},{\"attributes\":{},\"id\":\"2339\",\"type\":\"UnionRenderers\"},{\"attributes\":{\"bottom_units\":\"screen\",\"coordinates\":null,\"fill_alpha\":0.5,\"fill_color\":\"lightgrey\",\"group\":null,\"left_units\":\"screen\",\"level\":\"overlay\",\"line_alpha\":1.0,\"line_color\":\"black\",\"line_dash\":[4,4],\"line_width\":2,\"right_units\":\"screen\",\"syncable\":false,\"top_units\":\"screen\"},\"id\":\"2263\",\"type\":\"BoxAnnotation\"},{\"attributes\":{\"angle\":{\"value\":0.0},\"fill_alpha\":{\"value\":1.0},\"fill_color\":{\"value\":\"#30a2da\"},\"hatch_alpha\":{\"value\":1.0},\"hatch_color\":{\"value\":\"#30a2da\"},\"hatch_scale\":{\"value\":12.0},\"hatch_weight\":{\"value\":1.0},\"line_alpha\":{\"value\":1.0},\"line_cap\":{\"value\":\"butt\"},\"line_color\":{\"value\":\"#30a2da\"},\"line_dash\":{\"value\":[]},\"line_dash_offset\":{\"value\":0},\"line_join\":{\"value\":\"bevel\"},\"line_width\":{\"value\":1},\"marker\":{\"value\":\"circle\"},\"size\":{\"value\":5.477225575051661},\"x\":{\"field\":\"feature_3\"},\"y\":{\"field\":\"feature_4\"}},\"id\":\"2297\",\"type\":\"Scatter\"},{\"attributes\":{\"overlay\":{\"id\":\"2263\"}},\"id\":\"2261\",\"type\":\"BoxZoomTool\"},{\"attributes\":{\"label\":{\"value\":\"2\"},\"renderers\":[{\"id\":\"2326\"}]},\"id\":\"2342\",\"type\":\"LegendItem\"},{\"attributes\":{\"axis_label\":\"feature_3\",\"coordinates\":null,\"formatter\":{\"id\":\"2272\"},\"group\":null,\"major_label_policy\":{\"id\":\"2273\"},\"ticker\":{\"id\":\"2251\"}},\"id\":\"2250\",\"type\":\"LinearAxis\"},{\"attributes\":{\"click_policy\":\"mute\",\"coordinates\":null,\"group\":null,\"items\":[{\"id\":\"2296\"},{\"id\":\"2318\"},{\"id\":\"2342\"}],\"location\":[0,0],\"title\":\"cluster_id\"},\"id\":\"2295\",\"type\":\"Legend\"},{\"attributes\":{\"fill_alpha\":{\"value\":0.2},\"fill_color\":{\"value\":\"#fc4f30\"},\"hatch_alpha\":{\"value\":0.2},\"hatch_color\":{\"value\":\"#fc4f30\"},\"line_alpha\":{\"value\":0.2},\"line_color\":{\"value\":\"#fc4f30\"},\"size\":{\"value\":5.477225575051661},\"x\":{\"field\":\"feature_3\"},\"y\":{\"field\":\"feature_4\"}},\"id\":\"2303\",\"type\":\"Scatter\"},{\"attributes\":{},\"id\":\"2299\",\"type\":\"Selection\"},{\"attributes\":{\"children\":[{\"id\":\"2235\"},{\"id\":\"2241\"},{\"id\":\"2470\"}],\"margin\":[0,0,0,0],\"name\":\"Row04162\",\"tags\":[\"embedded\"]},\"id\":\"2234\",\"type\":\"Row\"},{\"attributes\":{\"end\":6.2739061424087845,\"reset_end\":6.2739061424087845,\"reset_start\":-3.2717987026895923,\"start\":-3.2717987026895923,\"tags\":[[[\"feature_3\",\"feature_3\",null]]]},\"id\":\"2236\",\"type\":\"Range1d\"},{\"attributes\":{\"coordinates\":null,\"data_source\":{\"id\":\"2298\"},\"glyph\":{\"id\":\"2301\"},\"group\":null,\"hover_glyph\":null,\"muted_glyph\":{\"id\":\"2303\"},\"nonselection_glyph\":{\"id\":\"2302\"},\"selection_glyph\":{\"id\":\"2319\"},\"view\":{\"id\":\"2305\"}},\"id\":\"2304\",\"type\":\"GlyphRenderer\"},{\"attributes\":{\"data\":{\"cluster_id\":[2,2,2,2,2,2,2,2,2,2,2,2,2,2,2,2,2,2,2,2,2,2,2,2,2,2,2,2,2,2,2,2,2,2,2,2,2,2,2,2,2,2,2,2,2,2,2,2,2,2,2,2,2,2,2,2,2,2,2,2,2,2,2,2,2,2,2,2,2,2,2,2,2,2,2,2,2,2,2,2,2,2,2,2,2,2,2,2,2,2,2,2,2,2,2,2,2,2,2,2,2,2,2,2,2,2,2,2,2,2,2,2,2,2,2,2,2,2,2,2,2,2,2,2,2,2,2,2,2,2,2,2,2,2,2,2,2,2,2,2,2,2,2,2,2,2,2,2,2,2,2,2,2,2,2,2,2,2,2,2,2,2,2,2,2,2,2,2,2,2,2,2,2,2,2,2,2,2,2,2,2,2,2,2,2,2,2,2,2,2,2,2,2,2,2,2,2],\"feature_3\":{\"__ndarray__\":\"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\",\"dtype\":\"float64\",\"order\":\"little\",\"shape\":[197]},\"feature_4\":{\"__ndarray__\":\"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\",\"dtype\":\"float64\",\"order\":\"little\",\"shape\":[197]}},\"selected\":{\"id\":\"2321\"},\"selection_policy\":{\"id\":\"2339\"}},\"id\":\"2320\",\"type\":\"ColumnDataSource\"},{\"attributes\":{},\"id\":\"2262\",\"type\":\"ResetTool\"},{\"attributes\":{\"axis\":{\"id\":\"2254\"},\"coordinates\":null,\"dimension\":1,\"grid_line_color\":null,\"group\":null,\"ticker\":null},\"id\":\"2257\",\"type\":\"Grid\"},{\"attributes\":{\"tools\":[{\"id\":\"2238\"},{\"id\":\"2258\"},{\"id\":\"2259\"},{\"id\":\"2260\"},{\"id\":\"2261\"},{\"id\":\"2262\"}]},\"id\":\"2264\",\"type\":\"Toolbar\"}],\"root_ids\":[\"2234\"]},\"title\":\"Bokeh Application\",\"version\":\"2.4.1\"}};\n",
       "    var render_items = [{\"docid\":\"1492ad87-2b3a-4a61-adc9-c13aa03211b8\",\"root_ids\":[\"2234\"],\"roots\":{\"2234\":\"023f3e75-444d-4be2-92fc-a09a6c587226\"}}];\n",
       "    root.Bokeh.embed.embed_items_notebook(docs_json, render_items);\n",
       "  }\n",
       "  if (root.Bokeh !== undefined && root.Bokeh.Panel !== undefined) {\n",
       "    embed_document(root);\n",
       "  } else {\n",
       "    var attempts = 0;\n",
       "    var timer = setInterval(function(root) {\n",
       "      if (root.Bokeh !== undefined && root.Bokeh.Panel !== undefined) {\n",
       "        clearInterval(timer);\n",
       "        embed_document(root);\n",
       "      } else if (document.readyState == \"complete\") {\n",
       "        attempts++;\n",
       "        if (attempts > 200) {\n",
       "          clearInterval(timer);\n",
       "          console.log(\"Bokeh: ERROR: Unable to run BokehJS code because BokehJS library is missing\");\n",
       "        }\n",
       "      }\n",
       "    }, 25, root)\n",
       "  }\n",
       "})(window);</script>"
      ],
      "text/plain": [
       ":NdOverlay   [cluster_id]\n",
       "   :Scatter   [feature_3]   (feature_4)"
      ]
     },
     "execution_count": 60,
     "metadata": {
      "application/vnd.holoviews_exec.v0+json": {
       "id": "2234"
      }
     },
     "output_type": "execute_result"
    }
   ],
   "source": [
    "customers_transformed_df['cluster_id']=km.labels_\n",
    "customers_transformed_df.hvplot(kind='scatter', \n",
    "                        x='feature_3', \n",
    "                        y='feature_4', \n",
    "                        by='cluster_id')"
   ]
  },
  {
   "cell_type": "code",
   "execution_count": null,
   "metadata": {},
   "outputs": [],
   "source": []
  },
  {
   "cell_type": "code",
   "execution_count": null,
   "metadata": {},
   "outputs": [],
   "source": [
    "# Plot the clusters using the age and spending columns\n",
    "# YOUR CODE HERE"
   ]
  },
  {
   "cell_type": "code",
   "execution_count": 54,
   "metadata": {},
   "outputs": [
    {
     "data": {
      "text/plain": [
       "True    1000\n",
       "Name: same, dtype: int64"
      ]
     },
     "execution_count": 54,
     "metadata": {},
     "output_type": "execute_result"
    }
   ],
   "source": [
    "compare_df=pd.DataFrame({'all_factors_clusters': km.labels_, 'pca_clusters': km_pca.labels_})\n",
    "compare_df['same']=compare_df['all_factors_clusters']==compare_df['pca_clusters']\n",
    "compare_df['same'].value_counts()"
   ]
  },
  {
   "cell_type": "markdown",
   "metadata": {},
   "source": [
    "## Part 5: Compare the segmentation results between the PCA DataFrame and the full-factored DataFrame"
   ]
  },
  {
   "cell_type": "markdown",
   "metadata": {},
   "source": [
    "**Answer:** YOUR ANSWER HERE"
   ]
  }
 ],
 "metadata": {
  "kernelspec": {
   "display_name": "Python 3 (ipykernel)",
   "language": "python",
   "name": "python3"
  },
  "language_info": {
   "codemirror_mode": {
    "name": "ipython",
    "version": 3
   },
   "file_extension": ".py",
   "mimetype": "text/x-python",
   "name": "python",
   "nbconvert_exporter": "python",
   "pygments_lexer": "ipython3",
   "version": "3.11.3"
  }
 },
 "nbformat": 4,
 "nbformat_minor": 4
}
