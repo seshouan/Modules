{
 "cells": [
  {
   "cell_type": "code",
   "execution_count": 30,
   "id": "6b858db7",
   "metadata": {},
   "outputs": [],
   "source": [
    "# Import the required libraries and dependencies\n",
    "\n"
   ]
  },
  {
   "cell_type": "code",
   "execution_count": 8,
   "id": "8b8cafed",
   "metadata": {},
   "outputs": [
    {
     "name": "stdout",
     "output_type": "stream",
     "text": [
      "hospital_claims.csv\r\n"
     ]
    }
   ],
   "source": [
    "!ls  05-Stu_hvPlot_Widgets/Resources"
   ]
  },
  {
   "cell_type": "code",
   "execution_count": 13,
   "id": "66f786d8",
   "metadata": {},
   "outputs": [
    {
     "data": {
      "text/html": [
       "<div>\n",
       "<style scoped>\n",
       "    .dataframe tbody tr th:only-of-type {\n",
       "        vertical-align: middle;\n",
       "    }\n",
       "\n",
       "    .dataframe tbody tr th {\n",
       "        vertical-align: top;\n",
       "    }\n",
       "\n",
       "    .dataframe thead th {\n",
       "        text-align: right;\n",
       "    }\n",
       "</style>\n",
       "<table border=\"1\" class=\"dataframe\">\n",
       "  <thead>\n",
       "    <tr style=\"text-align: right;\">\n",
       "      <th></th>\n",
       "      <th>Area</th>\n",
       "      <th>Years</th>\n",
       "      <th>Subscribers</th>\n",
       "    </tr>\n",
       "  </thead>\n",
       "  <tbody>\n",
       "    <tr>\n",
       "      <th>0</th>\n",
       "      <td>United States and Canada</td>\n",
       "      <td>Q1 - 2018</td>\n",
       "      <td>60909000</td>\n",
       "    </tr>\n",
       "    <tr>\n",
       "      <th>1</th>\n",
       "      <td>Europe, Middle East and Africa</td>\n",
       "      <td>Q1 - 2018</td>\n",
       "      <td>29339000</td>\n",
       "    </tr>\n",
       "    <tr>\n",
       "      <th>2</th>\n",
       "      <td>Latin America</td>\n",
       "      <td>Q1 - 2018</td>\n",
       "      <td>21260000</td>\n",
       "    </tr>\n",
       "    <tr>\n",
       "      <th>3</th>\n",
       "      <td>Asia-Pacific</td>\n",
       "      <td>Q1 - 2018</td>\n",
       "      <td>7394000</td>\n",
       "    </tr>\n",
       "    <tr>\n",
       "      <th>4</th>\n",
       "      <td>United States and Canada</td>\n",
       "      <td>Q2 - 2018</td>\n",
       "      <td>61870000</td>\n",
       "    </tr>\n",
       "  </tbody>\n",
       "</table>\n",
       "</div>"
      ],
      "text/plain": [
       "                             Area      Years  Subscribers\n",
       "0        United States and Canada  Q1 - 2018     60909000\n",
       "1  Europe, Middle East and Africa  Q1 - 2018     29339000\n",
       "2                   Latin America  Q1 - 2018     21260000\n",
       "3                    Asia-Pacific  Q1 - 2018      7394000\n",
       "4        United States and Canada  Q2 - 2018     61870000"
      ]
     },
     "execution_count": 13,
     "metadata": {},
     "output_type": "execute_result"
    }
   ],
   "source": [
    "# Read subscriber_numbers.csv file into a Pandas DataFrame\n",
    "subscribers_df = pd.read_csv(Path(\"07-Stu_Composing_Masterpieces/Resources/subscriber_numbers.csv\"))\n",
    "\n",
    "# Review the DataFrame\n",
    "subscribers_df.head()"
   ]
  },
  {
   "cell_type": "code",
   "execution_count": 19,
   "id": "97930da2",
   "metadata": {},
   "outputs": [
    {
     "data": {
      "text/plain": [
       "['United States and Canada',\n",
       " 'Europe, Middle East and Africa',\n",
       " 'Latin America',\n",
       " 'Asia-Pacific']"
      ]
     },
     "execution_count": 19,
     "metadata": {},
     "output_type": "execute_result"
    }
   ],
   "source": [
    "list(subscribers_df['Area'].unique())"
   ]
  },
  {
   "cell_type": "code",
   "execution_count": 45,
   "id": "f710a983",
   "metadata": {},
   "outputs": [
    {
     "data": {},
     "metadata": {},
     "output_type": "display_data"
    },
    {
     "data": {
      "application/vnd.holoviews_exec.v0+json": "",
      "text/html": [
       "<div id='2132'>\n",
       "\n",
       "\n",
       "\n",
       "\n",
       "\n",
       "  <div class=\"bk-root\" id=\"9d80344c-eded-4e65-8fc6-95aa14d02bb8\" data-root-id=\"2132\"></div>\n",
       "</div>\n",
       "<script type=\"application/javascript\">(function(root) {\n",
       "  function embed_document(root) {\n",
       "    var docs_json = {\"02a0dcf2-268b-40fb-8bbb-0014ff1c1420\":{\"defs\":[{\"extends\":null,\"module\":null,\"name\":\"ReactiveHTML1\",\"overrides\":[],\"properties\":[]},{\"extends\":null,\"module\":null,\"name\":\"FlexBox1\",\"overrides\":[],\"properties\":[{\"default\":\"flex-start\",\"kind\":null,\"name\":\"align_content\"},{\"default\":\"flex-start\",\"kind\":null,\"name\":\"align_items\"},{\"default\":\"row\",\"kind\":null,\"name\":\"flex_direction\"},{\"default\":\"wrap\",\"kind\":null,\"name\":\"flex_wrap\"},{\"default\":\"flex-start\",\"kind\":null,\"name\":\"justify_content\"}]},{\"extends\":null,\"module\":null,\"name\":\"TemplateActions1\",\"overrides\":[],\"properties\":[{\"default\":0,\"kind\":null,\"name\":\"open_modal\"},{\"default\":0,\"kind\":null,\"name\":\"close_modal\"}]},{\"extends\":null,\"module\":null,\"name\":\"MaterialTemplateActions1\",\"overrides\":[],\"properties\":[{\"default\":0,\"kind\":null,\"name\":\"open_modal\"},{\"default\":0,\"kind\":null,\"name\":\"close_modal\"}]}],\"roots\":{\"references\":[{\"attributes\":{\"source\":{\"id\":\"2166\"}},\"id\":\"2173\",\"type\":\"CDSView\"},{\"attributes\":{},\"id\":\"2142\",\"type\":\"CategoricalScale\"},{\"attributes\":{\"axis_label\":\"Years\",\"coordinates\":null,\"formatter\":{\"id\":\"2176\"},\"group\":null,\"major_label_policy\":{\"id\":\"2177\"},\"ticker\":{\"id\":\"2147\"}},\"id\":\"2146\",\"type\":\"CategoricalAxis\"},{\"attributes\":{},\"id\":\"2176\",\"type\":\"CategoricalTickFormatter\"},{\"attributes\":{},\"id\":\"2177\",\"type\":\"AllLabels\"},{\"attributes\":{},\"id\":\"2153\",\"type\":\"SaveTool\"},{\"attributes\":{\"axis\":{\"id\":\"2146\"},\"coordinates\":null,\"grid_line_color\":null,\"group\":null,\"ticker\":null},\"id\":\"2148\",\"type\":\"Grid\"},{\"attributes\":{\"fill_alpha\":{\"value\":0.2},\"fill_color\":{\"value\":\"#30a2da\"},\"hatch_alpha\":{\"value\":0.2},\"hatch_color\":{\"value\":\"#30a2da\"},\"line_alpha\":{\"value\":0.2},\"top\":{\"field\":\"Subscribers\"},\"width\":{\"value\":0.8},\"x\":{\"field\":\"Years\"}},\"id\":\"2171\",\"type\":\"VBar\"},{\"attributes\":{},\"id\":\"2180\",\"type\":\"AllLabels\"},{\"attributes\":{\"margin\":[5,5,5,5],\"name\":\"HSpacer03048\",\"sizing_mode\":\"stretch_width\"},\"id\":\"2201\",\"type\":\"Spacer\"},{\"attributes\":{\"end\":24001800.0,\"reset_end\":24001800.0,\"reset_start\":0.0,\"tags\":[[[\"Subscribers\",\"Subscribers\",null]]]},\"id\":\"2135\",\"type\":\"Range1d\"},{\"attributes\":{\"fill_color\":{\"value\":\"#30a2da\"},\"hatch_color\":{\"value\":\"#30a2da\"},\"top\":{\"field\":\"Subscribers\"},\"width\":{\"value\":0.8},\"x\":{\"field\":\"Years\"}},\"id\":\"2169\",\"type\":\"VBar\"},{\"attributes\":{\"bottom\":{\"value\":0},\"fill_alpha\":{\"value\":1.0},\"fill_color\":{\"value\":\"#30a2da\"},\"hatch_alpha\":{\"value\":1.0},\"hatch_color\":{\"value\":\"#30a2da\"},\"hatch_scale\":{\"value\":12.0},\"hatch_weight\":{\"value\":1.0},\"line_alpha\":{\"value\":1.0},\"line_cap\":{\"value\":\"butt\"},\"line_color\":{\"value\":\"black\"},\"line_dash\":{\"value\":[]},\"line_dash_offset\":{\"value\":0},\"line_join\":{\"value\":\"bevel\"},\"line_width\":{\"value\":1},\"top\":{\"field\":\"Subscribers\"},\"width\":{\"value\":0.8},\"x\":{\"field\":\"Years\"}},\"id\":\"2174\",\"type\":\"VBar\"},{\"attributes\":{},\"id\":\"2155\",\"type\":\"WheelZoomTool\"},{\"attributes\":{\"coordinates\":null,\"group\":null,\"text_color\":\"black\",\"text_font_size\":\"12pt\"},\"id\":\"2138\",\"type\":\"Title\"},{\"attributes\":{},\"id\":\"2188\",\"type\":\"UnionRenderers\"},{\"attributes\":{\"axis\":{\"id\":\"2149\"},\"coordinates\":null,\"dimension\":1,\"grid_line_color\":null,\"group\":null,\"ticker\":null},\"id\":\"2152\",\"type\":\"Grid\"},{\"attributes\":{\"callback\":null,\"renderers\":[{\"id\":\"2172\"}],\"tags\":[\"hv_created\"],\"tooltips\":[[\"Years\",\"@{Years}\"],[\"Subscribers\",\"@{Subscribers}\"]]},\"id\":\"2136\",\"type\":\"HoverTool\"},{\"attributes\":{},\"id\":\"2157\",\"type\":\"ResetTool\"},{\"attributes\":{},\"id\":\"2150\",\"type\":\"BasicTicker\"},{\"attributes\":{},\"id\":\"2147\",\"type\":\"CategoricalTicker\"},{\"attributes\":{\"bottom_units\":\"screen\",\"coordinates\":null,\"fill_alpha\":0.5,\"fill_color\":\"lightgrey\",\"group\":null,\"left_units\":\"screen\",\"level\":\"overlay\",\"line_alpha\":1.0,\"line_color\":\"black\",\"line_dash\":[4,4],\"line_width\":2,\"right_units\":\"screen\",\"syncable\":false,\"top_units\":\"screen\"},\"id\":\"2158\",\"type\":\"BoxAnnotation\"},{\"attributes\":{\"below\":[{\"id\":\"2146\"}],\"center\":[{\"id\":\"2148\"},{\"id\":\"2152\"}],\"height\":300,\"left\":[{\"id\":\"2149\"}],\"margin\":[5,5,5,5],\"min_border_bottom\":10,\"min_border_left\":10,\"min_border_right\":10,\"min_border_top\":10,\"renderers\":[{\"id\":\"2172\"}],\"sizing_mode\":\"fixed\",\"title\":{\"id\":\"2138\"},\"toolbar\":{\"id\":\"2159\"},\"width\":700,\"x_range\":{\"id\":\"2134\"},\"x_scale\":{\"id\":\"2142\"},\"y_range\":{\"id\":\"2135\"},\"y_scale\":{\"id\":\"2144\"}},\"id\":\"2137\",\"subtype\":\"Figure\",\"type\":\"Plot\"},{\"attributes\":{\"data\":{\"Subscribers\":[7394000,8372000,9461000,10607000,12141000,12942000,14485000,16233000,19835000,22492000],\"Years\":[\"Q1 - 2018\",\"Q2 - 2018\",\"Q3 - 2018\",\"Q4 - 2018\",\"Q1 - 2019\",\"Q2 - 2019\",\"Q3 - 2019\",\"Q4 - 2019\",\"Q1 - 2020\",\"Q2 - 2020\"]},\"selected\":{\"id\":\"2167\"},\"selection_policy\":{\"id\":\"2188\"}},\"id\":\"2166\",\"type\":\"ColumnDataSource\"},{\"attributes\":{\"tools\":[{\"id\":\"2136\"},{\"id\":\"2153\"},{\"id\":\"2154\"},{\"id\":\"2155\"},{\"id\":\"2156\"},{\"id\":\"2157\"}]},\"id\":\"2159\",\"type\":\"Toolbar\"},{\"attributes\":{},\"id\":\"2167\",\"type\":\"Selection\"},{\"attributes\":{},\"id\":\"2179\",\"type\":\"BasicTickFormatter\"},{\"attributes\":{\"coordinates\":null,\"data_source\":{\"id\":\"2166\"},\"glyph\":{\"id\":\"2169\"},\"group\":null,\"hover_glyph\":null,\"muted_glyph\":{\"id\":\"2171\"},\"nonselection_glyph\":{\"id\":\"2170\"},\"selection_glyph\":{\"id\":\"2174\"},\"view\":{\"id\":\"2173\"}},\"id\":\"2172\",\"type\":\"GlyphRenderer\"},{\"attributes\":{\"factors\":[\"Q1 - 2018\",\"Q2 - 2018\",\"Q3 - 2018\",\"Q4 - 2018\",\"Q1 - 2019\",\"Q2 - 2019\",\"Q3 - 2019\",\"Q4 - 2019\",\"Q1 - 2020\",\"Q2 - 2020\"],\"tags\":[[[\"Years\",\"Years\",null]]]},\"id\":\"2134\",\"type\":\"FactorRange\"},{\"attributes\":{},\"id\":\"2144\",\"type\":\"LinearScale\"},{\"attributes\":{\"fill_alpha\":{\"value\":0.1},\"fill_color\":{\"value\":\"#30a2da\"},\"hatch_alpha\":{\"value\":0.1},\"hatch_color\":{\"value\":\"#30a2da\"},\"line_alpha\":{\"value\":0.1},\"top\":{\"field\":\"Subscribers\"},\"width\":{\"value\":0.8},\"x\":{\"field\":\"Years\"}},\"id\":\"2170\",\"type\":\"VBar\"},{\"attributes\":{\"children\":[{\"id\":\"2133\"},{\"id\":\"2137\"},{\"id\":\"2201\"}],\"margin\":[0,0,0,0],\"name\":\"Row03043\",\"tags\":[\"embedded\"]},\"id\":\"2132\",\"type\":\"Row\"},{\"attributes\":{\"axis_label\":\"Subscribers\",\"coordinates\":null,\"formatter\":{\"id\":\"2179\"},\"group\":null,\"major_label_policy\":{\"id\":\"2180\"},\"ticker\":{\"id\":\"2150\"}},\"id\":\"2149\",\"type\":\"LinearAxis\"},{\"attributes\":{},\"id\":\"2154\",\"type\":\"PanTool\"},{\"attributes\":{\"margin\":[5,5,5,5],\"name\":\"HSpacer03047\",\"sizing_mode\":\"stretch_width\"},\"id\":\"2133\",\"type\":\"Spacer\"},{\"attributes\":{\"overlay\":{\"id\":\"2158\"}},\"id\":\"2156\",\"type\":\"BoxZoomTool\"}],\"root_ids\":[\"2132\"]},\"title\":\"Bokeh Application\",\"version\":\"2.4.1\"}};\n",
       "    var render_items = [{\"docid\":\"02a0dcf2-268b-40fb-8bbb-0014ff1c1420\",\"root_ids\":[\"2132\"],\"roots\":{\"2132\":\"9d80344c-eded-4e65-8fc6-95aa14d02bb8\"}}];\n",
       "    root.Bokeh.embed.embed_items_notebook(docs_json, render_items);\n",
       "  }\n",
       "  if (root.Bokeh !== undefined && root.Bokeh.Panel !== undefined) {\n",
       "    embed_document(root);\n",
       "  } else {\n",
       "    var attempts = 0;\n",
       "    var timer = setInterval(function(root) {\n",
       "      if (root.Bokeh !== undefined && root.Bokeh.Panel !== undefined) {\n",
       "        clearInterval(timer);\n",
       "        embed_document(root);\n",
       "      } else if (document.readyState == \"complete\") {\n",
       "        attempts++;\n",
       "        if (attempts > 200) {\n",
       "          clearInterval(timer);\n",
       "          console.log(\"Bokeh: ERROR: Unable to run BokehJS code because BokehJS library is missing\");\n",
       "        }\n",
       "      }\n",
       "    }, 25, root)\n",
       "  }\n",
       "})(window);</script>"
      ],
      "text/plain": [
       ":Bars   [Years]   (Subscribers)"
      ]
     },
     "execution_count": 45,
     "metadata": {
      "application/vnd.holoviews_exec.v0+json": {
       "id": "2132"
      }
     },
     "output_type": "execute_result"
    }
   ],
   "source": [
    "plot_something('Asia-Pacific')"
   ]
  },
  {
   "cell_type": "code",
   "execution_count": 47,
   "id": "24c0d6e8",
   "metadata": {},
   "outputs": [
    {
     "data": {},
     "metadata": {},
     "output_type": "display_data"
    },
    {
     "data": {},
     "metadata": {},
     "output_type": "display_data"
    },
    {
     "data": {
      "application/vnd.holoviews_exec.v0+json": "",
      "text/html": [
       "<div id='2404'>\n",
       "\n",
       "\n",
       "\n",
       "\n",
       "\n",
       "  <div class=\"bk-root\" id=\"e5d3d58c-968c-4d25-a444-495318fd534e\" data-root-id=\"2404\"></div>\n",
       "</div>\n",
       "<script type=\"application/javascript\">(function(root) {\n",
       "  function embed_document(root) {\n",
       "    var docs_json = {\"9b041149-e887-4d75-9ceb-cf1ceca9064b\":{\"defs\":[{\"extends\":null,\"module\":null,\"name\":\"ReactiveHTML1\",\"overrides\":[],\"properties\":[]},{\"extends\":null,\"module\":null,\"name\":\"FlexBox1\",\"overrides\":[],\"properties\":[{\"default\":\"flex-start\",\"kind\":null,\"name\":\"align_content\"},{\"default\":\"flex-start\",\"kind\":null,\"name\":\"align_items\"},{\"default\":\"row\",\"kind\":null,\"name\":\"flex_direction\"},{\"default\":\"wrap\",\"kind\":null,\"name\":\"flex_wrap\"},{\"default\":\"flex-start\",\"kind\":null,\"name\":\"justify_content\"}]},{\"extends\":null,\"module\":null,\"name\":\"TemplateActions1\",\"overrides\":[],\"properties\":[{\"default\":0,\"kind\":null,\"name\":\"open_modal\"},{\"default\":0,\"kind\":null,\"name\":\"close_modal\"}]},{\"extends\":null,\"module\":null,\"name\":\"MaterialTemplateActions1\",\"overrides\":[],\"properties\":[{\"default\":0,\"kind\":null,\"name\":\"open_modal\"},{\"default\":0,\"kind\":null,\"name\":\"close_modal\"}]}],\"roots\":{\"references\":[{\"attributes\":{\"end\":74103500.0,\"reset_end\":74103500.0,\"reset_start\":0.0,\"tags\":[[[\"Subscribers\",\"Subscribers\",null]]]},\"id\":\"2409\",\"type\":\"Range1d\"},{\"attributes\":{\"children\":[{\"id\":\"2405\"},{\"id\":\"2406\"},{\"id\":\"2407\"}],\"margin\":[0,0,0,0],\"name\":\"Column03361\"},\"id\":\"2404\",\"type\":\"Column\"},{\"attributes\":{},\"id\":\"2454\",\"type\":\"AllLabels\"},{\"attributes\":{\"below\":[{\"id\":\"2420\"}],\"center\":[{\"id\":\"2422\"},{\"id\":\"2426\"}],\"height\":300,\"left\":[{\"id\":\"2423\"}],\"margin\":[5,5,5,5],\"min_border_bottom\":10,\"min_border_left\":10,\"min_border_right\":10,\"min_border_top\":10,\"renderers\":[{\"id\":\"2446\"}],\"sizing_mode\":\"fixed\",\"title\":{\"id\":\"2412\"},\"toolbar\":{\"id\":\"2433\"},\"width\":700,\"x_range\":{\"id\":\"2408\"},\"x_scale\":{\"id\":\"2416\"},\"y_range\":{\"id\":\"2409\"},\"y_scale\":{\"id\":\"2418\"}},\"id\":\"2411\",\"subtype\":\"Figure\",\"type\":\"Plot\"},{\"attributes\":{\"css_classes\":[\"markdown\"],\"margin\":[5,5,5,5],\"name\":\"Markdown03275\",\"text\":\"&lt;p&gt;Select a Region&lt;/p&gt;\"},\"id\":\"2405\",\"type\":\"panel.models.markup.HTML\"},{\"attributes\":{\"axis_label\":\"Subscribers\",\"coordinates\":null,\"formatter\":{\"id\":\"2453\"},\"group\":null,\"major_label_policy\":{\"id\":\"2454\"},\"ticker\":{\"id\":\"2424\"}},\"id\":\"2423\",\"type\":\"LinearAxis\"},{\"attributes\":{\"factors\":[\"Q1 - 2018\",\"Q2 - 2018\",\"Q3 - 2018\",\"Q4 - 2018\",\"Q1 - 2019\",\"Q2 - 2019\",\"Q3 - 2019\",\"Q4 - 2019\",\"Q1 - 2020\",\"Q2 - 2020\"],\"tags\":[[[\"Years\",\"Years\",null]]]},\"id\":\"2408\",\"type\":\"FactorRange\"},{\"attributes\":{\"bottom\":{\"value\":0},\"fill_alpha\":{\"value\":1.0},\"fill_color\":{\"value\":\"#30a2da\"},\"hatch_alpha\":{\"value\":1.0},\"hatch_color\":{\"value\":\"#30a2da\"},\"hatch_scale\":{\"value\":12.0},\"hatch_weight\":{\"value\":1.0},\"line_alpha\":{\"value\":1.0},\"line_cap\":{\"value\":\"butt\"},\"line_color\":{\"value\":\"black\"},\"line_dash\":{\"value\":[]},\"line_dash_offset\":{\"value\":0},\"line_join\":{\"value\":\"bevel\"},\"line_width\":{\"value\":1},\"top\":{\"field\":\"Subscribers\"},\"width\":{\"value\":0.8},\"x\":{\"field\":\"Years\"}},\"id\":\"2448\",\"type\":\"VBar\"},{\"attributes\":{},\"id\":\"2429\",\"type\":\"WheelZoomTool\"},{\"attributes\":{\"margin\":[5,10,5,10],\"options\":[\"United States and Canada\",\"Europe, Middle East and Africa\",\"Latin America\",\"Asia-Pacific\"],\"title\":\"Select\",\"value\":\"United States and Canada\"},\"id\":\"2406\",\"type\":\"Select\"},{\"attributes\":{},\"id\":\"2416\",\"type\":\"CategoricalScale\"},{\"attributes\":{\"fill_alpha\":{\"value\":0.1},\"fill_color\":{\"value\":\"#30a2da\"},\"hatch_alpha\":{\"value\":0.1},\"hatch_color\":{\"value\":\"#30a2da\"},\"line_alpha\":{\"value\":0.1},\"top\":{\"field\":\"Subscribers\"},\"width\":{\"value\":0.8},\"x\":{\"field\":\"Years\"}},\"id\":\"2444\",\"type\":\"VBar\"},{\"attributes\":{},\"id\":\"2441\",\"type\":\"Selection\"},{\"attributes\":{\"callback\":null,\"renderers\":[{\"id\":\"2446\"}],\"tags\":[\"hv_created\"],\"tooltips\":[[\"Years\",\"@{Years}\"],[\"Subscribers\",\"@{Subscribers}\"]]},\"id\":\"2410\",\"type\":\"HoverTool\"},{\"attributes\":{\"coordinates\":null,\"data_source\":{\"id\":\"2440\"},\"glyph\":{\"id\":\"2443\"},\"group\":null,\"hover_glyph\":null,\"muted_glyph\":{\"id\":\"2445\"},\"nonselection_glyph\":{\"id\":\"2444\"},\"selection_glyph\":{\"id\":\"2448\"},\"view\":{\"id\":\"2447\"}},\"id\":\"2446\",\"type\":\"GlyphRenderer\"},{\"attributes\":{\"client_comm_id\":\"a3d0d383b8874ee19c9da92ed4ad2105\",\"comm_id\":\"17d082a9a960493798624866c42c64e2\",\"plot_id\":\"2404\"},\"id\":\"2505\",\"type\":\"panel.models.comm_manager.CommManager\"},{\"attributes\":{\"coordinates\":null,\"group\":null,\"text_color\":\"black\",\"text_font_size\":\"12pt\"},\"id\":\"2412\",\"type\":\"Title\"},{\"attributes\":{},\"id\":\"2453\",\"type\":\"BasicTickFormatter\"},{\"attributes\":{\"tools\":[{\"id\":\"2410\"},{\"id\":\"2427\"},{\"id\":\"2428\"},{\"id\":\"2429\"},{\"id\":\"2430\"},{\"id\":\"2431\"}]},\"id\":\"2433\",\"type\":\"Toolbar\"},{\"attributes\":{},\"id\":\"2451\",\"type\":\"AllLabels\"},{\"attributes\":{\"bottom_units\":\"screen\",\"coordinates\":null,\"fill_alpha\":0.5,\"fill_color\":\"lightgrey\",\"group\":null,\"left_units\":\"screen\",\"level\":\"overlay\",\"line_alpha\":1.0,\"line_color\":\"black\",\"line_dash\":[4,4],\"line_width\":2,\"right_units\":\"screen\",\"syncable\":false,\"top_units\":\"screen\"},\"id\":\"2432\",\"type\":\"BoxAnnotation\"},{\"attributes\":{\"children\":[{\"id\":\"2411\"}],\"margin\":[0,0,0,0],\"name\":\"Row03281\"},\"id\":\"2407\",\"type\":\"Row\"},{\"attributes\":{},\"id\":\"2462\",\"type\":\"UnionRenderers\"},{\"attributes\":{\"axis_label\":\"Years\",\"coordinates\":null,\"formatter\":{\"id\":\"2450\"},\"group\":null,\"major_label_policy\":{\"id\":\"2451\"},\"ticker\":{\"id\":\"2421\"}},\"id\":\"2420\",\"type\":\"CategoricalAxis\"},{\"attributes\":{},\"id\":\"2427\",\"type\":\"SaveTool\"},{\"attributes\":{\"fill_color\":{\"value\":\"#30a2da\"},\"hatch_color\":{\"value\":\"#30a2da\"},\"top\":{\"field\":\"Subscribers\"},\"width\":{\"value\":0.8},\"x\":{\"field\":\"Years\"}},\"id\":\"2443\",\"type\":\"VBar\"},{\"attributes\":{\"axis\":{\"id\":\"2423\"},\"coordinates\":null,\"dimension\":1,\"grid_line_color\":null,\"group\":null,\"ticker\":null},\"id\":\"2426\",\"type\":\"Grid\"},{\"attributes\":{},\"id\":\"2450\",\"type\":\"CategoricalTickFormatter\"},{\"attributes\":{},\"id\":\"2421\",\"type\":\"CategoricalTicker\"},{\"attributes\":{},\"id\":\"2418\",\"type\":\"LinearScale\"},{\"attributes\":{},\"id\":\"2431\",\"type\":\"ResetTool\"},{\"attributes\":{\"fill_alpha\":{\"value\":0.2},\"fill_color\":{\"value\":\"#30a2da\"},\"hatch_alpha\":{\"value\":0.2},\"hatch_color\":{\"value\":\"#30a2da\"},\"line_alpha\":{\"value\":0.2},\"top\":{\"field\":\"Subscribers\"},\"width\":{\"value\":0.8},\"x\":{\"field\":\"Years\"}},\"id\":\"2445\",\"type\":\"VBar\"},{\"attributes\":{\"data\":{\"Subscribers\":[60909000,61870000,63010000,64757000,66633000,66501000,67114000,67662000,69969000,72904000],\"Years\":[\"Q1 - 2018\",\"Q2 - 2018\",\"Q3 - 2018\",\"Q4 - 2018\",\"Q1 - 2019\",\"Q2 - 2019\",\"Q3 - 2019\",\"Q4 - 2019\",\"Q1 - 2020\",\"Q2 - 2020\"]},\"selected\":{\"id\":\"2441\"},\"selection_policy\":{\"id\":\"2462\"}},\"id\":\"2440\",\"type\":\"ColumnDataSource\"},{\"attributes\":{\"source\":{\"id\":\"2440\"}},\"id\":\"2447\",\"type\":\"CDSView\"},{\"attributes\":{\"overlay\":{\"id\":\"2432\"}},\"id\":\"2430\",\"type\":\"BoxZoomTool\"},{\"attributes\":{},\"id\":\"2424\",\"type\":\"BasicTicker\"},{\"attributes\":{\"axis\":{\"id\":\"2420\"},\"coordinates\":null,\"grid_line_color\":null,\"group\":null,\"ticker\":null},\"id\":\"2422\",\"type\":\"Grid\"},{\"attributes\":{},\"id\":\"2428\",\"type\":\"PanTool\"}],\"root_ids\":[\"2404\",\"2505\"]},\"title\":\"Bokeh Application\",\"version\":\"2.4.1\"}};\n",
       "    var render_items = [{\"docid\":\"9b041149-e887-4d75-9ceb-cf1ceca9064b\",\"root_ids\":[\"2404\"],\"roots\":{\"2404\":\"e5d3d58c-968c-4d25-a444-495318fd534e\"}}];\n",
       "    root.Bokeh.embed.embed_items_notebook(docs_json, render_items);\n",
       "  }\n",
       "  if (root.Bokeh !== undefined && root.Bokeh.Panel !== undefined) {\n",
       "    embed_document(root);\n",
       "  } else {\n",
       "    var attempts = 0;\n",
       "    var timer = setInterval(function(root) {\n",
       "      if (root.Bokeh !== undefined && root.Bokeh.Panel !== undefined) {\n",
       "        clearInterval(timer);\n",
       "        embed_document(root);\n",
       "      } else if (document.readyState == \"complete\") {\n",
       "        attempts++;\n",
       "        if (attempts > 200) {\n",
       "          clearInterval(timer);\n",
       "          console.log(\"Bokeh: ERROR: Unable to run BokehJS code because BokehJS library is missing\");\n",
       "        }\n",
       "      }\n",
       "    }, 25, root)\n",
       "  }\n",
       "})(window);</script>"
      ],
      "text/plain": [
       "Column\n",
       "    [0] Markdown(str)\n",
       "    [1] Select(options=['United States and Canada...], value='United States a...)\n",
       "    [2] ParamFunction(function)"
      ]
     },
     "execution_count": 47,
     "metadata": {
      "application/vnd.holoviews_exec.v0+json": {
       "id": "2404"
      }
     },
     "output_type": "execute_result"
    }
   ],
   "source": [
    "import panel as pn\n",
    "pn.extension()\n",
    "\n",
    "regions=list(subscribers_df['Area'].unique())\n",
    "select=pn.widgets.Select(name='Select', value=regions[0], options=regions)\n",
    "\n",
    "def plot_something(region_selected): \n",
    "    return subscribers_df[subscribers_df['Area']==region_selected].set_index('Years').hvplot(kind='bar')\n",
    "\n",
    "make_select=pn.bind(plot_something, region_selected=select)\n",
    "\n",
    "pn.Column('Select a Region', select, make_select)"
   ]
  },
  {
   "cell_type": "code",
   "execution_count": null,
   "id": "fbd4c8a6",
   "metadata": {},
   "outputs": [],
   "source": []
  }
 ],
 "metadata": {
  "kernelspec": {
   "display_name": "Python 3 (ipykernel)",
   "language": "python",
   "name": "python3"
  },
  "language_info": {
   "codemirror_mode": {
    "name": "ipython",
    "version": 3
   },
   "file_extension": ".py",
   "mimetype": "text/x-python",
   "name": "python",
   "nbconvert_exporter": "python",
   "pygments_lexer": "ipython3",
   "version": "3.7.11"
  }
 },
 "nbformat": 4,
 "nbformat_minor": 5
}
