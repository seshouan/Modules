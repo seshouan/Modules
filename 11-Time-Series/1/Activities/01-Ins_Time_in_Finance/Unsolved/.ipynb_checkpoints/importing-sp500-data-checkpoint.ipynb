{
 "cells": [
  {
   "cell_type": "markdown",
   "metadata": {},
   "source": [
    "# Demo: Using Pandas to Work with Time Data"
   ]
  },
  {
   "cell_type": "code",
   "execution_count": 1,
   "metadata": {
    "tags": []
   },
   "outputs": [],
   "source": [
    "# Initial imports\n",
    "import pandas as pd\n",
    "from pathlib import Path"
   ]
  },
  {
   "cell_type": "code",
   "execution_count": 2,
   "metadata": {
    "tags": []
   },
   "outputs": [
    {
     "data": {
      "text/html": [
       "<div>\n",
       "<style scoped>\n",
       "    .dataframe tbody tr th:only-of-type {\n",
       "        vertical-align: middle;\n",
       "    }\n",
       "\n",
       "    .dataframe tbody tr th {\n",
       "        vertical-align: top;\n",
       "    }\n",
       "\n",
       "    .dataframe thead th {\n",
       "        text-align: right;\n",
       "    }\n",
       "</style>\n",
       "<table border=\"1\" class=\"dataframe\">\n",
       "  <thead>\n",
       "    <tr style=\"text-align: right;\">\n",
       "      <th></th>\n",
       "      <th>time</th>\n",
       "      <th>close</th>\n",
       "    </tr>\n",
       "  </thead>\n",
       "  <tbody>\n",
       "    <tr>\n",
       "      <th>0</th>\n",
       "      <td>2019-01-02 12:45:00+00:00</td>\n",
       "      <td>246.16</td>\n",
       "    </tr>\n",
       "    <tr>\n",
       "      <th>1</th>\n",
       "      <td>2019-01-02 13:00:00+00:00</td>\n",
       "      <td>246.15</td>\n",
       "    </tr>\n",
       "    <tr>\n",
       "      <th>2</th>\n",
       "      <td>2019-01-02 13:15:00+00:00</td>\n",
       "      <td>245.50</td>\n",
       "    </tr>\n",
       "    <tr>\n",
       "      <th>3</th>\n",
       "      <td>2019-01-02 13:30:00+00:00</td>\n",
       "      <td>245.71</td>\n",
       "    </tr>\n",
       "    <tr>\n",
       "      <th>4</th>\n",
       "      <td>2019-01-02 13:45:00+00:00</td>\n",
       "      <td>245.76</td>\n",
       "    </tr>\n",
       "  </tbody>\n",
       "</table>\n",
       "</div>"
      ],
      "text/plain": [
       "                        time   close\n",
       "0  2019-01-02 12:45:00+00:00  246.16\n",
       "1  2019-01-02 13:00:00+00:00  246.15\n",
       "2  2019-01-02 13:15:00+00:00  245.50\n",
       "3  2019-01-02 13:30:00+00:00  245.71\n",
       "4  2019-01-02 13:45:00+00:00  245.76"
      ]
     },
     "execution_count": 2,
     "metadata": {},
     "output_type": "execute_result"
    }
   ],
   "source": [
    "# Read the S&P 500 CSV data into a DataFrame\n",
    "df_sp500 = pd.read_csv(Path('../Resources/sp500.csv'))\n",
    "\n",
    "# Display the DataFrame\n",
    "df_sp500.head()"
   ]
  },
  {
   "cell_type": "code",
   "execution_count": 3,
   "metadata": {
    "tags": []
   },
   "outputs": [
    {
     "data": {
      "text/plain": [
       "time      object\n",
       "close    float64\n",
       "dtype: object"
      ]
     },
     "execution_count": 3,
     "metadata": {},
     "output_type": "execute_result"
    }
   ],
   "source": [
    "# Verify the data types using dtypes\n",
    "df_sp500.dtypes"
   ]
  },
  {
   "cell_type": "code",
   "execution_count": 4,
   "metadata": {
    "tags": []
   },
   "outputs": [
    {
     "data": {
      "text/plain": [
       "'2019-01-02 12:45:00+00:00'"
      ]
     },
     "execution_count": 4,
     "metadata": {},
     "output_type": "execute_result"
    }
   ],
   "source": [
    "# Reviewing the time value from index position 0\n",
    "df_sp500['time'][0]"
   ]
  },
  {
   "cell_type": "code",
   "execution_count": 5,
   "metadata": {
    "tags": []
   },
   "outputs": [
    {
     "data": {
      "text/plain": [
       "Timestamp('2023-08-17 19:32:51.936363')"
      ]
     },
     "execution_count": 5,
     "metadata": {},
     "output_type": "execute_result"
    }
   ],
   "source": [
    "# Getting the current date and time\n",
    "pd.to_datetime('today')"
   ]
  },
  {
   "cell_type": "code",
   "execution_count": 6,
   "metadata": {
    "tags": []
   },
   "outputs": [
    {
     "name": "stdout",
     "output_type": "stream",
     "text": [
      "<class 'pandas.core.frame.DataFrame'>\n",
      "RangeIndex: 9328 entries, 0 to 9327\n",
      "Data columns (total 2 columns):\n",
      " #   Column  Non-Null Count  Dtype              \n",
      "---  ------  --------------  -----              \n",
      " 0   time    9328 non-null   datetime64[ns, UTC]\n",
      " 1   close   9328 non-null   float64            \n",
      "dtypes: datetime64[ns, UTC](1), float64(1)\n",
      "memory usage: 145.9 KB\n"
     ]
    }
   ],
   "source": [
    "# Transform the time column to a datetime data type\n",
    "df_sp500['time'] = pd.to_datetime(df_sp500['time'],infer_datetime_format=True,utc=True)\n",
    "\n",
    "# Verify the data type transformation using the info function\n",
    "df_sp500.info()"
   ]
  },
  {
   "cell_type": "code",
   "execution_count": 8,
   "metadata": {
    "tags": []
   },
   "outputs": [
    {
     "name": "stdout",
     "output_type": "stream",
     "text": [
      "<class 'pandas.core.frame.DataFrame'>\n",
      "RangeIndex: 9328 entries, 0 to 9327\n",
      "Data columns (total 2 columns):\n",
      " #   Column  Non-Null Count  Dtype                     \n",
      "---  ------  --------------  -----                     \n",
      " 0   time    9328 non-null   datetime64[ns, US/Eastern]\n",
      " 1   close   9328 non-null   float64                   \n",
      "dtypes: datetime64[ns, US/Eastern](1), float64(1)\n",
      "memory usage: 145.9 KB\n"
     ]
    }
   ],
   "source": [
    "# Convert the time column to the US/Eastern timezone\n",
    "df_sp500['time'] = df_sp500['time'].dt.tz_convert('US/Eastern')\n",
    "\n",
    "# Verify the data type transformation using the info function\n",
    "df_sp500.info()"
   ]
  },
  {
   "cell_type": "code",
   "execution_count": 9,
   "metadata": {
    "tags": []
   },
   "outputs": [
    {
     "data": {
      "text/html": [
       "<div>\n",
       "<style scoped>\n",
       "    .dataframe tbody tr th:only-of-type {\n",
       "        vertical-align: middle;\n",
       "    }\n",
       "\n",
       "    .dataframe tbody tr th {\n",
       "        vertical-align: top;\n",
       "    }\n",
       "\n",
       "    .dataframe thead th {\n",
       "        text-align: right;\n",
       "    }\n",
       "</style>\n",
       "<table border=\"1\" class=\"dataframe\">\n",
       "  <thead>\n",
       "    <tr style=\"text-align: right;\">\n",
       "      <th></th>\n",
       "      <th>time</th>\n",
       "      <th>close</th>\n",
       "    </tr>\n",
       "  </thead>\n",
       "  <tbody>\n",
       "    <tr>\n",
       "      <th>0</th>\n",
       "      <td>2019-01-02 07:45:00-05:00</td>\n",
       "      <td>246.16</td>\n",
       "    </tr>\n",
       "    <tr>\n",
       "      <th>1</th>\n",
       "      <td>2019-01-02 08:00:00-05:00</td>\n",
       "      <td>246.15</td>\n",
       "    </tr>\n",
       "    <tr>\n",
       "      <th>2</th>\n",
       "      <td>2019-01-02 08:15:00-05:00</td>\n",
       "      <td>245.50</td>\n",
       "    </tr>\n",
       "    <tr>\n",
       "      <th>3</th>\n",
       "      <td>2019-01-02 08:30:00-05:00</td>\n",
       "      <td>245.71</td>\n",
       "    </tr>\n",
       "    <tr>\n",
       "      <th>4</th>\n",
       "      <td>2019-01-02 08:45:00-05:00</td>\n",
       "      <td>245.76</td>\n",
       "    </tr>\n",
       "  </tbody>\n",
       "</table>\n",
       "</div>"
      ],
      "text/plain": [
       "                       time   close\n",
       "0 2019-01-02 07:45:00-05:00  246.16\n",
       "1 2019-01-02 08:00:00-05:00  246.15\n",
       "2 2019-01-02 08:15:00-05:00  245.50\n",
       "3 2019-01-02 08:30:00-05:00  245.71\n",
       "4 2019-01-02 08:45:00-05:00  245.76"
      ]
     },
     "execution_count": 9,
     "metadata": {},
     "output_type": "execute_result"
    }
   ],
   "source": [
    "# Review the DataFrame with the new timezone information\n",
    "df_sp500.head()"
   ]
  },
  {
   "cell_type": "code",
   "execution_count": 11,
   "metadata": {
    "tags": []
   },
   "outputs": [
    {
     "data": {
      "text/plain": [
       "environ{'TERM_PROGRAM': 'Apple_Terminal',\n",
       "        'SHELL': '/bin/zsh',\n",
       "        'TERM': 'xterm-color',\n",
       "        'TMPDIR': '/var/folders/l_/z3f0tw616952x5ddvbpxjdhr0000gn/T/',\n",
       "        'TERM_PROGRAM_VERSION': '447',\n",
       "        'TERM_SESSION_ID': 'F84C6B25-8C8A-43C9-9550-0981C7F93BB3',\n",
       "        'USER': 'seshouan',\n",
       "        'SSH_AUTH_SOCK': '/private/tmp/com.apple.launchd.j7j4v6xtHd/Listeners',\n",
       "        'PATH': '/Users/seshouan/anaconda3/envs/dev/bin:/Users/seshouan/anaconda3/condabin:/usr/local/bin:/usr/local/sbin:/Library/Frameworks/Python.framework/Versions/3.10/bin:/usr/local/bin:/System/Cryptexes/App/usr/bin:/usr/bin:/bin:/usr/sbin:/sbin:/Library/Apple/usr/bin:/var/run/com.apple.security.cryptexd/codex.system/bootstrap/usr/local/bin:/var/run/com.apple.security.cryptexd/codex.system/bootstrap/usr/bin:/var/run/com.apple.security.cryptexd/codex.system/bootstrap/usr/appleinternal/bin',\n",
       "        'LaunchInstanceID': 'DC763C14-97D6-4A9F-B884-3987F5189AC0',\n",
       "        '__CFBundleIdentifier': 'com.apple.Terminal',\n",
       "        'PWD': '/Users/seshouan/Documents/Learning/FinTech Bootcamp/GitHub',\n",
       "        'XPC_FLAGS': '0x0',\n",
       "        'XPC_SERVICE_NAME': '0',\n",
       "        'SHLVL': '1',\n",
       "        'HOME': '/Users/seshouan',\n",
       "        'LOGNAME': 'seshouan',\n",
       "        'SECURITYSESSIONID': '186a6',\n",
       "        'OLDPWD': '/Users/seshouan/Documents/Learning/FinTech Bootcamp/GitHub',\n",
       "        'HOMEBREW_PREFIX': '/usr/local',\n",
       "        'HOMEBREW_CELLAR': '/usr/local/Cellar',\n",
       "        'HOMEBREW_REPOSITORY': '/usr/local/Homebrew',\n",
       "        'MANPATH': '/usr/local/share/man::',\n",
       "        'INFOPATH': '/usr/local/share/info:',\n",
       "        'CONDA_EXE': '/Users/seshouan/anaconda3/bin/conda',\n",
       "        '_CE_M': '',\n",
       "        '_CE_CONDA': '',\n",
       "        'CONDA_PYTHON_EXE': '/Users/seshouan/anaconda3/bin/python',\n",
       "        'CONDA_SHLVL': '2',\n",
       "        'CONDA_PREFIX': '/Users/seshouan/anaconda3/envs/dev',\n",
       "        'CONDA_DEFAULT_ENV': 'dev',\n",
       "        'CONDA_PROMPT_MODIFIER': '(dev) ',\n",
       "        'CONDA_PREFIX_1': '/Users/seshouan/anaconda3',\n",
       "        'PROJ_LIB': '/Users/seshouan/anaconda3/envs/dev/share/proj',\n",
       "        'PROJ_NETWORK': 'ON',\n",
       "        'LANG': 'en_US.UTF-8',\n",
       "        '_': '/Users/seshouan/anaconda3/envs/dev/bin/jupyter',\n",
       "        '__CF_USER_TEXT_ENCODING': '0x1F5:0x0:0x0',\n",
       "        'PYDEVD_USE_FRAME_EVAL': 'NO',\n",
       "        'JPY_SESSION_NAME': '/Users/seshouan/Documents/Learning/FinTech Bootcamp/GitHub/Modules/11-Time-Series/1/Activities/01-Ins_Time_in_Finance/Unsolved/importing-sp500-data.ipynb',\n",
       "        'JPY_PARENT_PID': '1785',\n",
       "        'CLICOLOR': '1',\n",
       "        'FORCE_COLOR': '1',\n",
       "        'CLICOLOR_FORCE': '1',\n",
       "        'PAGER': 'cat',\n",
       "        'GIT_PAGER': 'cat',\n",
       "        'MPLBACKEND': 'module://matplotlib_inline.backend_inline'}"
      ]
     },
     "execution_count": 11,
     "metadata": {},
     "output_type": "execute_result"
    }
   ],
   "source": [
    "import os\n",
    "os.environ"
   ]
  },
  {
   "cell_type": "code",
   "execution_count": null,
   "metadata": {},
   "outputs": [],
   "source": []
  }
 ],
 "metadata": {
  "kernelspec": {
   "display_name": "Python 3 (ipykernel)",
   "language": "python",
   "name": "python3"
  },
  "language_info": {
   "codemirror_mode": {
    "name": "ipython",
    "version": 3
   },
   "file_extension": ".py",
   "mimetype": "text/x-python",
   "name": "python",
   "nbconvert_exporter": "python",
   "pygments_lexer": "ipython3",
   "version": "3.11.3"
  }
 },
 "nbformat": 4,
 "nbformat_minor": 4
}
