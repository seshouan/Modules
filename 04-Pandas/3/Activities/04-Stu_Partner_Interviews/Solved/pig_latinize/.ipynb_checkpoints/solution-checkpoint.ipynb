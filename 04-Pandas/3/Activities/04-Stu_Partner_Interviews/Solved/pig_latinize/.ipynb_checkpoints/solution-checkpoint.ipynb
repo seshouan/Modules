{
 "cells": [
  {
   "cell_type": "markdown",
   "id": "fcc2f5b6-08fb-48a0-8e86-38e2244a292b",
   "metadata": {},
   "source": [
    "### Define helper functions"
   ]
  },
  {
   "cell_type": "code",
   "execution_count": 1,
   "id": "caad0dcc-bf18-49f8-ae35-a1209c70994d",
   "metadata": {},
   "outputs": [],
   "source": [
    "def piggify(word):\n",
    "    # initialize the output to return\n",
    "    result = ''\n",
    "    \n",
    "    # transform word to pig latin\n",
    "    result = word[1:] + word[0].lower() + 'ay'\n",
    "    \n",
    "    # pass on capitalization to the output if the original word was capitalized\n",
    "    if word[0].isupper():\n",
    "        result = result[0].upper() + result[1:]\n",
    "    \n",
    "    # return the resulting output\n",
    "    return result"
   ]
  },
  {
   "cell_type": "markdown",
   "id": "2fb31c6b-c567-4e9b-a40e-0c69b84c2190",
   "metadata": {},
   "source": [
    "### Define main function"
   ]
  },
  {
   "cell_type": "code",
   "execution_count": 2,
   "id": "2274a0b0-9424-4fa4-b578-b81717cee46c",
   "metadata": {
    "tags": []
   },
   "outputs": [],
   "source": [
    "def pig_latinize(phrase):\n",
    "    # initialize the output to return and other needed variables\n",
    "    result = ''\n",
    "    \n",
    "    # ensure that we've been provided a non-empty or non-space-only string\n",
    "    if len(phrase.strip()) == 0:\n",
    "        result = 'Please provide a non-empty string'\n",
    "    else:\n",
    "        result = \" \".join(map(piggify,phrase.split(' ')))\n",
    "        \n",
    "    # return the resulting output\n",
    "    return result"
   ]
  },
  {
   "cell_type": "code",
   "execution_count": 19,
   "id": "1959ec4e-9659-4a62-953b-ed963504eb4f",
   "metadata": {
    "tags": []
   },
   "outputs": [],
   "source": [
    "def pig_latinize2(phrase):\n",
    "    # initialize the output to return and other needed variables\n",
    "    result = ''\n",
    "    \n",
    "    # ensure that we've been provided a non-empty or non-space-only string\n",
    "    if len(phrase.strip()) == 0:\n",
    "        result = 'Please provide a non-empty string'\n",
    "    else:\n",
    "        # iterate through each word and transform it to Pig Latin\n",
    "        for word in phrase.split(' '):\n",
    "            # check whether the initial word started with a capital letter\n",
    "            if word[0].isupper():\n",
    "                # reflect the capitalization in the resulting word\n",
    "                result += word[1].upper() + word[2:] + word[0].lower() + 'ay' + ' '\n",
    "            else:\n",
    "                # transform the word normally\n",
    "                result += word[1:] + word[0].lower() + 'ay' + ' '\n",
    "    \n",
    "    # strip the last space entered\n",
    "    result = result.strip()\n",
    "    \n",
    "    # return the resulting output\n",
    "    return result"
   ]
  },
  {
   "cell_type": "markdown",
   "id": "beb8ac4d-3bd9-4b24-a45d-4a741c704a29",
   "metadata": {},
   "source": [
    "### Call main function"
   ]
  },
  {
   "cell_type": "code",
   "execution_count": 20,
   "id": "e0ea1c7c-b97c-4705-b6dd-ac4303bcbf2a",
   "metadata": {
    "tags": []
   },
   "outputs": [
    {
     "name": "stdout",
     "output_type": "stream",
     "text": [
      "ouryay Arcay siay eryvay Icenay\n",
      "yay\n"
     ]
    }
   ],
   "source": [
    "# print(pig_latinize('Fish'))\n",
    "print(pig_latinize2(\"your Car is very Nice\"))\n",
    "print(pig_latinize2(\"y\"))"
   ]
  },
  {
   "cell_type": "code",
   "execution_count": null,
   "id": "5358540f-b0af-4f47-8a77-e8aeb0230317",
   "metadata": {},
   "outputs": [],
   "source": []
  }
 ],
 "metadata": {
  "kernelspec": {
   "display_name": "Python 3 (ipykernel)",
   "language": "python",
   "name": "python3"
  },
  "language_info": {
   "codemirror_mode": {
    "name": "ipython",
    "version": 3
   },
   "file_extension": ".py",
   "mimetype": "text/x-python",
   "name": "python",
   "nbconvert_exporter": "python",
   "pygments_lexer": "ipython3",
   "version": "3.11.3"
  }
 },
 "nbformat": 4,
 "nbformat_minor": 5
}
