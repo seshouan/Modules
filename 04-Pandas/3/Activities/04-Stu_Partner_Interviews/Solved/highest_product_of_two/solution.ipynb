{
 "cells": [
  {
   "cell_type": "markdown",
   "id": "2a3f757c-0f24-4352-a14d-8fea25520f4a",
   "metadata": {},
   "source": [
    "### Define main function"
   ]
  },
  {
   "cell_type": "code",
   "execution_count": 14,
   "id": "e4eaa68e-ac65-41d8-ac8f-e161c1e057b6",
   "metadata": {
    "tags": []
   },
   "outputs": [],
   "source": [
    "def highest_prod(nums):\n",
    "    # initialize the result string to return and other variables\n",
    "    result = ''\n",
    "    top_2_prod = 0\n",
    "    bottom_2_prod = 0\n",
    "    \n",
    "    # ensure that the list has at least 4 numbers\n",
    "    if len(nums) < 4:\n",
    "        result = 'You didn\\'t provide at least 4 numbers to check'\n",
    "    else:\n",
    "        # sort the list of numbers\n",
    "        nums = sorted(nums)\n",
    "        \n",
    "        # compute the product of the top 2 numbers\n",
    "        top_2_prod = nums[-1] * nums[-2]\n",
    "        \n",
    "        # check if the bottom 2 numers are negative, and compute their product, else make it 0\n",
    "        if nums[0] < 0 and nums[1] < 0:\n",
    "            bottom_2_prod = nums[0] * nums[1]\n",
    "        \n",
    "        # compare the product of the top 2 numbers and that of the bottom 2 numbers\n",
    "        # compute if the top 2 product is greater\n",
    "        if top_2_prod > bottom_2_prod:\n",
    "            result = f'{nums[-2]} * {nums[-1]} = {top_2_prod}'\n",
    "        # compute if the bottom 2 product is greater\n",
    "        elif top_2_prod < bottom_2_prod:\n",
    "            result = f'{nums[0]} * {nums[1]} = {bottom_2_prod}'\n",
    "        # compute if they are the same\n",
    "        else:\n",
    "            result = f'{nums[0]} * {nums[1]} = {bottom_2_prod}\\n'\n",
    "            result += f'{nums[-2]} * {nums[-1]} = {top_2_prod}'\n",
    "\n",
    "    # return the result string\n",
    "    return result"
   ]
  },
  {
   "cell_type": "markdown",
   "id": "ad415a71-b087-4567-8b10-419f6b922525",
   "metadata": {},
   "source": [
    "### Call main function"
   ]
  },
  {
   "cell_type": "code",
   "execution_count": 15,
   "id": "00ed9f0d-a1fe-4c73-9604-e702e49970e8",
   "metadata": {
    "tags": []
   },
   "outputs": [
    {
     "name": "stdout",
     "output_type": "stream",
     "text": [
      "-100 * -50 = 5000\n",
      "50 * 100 = 5000\n"
     ]
    }
   ],
   "source": [
    "print(highest_prod([-100, -50, 2, 50, 100]))"
   ]
  },
  {
   "cell_type": "code",
   "execution_count": null,
   "id": "7c976289-0ef4-4083-86df-3151a45938a6",
   "metadata": {},
   "outputs": [],
   "source": []
  }
 ],
 "metadata": {
  "kernelspec": {
   "display_name": "Python 3 (ipykernel)",
   "language": "python",
   "name": "python3"
  },
  "language_info": {
   "codemirror_mode": {
    "name": "ipython",
    "version": 3
   },
   "file_extension": ".py",
   "mimetype": "text/x-python",
   "name": "python",
   "nbconvert_exporter": "python",
   "pygments_lexer": "ipython3",
   "version": "3.11.3"
  }
 },
 "nbformat": 4,
 "nbformat_minor": 5
}
