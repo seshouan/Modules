{
 "cells": [
  {
   "cell_type": "markdown",
   "id": "7b650e6e-8f91-40c4-b6cc-f4decf7a5425",
   "metadata": {},
   "source": [
    "### Define main function"
   ]
  },
  {
   "cell_type": "code",
   "execution_count": 1,
   "id": "4841ca87-18e1-42f1-9d63-db914637116c",
   "metadata": {},
   "outputs": [],
   "source": [
    "def palindrome(chars):\n",
    "    # initialize return and other variables\n",
    "    result = False\n",
    "    reverse_chars = ''\n",
    "    \n",
    "    # remove spaces in the provided string\n",
    "    chars = chars.replace(' ','')\n",
    "    \n",
    "    # reverse the provided string\n",
    "    reverse_chars = chars[::-1]\n",
    "    \n",
    "    # compare the reverse to the original to determine whether the string is a palindrome; make it case-insensitive\n",
    "    if chars.lower() == reverse_chars.lower():\n",
    "        result = True\n",
    "    \n",
    "    # return output result\n",
    "    return result"
   ]
  },
  {
   "cell_type": "markdown",
   "id": "b020035f-8591-49f0-9ec4-fe117fbf41d5",
   "metadata": {},
   "source": [
    "### Call main function"
   ]
  },
  {
   "cell_type": "code",
   "execution_count": 2,
   "id": "cc27b010-b8fd-4c49-8d7f-9ccf4e3aae69",
   "metadata": {
    "tags": []
   },
   "outputs": [
    {
     "name": "stdout",
     "output_type": "stream",
     "text": [
      "True\n"
     ]
    }
   ],
   "source": [
    "print(palindrome(\"Never odd or even\"))"
   ]
  },
  {
   "cell_type": "code",
   "execution_count": null,
   "id": "c7227c33-b044-45c0-899c-cbe9ab8522dc",
   "metadata": {},
   "outputs": [],
   "source": []
  }
 ],
 "metadata": {
  "kernelspec": {
   "display_name": "Python 3 (ipykernel)",
   "language": "python",
   "name": "python3"
  },
  "language_info": {
   "codemirror_mode": {
    "name": "ipython",
    "version": 3
   },
   "file_extension": ".py",
   "mimetype": "text/x-python",
   "name": "python",
   "nbconvert_exporter": "python",
   "pygments_lexer": "ipython3",
   "version": "3.11.3"
  }
 },
 "nbformat": 4,
 "nbformat_minor": 5
}
