{
 "cells": [
  {
   "cell_type": "markdown",
   "id": "6932eb72-1e48-4420-a037-3877484ad262",
   "metadata": {},
   "source": [
    "### Import required dependencies"
   ]
  },
  {
   "cell_type": "code",
   "execution_count": null,
   "id": "80bb48d1-c2dc-4753-bfbd-e79b3e1f07b7",
   "metadata": {},
   "outputs": [],
   "source": []
  },
  {
   "cell_type": "markdown",
   "id": "d191261f-cef2-4cce-a5e5-edbc2b5f7cf0",
   "metadata": {},
   "source": [
    "### Define helper function(s)"
   ]
  },
  {
   "cell_type": "code",
   "execution_count": null,
   "id": "6157589e-e6df-4103-851f-4a7495b10961",
   "metadata": {},
   "outputs": [],
   "source": []
  },
  {
   "cell_type": "markdown",
   "id": "fd230ad0-3dd3-40ad-bebc-9954c1b4d751",
   "metadata": {
    "tags": []
   },
   "source": [
    "### Define main function"
   ]
  },
  {
   "cell_type": "code",
   "execution_count": 18,
   "id": "a743b4d5-356f-4ee6-a246-f24e5a4fcd37",
   "metadata": {
    "tags": []
   },
   "outputs": [],
   "source": [
    "def optimal_trader(prices):\n",
    "    if len(prices) <= 1:\n",
    "        result = 'You didn\\'t provide enough price movements'\n",
    "    else:\n",
    "        # initialize the remaining list of prices, dictionary of profits, and positions\n",
    "        remaining_prices = prices\n",
    "        profits = {}\n",
    "        min_price = 0\n",
    "        max_price = 0\n",
    "        \n",
    "        # iterate through the remaining list of prices\n",
    "        while len(remaining_prices) >1:\n",
    "            # identify the min, max, and profit values\n",
    "            min_price = min(remaining_prices)\n",
    "            max_price = max(remaining_prices)\n",
    "            profit = max_price - min_price\n",
    "            \n",
    "            # if the max price comes after the min price, then record the trade and exit the while loop\n",
    "            if remaining_prices.index(max_price) > remaining_prices.index(min_price) and profit not in profits:\n",
    "                profits[profit] = [min_price,max_price]\n",
    "                break\n",
    "            \n",
    "            # else, if the max price is not the first entry in the remaining list, reset the min price and record the best trade prior to the max price\n",
    "            elif remaining_prices.index(max_price) != 0:\n",
    "                min_price = min(remaining_prices[:remaining_prices.index(max_price)])\n",
    "                profit = max_price - min_price\n",
    "                # only include the trade if a similar one hasn't already been recorded\n",
    "                if profit not in profits:\n",
    "                    profits[profit] = [min_price,max_price]\n",
    "            \n",
    "            # update the remaining prices list\n",
    "            remaining_prices = remaining_prices[remaining_prices.index(max_price)+1:]\n",
    "            \n",
    "        # return the highest profit potential from the dictionary\n",
    "        if not profits:\n",
    "            result = 'There were no profitable trades today'\n",
    "        else:\n",
    "            optimal_trade = profits[max(profits)]\n",
    "            result = f'The optimal trade is to buy at ${optimal_trade[0]} and sell at ${optimal_trade[1]}, for a profit of ${round(SHARES * max(profits),2)}'\n",
    "        \n",
    "    return result"
   ]
  },
  {
   "cell_type": "markdown",
   "id": "fd6a8508-d9c9-4c2c-9a61-b906689cfc66",
   "metadata": {},
   "source": [
    "### Call main function"
   ]
  },
  {
   "cell_type": "code",
   "execution_count": 19,
   "id": "987e201c-e29a-4014-ac78-a094f03eb5e7",
   "metadata": {
    "tags": []
   },
   "outputs": [
    {
     "name": "stdout",
     "output_type": "stream",
     "text": [
      "The optimal trade is to buy at $1.2 and sell at $1.89, for a profit of $6900.0\n"
     ]
    }
   ],
   "source": [
    "# number of shares\n",
    "SHARES = 10000\n",
    "# original list of prices\n",
    "# print(optimal_trader([1.42, 1.32, 1.45, 1.20, 1.34, 1.74, 1.10, 1.89, 1.42, 1.90, 1.80, 1.85]))\n",
    "\n",
    "# constantly decreasing prices\n",
    "# print(optimal_trader([1.99, 1.90, 1.85, 1.70, 1.54, 1.24, 1.10]))\n",
    "\n",
    "# min price after the max price\n",
    "# print(optimal_trader([1.42, 1.32, 1.45, 1.90, 1.34, 1.74, 1.10, 1.33, 1.42, 1.89, 1.80, 1.85]))\n",
    "\n",
    "# multiple local min and max ranges\n",
    "print(optimal_trader([1.42, 1.32, 1.45, 1.90, 1.34, 1.74, 1.20, 1.33, 1.42, 1.89, 1.10, 1.30]))\n",
    "\n",
    "# no price changes\n",
    "# print(optimal_trader([1.42, 1.42, 1.42, 1.42, 1.42, 1.42, 1.42, 1.42, 1.42, 1.42, 1.42, 1.42]))"
   ]
  },
  {
   "cell_type": "code",
   "execution_count": null,
   "id": "6240eee4-1688-4e6d-937b-67bc06be7d0e",
   "metadata": {},
   "outputs": [],
   "source": []
  }
 ],
 "metadata": {
  "kernelspec": {
   "display_name": "Python 3 (ipykernel)",
   "language": "python",
   "name": "python3"
  },
  "language_info": {
   "codemirror_mode": {
    "name": "ipython",
    "version": 3
   },
   "file_extension": ".py",
   "mimetype": "text/x-python",
   "name": "python",
   "nbconvert_exporter": "python",
   "pygments_lexer": "ipython3",
   "version": "3.11.3"
  }
 },
 "nbformat": 4,
 "nbformat_minor": 5
}
