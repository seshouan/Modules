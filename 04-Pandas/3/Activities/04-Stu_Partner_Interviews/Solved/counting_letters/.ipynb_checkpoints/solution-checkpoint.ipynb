{
 "cells": [
  {
   "cell_type": "markdown",
   "id": "2885587e-d988-431e-a2ab-cbacea1ecbe1",
   "metadata": {},
   "source": [
    "### Define main function"
   ]
  },
  {
   "cell_type": "code",
   "execution_count": 7,
   "id": "626df42f-5998-443d-9c94-fc609d515c96",
   "metadata": {
    "tags": []
   },
   "outputs": [],
   "source": [
    "# function returns a dictionary with the count for each character in the provided string (case-sensitive)\n",
    "def count_letters(chars):\n",
    "    # initialize dictionary to return\n",
    "    result = {}\n",
    "    \n",
    "    # loop through the string to enter or increment the count of the characters in the string\n",
    "    for ch in chars:\n",
    "        # if the character is not in the dictionary, then add it with a count of 1\n",
    "        if ch not in result:\n",
    "            result[ch] = 1\n",
    "        # else, increment the character's count in the dictionary\n",
    "        else:\n",
    "            result[ch] += 1\n",
    "    \n",
    "    # return the dictionary\n",
    "    return result"
   ]
  },
  {
   "cell_type": "markdown",
   "id": "7dfcffbb-6d1e-4fa4-9271-244792275c13",
   "metadata": {},
   "source": [
    "### Call main function"
   ]
  },
  {
   "cell_type": "code",
   "execution_count": 9,
   "id": "9475e0b0-a21c-404d-b0bb-a161991b5af8",
   "metadata": {
    "tags": []
   },
   "outputs": [
    {
     "name": "stdout",
     "output_type": "stream",
     "text": [
      "('E', 1)\n",
      "('x', 1)\n",
      "('a', 1)\n",
      "('m', 1)\n",
      "('p', 1)\n",
      "('l', 1)\n",
      "('e', 4)\n",
      "(' ', 1)\n",
      "('s', 1)\n",
      "('n', 2)\n",
      "('t', 1)\n",
      "('c', 1)\n"
     ]
    }
   ],
   "source": [
    "test = \"Example sentence\"\n",
    "output = count_letters(test)\n",
    "for entry in output.items():\n",
    "    print(entry)"
   ]
  },
  {
   "cell_type": "code",
   "execution_count": null,
   "id": "365f8806-758e-48b2-b257-45301d2c1b55",
   "metadata": {},
   "outputs": [],
   "source": []
  }
 ],
 "metadata": {
  "kernelspec": {
   "display_name": "Python 3 (ipykernel)",
   "language": "python",
   "name": "python3"
  },
  "language_info": {
   "codemirror_mode": {
    "name": "ipython",
    "version": 3
   },
   "file_extension": ".py",
   "mimetype": "text/x-python",
   "name": "python",
   "nbconvert_exporter": "python",
   "pygments_lexer": "ipython3",
   "version": "3.11.3"
  }
 },
 "nbformat": 4,
 "nbformat_minor": 5
}
