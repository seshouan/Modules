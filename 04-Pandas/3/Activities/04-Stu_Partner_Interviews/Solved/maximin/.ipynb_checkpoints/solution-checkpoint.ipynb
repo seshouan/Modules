{
 "cells": [
  {
   "cell_type": "markdown",
   "id": "6c2b566d-9caa-43c8-8cb3-b7478729b87c",
   "metadata": {},
   "source": [
    "### Define main function"
   ]
  },
  {
   "cell_type": "code",
   "execution_count": 2,
   "id": "519ad3d9-d4aa-4be0-89d7-d3325f0defff",
   "metadata": {},
   "outputs": [],
   "source": [
    "def maximin(nums):\n",
    "    # initialize the min, max, and result variables\n",
    "    min_num = nums[0]\n",
    "    max_num = nums[0]\n",
    "    result = ''\n",
    "    \n",
    "    # loop through the list to identify the min and max values, starting at the second position to save time\n",
    "    for num in nums[1:]:\n",
    "        if num < min_num:\n",
    "            min_num = num\n",
    "        elif num > max_num:\n",
    "            max_num = num\n",
    "    \n",
    "    # format the result to return\n",
    "    result = f'The min is {min_num}, and the max is {max_num}'\n",
    "    \n",
    "    # return the result\n",
    "    return result    "
   ]
  },
  {
   "cell_type": "markdown",
   "id": "2fbad130-1ca5-4e85-860e-47e7c7199c32",
   "metadata": {},
   "source": [
    "### Call main function"
   ]
  },
  {
   "cell_type": "code",
   "execution_count": 3,
   "id": "5f592072-59a5-4473-9f5a-323b47f5b44f",
   "metadata": {},
   "outputs": [
    {
     "name": "stdout",
     "output_type": "stream",
     "text": [
      "The min is 2, and the max is 75\n"
     ]
    }
   ],
   "source": [
    "print(maximin([12, 33, 41, 2, 61, 32, 75, 43, 67]))"
   ]
  },
  {
   "cell_type": "code",
   "execution_count": null,
   "id": "a7de269c-e802-4030-a0c8-432824a88945",
   "metadata": {},
   "outputs": [],
   "source": []
  }
 ],
 "metadata": {
  "kernelspec": {
   "display_name": "Python 3 (ipykernel)",
   "language": "python",
   "name": "python3"
  },
  "language_info": {
   "codemirror_mode": {
    "name": "ipython",
    "version": 3
   },
   "file_extension": ".py",
   "mimetype": "text/x-python",
   "name": "python",
   "nbconvert_exporter": "python",
   "pygments_lexer": "ipython3",
   "version": "3.11.3"
  }
 },
 "nbformat": 4,
 "nbformat_minor": 5
}
