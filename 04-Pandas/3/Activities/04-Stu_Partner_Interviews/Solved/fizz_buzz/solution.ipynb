{
 "cells": [
  {
   "cell_type": "markdown",
   "id": "5e136115-5eb2-42fe-b479-c3dff2c71faf",
   "metadata": {},
   "source": [
    "### Define main function"
   ]
  },
  {
   "cell_type": "code",
   "execution_count": 9,
   "id": "5dc7f7b3-60b6-4568-81d0-f9dcd62eeace",
   "metadata": {
    "tags": []
   },
   "outputs": [],
   "source": [
    "def fizz_buzz():\n",
    "    # initialize the output\n",
    "    result = ''\n",
    "    \n",
    "    # iterate through the range of 1 to 100 to output the desired data\n",
    "    for i in range(1,101):\n",
    "        # if the number is a multiple of 3 only, output 'Fizz'\n",
    "        if i % 3 == 0 and i % 5 != 0:\n",
    "            result += 'Fizz\\n'\n",
    "        # if the number is a multiple of 5 only, output 'Buzz'\n",
    "        elif i % 5 == 0 and i % 3 != 0:\n",
    "            result += 'Buzz\\n'\n",
    "        # if the number is a multiple of 3 and 5, output 'FizzBuzz'\n",
    "        elif i % 5 == 0 and i % 3 == 0:\n",
    "            result += 'FizzBuzz\\n'\n",
    "        # if the number is not a multiple of 3 and/or 5, output the number\n",
    "        else:\n",
    "            result += f'{str(i)}\\n'\n",
    "    \n",
    "    # return the resulting output\n",
    "    return result"
   ]
  },
  {
   "cell_type": "markdown",
   "id": "8676db2a-f262-41f5-a780-67f24997faf4",
   "metadata": {},
   "source": [
    "### Call main function"
   ]
  },
  {
   "cell_type": "code",
   "execution_count": 10,
   "id": "9adc961e-723a-42db-8c51-ab6e9f60b1eb",
   "metadata": {
    "tags": []
   },
   "outputs": [
    {
     "name": "stdout",
     "output_type": "stream",
     "text": [
      "1\n",
      "2\n",
      "Fizz\n",
      "4\n",
      "Buzz\n",
      "Fizz\n",
      "7\n",
      "8\n",
      "Fizz\n",
      "Buzz\n",
      "11\n",
      "Fizz\n",
      "13\n",
      "14\n",
      "FizzBuzz\n",
      "16\n",
      "17\n",
      "Fizz\n",
      "19\n",
      "Buzz\n",
      "Fizz\n",
      "22\n",
      "23\n",
      "Fizz\n",
      "Buzz\n",
      "26\n",
      "Fizz\n",
      "28\n",
      "29\n",
      "FizzBuzz\n",
      "31\n",
      "32\n",
      "Fizz\n",
      "34\n",
      "Buzz\n",
      "Fizz\n",
      "37\n",
      "38\n",
      "Fizz\n",
      "Buzz\n",
      "41\n",
      "Fizz\n",
      "43\n",
      "44\n",
      "FizzBuzz\n",
      "46\n",
      "47\n",
      "Fizz\n",
      "49\n",
      "Buzz\n",
      "Fizz\n",
      "52\n",
      "53\n",
      "Fizz\n",
      "Buzz\n",
      "56\n",
      "Fizz\n",
      "58\n",
      "59\n",
      "FizzBuzz\n",
      "61\n",
      "62\n",
      "Fizz\n",
      "64\n",
      "Buzz\n",
      "Fizz\n",
      "67\n",
      "68\n",
      "Fizz\n",
      "Buzz\n",
      "71\n",
      "Fizz\n",
      "73\n",
      "74\n",
      "FizzBuzz\n",
      "76\n",
      "77\n",
      "Fizz\n",
      "79\n",
      "Buzz\n",
      "Fizz\n",
      "82\n",
      "83\n",
      "Fizz\n",
      "Buzz\n",
      "86\n",
      "Fizz\n",
      "88\n",
      "89\n",
      "FizzBuzz\n",
      "91\n",
      "92\n",
      "Fizz\n",
      "94\n",
      "Buzz\n",
      "Fizz\n",
      "97\n",
      "98\n",
      "Fizz\n",
      "Buzz\n",
      "\n"
     ]
    }
   ],
   "source": [
    "print(fizz_buzz())"
   ]
  },
  {
   "cell_type": "code",
   "execution_count": null,
   "id": "4fde05ed-7a15-43d0-b4bc-da3e28997735",
   "metadata": {},
   "outputs": [],
   "source": []
  }
 ],
 "metadata": {
  "kernelspec": {
   "display_name": "Python 3 (ipykernel)",
   "language": "python",
   "name": "python3"
  },
  "language_info": {
   "codemirror_mode": {
    "name": "ipython",
    "version": 3
   },
   "file_extension": ".py",
   "mimetype": "text/x-python",
   "name": "python",
   "nbconvert_exporter": "python",
   "pygments_lexer": "ipython3",
   "version": "3.11.3"
  }
 },
 "nbformat": 4,
 "nbformat_minor": 5
}
