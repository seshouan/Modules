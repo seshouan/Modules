{
 "cells": [
  {
   "cell_type": "markdown",
   "id": "9b269c21-0886-4931-b62b-6ff44859e0c5",
   "metadata": {},
   "source": [
    "### Define main function"
   ]
  },
  {
   "cell_type": "code",
   "execution_count": 22,
   "id": "79c8c718-8ee7-44ed-83d6-bbc406db2c00",
   "metadata": {
    "tags": []
   },
   "outputs": [],
   "source": [
    "def most_frequent(items):\n",
    "    # initialize the resulting output to return and needed variables\n",
    "    result = ''\n",
    "    freq_dict = {}\n",
    "    freq_list = []\n",
    "    max_freq = 0\n",
    "    \n",
    "    # load the frequency dictionary and keep track of the max frequency observed\n",
    "    for item in items:\n",
    "        if item not in freq_dict:\n",
    "            freq_dict[item] = 1\n",
    "        else:\n",
    "            freq_dict[item] += 1\n",
    "        # update the max frequency tracker if required\n",
    "        if max_freq < freq_dict[item]:\n",
    "            max_freq = freq_dict[item]\n",
    "          \n",
    "    # cycle through the frequency dictionary to capture the list of elements with the max occurence\n",
    "    for entry in freq_dict:\n",
    "        if freq_dict[entry] == max_freq:\n",
    "            freq_list.append(entry)\n",
    "    \n",
    "    # prepare the output to return\n",
    "    # if there's a frequency greater than 1, then return the elements that repeat the most\n",
    "    if max_freq > 1:\n",
    "        result = f'The highest frequency items is(are): {str(\",\".join([str(element) for element in freq_list]))}'\n",
    "    # else return that there aren't any distinguishing frequencies to report\n",
    "    else:\n",
    "        result = 'There aren\\'t any distinguishing frequencies to report'\n",
    "    \n",
    "    # return the resulting output\n",
    "    return result"
   ]
  },
  {
   "cell_type": "markdown",
   "id": "bd5b63bb-c1d3-41a7-863b-a0e737222c33",
   "metadata": {},
   "source": [
    "### Call main function"
   ]
  },
  {
   "cell_type": "code",
   "execution_count": 25,
   "id": "41fb2fe7-4b81-45fa-8e0b-20a123831a8c",
   "metadata": {
    "tags": []
   },
   "outputs": [
    {
     "name": "stdout",
     "output_type": "stream",
     "text": [
      "The highest frequency items is(are): s\n"
     ]
    }
   ],
   "source": [
    "num_list = [1, 2, 2, 3, 'five', 's','s','s']\n",
    "\n",
    "print(most_frequent(num_list))"
   ]
  },
  {
   "cell_type": "code",
   "execution_count": null,
   "id": "3e4f52b6-2056-4dfe-8da7-a92585113b8f",
   "metadata": {},
   "outputs": [],
   "source": []
  }
 ],
 "metadata": {
  "kernelspec": {
   "display_name": "Python 3 (ipykernel)",
   "language": "python",
   "name": "python3"
  },
  "language_info": {
   "codemirror_mode": {
    "name": "ipython",
    "version": 3
   },
   "file_extension": ".py",
   "mimetype": "text/x-python",
   "name": "python",
   "nbconvert_exporter": "python",
   "pygments_lexer": "ipython3",
   "version": "3.11.3"
  }
 },
 "nbformat": 4,
 "nbformat_minor": 5
}
