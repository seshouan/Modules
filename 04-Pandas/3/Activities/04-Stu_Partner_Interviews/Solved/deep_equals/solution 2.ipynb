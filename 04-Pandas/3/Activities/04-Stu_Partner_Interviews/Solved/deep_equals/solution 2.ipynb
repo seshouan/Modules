{
 "cells": [
  {
   "cell_type": "markdown",
   "id": "88a1b916-78ec-4ad9-9524-6624606537e5",
   "metadata": {},
   "source": [
    "# Deep Equals\n",
    "\n",
    "Suppose you have two lists with the same contents.\n",
    "\n",
    "```python\n",
    "list first = [1, 2, 3];\n",
    "list second = [3, 2, 1];\n",
    "```\n",
    "\n",
    "Write a function that tests if the contents of two lists are equal."
   ]
  },
  {
   "cell_type": "code",
   "execution_count": 9,
   "id": "f71614ff-10cb-49ee-aa36-e669ae1ef952",
   "metadata": {
    "tags": []
   },
   "outputs": [],
   "source": [
    "def deep_equals(list_1,list_2):\n",
    "    # initialize variables\n",
    "    dict_1 = {}\n",
    "    dict_2 = {}\n",
    "    result = False\n",
    "    \n",
    "    # load each list in its respective dictionary with a count of each occurance\n",
    "    for entry in list_1:\n",
    "        if not entry in dict_1:\n",
    "            dict_1[entry] = 1\n",
    "        else:\n",
    "            dict_1[entry] += 1\n",
    "    \n",
    "    for entry in list_2:\n",
    "        if not entry in dict_2:\n",
    "            dict_2[entry] = 1\n",
    "        else:\n",
    "            dict_2[entry] += 1\n",
    "    \n",
    "    # compare the sorted lists\n",
    "    result = dict_1 == dict_2\n",
    "    \n",
    "    # return the comparison result\n",
    "    return result"
   ]
  },
  {
   "cell_type": "code",
   "execution_count": 14,
   "id": "eac3af1e-c745-48f0-82a5-47e65bfd977b",
   "metadata": {
    "tags": []
   },
   "outputs": [
    {
     "name": "stdout",
     "output_type": "stream",
     "text": [
      "The deep equals result is: True\n"
     ]
    }
   ],
   "source": [
    "# enter lists to compare\n",
    "list_1 = [5,2,3,2,'s']\n",
    "list_2 = [3,2,'s',2,5]\n",
    "# output the result of the function\n",
    "print(f'The deep equals result is: {deep_equals(list_1,list_2)}')"
   ]
  },
  {
   "cell_type": "code",
   "execution_count": null,
   "id": "c666aca3-65ee-4c39-a1af-9f5dad0417c6",
   "metadata": {},
   "outputs": [],
   "source": []
  }
 ],
 "metadata": {
  "kernelspec": {
   "display_name": "Python 3 (ipykernel)",
   "language": "python",
   "name": "python3"
  },
  "language_info": {
   "codemirror_mode": {
    "name": "ipython",
    "version": 3
   },
   "file_extension": ".py",
   "mimetype": "text/x-python",
   "name": "python",
   "nbconvert_exporter": "python",
   "pygments_lexer": "ipython3",
   "version": "3.11.3"
  }
 },
 "nbformat": 4,
 "nbformat_minor": 5
}
