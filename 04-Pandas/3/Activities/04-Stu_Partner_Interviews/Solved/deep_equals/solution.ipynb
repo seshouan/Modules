{
 "cells": [
  {
   "cell_type": "markdown",
   "id": "970644f5-f347-4f8a-b5a3-554724a1d642",
   "metadata": {},
   "source": [
    "### Define main function"
   ]
  },
  {
   "cell_type": "code",
   "execution_count": 2,
   "id": "e30348c5-6107-4433-be6b-6ea60851fd5a",
   "metadata": {
    "tags": []
   },
   "outputs": [],
   "source": [
    "def deep_equals(list1, list2):\n",
    "    # sort the 2 lists\n",
    "    sorted_list1 = sorted(list1)\n",
    "    sorted_list2 = sorted(list2)\n",
    "    # return the regular '==' comparison of the sorted lists\n",
    "    return sorted_list1 == sorted_list2"
   ]
  },
  {
   "cell_type": "markdown",
   "id": "2605a3d6-a63d-4f4f-9fe9-d73f31704c56",
   "metadata": {},
   "source": [
    "### Call main function"
   ]
  },
  {
   "cell_type": "code",
   "execution_count": 3,
   "id": "eee5c656-4ebe-40a6-b310-1f55506d4303",
   "metadata": {
    "tags": []
   },
   "outputs": [
    {
     "name": "stdout",
     "output_type": "stream",
     "text": [
      "The comparison of the two lists returned: True\n"
     ]
    }
   ],
   "source": [
    "first = [1, 2, 3]\n",
    "second = [3, 2, 1]\n",
    "print(f'The comparison of the two lists returned: {deep_equals(first,second)}')"
   ]
  },
  {
   "cell_type": "code",
   "execution_count": null,
   "id": "4e718d0f-488b-44ce-b540-38c3e9be0fca",
   "metadata": {},
   "outputs": [],
   "source": []
  }
 ],
 "metadata": {
  "kernelspec": {
   "display_name": "Python 3 (ipykernel)",
   "language": "python",
   "name": "python3"
  },
  "language_info": {
   "codemirror_mode": {
    "name": "ipython",
    "version": 3
   },
   "file_extension": ".py",
   "mimetype": "text/x-python",
   "name": "python",
   "nbconvert_exporter": "python",
   "pygments_lexer": "ipython3",
   "version": "3.11.3"
  }
 },
 "nbformat": 4,
 "nbformat_minor": 5
}
