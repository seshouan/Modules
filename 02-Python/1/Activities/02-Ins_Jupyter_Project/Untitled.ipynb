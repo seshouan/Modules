{
 "cells": [
  {
   "cell_type": "markdown",
   "id": "9b7f0939-2e5b-4d15-9074-7c83fba27985",
   "metadata": {},
   "source": [
    "# First line of code"
   ]
  },
  {
   "cell_type": "code",
   "execution_count": 2,
   "id": "8578bc03-d5a5-4f6b-97c7-529b6ae11239",
   "metadata": {
    "tags": []
   },
   "outputs": [
    {
     "name": "stdout",
     "output_type": "stream",
     "text": [
      "Hello World\n"
     ]
    }
   ],
   "source": [
    "print('Hello World')"
   ]
  }
 ],
 "metadata": {
  "kernelspec": {
   "display_name": "Python 3 (ipykernel)",
   "language": "python",
   "name": "python3"
  },
  "language_info": {
   "codemirror_mode": {
    "name": "ipython",
    "version": 3
   },
   "file_extension": ".py",
   "mimetype": "text/x-python",
   "name": "python",
   "nbconvert_exporter": "python",
   "pygments_lexer": "ipython3",
   "version": "3.11.3"
  }
 },
 "nbformat": 4,
 "nbformat_minor": 5
}
