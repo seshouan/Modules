{
  "cells": [
    {
      "cell_type": "markdown",
      "source": [
        "### Instructor Demo: Environment Variables"
      ],
      "metadata": {}
    },
    {
      "cell_type": "code",
      "source": [
        "# Import dotenv package for setting environment variables \n",
        "from dotenv import load_dotenv\n",
        "\n",
        "# Import os package\n",
        "import os"
      ],
      "outputs": [],
      "execution_count": 1,
      "metadata": {}
    },
    {
      "cell_type": "code",
      "source": [
        "# Set environment variables from the .env in the local environment\n",
        "load_dotenv()"
      ],
      "outputs": [
        {
          "output_type": "execute_result",
          "execution_count": 2,
          "data": {
            "text/plain": "True"
          },
          "metadata": {}
        }
      ],
      "execution_count": 2,
      "metadata": {
        "scrolled": true
      }
    },
    {
      "cell_type": "code",
      "source": [
        "# Retrieve API key and store as Python variable\n",
        "api_key = os.getenv(\"NASDAQ_API_KEY\")\n",
        "type(api_key)"
      ],
      "outputs": [
        {
          "output_type": "execute_result",
          "execution_count": 3,
          "data": {
            "text/plain": "str"
          },
          "metadata": {}
        }
      ],
      "execution_count": 3,
      "metadata": {}
    }
  ],
  "metadata": {
    "kernelspec": {
      "display_name": "Python 3",
      "language": "python",
      "name": "python3"
    },
    "language_info": {
      "codemirror_mode": {
        "name": "ipython",
        "version": 3
      },
      "file_extension": ".py",
      "mimetype": "text/x-python",
      "name": "python",
      "nbconvert_exporter": "python",
      "pygments_lexer": "ipython3",
      "version": "3.7.7"
    },
    "nteract": {
      "version": "0.28.0"
    }
  },
  "nbformat": 4,
  "nbformat_minor": 4
}