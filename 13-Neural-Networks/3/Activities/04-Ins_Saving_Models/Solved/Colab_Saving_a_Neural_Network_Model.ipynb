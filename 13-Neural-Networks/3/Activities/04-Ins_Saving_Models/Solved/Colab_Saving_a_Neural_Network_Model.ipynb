{
  "cells": [
    {
      "cell_type": "markdown",
      "metadata": {
        "id": "m4VefUJ50Co_"
      },
      "source": [
        "# Saving and Loading a Neural Network Model"
      ]
    },
    {
      "cell_type": "code",
      "execution_count": 1,
      "metadata": {
        "id": "8ssGgcj00CpE"
      },
      "outputs": [],
      "source": [
        "# Initial imports\n",
        "import pandas as pd\n",
        "\n",
        "from sklearn.model_selection import train_test_split\n",
        "from sklearn.preprocessing import StandardScaler\n",
        "from tensorflow.keras.models import Sequential\n",
        "from tensorflow.keras.layers import Dense"
      ]
    },
    {
      "cell_type": "markdown",
      "metadata": {
        "id": "pI44dpoG0CpH"
      },
      "source": [
        "## Read in Data"
      ]
    },
    {
      "cell_type": "code",
      "source": [
        "# Upload the data\n",
        "from google.colab import files\n",
        "uploaded = files.upload()"
      ],
      "metadata": {
        "colab": {
          "resources": {
            "http://localhost:8080/nbextensions/google.colab/files.js": {
              "data": "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",
              "ok": true,
              "headers": [
                [
                  "content-type",
                  "application/javascript"
                ]
              ],
              "status": 200,
              "status_text": ""
            }
          },
          "base_uri": "https://localhost:8080/",
          "height": 74
        },
        "id": "yBCTX5cY0Q5F",
        "outputId": "707fcfd4-3ea2-47b2-8524-efe2445652a0"
      },
      "execution_count": 2,
      "outputs": [
        {
          "output_type": "display_data",
          "data": {
            "text/plain": [
              "<IPython.core.display.HTML object>"
            ],
            "text/html": [
              "\n",
              "     <input type=\"file\" id=\"files-47abe139-0746-4fb9-8bb6-4537d5df6849\" name=\"files[]\" multiple disabled\n",
              "        style=\"border:none\" />\n",
              "     <output id=\"result-47abe139-0746-4fb9-8bb6-4537d5df6849\">\n",
              "      Upload widget is only available when the cell has been executed in the\n",
              "      current browser session. Please rerun this cell to enable.\n",
              "      </output>\n",
              "      <script src=\"/nbextensions/google.colab/files.js\"></script> "
            ]
          },
          "metadata": {}
        },
        {
          "output_type": "stream",
          "name": "stdout",
          "text": [
            "Saving wine_quality.csv to wine_quality (1).csv\n"
          ]
        }
      ]
    },
    {
      "cell_type": "code",
      "execution_count": 3,
      "metadata": {
        "colab": {
          "base_uri": "https://localhost:8080/",
          "height": 268
        },
        "id": "JUtVINI10CpJ",
        "outputId": "f0cd9b30-e945-4086-c089-d85738d915cd"
      },
      "outputs": [
        {
          "output_type": "execute_result",
          "data": {
            "text/plain": [
              "   fixed acidity  volatile acidity  citric acid  residual sugar  chlorides  \\\n",
              "0            7.4              0.70         0.00             1.9      0.076   \n",
              "1            7.8              0.88         0.00             2.6      0.098   \n",
              "2            7.8              0.76         0.04             2.3      0.092   \n",
              "3           11.2              0.28         0.56             1.9      0.075   \n",
              "4            7.4              0.70         0.00             1.9      0.076   \n",
              "\n",
              "   free sulfur dioxide  total sulfur dioxide  density    pH  sulphates  \\\n",
              "0                 11.0                  34.0   0.9978  3.51       0.56   \n",
              "1                 25.0                  67.0   0.9968  3.20       0.68   \n",
              "2                 15.0                  54.0   0.9970  3.26       0.65   \n",
              "3                 17.0                  60.0   0.9980  3.16       0.58   \n",
              "4                 11.0                  34.0   0.9978  3.51       0.56   \n",
              "\n",
              "   alcohol  quality  \n",
              "0      9.4        5  \n",
              "1      9.8        5  \n",
              "2      9.8        5  \n",
              "3      9.8        6  \n",
              "4      9.4        5  "
            ],
            "text/html": [
              "\n",
              "  <div id=\"df-f5b4bb75-320c-48d8-870d-2fdc3cde0e83\">\n",
              "    <div class=\"colab-df-container\">\n",
              "      <div>\n",
              "<style scoped>\n",
              "    .dataframe tbody tr th:only-of-type {\n",
              "        vertical-align: middle;\n",
              "    }\n",
              "\n",
              "    .dataframe tbody tr th {\n",
              "        vertical-align: top;\n",
              "    }\n",
              "\n",
              "    .dataframe thead th {\n",
              "        text-align: right;\n",
              "    }\n",
              "</style>\n",
              "<table border=\"1\" class=\"dataframe\">\n",
              "  <thead>\n",
              "    <tr style=\"text-align: right;\">\n",
              "      <th></th>\n",
              "      <th>fixed acidity</th>\n",
              "      <th>volatile acidity</th>\n",
              "      <th>citric acid</th>\n",
              "      <th>residual sugar</th>\n",
              "      <th>chlorides</th>\n",
              "      <th>free sulfur dioxide</th>\n",
              "      <th>total sulfur dioxide</th>\n",
              "      <th>density</th>\n",
              "      <th>pH</th>\n",
              "      <th>sulphates</th>\n",
              "      <th>alcohol</th>\n",
              "      <th>quality</th>\n",
              "    </tr>\n",
              "  </thead>\n",
              "  <tbody>\n",
              "    <tr>\n",
              "      <th>0</th>\n",
              "      <td>7.4</td>\n",
              "      <td>0.70</td>\n",
              "      <td>0.00</td>\n",
              "      <td>1.9</td>\n",
              "      <td>0.076</td>\n",
              "      <td>11.0</td>\n",
              "      <td>34.0</td>\n",
              "      <td>0.9978</td>\n",
              "      <td>3.51</td>\n",
              "      <td>0.56</td>\n",
              "      <td>9.4</td>\n",
              "      <td>5</td>\n",
              "    </tr>\n",
              "    <tr>\n",
              "      <th>1</th>\n",
              "      <td>7.8</td>\n",
              "      <td>0.88</td>\n",
              "      <td>0.00</td>\n",
              "      <td>2.6</td>\n",
              "      <td>0.098</td>\n",
              "      <td>25.0</td>\n",
              "      <td>67.0</td>\n",
              "      <td>0.9968</td>\n",
              "      <td>3.20</td>\n",
              "      <td>0.68</td>\n",
              "      <td>9.8</td>\n",
              "      <td>5</td>\n",
              "    </tr>\n",
              "    <tr>\n",
              "      <th>2</th>\n",
              "      <td>7.8</td>\n",
              "      <td>0.76</td>\n",
              "      <td>0.04</td>\n",
              "      <td>2.3</td>\n",
              "      <td>0.092</td>\n",
              "      <td>15.0</td>\n",
              "      <td>54.0</td>\n",
              "      <td>0.9970</td>\n",
              "      <td>3.26</td>\n",
              "      <td>0.65</td>\n",
              "      <td>9.8</td>\n",
              "      <td>5</td>\n",
              "    </tr>\n",
              "    <tr>\n",
              "      <th>3</th>\n",
              "      <td>11.2</td>\n",
              "      <td>0.28</td>\n",
              "      <td>0.56</td>\n",
              "      <td>1.9</td>\n",
              "      <td>0.075</td>\n",
              "      <td>17.0</td>\n",
              "      <td>60.0</td>\n",
              "      <td>0.9980</td>\n",
              "      <td>3.16</td>\n",
              "      <td>0.58</td>\n",
              "      <td>9.8</td>\n",
              "      <td>6</td>\n",
              "    </tr>\n",
              "    <tr>\n",
              "      <th>4</th>\n",
              "      <td>7.4</td>\n",
              "      <td>0.70</td>\n",
              "      <td>0.00</td>\n",
              "      <td>1.9</td>\n",
              "      <td>0.076</td>\n",
              "      <td>11.0</td>\n",
              "      <td>34.0</td>\n",
              "      <td>0.9978</td>\n",
              "      <td>3.51</td>\n",
              "      <td>0.56</td>\n",
              "      <td>9.4</td>\n",
              "      <td>5</td>\n",
              "    </tr>\n",
              "  </tbody>\n",
              "</table>\n",
              "</div>\n",
              "      <button class=\"colab-df-convert\" onclick=\"convertToInteractive('df-f5b4bb75-320c-48d8-870d-2fdc3cde0e83')\"\n",
              "              title=\"Convert this dataframe to an interactive table.\"\n",
              "              style=\"display:none;\">\n",
              "        \n",
              "  <svg xmlns=\"http://www.w3.org/2000/svg\" height=\"24px\"viewBox=\"0 0 24 24\"\n",
              "       width=\"24px\">\n",
              "    <path d=\"M0 0h24v24H0V0z\" fill=\"none\"/>\n",
              "    <path d=\"M18.56 5.44l.94 2.06.94-2.06 2.06-.94-2.06-.94-.94-2.06-.94 2.06-2.06.94zm-11 1L8.5 8.5l.94-2.06 2.06-.94-2.06-.94L8.5 2.5l-.94 2.06-2.06.94zm10 10l.94 2.06.94-2.06 2.06-.94-2.06-.94-.94-2.06-.94 2.06-2.06.94z\"/><path d=\"M17.41 7.96l-1.37-1.37c-.4-.4-.92-.59-1.43-.59-.52 0-1.04.2-1.43.59L10.3 9.45l-7.72 7.72c-.78.78-.78 2.05 0 2.83L4 21.41c.39.39.9.59 1.41.59.51 0 1.02-.2 1.41-.59l7.78-7.78 2.81-2.81c.8-.78.8-2.07 0-2.86zM5.41 20L4 18.59l7.72-7.72 1.47 1.35L5.41 20z\"/>\n",
              "  </svg>\n",
              "      </button>\n",
              "      \n",
              "  <style>\n",
              "    .colab-df-container {\n",
              "      display:flex;\n",
              "      flex-wrap:wrap;\n",
              "      gap: 12px;\n",
              "    }\n",
              "\n",
              "    .colab-df-convert {\n",
              "      background-color: #E8F0FE;\n",
              "      border: none;\n",
              "      border-radius: 50%;\n",
              "      cursor: pointer;\n",
              "      display: none;\n",
              "      fill: #1967D2;\n",
              "      height: 32px;\n",
              "      padding: 0 0 0 0;\n",
              "      width: 32px;\n",
              "    }\n",
              "\n",
              "    .colab-df-convert:hover {\n",
              "      background-color: #E2EBFA;\n",
              "      box-shadow: 0px 1px 2px rgba(60, 64, 67, 0.3), 0px 1px 3px 1px rgba(60, 64, 67, 0.15);\n",
              "      fill: #174EA6;\n",
              "    }\n",
              "\n",
              "    [theme=dark] .colab-df-convert {\n",
              "      background-color: #3B4455;\n",
              "      fill: #D2E3FC;\n",
              "    }\n",
              "\n",
              "    [theme=dark] .colab-df-convert:hover {\n",
              "      background-color: #434B5C;\n",
              "      box-shadow: 0px 1px 3px 1px rgba(0, 0, 0, 0.15);\n",
              "      filter: drop-shadow(0px 1px 2px rgba(0, 0, 0, 0.3));\n",
              "      fill: #FFFFFF;\n",
              "    }\n",
              "  </style>\n",
              "\n",
              "      <script>\n",
              "        const buttonEl =\n",
              "          document.querySelector('#df-f5b4bb75-320c-48d8-870d-2fdc3cde0e83 button.colab-df-convert');\n",
              "        buttonEl.style.display =\n",
              "          google.colab.kernel.accessAllowed ? 'block' : 'none';\n",
              "\n",
              "        async function convertToInteractive(key) {\n",
              "          const element = document.querySelector('#df-f5b4bb75-320c-48d8-870d-2fdc3cde0e83');\n",
              "          const dataTable =\n",
              "            await google.colab.kernel.invokeFunction('convertToInteractive',\n",
              "                                                     [key], {});\n",
              "          if (!dataTable) return;\n",
              "\n",
              "          const docLinkHtml = 'Like what you see? Visit the ' +\n",
              "            '<a target=\"_blank\" href=https://colab.research.google.com/notebooks/data_table.ipynb>data table notebook</a>'\n",
              "            + ' to learn more about interactive tables.';\n",
              "          element.innerHTML = '';\n",
              "          dataTable['output_type'] = 'display_data';\n",
              "          await google.colab.output.renderOutput(dataTable, element);\n",
              "          const docLink = document.createElement('div');\n",
              "          docLink.innerHTML = docLinkHtml;\n",
              "          element.appendChild(docLink);\n",
              "        }\n",
              "      </script>\n",
              "    </div>\n",
              "  </div>\n",
              "  "
            ]
          },
          "metadata": {},
          "execution_count": 3
        }
      ],
      "source": [
        "# Set the CSV file path\n",
        "file_path = \"wine_quality.csv\"\n",
        "\n",
        "# Read the data into a DataFrame\n",
        "df = pd.read_csv(file_path)\n",
        "\n",
        "# Display sample data\n",
        "df.head()"
      ]
    },
    {
      "cell_type": "markdown",
      "metadata": {
        "id": "BeGBn7zP0CpL"
      },
      "source": [
        "## Data Preprocessing"
      ]
    },
    {
      "cell_type": "code",
      "execution_count": 4,
      "metadata": {
        "id": "87OWdp2T0CpM"
      },
      "outputs": [],
      "source": [
        "# Create the features (X) and target (y) sets\n",
        "X = df.drop(columns=[\"quality\"]).values\n",
        "y = df[\"quality\"].values"
      ]
    },
    {
      "cell_type": "code",
      "execution_count": 5,
      "metadata": {
        "id": "g9j3Dgsh0CpN"
      },
      "outputs": [],
      "source": [
        "# Create training and testing datasets\n",
        "X_train, X_test, y_train, y_test = train_test_split(X, y, random_state=1)"
      ]
    },
    {
      "cell_type": "code",
      "execution_count": 6,
      "metadata": {
        "id": "xQgv01620CpP"
      },
      "outputs": [],
      "source": [
        "# Create scaler instance\n",
        "X_scaler = StandardScaler()\n",
        "\n",
        "# Fit the scaler\n",
        "X_scaler.fit(X_train)\n",
        "\n",
        "# Scale the features data\n",
        "X_train_scaled = X_scaler.transform(X_train)\n",
        "X_test_scaled = X_scaler.transform(X_test)"
      ]
    },
    {
      "cell_type": "markdown",
      "metadata": {
        "id": "aw-I5V930CpQ"
      },
      "source": [
        "## Creating the Model"
      ]
    },
    {
      "cell_type": "code",
      "execution_count": 7,
      "metadata": {
        "id": "4bd_SA640CpQ"
      },
      "outputs": [],
      "source": [
        "# Define the model - deep neural net with two hidden layers\n",
        "number_input_features = 11\n",
        "hidden_nodes_layer1 = 8\n",
        "hidden_nodes_layer2 = 4\n",
        "\n",
        "# Create a sequential neural network model\n",
        "nn_1 = Sequential()\n",
        "\n",
        "# Add the first hidden layer\n",
        "nn_1.add(Dense(units=hidden_nodes_layer1, input_dim=number_input_features, activation=\"relu\"))\n",
        "\n",
        "# Add the second hidden layer\n",
        "nn_1.add(Dense(units=hidden_nodes_layer2, activation=\"relu\"))\n",
        "\n",
        "# Add the output layer\n",
        "nn_1.add(Dense(units=1, activation=\"linear\"))"
      ]
    },
    {
      "cell_type": "code",
      "execution_count": 8,
      "metadata": {
        "id": "llVG-C9m0CpR"
      },
      "outputs": [],
      "source": [
        "# Compile model\n",
        "nn_1.compile(loss=\"mean_squared_error\", optimizer=\"adam\", metrics=[\"mse\"])"
      ]
    },
    {
      "cell_type": "code",
      "execution_count": 9,
      "metadata": {
        "colab": {
          "base_uri": "https://localhost:8080/"
        },
        "id": "Zzs0Xz5n0CpR",
        "outputId": "cad15c8d-f991-439a-a0e5-a90d7011887c"
      },
      "outputs": [
        {
          "output_type": "stream",
          "name": "stdout",
          "text": [
            "Epoch 1/100\n",
            "38/38 [==============================] - 3s 6ms/step - loss: 37.2315 - mse: 37.2315\n",
            "Epoch 2/100\n",
            "38/38 [==============================] - 0s 6ms/step - loss: 34.4182 - mse: 34.4182\n",
            "Epoch 3/100\n",
            "38/38 [==============================] - 0s 6ms/step - loss: 32.8648 - mse: 32.8648\n",
            "Epoch 4/100\n",
            "38/38 [==============================] - 0s 4ms/step - loss: 31.8528 - mse: 31.8528\n",
            "Epoch 5/100\n",
            "38/38 [==============================] - 0s 4ms/step - loss: 31.1155 - mse: 31.1155\n",
            "Epoch 6/100\n",
            "38/38 [==============================] - 0s 5ms/step - loss: 30.5508 - mse: 30.5508\n",
            "Epoch 7/100\n",
            "38/38 [==============================] - 0s 7ms/step - loss: 30.0669 - mse: 30.0669\n",
            "Epoch 8/100\n",
            "38/38 [==============================] - 0s 5ms/step - loss: 29.6234 - mse: 29.6234\n",
            "Epoch 9/100\n",
            "38/38 [==============================] - 0s 9ms/step - loss: 29.2004 - mse: 29.2004\n",
            "Epoch 10/100\n",
            "38/38 [==============================] - 0s 5ms/step - loss: 28.7901 - mse: 28.7901\n",
            "Epoch 11/100\n",
            "38/38 [==============================] - 0s 6ms/step - loss: 28.3881 - mse: 28.3881\n",
            "Epoch 12/100\n",
            "38/38 [==============================] - 0s 5ms/step - loss: 27.9949 - mse: 27.9949\n",
            "Epoch 13/100\n",
            "38/38 [==============================] - 0s 6ms/step - loss: 27.6106 - mse: 27.6106\n",
            "Epoch 14/100\n",
            "38/38 [==============================] - 0s 6ms/step - loss: 27.2335 - mse: 27.2335\n",
            "Epoch 15/100\n",
            "38/38 [==============================] - 0s 8ms/step - loss: 26.8615 - mse: 26.8615\n",
            "Epoch 16/100\n",
            "38/38 [==============================] - 0s 8ms/step - loss: 26.4937 - mse: 26.4937\n",
            "Epoch 17/100\n",
            "38/38 [==============================] - 0s 8ms/step - loss: 26.1289 - mse: 26.1289\n",
            "Epoch 18/100\n",
            "38/38 [==============================] - 0s 5ms/step - loss: 25.7680 - mse: 25.7680\n",
            "Epoch 19/100\n",
            "38/38 [==============================] - 0s 5ms/step - loss: 25.4116 - mse: 25.4116\n",
            "Epoch 20/100\n",
            "38/38 [==============================] - 0s 8ms/step - loss: 25.0578 - mse: 25.0578\n",
            "Epoch 21/100\n",
            "38/38 [==============================] - 0s 8ms/step - loss: 24.7081 - mse: 24.7081\n",
            "Epoch 22/100\n",
            "38/38 [==============================] - 0s 5ms/step - loss: 24.3622 - mse: 24.3622\n",
            "Epoch 23/100\n",
            "38/38 [==============================] - 0s 3ms/step - loss: 24.0193 - mse: 24.0193\n",
            "Epoch 24/100\n",
            "38/38 [==============================] - 0s 3ms/step - loss: 23.6799 - mse: 23.6799\n",
            "Epoch 25/100\n",
            "38/38 [==============================] - 0s 2ms/step - loss: 23.3445 - mse: 23.3445\n",
            "Epoch 26/100\n",
            "38/38 [==============================] - 0s 2ms/step - loss: 23.0116 - mse: 23.0116\n",
            "Epoch 27/100\n",
            "38/38 [==============================] - 0s 2ms/step - loss: 22.6825 - mse: 22.6825\n",
            "Epoch 28/100\n",
            "38/38 [==============================] - 0s 2ms/step - loss: 22.3570 - mse: 22.3570\n",
            "Epoch 29/100\n",
            "38/38 [==============================] - 0s 2ms/step - loss: 22.0346 - mse: 22.0346\n",
            "Epoch 30/100\n",
            "38/38 [==============================] - 0s 5ms/step - loss: 21.7153 - mse: 21.7153\n",
            "Epoch 31/100\n",
            "38/38 [==============================] - 0s 5ms/step - loss: 21.3992 - mse: 21.3992\n",
            "Epoch 32/100\n",
            "38/38 [==============================] - 0s 4ms/step - loss: 21.0867 - mse: 21.0867\n",
            "Epoch 33/100\n",
            "38/38 [==============================] - 0s 3ms/step - loss: 20.7769 - mse: 20.7769\n",
            "Epoch 34/100\n",
            "38/38 [==============================] - 0s 3ms/step - loss: 20.4709 - mse: 20.4709\n",
            "Epoch 35/100\n",
            "38/38 [==============================] - 0s 5ms/step - loss: 20.1675 - mse: 20.1675\n",
            "Epoch 36/100\n",
            "38/38 [==============================] - 0s 6ms/step - loss: 19.8672 - mse: 19.8672\n",
            "Epoch 37/100\n",
            "38/38 [==============================] - 0s 4ms/step - loss: 19.5703 - mse: 19.5703\n",
            "Epoch 38/100\n",
            "38/38 [==============================] - 0s 4ms/step - loss: 19.2763 - mse: 19.2763\n",
            "Epoch 39/100\n",
            "38/38 [==============================] - 0s 6ms/step - loss: 18.9855 - mse: 18.9855\n",
            "Epoch 40/100\n",
            "38/38 [==============================] - 0s 4ms/step - loss: 18.6976 - mse: 18.6976\n",
            "Epoch 41/100\n",
            "38/38 [==============================] - 0s 5ms/step - loss: 18.4127 - mse: 18.4127\n",
            "Epoch 42/100\n",
            "38/38 [==============================] - 0s 7ms/step - loss: 18.1314 - mse: 18.1314\n",
            "Epoch 43/100\n",
            "38/38 [==============================] - 0s 6ms/step - loss: 17.8526 - mse: 17.8526\n",
            "Epoch 44/100\n",
            "38/38 [==============================] - 0s 5ms/step - loss: 17.5772 - mse: 17.5772\n",
            "Epoch 45/100\n",
            "38/38 [==============================] - 0s 3ms/step - loss: 17.3044 - mse: 17.3044\n",
            "Epoch 46/100\n",
            "38/38 [==============================] - 0s 3ms/step - loss: 17.0346 - mse: 17.0346\n",
            "Epoch 47/100\n",
            "38/38 [==============================] - 0s 3ms/step - loss: 16.7677 - mse: 16.7677\n",
            "Epoch 48/100\n",
            "38/38 [==============================] - 0s 3ms/step - loss: 16.5037 - mse: 16.5037\n",
            "Epoch 49/100\n",
            "38/38 [==============================] - 0s 3ms/step - loss: 16.2427 - mse: 16.2427\n",
            "Epoch 50/100\n",
            "38/38 [==============================] - 0s 4ms/step - loss: 15.9843 - mse: 15.9843\n",
            "Epoch 51/100\n",
            "38/38 [==============================] - 0s 5ms/step - loss: 15.7289 - mse: 15.7289\n",
            "Epoch 52/100\n",
            "38/38 [==============================] - 0s 4ms/step - loss: 15.4761 - mse: 15.4761\n",
            "Epoch 53/100\n",
            "38/38 [==============================] - 0s 3ms/step - loss: 15.2263 - mse: 15.2263\n",
            "Epoch 54/100\n",
            "38/38 [==============================] - 0s 3ms/step - loss: 14.9790 - mse: 14.9790\n",
            "Epoch 55/100\n",
            "38/38 [==============================] - 0s 3ms/step - loss: 14.7344 - mse: 14.7344\n",
            "Epoch 56/100\n",
            "38/38 [==============================] - 0s 3ms/step - loss: 14.4930 - mse: 14.4930\n",
            "Epoch 57/100\n",
            "38/38 [==============================] - 0s 4ms/step - loss: 14.2538 - mse: 14.2538\n",
            "Epoch 58/100\n",
            "38/38 [==============================] - 0s 2ms/step - loss: 14.0180 - mse: 14.0180\n",
            "Epoch 59/100\n",
            "38/38 [==============================] - 0s 3ms/step - loss: 13.7845 - mse: 13.7845\n",
            "Epoch 60/100\n",
            "38/38 [==============================] - 0s 3ms/step - loss: 13.5538 - mse: 13.5538\n",
            "Epoch 61/100\n",
            "38/38 [==============================] - 0s 3ms/step - loss: 13.3256 - mse: 13.3256\n",
            "Epoch 62/100\n",
            "38/38 [==============================] - 0s 3ms/step - loss: 13.1001 - mse: 13.1001\n",
            "Epoch 63/100\n",
            "38/38 [==============================] - 0s 3ms/step - loss: 12.8773 - mse: 12.8773\n",
            "Epoch 64/100\n",
            "38/38 [==============================] - 0s 3ms/step - loss: 12.6566 - mse: 12.6566\n",
            "Epoch 65/100\n",
            "38/38 [==============================] - 0s 3ms/step - loss: 12.4390 - mse: 12.4390\n",
            "Epoch 66/100\n",
            "38/38 [==============================] - 0s 3ms/step - loss: 12.2233 - mse: 12.2233\n",
            "Epoch 67/100\n",
            "38/38 [==============================] - 0s 3ms/step - loss: 12.0105 - mse: 12.0105\n",
            "Epoch 68/100\n",
            "38/38 [==============================] - 0s 3ms/step - loss: 11.8001 - mse: 11.8001\n",
            "Epoch 69/100\n",
            "38/38 [==============================] - 0s 3ms/step - loss: 11.5927 - mse: 11.5927\n",
            "Epoch 70/100\n",
            "38/38 [==============================] - 0s 3ms/step - loss: 11.3874 - mse: 11.3874\n",
            "Epoch 71/100\n",
            "38/38 [==============================] - 0s 2ms/step - loss: 11.1851 - mse: 11.1851\n",
            "Epoch 72/100\n",
            "38/38 [==============================] - 0s 2ms/step - loss: 10.9849 - mse: 10.9849\n",
            "Epoch 73/100\n",
            "38/38 [==============================] - 0s 2ms/step - loss: 10.7874 - mse: 10.7874\n",
            "Epoch 74/100\n",
            "38/38 [==============================] - 0s 2ms/step - loss: 10.5919 - mse: 10.5919\n",
            "Epoch 75/100\n",
            "38/38 [==============================] - 0s 2ms/step - loss: 10.3992 - mse: 10.3992\n",
            "Epoch 76/100\n",
            "38/38 [==============================] - 0s 2ms/step - loss: 10.2089 - mse: 10.2089\n",
            "Epoch 77/100\n",
            "38/38 [==============================] - 0s 2ms/step - loss: 10.0212 - mse: 10.0212\n",
            "Epoch 78/100\n",
            "38/38 [==============================] - 0s 2ms/step - loss: 9.8354 - mse: 9.8354\n",
            "Epoch 79/100\n",
            "38/38 [==============================] - 0s 2ms/step - loss: 9.6520 - mse: 9.6520\n",
            "Epoch 80/100\n",
            "38/38 [==============================] - 0s 2ms/step - loss: 9.4716 - mse: 9.4716\n",
            "Epoch 81/100\n",
            "38/38 [==============================] - 0s 2ms/step - loss: 9.2932 - mse: 9.2932\n",
            "Epoch 82/100\n",
            "38/38 [==============================] - 0s 2ms/step - loss: 9.1171 - mse: 9.1171\n",
            "Epoch 83/100\n",
            "38/38 [==============================] - 0s 2ms/step - loss: 8.9435 - mse: 8.9435\n",
            "Epoch 84/100\n",
            "38/38 [==============================] - 0s 2ms/step - loss: 8.7720 - mse: 8.7720\n",
            "Epoch 85/100\n",
            "38/38 [==============================] - 0s 2ms/step - loss: 8.6029 - mse: 8.6029\n",
            "Epoch 86/100\n",
            "38/38 [==============================] - 0s 2ms/step - loss: 8.4362 - mse: 8.4362\n",
            "Epoch 87/100\n",
            "38/38 [==============================] - 0s 2ms/step - loss: 8.2712 - mse: 8.2712\n",
            "Epoch 88/100\n",
            "38/38 [==============================] - 0s 2ms/step - loss: 8.1087 - mse: 8.1087\n",
            "Epoch 89/100\n",
            "38/38 [==============================] - 0s 2ms/step - loss: 7.9484 - mse: 7.9484\n",
            "Epoch 90/100\n",
            "38/38 [==============================] - 0s 2ms/step - loss: 7.7905 - mse: 7.7905\n",
            "Epoch 91/100\n",
            "38/38 [==============================] - 0s 2ms/step - loss: 7.6350 - mse: 7.6350\n",
            "Epoch 92/100\n",
            "38/38 [==============================] - 0s 2ms/step - loss: 7.4810 - mse: 7.4810\n",
            "Epoch 93/100\n",
            "38/38 [==============================] - 0s 2ms/step - loss: 7.3298 - mse: 7.3298\n",
            "Epoch 94/100\n",
            "38/38 [==============================] - 0s 2ms/step - loss: 7.1806 - mse: 7.1806\n",
            "Epoch 95/100\n",
            "38/38 [==============================] - 0s 2ms/step - loss: 7.0336 - mse: 7.0336\n",
            "Epoch 96/100\n",
            "38/38 [==============================] - 0s 2ms/step - loss: 6.8887 - mse: 6.8887\n",
            "Epoch 97/100\n",
            "38/38 [==============================] - 0s 2ms/step - loss: 6.7462 - mse: 6.7462\n",
            "Epoch 98/100\n",
            "38/38 [==============================] - 0s 2ms/step - loss: 6.6052 - mse: 6.6052\n",
            "Epoch 99/100\n",
            "38/38 [==============================] - 0s 2ms/step - loss: 6.4667 - mse: 6.4667\n",
            "Epoch 100/100\n",
            "38/38 [==============================] - 0s 2ms/step - loss: 6.3304 - mse: 6.3304\n"
          ]
        }
      ],
      "source": [
        "# Fit the model\n",
        "deep_net_model_1 = nn_1.fit(X_train_scaled, y_train, epochs=100)"
      ]
    },
    {
      "cell_type": "markdown",
      "metadata": {
        "id": "Oa1yZMuk0CpT"
      },
      "source": [
        "## Saving the Trained Model"
      ]
    },
    {
      "cell_type": "code",
      "execution_count": 10,
      "metadata": {
        "id": "6r8iEKv00CpV"
      },
      "outputs": [],
      "source": [
        "# Set the model's file path\n",
        "file_path = \"wine_quality.h5\"\n",
        "\n",
        "# Export your model to an HDF5 file\n",
        "nn_1.save(file_path)"
      ]
    },
    {
      "cell_type": "markdown",
      "metadata": {
        "id": "VMIOQIhc0CpX"
      },
      "source": [
        "## Loading a Trained Model"
      ]
    },
    {
      "cell_type": "code",
      "execution_count": 11,
      "metadata": {
        "id": "beOwvRsL0CpX"
      },
      "outputs": [],
      "source": [
        "# Import the required libraries\n",
        "import tensorflow as tf"
      ]
    },
    {
      "cell_type": "code",
      "execution_count": 12,
      "metadata": {
        "id": "yeOvl3Di0CpY"
      },
      "outputs": [],
      "source": [
        "# Set the model's file path\n",
        "file_path = \"wine_quality.h5\"\n",
        "\n",
        "# Load the model to a new object\n",
        "nn_imported = tf.keras.models.load_model(file_path)"
      ]
    },
    {
      "cell_type": "code",
      "execution_count": 13,
      "metadata": {
        "colab": {
          "base_uri": "https://localhost:8080/"
        },
        "id": "sep7gXIC0CpY",
        "outputId": "601a5f58-6e52-4339-8aff-bea4e4107915"
      },
      "outputs": [
        {
          "output_type": "stream",
          "name": "stdout",
          "text": [
            "13/13 - 0s - loss: 5.9849 - mse: 5.9849 - 159ms/epoch - 12ms/step\n",
            "Loss: 5.984877109527588, Accuracy: 5.984877109527588\n"
          ]
        }
      ],
      "source": [
        "# Evaluate the model using the test data\n",
        "model_loss, model_accuracy = nn_imported.evaluate(X_test_scaled, y_test, verbose=2)\n",
        "\n",
        "# Display evaluation results\n",
        "print(f\"Loss: {model_loss}, Accuracy: {model_accuracy}\")"
      ]
    },
    {
      "cell_type": "code",
      "execution_count": 13,
      "metadata": {
        "id": "JaKOeY6o0CpZ"
      },
      "outputs": [],
      "source": [
        ""
      ]
    }
  ],
  "metadata": {
    "kernelspec": {
      "display_name": "Python 3",
      "language": "python",
      "name": "python3"
    },
    "language_info": {
      "codemirror_mode": {
        "name": "ipython",
        "version": 3
      },
      "file_extension": ".py",
      "mimetype": "text/x-python",
      "name": "python",
      "nbconvert_exporter": "python",
      "pygments_lexer": "ipython3",
      "version": "3.7.7"
    },
    "colab": {
      "name": "Colab_Saving_a_Neural_Network_Model.ipynb",
      "provenance": []
    }
  },
  "nbformat": 4,
  "nbformat_minor": 0
}