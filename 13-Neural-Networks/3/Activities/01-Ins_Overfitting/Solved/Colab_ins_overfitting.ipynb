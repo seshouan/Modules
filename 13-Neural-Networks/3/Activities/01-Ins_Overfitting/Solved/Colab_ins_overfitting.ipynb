{
  "cells": [
    {
      "cell_type": "markdown",
      "id": "4104bbc9",
      "metadata": {
        "id": "4104bbc9"
      },
      "source": [
        "# Overfitting"
      ]
    },
    {
      "cell_type": "code",
      "execution_count": 1,
      "id": "038c919a",
      "metadata": {
        "id": "038c919a"
      },
      "outputs": [],
      "source": [
        "import pandas as pd\n",
        "import numpy as np"
      ]
    },
    {
      "cell_type": "code",
      "execution_count": 2,
      "id": "292c574b",
      "metadata": {
        "id": "292c574b"
      },
      "outputs": [],
      "source": [
        "from keras.models import Sequential\n",
        "from keras.layers import Dense, Activation"
      ]
    },
    {
      "cell_type": "code",
      "source": [
        "from google.colab import files\n",
        "uploaded = files.upload()"
      ],
      "metadata": {
        "colab": {
          "resources": {
            "http://localhost:8080/nbextensions/google.colab/files.js": {
              "data": "Ly8gQ29weXJpZ2h0IDIwMTcgR29vZ2xlIExMQwovLwovLyBMaWNlbnNlZCB1bmRlciB0aGUgQXBhY2hlIExpY2Vuc2UsIFZlcnNpb24gMi4wICh0aGUgIkxpY2Vuc2UiKTsKLy8geW91IG1heSBub3QgdXNlIHRoaXMgZmlsZSBleGNlcHQgaW4gY29tcGxpYW5jZSB3aXRoIHRoZSBMaWNlbnNlLgovLyBZb3UgbWF5IG9idGFpbiBhIGNvcHkgb2YgdGhlIExpY2Vuc2UgYXQKLy8KLy8gICAgICBodHRwOi8vd3d3LmFwYWNoZS5vcmcvbGljZW5zZXMvTElDRU5TRS0yLjAKLy8KLy8gVW5sZXNzIHJlcXVpcmVkIGJ5IGFwcGxpY2FibGUgbGF3IG9yIGFncmVlZCB0byBpbiB3cml0aW5nLCBzb2Z0d2FyZQovLyBkaXN0cmlidXRlZCB1bmRlciB0aGUgTGljZW5zZSBpcyBkaXN0cmlidXRlZCBvbiBhbiAiQVMgSVMiIEJBU0lTLAovLyBXSVRIT1VUIFdBUlJBTlRJRVMgT1IgQ09ORElUSU9OUyBPRiBBTlkgS0lORCwgZWl0aGVyIGV4cHJlc3Mgb3IgaW1wbGllZC4KLy8gU2VlIHRoZSBMaWNlbnNlIGZvciB0aGUgc3BlY2lmaWMgbGFuZ3VhZ2UgZ292ZXJuaW5nIHBlcm1pc3Npb25zIGFuZAovLyBsaW1pdGF0aW9ucyB1bmRlciB0aGUgTGljZW5zZS4KCi8qKgogKiBAZmlsZW92ZXJ2aWV3IEhlbHBlcnMgZm9yIGdvb2dsZS5jb2xhYiBQeXRob24gbW9kdWxlLgogKi8KKGZ1bmN0aW9uKHNjb3BlKSB7CmZ1bmN0aW9uIHNwYW4odGV4dCwgc3R5bGVBdHRyaWJ1dGVzID0ge30pIHsKICBjb25zdCBlbGVtZW50ID0gZG9jdW1lbnQuY3JlYXRlRWxlbWVudCgnc3BhbicpOwogIGVsZW1lbnQudGV4dENvbnRlbnQgPSB0ZXh0OwogIGZvciAoY29uc3Qga2V5IG9mIE9iamVjdC5rZXlzKHN0eWxlQXR0cmlidXRlcykpIHsKICAgIGVsZW1lbnQuc3R5bGVba2V5XSA9IHN0eWxlQXR0cmlidXRlc1trZXldOwogIH0KICByZXR1cm4gZWxlbWVudDsKfQoKLy8gTWF4IG51bWJlciBvZiBieXRlcyB3aGljaCB3aWxsIGJlIHVwbG9hZGVkIGF0IGEgdGltZS4KY29uc3QgTUFYX1BBWUxPQURfU0laRSA9IDEwMCAqIDEwMjQ7CgpmdW5jdGlvbiBfdXBsb2FkRmlsZXMoaW5wdXRJZCwgb3V0cHV0SWQpIHsKICBjb25zdCBzdGVwcyA9IHVwbG9hZEZpbGVzU3RlcChpbnB1dElkLCBvdXRwdXRJZCk7CiAgY29uc3Qgb3V0cHV0RWxlbWVudCA9IGRvY3VtZW50LmdldEVsZW1lbnRCeUlkKG91dHB1dElkKTsKICAvLyBDYWNoZSBzdGVwcyBvbiB0aGUgb3V0cHV0RWxlbWVudCB0byBtYWtlIGl0IGF2YWlsYWJsZSBmb3IgdGhlIG5leHQgY2FsbAogIC8vIHRvIHVwbG9hZEZpbGVzQ29udGludWUgZnJvbSBQeXRob24uCiAgb3V0cHV0RWxlbWVudC5zdGVwcyA9IHN0ZXBzOwoKICByZXR1cm4gX3VwbG9hZEZpbGVzQ29udGludWUob3V0cHV0SWQpOwp9CgovLyBUaGlzIGlzIHJvdWdobHkgYW4gYXN5bmMgZ2VuZXJhdG9yIChub3Qgc3VwcG9ydGVkIGluIHRoZSBicm93c2VyIHlldCksCi8vIHdoZXJlIHRoZXJlIGFyZSBtdWx0aXBsZSBhc3luY2hyb25vdXMgc3RlcHMgYW5kIHRoZSBQeXRob24gc2lkZSBpcyBnb2luZwovLyB0byBwb2xsIGZvciBjb21wbGV0aW9uIG9mIGVhY2ggc3RlcC4KLy8gVGhpcyB1c2VzIGEgUHJvbWlzZSB0byBibG9jayB0aGUgcHl0aG9uIHNpZGUgb24gY29tcGxldGlvbiBvZiBlYWNoIHN0ZXAsCi8vIHRoZW4gcGFzc2VzIHRoZSByZXN1bHQgb2YgdGhlIHByZXZpb3VzIHN0ZXAgYXMgdGhlIGlucHV0IHRvIHRoZSBuZXh0IHN0ZXAuCmZ1bmN0aW9uIF91cGxvYWRGaWxlc0NvbnRpbnVlKG91dHB1dElkKSB7CiAgY29uc3Qgb3V0cHV0RWxlbWVudCA9IGRvY3VtZW50LmdldEVsZW1lbnRCeUlkKG91dHB1dElkKTsKICBjb25zdCBzdGVwcyA9IG91dHB1dEVsZW1lbnQuc3RlcHM7CgogIGNvbnN0IG5leHQgPSBzdGVwcy5uZXh0KG91dHB1dEVsZW1lbnQubGFzdFByb21pc2VWYWx1ZSk7CiAgcmV0dXJuIFByb21pc2UucmVzb2x2ZShuZXh0LnZhbHVlLnByb21pc2UpLnRoZW4oKHZhbHVlKSA9PiB7CiAgICAvLyBDYWNoZSB0aGUgbGFzdCBwcm9taXNlIHZhbHVlIHRvIG1ha2UgaXQgYXZhaWxhYmxlIHRvIHRoZSBuZXh0CiAgICAvLyBzdGVwIG9mIHRoZSBnZW5lcmF0b3IuCiAgICBvdXRwdXRFbGVtZW50Lmxhc3RQcm9taXNlVmFsdWUgPSB2YWx1ZTsKICAgIHJldHVybiBuZXh0LnZhbHVlLnJlc3BvbnNlOwogIH0pOwp9CgovKioKICogR2VuZXJhdG9yIGZ1bmN0aW9uIHdoaWNoIGlzIGNhbGxlZCBiZXR3ZWVuIGVhY2ggYXN5bmMgc3RlcCBvZiB0aGUgdXBsb2FkCiAqIHByb2Nlc3MuCiAqIEBwYXJhbSB7c3RyaW5nfSBpbnB1dElkIEVsZW1lbnQgSUQgb2YgdGhlIGlucHV0IGZpbGUgcGlja2VyIGVsZW1lbnQuCiAqIEBwYXJhbSB7c3RyaW5nfSBvdXRwdXRJZCBFbGVtZW50IElEIG9mIHRoZSBvdXRwdXQgZGlzcGxheS4KICogQHJldHVybiB7IUl0ZXJhYmxlPCFPYmplY3Q+fSBJdGVyYWJsZSBvZiBuZXh0IHN0ZXBzLgogKi8KZnVuY3Rpb24qIHVwbG9hZEZpbGVzU3RlcChpbnB1dElkLCBvdXRwdXRJZCkgewogIGNvbnN0IGlucHV0RWxlbWVudCA9IGRvY3VtZW50LmdldEVsZW1lbnRCeUlkKGlucHV0SWQpOwogIGlucHV0RWxlbWVudC5kaXNhYmxlZCA9IGZhbHNlOwoKICBjb25zdCBvdXRwdXRFbGVtZW50ID0gZG9jdW1lbnQuZ2V0RWxlbWVudEJ5SWQob3V0cHV0SWQpOwogIG91dHB1dEVsZW1lbnQuaW5uZXJIVE1MID0gJyc7CgogIGNvbnN0IHBpY2tlZFByb21pc2UgPSBuZXcgUHJvbWlzZSgocmVzb2x2ZSkgPT4gewogICAgaW5wdXRFbGVtZW50LmFkZEV2ZW50TGlzdGVuZXIoJ2NoYW5nZScsIChlKSA9PiB7CiAgICAgIHJlc29sdmUoZS50YXJnZXQuZmlsZXMpOwogICAgfSk7CiAgfSk7CgogIGNvbnN0IGNhbmNlbCA9IGRvY3VtZW50LmNyZWF0ZUVsZW1lbnQoJ2J1dHRvbicpOwogIGlucHV0RWxlbWVudC5wYXJlbnRFbGVtZW50LmFwcGVuZENoaWxkKGNhbmNlbCk7CiAgY2FuY2VsLnRleHRDb250ZW50ID0gJ0NhbmNlbCB1cGxvYWQnOwogIGNvbnN0IGNhbmNlbFByb21pc2UgPSBuZXcgUHJvbWlzZSgocmVzb2x2ZSkgPT4gewogICAgY2FuY2VsLm9uY2xpY2sgPSAoKSA9PiB7CiAgICAgIHJlc29sdmUobnVsbCk7CiAgICB9OwogIH0pOwoKICAvLyBXYWl0IGZvciB0aGUgdXNlciB0byBwaWNrIHRoZSBmaWxlcy4KICBjb25zdCBmaWxlcyA9IHlpZWxkIHsKICAgIHByb21pc2U6IFByb21pc2UucmFjZShbcGlja2VkUHJvbWlzZSwgY2FuY2VsUHJvbWlzZV0pLAogICAgcmVzcG9uc2U6IHsKICAgICAgYWN0aW9uOiAnc3RhcnRpbmcnLAogICAgfQogIH07CgogIGNhbmNlbC5yZW1vdmUoKTsKCiAgLy8gRGlzYWJsZSB0aGUgaW5wdXQgZWxlbWVudCBzaW5jZSBmdXJ0aGVyIHBpY2tzIGFyZSBub3QgYWxsb3dlZC4KICBpbnB1dEVsZW1lbnQuZGlzYWJsZWQgPSB0cnVlOwoKICBpZiAoIWZpbGVzKSB7CiAgICByZXR1cm4gewogICAgICByZXNwb25zZTogewogICAgICAgIGFjdGlvbjogJ2NvbXBsZXRlJywKICAgICAgfQogICAgfTsKICB9CgogIGZvciAoY29uc3QgZmlsZSBvZiBmaWxlcykgewogICAgY29uc3QgbGkgPSBkb2N1bWVudC5jcmVhdGVFbGVtZW50KCdsaScpOwogICAgbGkuYXBwZW5kKHNwYW4oZmlsZS5uYW1lLCB7Zm9udFdlaWdodDogJ2JvbGQnfSkpOwogICAgbGkuYXBwZW5kKHNwYW4oCiAgICAgICAgYCgke2ZpbGUudHlwZSB8fCAnbi9hJ30pIC0gJHtmaWxlLnNpemV9IGJ5dGVzLCBgICsKICAgICAgICBgbGFzdCBtb2RpZmllZDogJHsKICAgICAgICAgICAgZmlsZS5sYXN0TW9kaWZpZWREYXRlID8gZmlsZS5sYXN0TW9kaWZpZWREYXRlLnRvTG9jYWxlRGF0ZVN0cmluZygpIDoKICAgICAgICAgICAgICAgICAgICAgICAgICAgICAgICAgICAgJ24vYSd9IC0gYCkpOwogICAgY29uc3QgcGVyY2VudCA9IHNwYW4oJzAlIGRvbmUnKTsKICAgIGxpLmFwcGVuZENoaWxkKHBlcmNlbnQpOwoKICAgIG91dHB1dEVsZW1lbnQuYXBwZW5kQ2hpbGQobGkpOwoKICAgIGNvbnN0IGZpbGVEYXRhUHJvbWlzZSA9IG5ldyBQcm9taXNlKChyZXNvbHZlKSA9PiB7CiAgICAgIGNvbnN0IHJlYWRlciA9IG5ldyBGaWxlUmVhZGVyKCk7CiAgICAgIHJlYWRlci5vbmxvYWQgPSAoZSkgPT4gewogICAgICAgIHJlc29sdmUoZS50YXJnZXQucmVzdWx0KTsKICAgICAgfTsKICAgICAgcmVhZGVyLnJlYWRBc0FycmF5QnVmZmVyKGZpbGUpOwogICAgfSk7CiAgICAvLyBXYWl0IGZvciB0aGUgZGF0YSB0byBiZSByZWFkeS4KICAgIGxldCBmaWxlRGF0YSA9IHlpZWxkIHsKICAgICAgcHJvbWlzZTogZmlsZURhdGFQcm9taXNlLAogICAgICByZXNwb25zZTogewogICAgICAgIGFjdGlvbjogJ2NvbnRpbnVlJywKICAgICAgfQogICAgfTsKCiAgICAvLyBVc2UgYSBjaHVua2VkIHNlbmRpbmcgdG8gYXZvaWQgbWVzc2FnZSBzaXplIGxpbWl0cy4gU2VlIGIvNjIxMTU2NjAuCiAgICBsZXQgcG9zaXRpb24gPSAwOwogICAgZG8gewogICAgICBjb25zdCBsZW5ndGggPSBNYXRoLm1pbihmaWxlRGF0YS5ieXRlTGVuZ3RoIC0gcG9zaXRpb24sIE1BWF9QQVlMT0FEX1NJWkUpOwogICAgICBjb25zdCBjaHVuayA9IG5ldyBVaW50OEFycmF5KGZpbGVEYXRhLCBwb3NpdGlvbiwgbGVuZ3RoKTsKICAgICAgcG9zaXRpb24gKz0gbGVuZ3RoOwoKICAgICAgY29uc3QgYmFzZTY0ID0gYnRvYShTdHJpbmcuZnJvbUNoYXJDb2RlLmFwcGx5KG51bGwsIGNodW5rKSk7CiAgICAgIHlpZWxkIHsKICAgICAgICByZXNwb25zZTogewogICAgICAgICAgYWN0aW9uOiAnYXBwZW5kJywKICAgICAgICAgIGZpbGU6IGZpbGUubmFtZSwKICAgICAgICAgIGRhdGE6IGJhc2U2NCwKICAgICAgICB9LAogICAgICB9OwoKICAgICAgbGV0IHBlcmNlbnREb25lID0gZmlsZURhdGEuYnl0ZUxlbmd0aCA9PT0gMCA/CiAgICAgICAgICAxMDAgOgogICAgICAgICAgTWF0aC5yb3VuZCgocG9zaXRpb24gLyBmaWxlRGF0YS5ieXRlTGVuZ3RoKSAqIDEwMCk7CiAgICAgIHBlcmNlbnQudGV4dENvbnRlbnQgPSBgJHtwZXJjZW50RG9uZX0lIGRvbmVgOwoKICAgIH0gd2hpbGUgKHBvc2l0aW9uIDwgZmlsZURhdGEuYnl0ZUxlbmd0aCk7CiAgfQoKICAvLyBBbGwgZG9uZS4KICB5aWVsZCB7CiAgICByZXNwb25zZTogewogICAgICBhY3Rpb246ICdjb21wbGV0ZScsCiAgICB9CiAgfTsKfQoKc2NvcGUuZ29vZ2xlID0gc2NvcGUuZ29vZ2xlIHx8IHt9OwpzY29wZS5nb29nbGUuY29sYWIgPSBzY29wZS5nb29nbGUuY29sYWIgfHwge307CnNjb3BlLmdvb2dsZS5jb2xhYi5fZmlsZXMgPSB7CiAgX3VwbG9hZEZpbGVzLAogIF91cGxvYWRGaWxlc0NvbnRpbnVlLAp9Owp9KShzZWxmKTsK",
              "ok": true,
              "headers": [
                [
                  "content-type",
                  "application/javascript"
                ]
              ],
              "status": 200,
              "status_text": ""
            }
          },
          "base_uri": "https://localhost:8080/",
          "height": 74
        },
        "id": "vTKA8oS5whUP",
        "outputId": "91ce6b59-22be-4b69-f93c-045332540c92"
      },
      "id": "vTKA8oS5whUP",
      "execution_count": 3,
      "outputs": [
        {
          "output_type": "display_data",
          "data": {
            "text/plain": [
              "<IPython.core.display.HTML object>"
            ],
            "text/html": [
              "\n",
              "     <input type=\"file\" id=\"files-197c28ee-9bd2-4d74-8b83-96c755f2b279\" name=\"files[]\" multiple disabled\n",
              "        style=\"border:none\" />\n",
              "     <output id=\"result-197c28ee-9bd2-4d74-8b83-96c755f2b279\">\n",
              "      Upload widget is only available when the cell has been executed in the\n",
              "      current browser session. Please rerun this cell to enable.\n",
              "      </output>\n",
              "      <script src=\"/nbextensions/google.colab/files.js\"></script> "
            ]
          },
          "metadata": {}
        },
        {
          "output_type": "stream",
          "name": "stdout",
          "text": [
            "Saving meet_or_beat.csv to meet_or_beat.csv\n"
          ]
        }
      ]
    },
    {
      "cell_type": "code",
      "execution_count": 4,
      "id": "322048df",
      "metadata": {
        "id": "322048df"
      },
      "outputs": [],
      "source": [
        "df = pd.read_csv('meet_or_beat.csv')"
      ]
    },
    {
      "cell_type": "markdown",
      "id": "c8e6b8ab",
      "metadata": {
        "id": "c8e6b8ab"
      },
      "source": [
        "### Preparing the Data"
      ]
    },
    {
      "cell_type": "code",
      "execution_count": 5,
      "id": "f5765905",
      "metadata": {
        "colab": {
          "base_uri": "https://localhost:8080/"
        },
        "id": "f5765905",
        "outputId": "1ad2b22e-1f7b-4f1d-92fc-125431b27b43"
      },
      "outputs": [
        {
          "output_type": "execute_result",
          "data": {
            "text/plain": [
              "2    14676\n",
              "1    14555\n",
              "5    14268\n",
              "4    14251\n",
              "3    14218\n",
              "Name: earnings_quantile, dtype: int64"
            ]
          },
          "metadata": {},
          "execution_count": 5
        }
      ],
      "source": [
        "# Use qcut to group earnings results into 5 buckets\n",
        "df['earnings_quantile'] = (pd.qcut(df['EPS'], q=5, labels=False))+1\n",
        "# Verify buckets are approximately balanced \n",
        "# (Slight imbalance from ties is OK)\n",
        "df['earnings_quantile'].value_counts()"
      ]
    },
    {
      "cell_type": "code",
      "execution_count": 6,
      "id": "e029a4ce",
      "metadata": {
        "id": "e029a4ce"
      },
      "outputs": [],
      "source": [
        "# Save bucket (\"quantile\") value as the new  `y` variable\n",
        "y_quantile = df['earnings_quantile']"
      ]
    },
    {
      "cell_type": "code",
      "execution_count": 7,
      "id": "56854242",
      "metadata": {
        "id": "56854242"
      },
      "outputs": [],
      "source": [
        "# Save the unique count of categories for later use\n",
        "number_of_classes = len(y_quantile.unique())"
      ]
    },
    {
      "cell_type": "code",
      "execution_count": 8,
      "id": "b225898d",
      "metadata": {
        "colab": {
          "base_uri": "https://localhost:8080/"
        },
        "id": "b225898d",
        "outputId": "4e5e4abc-13d2-4ec2-b9c6-cd3f641f1158"
      },
      "outputs": [
        {
          "output_type": "execute_result",
          "data": {
            "text/plain": [
              "array([4, 2, 1, ..., 2, 1, 0])"
            ]
          },
          "metadata": {},
          "execution_count": 8
        }
      ],
      "source": [
        "# Encode quantiles into labels\n",
        "from sklearn.preprocessing import LabelEncoder\n",
        "encoder = LabelEncoder()\n",
        "encoder.fit(y_quantile)\n",
        "encoded_y = encoder.transform(y_quantile)\n",
        "encoded_y"
      ]
    },
    {
      "cell_type": "code",
      "execution_count": 9,
      "id": "fa4a563f",
      "metadata": {
        "id": "fa4a563f"
      },
      "outputs": [],
      "source": [
        "# Encode labels into categories\n",
        "from keras.utils.np_utils import to_categorical\n",
        "y_categorical = to_categorical(encoded_y, num_classes=number_of_classes)"
      ]
    },
    {
      "cell_type": "code",
      "execution_count": 10,
      "id": "f1219ca4",
      "metadata": {
        "colab": {
          "base_uri": "https://localhost:8080/",
          "height": 143
        },
        "id": "f1219ca4",
        "outputId": "7f9b68da-806c-4bef-b056-6c563323654b"
      },
      "outputs": [
        {
          "output_type": "execute_result",
          "data": {
            "text/plain": [
              "   forecasted_eps  before_total_returns  noOfEsts\n",
              "0            1.67              0.018585      11.0\n",
              "1            0.19             -0.000510       6.0\n",
              "2            0.14             -0.046104       4.0"
            ],
            "text/html": [
              "\n",
              "  <div id=\"df-f77f616d-9634-4574-8374-329706c803ef\">\n",
              "    <div class=\"colab-df-container\">\n",
              "      <div>\n",
              "<style scoped>\n",
              "    .dataframe tbody tr th:only-of-type {\n",
              "        vertical-align: middle;\n",
              "    }\n",
              "\n",
              "    .dataframe tbody tr th {\n",
              "        vertical-align: top;\n",
              "    }\n",
              "\n",
              "    .dataframe thead th {\n",
              "        text-align: right;\n",
              "    }\n",
              "</style>\n",
              "<table border=\"1\" class=\"dataframe\">\n",
              "  <thead>\n",
              "    <tr style=\"text-align: right;\">\n",
              "      <th></th>\n",
              "      <th>forecasted_eps</th>\n",
              "      <th>before_total_returns</th>\n",
              "      <th>noOfEsts</th>\n",
              "    </tr>\n",
              "  </thead>\n",
              "  <tbody>\n",
              "    <tr>\n",
              "      <th>0</th>\n",
              "      <td>1.67</td>\n",
              "      <td>0.018585</td>\n",
              "      <td>11.0</td>\n",
              "    </tr>\n",
              "    <tr>\n",
              "      <th>1</th>\n",
              "      <td>0.19</td>\n",
              "      <td>-0.000510</td>\n",
              "      <td>6.0</td>\n",
              "    </tr>\n",
              "    <tr>\n",
              "      <th>2</th>\n",
              "      <td>0.14</td>\n",
              "      <td>-0.046104</td>\n",
              "      <td>4.0</td>\n",
              "    </tr>\n",
              "  </tbody>\n",
              "</table>\n",
              "</div>\n",
              "      <button class=\"colab-df-convert\" onclick=\"convertToInteractive('df-f77f616d-9634-4574-8374-329706c803ef')\"\n",
              "              title=\"Convert this dataframe to an interactive table.\"\n",
              "              style=\"display:none;\">\n",
              "        \n",
              "  <svg xmlns=\"http://www.w3.org/2000/svg\" height=\"24px\"viewBox=\"0 0 24 24\"\n",
              "       width=\"24px\">\n",
              "    <path d=\"M0 0h24v24H0V0z\" fill=\"none\"/>\n",
              "    <path d=\"M18.56 5.44l.94 2.06.94-2.06 2.06-.94-2.06-.94-.94-2.06-.94 2.06-2.06.94zm-11 1L8.5 8.5l.94-2.06 2.06-.94-2.06-.94L8.5 2.5l-.94 2.06-2.06.94zm10 10l.94 2.06.94-2.06 2.06-.94-2.06-.94-.94-2.06-.94 2.06-2.06.94z\"/><path d=\"M17.41 7.96l-1.37-1.37c-.4-.4-.92-.59-1.43-.59-.52 0-1.04.2-1.43.59L10.3 9.45l-7.72 7.72c-.78.78-.78 2.05 0 2.83L4 21.41c.39.39.9.59 1.41.59.51 0 1.02-.2 1.41-.59l7.78-7.78 2.81-2.81c.8-.78.8-2.07 0-2.86zM5.41 20L4 18.59l7.72-7.72 1.47 1.35L5.41 20z\"/>\n",
              "  </svg>\n",
              "      </button>\n",
              "      \n",
              "  <style>\n",
              "    .colab-df-container {\n",
              "      display:flex;\n",
              "      flex-wrap:wrap;\n",
              "      gap: 12px;\n",
              "    }\n",
              "\n",
              "    .colab-df-convert {\n",
              "      background-color: #E8F0FE;\n",
              "      border: none;\n",
              "      border-radius: 50%;\n",
              "      cursor: pointer;\n",
              "      display: none;\n",
              "      fill: #1967D2;\n",
              "      height: 32px;\n",
              "      padding: 0 0 0 0;\n",
              "      width: 32px;\n",
              "    }\n",
              "\n",
              "    .colab-df-convert:hover {\n",
              "      background-color: #E2EBFA;\n",
              "      box-shadow: 0px 1px 2px rgba(60, 64, 67, 0.3), 0px 1px 3px 1px rgba(60, 64, 67, 0.15);\n",
              "      fill: #174EA6;\n",
              "    }\n",
              "\n",
              "    [theme=dark] .colab-df-convert {\n",
              "      background-color: #3B4455;\n",
              "      fill: #D2E3FC;\n",
              "    }\n",
              "\n",
              "    [theme=dark] .colab-df-convert:hover {\n",
              "      background-color: #434B5C;\n",
              "      box-shadow: 0px 1px 3px 1px rgba(0, 0, 0, 0.15);\n",
              "      filter: drop-shadow(0px 1px 2px rgba(0, 0, 0, 0.3));\n",
              "      fill: #FFFFFF;\n",
              "    }\n",
              "  </style>\n",
              "\n",
              "      <script>\n",
              "        const buttonEl =\n",
              "          document.querySelector('#df-f77f616d-9634-4574-8374-329706c803ef button.colab-df-convert');\n",
              "        buttonEl.style.display =\n",
              "          google.colab.kernel.accessAllowed ? 'block' : 'none';\n",
              "\n",
              "        async function convertToInteractive(key) {\n",
              "          const element = document.querySelector('#df-f77f616d-9634-4574-8374-329706c803ef');\n",
              "          const dataTable =\n",
              "            await google.colab.kernel.invokeFunction('convertToInteractive',\n",
              "                                                     [key], {});\n",
              "          if (!dataTable) return;\n",
              "\n",
              "          const docLinkHtml = 'Like what you see? Visit the ' +\n",
              "            '<a target=\"_blank\" href=https://colab.research.google.com/notebooks/data_table.ipynb>data table notebook</a>'\n",
              "            + ' to learn more about interactive tables.';\n",
              "          element.innerHTML = '';\n",
              "          dataTable['output_type'] = 'display_data';\n",
              "          await google.colab.output.renderOutput(dataTable, element);\n",
              "          const docLink = document.createElement('div');\n",
              "          docLink.innerHTML = docLinkHtml;\n",
              "          element.appendChild(docLink);\n",
              "        }\n",
              "      </script>\n",
              "    </div>\n",
              "  </div>\n",
              "  "
            ]
          },
          "metadata": {},
          "execution_count": 10
        }
      ],
      "source": [
        "# Specify X (predictor) variables\n",
        "X = df[['forecasted_eps',\n",
        "              'before_total_returns','noOfEsts']]\n",
        "X.head(3)"
      ]
    },
    {
      "cell_type": "code",
      "execution_count": 11,
      "id": "09f6d2b3",
      "metadata": {
        "id": "09f6d2b3"
      },
      "outputs": [],
      "source": [
        "# Split into training and testing windows\n",
        "from sklearn.model_selection import train_test_split\n",
        "X_train, X_test, y_train, y_test = train_test_split(X, y_categorical, random_state=1)"
      ]
    },
    {
      "cell_type": "code",
      "execution_count": 12,
      "id": "047e581e",
      "metadata": {
        "colab": {
          "base_uri": "https://localhost:8080/"
        },
        "id": "047e581e",
        "outputId": "beda7f18-f886-4a6f-888c-27487f5f7c03"
      },
      "outputs": [
        {
          "output_type": "execute_result",
          "data": {
            "text/plain": [
              "array([[0., 0., 0., 0., 1.],\n",
              "       [0., 0., 0., 1., 0.],\n",
              "       [0., 0., 0., 0., 1.],\n",
              "       ...,\n",
              "       [0., 0., 1., 0., 0.],\n",
              "       [0., 0., 1., 0., 0.],\n",
              "       [0., 0., 0., 1., 0.]], dtype=float32)"
            ]
          },
          "metadata": {},
          "execution_count": 12
        }
      ],
      "source": [
        "# Preview the `y_train` values\n",
        "y_train"
      ]
    },
    {
      "cell_type": "code",
      "execution_count": 13,
      "id": "d8a8314d",
      "metadata": {
        "colab": {
          "base_uri": "https://localhost:8080/"
        },
        "id": "d8a8314d",
        "outputId": "2bafd73d-b494-4ac7-e81c-ad9327703ff1"
      },
      "outputs": [
        {
          "output_type": "execute_result",
          "data": {
            "text/plain": [
              "3"
            ]
          },
          "metadata": {},
          "execution_count": 13
        }
      ],
      "source": [
        "# Save the count of unique predictor variables for use in model\n",
        "number_of_predictors = len(X.columns)\n",
        "len(X.columns)"
      ]
    },
    {
      "cell_type": "markdown",
      "id": "a1c124ca",
      "metadata": {
        "id": "a1c124ca"
      },
      "source": [
        "### Building the Model"
      ]
    },
    {
      "cell_type": "code",
      "execution_count": 14,
      "id": "88fff3da",
      "metadata": {
        "id": "88fff3da"
      },
      "outputs": [],
      "source": [
        "# Import the `Dropout` layer\n",
        "from keras.layers import Dropout\n",
        "# Import regularizers\n",
        "from keras.regularizers import l1, l2"
      ]
    },
    {
      "cell_type": "code",
      "execution_count": 15,
      "id": "d3f0702b",
      "metadata": {
        "id": "d3f0702b"
      },
      "outputs": [],
      "source": [
        "# Build the Model\n",
        "model = Sequential()\n",
        "# Add a dense layer (as before)\n",
        "model.add(Dense(10, input_dim=number_of_predictors, activation='relu'))\n",
        "# Now add a dropout layer\n",
        "model.add(Dropout(.2,input_shape=(10,)))\n",
        "# Add regularization to another dense layer\n",
        "model.add(Dense(5, activation='relu', kernel_regularizer=l2(0.01), bias_regularizer=l2(0.01)))"
      ]
    },
    {
      "cell_type": "code",
      "execution_count": 16,
      "id": "2e188acc",
      "metadata": {
        "id": "2e188acc"
      },
      "outputs": [],
      "source": [
        "# Add the final output layer\n",
        "# (Set the # of possible outputs equal to the number classes)\n",
        "model.add(Dense(number_of_classes, activation='softmax'))"
      ]
    },
    {
      "cell_type": "code",
      "execution_count": 17,
      "id": "234f97d9",
      "metadata": {
        "id": "234f97d9"
      },
      "outputs": [],
      "source": [
        "# Compile the model\n",
        "model.compile(loss=\"categorical_crossentropy\", \n",
        "              optimizer= \"adam\", \n",
        "              metrics=['categorical_accuracy'])"
      ]
    },
    {
      "cell_type": "code",
      "execution_count": 18,
      "id": "fb552948",
      "metadata": {
        "colab": {
          "base_uri": "https://localhost:8080/"
        },
        "id": "fb552948",
        "outputId": "402708d0-c044-4940-c1b8-fbb144495665"
      },
      "outputs": [
        {
          "output_type": "stream",
          "name": "stdout",
          "text": [
            "Model: \"sequential\"\n",
            "_________________________________________________________________\n",
            " Layer (type)                Output Shape              Param #   \n",
            "=================================================================\n",
            " dense (Dense)               (None, 10)                40        \n",
            "                                                                 \n",
            " dropout (Dropout)           (None, 10)                0         \n",
            "                                                                 \n",
            " dense_1 (Dense)             (None, 5)                 55        \n",
            "                                                                 \n",
            " dense_2 (Dense)             (None, 5)                 30        \n",
            "                                                                 \n",
            "=================================================================\n",
            "Total params: 125\n",
            "Trainable params: 125\n",
            "Non-trainable params: 0\n",
            "_________________________________________________________________\n"
          ]
        }
      ],
      "source": [
        "# Summarise the model\n",
        "model.summary()"
      ]
    },
    {
      "cell_type": "code",
      "execution_count": 19,
      "id": "0cd4bbee",
      "metadata": {
        "colab": {
          "base_uri": "https://localhost:8080/"
        },
        "id": "0cd4bbee",
        "outputId": "e13c5c0e-8743-43c6-999c-4f1a71e4f182"
      },
      "outputs": [
        {
          "output_type": "stream",
          "name": "stdout",
          "text": [
            "Epoch 1/50\n",
            "44/44 [==============================] - 1s 11ms/step - loss: 2.1334 - categorical_accuracy: 0.1309 - val_loss: 1.8892 - val_categorical_accuracy: 0.1092\n",
            "Epoch 2/50\n",
            "44/44 [==============================] - 0s 4ms/step - loss: 1.8460 - categorical_accuracy: 0.1334 - val_loss: 1.7022 - val_categorical_accuracy: 0.1119\n",
            "Epoch 3/50\n",
            "44/44 [==============================] - 0s 4ms/step - loss: 1.7127 - categorical_accuracy: 0.1593 - val_loss: 1.6320 - val_categorical_accuracy: 0.1619\n",
            "Epoch 4/50\n",
            "44/44 [==============================] - 0s 4ms/step - loss: 1.6545 - categorical_accuracy: 0.1949 - val_loss: 1.5960 - val_categorical_accuracy: 0.2345\n",
            "Epoch 5/50\n",
            "44/44 [==============================] - 0s 4ms/step - loss: 1.6191 - categorical_accuracy: 0.2464 - val_loss: 1.5698 - val_categorical_accuracy: 0.3045\n",
            "Epoch 6/50\n",
            "44/44 [==============================] - 0s 4ms/step - loss: 1.5931 - categorical_accuracy: 0.2961 - val_loss: 1.5425 - val_categorical_accuracy: 0.4213\n",
            "Epoch 7/50\n",
            "44/44 [==============================] - 0s 4ms/step - loss: 1.5635 - categorical_accuracy: 0.3684 - val_loss: 1.5105 - val_categorical_accuracy: 0.4578\n",
            "Epoch 8/50\n",
            "44/44 [==============================] - 0s 5ms/step - loss: 1.5322 - categorical_accuracy: 0.3997 - val_loss: 1.4725 - val_categorical_accuracy: 0.4634\n",
            "Epoch 9/50\n",
            "44/44 [==============================] - 0s 4ms/step - loss: 1.4954 - categorical_accuracy: 0.4148 - val_loss: 1.4290 - val_categorical_accuracy: 0.4618\n",
            "Epoch 10/50\n",
            "44/44 [==============================] - 0s 4ms/step - loss: 1.4552 - categorical_accuracy: 0.4223 - val_loss: 1.3807 - val_categorical_accuracy: 0.4564\n",
            "Epoch 11/50\n",
            "44/44 [==============================] - 0s 3ms/step - loss: 1.4081 - categorical_accuracy: 0.4302 - val_loss: 1.3297 - val_categorical_accuracy: 0.4530\n",
            "Epoch 12/50\n",
            "44/44 [==============================] - 0s 4ms/step - loss: 1.3643 - categorical_accuracy: 0.4398 - val_loss: 1.2809 - val_categorical_accuracy: 0.4653\n",
            "Epoch 13/50\n",
            "44/44 [==============================] - 0s 4ms/step - loss: 1.3245 - categorical_accuracy: 0.4571 - val_loss: 1.2336 - val_categorical_accuracy: 0.4829\n",
            "Epoch 14/50\n",
            "44/44 [==============================] - 0s 3ms/step - loss: 1.2751 - categorical_accuracy: 0.4680 - val_loss: 1.1904 - val_categorical_accuracy: 0.5013\n",
            "Epoch 15/50\n",
            "44/44 [==============================] - 0s 4ms/step - loss: 1.2368 - categorical_accuracy: 0.4770 - val_loss: 1.1502 - val_categorical_accuracy: 0.5180\n",
            "Epoch 16/50\n",
            "44/44 [==============================] - 0s 4ms/step - loss: 1.2006 - categorical_accuracy: 0.4917 - val_loss: 1.1123 - val_categorical_accuracy: 0.5332\n",
            "Epoch 17/50\n",
            "44/44 [==============================] - 0s 4ms/step - loss: 1.1657 - categorical_accuracy: 0.5050 - val_loss: 1.0747 - val_categorical_accuracy: 0.5535\n",
            "Epoch 18/50\n",
            "44/44 [==============================] - 0s 4ms/step - loss: 1.1340 - categorical_accuracy: 0.5232 - val_loss: 1.0408 - val_categorical_accuracy: 0.5915\n",
            "Epoch 19/50\n",
            "44/44 [==============================] - 0s 4ms/step - loss: 1.1047 - categorical_accuracy: 0.5419 - val_loss: 1.0099 - val_categorical_accuracy: 0.6275\n",
            "Epoch 20/50\n",
            "44/44 [==============================] - 0s 5ms/step - loss: 1.0781 - categorical_accuracy: 0.5652 - val_loss: 0.9800 - val_categorical_accuracy: 0.6651\n",
            "Epoch 21/50\n",
            "44/44 [==============================] - 0s 4ms/step - loss: 1.0576 - categorical_accuracy: 0.5871 - val_loss: 0.9544 - val_categorical_accuracy: 0.6967\n",
            "Epoch 22/50\n",
            "44/44 [==============================] - 0s 4ms/step - loss: 1.0362 - categorical_accuracy: 0.6034 - val_loss: 0.9310 - val_categorical_accuracy: 0.7173\n",
            "Epoch 23/50\n",
            "44/44 [==============================] - 0s 6ms/step - loss: 1.0173 - categorical_accuracy: 0.6186 - val_loss: 0.9092 - val_categorical_accuracy: 0.7376\n",
            "Epoch 24/50\n",
            "44/44 [==============================] - 0s 7ms/step - loss: 1.0011 - categorical_accuracy: 0.6281 - val_loss: 0.8893 - val_categorical_accuracy: 0.7485\n",
            "Epoch 25/50\n",
            "44/44 [==============================] - 0s 7ms/step - loss: 0.9845 - categorical_accuracy: 0.6418 - val_loss: 0.8710 - val_categorical_accuracy: 0.7622\n",
            "Epoch 26/50\n",
            "44/44 [==============================] - 0s 8ms/step - loss: 0.9717 - categorical_accuracy: 0.6473 - val_loss: 0.8549 - val_categorical_accuracy: 0.7732\n",
            "Epoch 27/50\n",
            "44/44 [==============================] - 0s 7ms/step - loss: 0.9563 - categorical_accuracy: 0.6549 - val_loss: 0.8392 - val_categorical_accuracy: 0.7838\n",
            "Epoch 28/50\n",
            "44/44 [==============================] - 0s 7ms/step - loss: 0.9498 - categorical_accuracy: 0.6633 - val_loss: 0.8270 - val_categorical_accuracy: 0.7925\n",
            "Epoch 29/50\n",
            "44/44 [==============================] - 0s 7ms/step - loss: 0.9357 - categorical_accuracy: 0.6707 - val_loss: 0.8139 - val_categorical_accuracy: 0.7957\n",
            "Epoch 30/50\n",
            "44/44 [==============================] - 0s 7ms/step - loss: 0.9261 - categorical_accuracy: 0.6711 - val_loss: 0.8043 - val_categorical_accuracy: 0.8026\n",
            "Epoch 31/50\n",
            "44/44 [==============================] - 0s 4ms/step - loss: 0.9173 - categorical_accuracy: 0.6771 - val_loss: 0.7940 - val_categorical_accuracy: 0.8051\n",
            "Epoch 32/50\n",
            "44/44 [==============================] - 0s 4ms/step - loss: 0.9089 - categorical_accuracy: 0.6845 - val_loss: 0.7845 - val_categorical_accuracy: 0.8119\n",
            "Epoch 33/50\n",
            "44/44 [==============================] - 0s 5ms/step - loss: 0.8975 - categorical_accuracy: 0.6890 - val_loss: 0.7745 - val_categorical_accuracy: 0.8134\n",
            "Epoch 34/50\n",
            "44/44 [==============================] - 0s 4ms/step - loss: 0.8924 - categorical_accuracy: 0.6918 - val_loss: 0.7663 - val_categorical_accuracy: 0.8139\n",
            "Epoch 35/50\n",
            "44/44 [==============================] - 0s 4ms/step - loss: 0.8852 - categorical_accuracy: 0.6949 - val_loss: 0.7572 - val_categorical_accuracy: 0.8191\n",
            "Epoch 36/50\n",
            "44/44 [==============================] - 0s 4ms/step - loss: 0.8740 - categorical_accuracy: 0.6986 - val_loss: 0.7500 - val_categorical_accuracy: 0.8211\n",
            "Epoch 37/50\n",
            "44/44 [==============================] - 0s 4ms/step - loss: 0.8716 - categorical_accuracy: 0.7018 - val_loss: 0.7414 - val_categorical_accuracy: 0.8224\n",
            "Epoch 38/50\n",
            "44/44 [==============================] - 0s 4ms/step - loss: 0.8641 - categorical_accuracy: 0.7074 - val_loss: 0.7346 - val_categorical_accuracy: 0.8203\n",
            "Epoch 39/50\n",
            "44/44 [==============================] - 0s 5ms/step - loss: 0.8513 - categorical_accuracy: 0.7097 - val_loss: 0.7276 - val_categorical_accuracy: 0.8236\n",
            "Epoch 40/50\n",
            "44/44 [==============================] - 0s 4ms/step - loss: 0.8479 - categorical_accuracy: 0.7141 - val_loss: 0.7208 - val_categorical_accuracy: 0.8234\n",
            "Epoch 41/50\n",
            "44/44 [==============================] - 0s 4ms/step - loss: 0.8440 - categorical_accuracy: 0.7142 - val_loss: 0.7146 - val_categorical_accuracy: 0.8272\n",
            "Epoch 42/50\n",
            "44/44 [==============================] - 0s 4ms/step - loss: 0.8382 - categorical_accuracy: 0.7192 - val_loss: 0.7084 - val_categorical_accuracy: 0.8268\n",
            "Epoch 43/50\n",
            "44/44 [==============================] - 0s 4ms/step - loss: 0.8320 - categorical_accuracy: 0.7222 - val_loss: 0.7037 - val_categorical_accuracy: 0.8275\n",
            "Epoch 44/50\n",
            "44/44 [==============================] - 0s 5ms/step - loss: 0.8235 - categorical_accuracy: 0.7253 - val_loss: 0.6983 - val_categorical_accuracy: 0.8273\n",
            "Epoch 45/50\n",
            "44/44 [==============================] - 0s 4ms/step - loss: 0.8238 - categorical_accuracy: 0.7242 - val_loss: 0.6937 - val_categorical_accuracy: 0.8279\n",
            "Epoch 46/50\n",
            "44/44 [==============================] - 0s 4ms/step - loss: 0.8194 - categorical_accuracy: 0.7257 - val_loss: 0.6892 - val_categorical_accuracy: 0.8319\n",
            "Epoch 47/50\n",
            "44/44 [==============================] - 0s 4ms/step - loss: 0.8175 - categorical_accuracy: 0.7296 - val_loss: 0.6851 - val_categorical_accuracy: 0.8273\n",
            "Epoch 48/50\n",
            "44/44 [==============================] - 0s 4ms/step - loss: 0.8104 - categorical_accuracy: 0.7280 - val_loss: 0.6804 - val_categorical_accuracy: 0.8296\n",
            "Epoch 49/50\n",
            "44/44 [==============================] - 0s 4ms/step - loss: 0.8031 - categorical_accuracy: 0.7308 - val_loss: 0.6769 - val_categorical_accuracy: 0.8287\n",
            "Epoch 50/50\n",
            "44/44 [==============================] - 0s 4ms/step - loss: 0.8007 - categorical_accuracy: 0.7323 - val_loss: 0.6728 - val_categorical_accuracy: 0.8308\n"
          ]
        },
        {
          "output_type": "execute_result",
          "data": {
            "text/plain": [
              "<keras.callbacks.History at 0x7fcfff49b510>"
            ]
          },
          "metadata": {},
          "execution_count": 19
        }
      ],
      "source": [
        "# Add in validation loss to select the number of epochs\n",
        "# Fit the model\n",
        "number_of_epochs = 50\n",
        "model.fit(X_train,y_train, \n",
        "                    epochs=number_of_epochs,\n",
        "                    batch_size=1000,\n",
        "                      validation_split=0.2,\n",
        "                    shuffle=True)"
      ]
    },
    {
      "cell_type": "code",
      "execution_count": 20,
      "id": "53b0063a",
      "metadata": {
        "colab": {
          "base_uri": "https://localhost:8080/"
        },
        "id": "53b0063a",
        "outputId": "17ea1c8c-06ba-469f-a67c-0afa1e16d830"
      },
      "outputs": [
        {
          "output_type": "execute_result",
          "data": {
            "text/plain": [
              "dict_keys(['loss', 'categorical_accuracy', 'val_loss', 'val_categorical_accuracy'])"
            ]
          },
          "metadata": {},
          "execution_count": 20
        }
      ],
      "source": [
        "# Save model history across epochs\n",
        "model_history = model.history.history\n",
        "model_history.keys()"
      ]
    },
    {
      "cell_type": "code",
      "execution_count": 21,
      "id": "2124d070",
      "metadata": {
        "colab": {
          "base_uri": "https://localhost:8080/"
        },
        "id": "2124d070",
        "outputId": "8f94997d-4aff-4cf4-ffb7-3a4a882d88ff"
      },
      "outputs": [
        {
          "output_type": "execute_result",
          "data": {
            "text/plain": [
              "[0.130940243601799,\n",
              " 0.13339509069919586,\n",
              " 0.15930986404418945,\n",
              " 0.19485872983932495,\n",
              " 0.2464335411787033,\n",
              " 0.29606300592422485,\n",
              " 0.36836498975753784,\n",
              " 0.39967578649520874,\n",
              " 0.41475218534469604,\n",
              " 0.42225566506385803,\n",
              " 0.4302223324775696,\n",
              " 0.43983325362205505,\n",
              " 0.4570634663105011,\n",
              " 0.4680407643318176,\n",
              " 0.47702640295028687,\n",
              " 0.49166280031204224,\n",
              " 0.5050254464149475,\n",
              " 0.5232283473014832,\n",
              " 0.5418943762779236,\n",
              " 0.5651690363883972,\n",
              " 0.5871468186378479,\n",
              " 0.6033580303192139,\n",
              " 0.6186428666114807,\n",
              " 0.6281148791313171,\n",
              " 0.6418017745018005,\n",
              " 0.6472672820091248,\n",
              " 0.6549328565597534,\n",
              " 0.6633163690567017,\n",
              " 0.6707271933555603,\n",
              " 0.6710977554321289,\n",
              " 0.6770727038383484,\n",
              " 0.6844604015350342,\n",
              " 0.6889995336532593,\n",
              " 0.6917786002159119,\n",
              " 0.6949050426483154,\n",
              " 0.6986104846000671,\n",
              " 0.701806366443634,\n",
              " 0.7073644995689392,\n",
              " 0.7096572518348694,\n",
              " 0.7141268849372864,\n",
              " 0.7141963839530945,\n",
              " 0.7192450165748596,\n",
              " 0.7221862077713013,\n",
              " 0.7253357768058777,\n",
              " 0.7242010235786438,\n",
              " 0.7256832122802734,\n",
              " 0.7296202182769775,\n",
              " 0.727952778339386,\n",
              " 0.7308475971221924,\n",
              " 0.7322834730148315]"
            ]
          },
          "metadata": {},
          "execution_count": 21
        }
      ],
      "source": [
        "# View `categorical_accuracy` for the training dataset\n",
        "model_history['categorical_accuracy']"
      ]
    },
    {
      "cell_type": "code",
      "execution_count": 22,
      "id": "3ef4fda4",
      "metadata": {
        "colab": {
          "base_uri": "https://localhost:8080/",
          "height": 299
        },
        "id": "3ef4fda4",
        "outputId": "f08fb54a-828e-4702-b97a-3e9f135d1a3f"
      },
      "outputs": [
        {
          "output_type": "execute_result",
          "data": {
            "text/plain": [
              "<matplotlib.axes._subplots.AxesSubplot at 0x7fcff9b48350>"
            ]
          },
          "metadata": {},
          "execution_count": 22
        },
        {
          "output_type": "display_data",
          "data": {
            "text/plain": [
              "<Figure size 432x288 with 1 Axes>"
            ],
            "image/png": "[encoded data removed]"
          },
          "metadata": {
            "needs_background": "light"
          }
        }
      ],
      "source": [
        "# Save accuracy for training and validation set across epochs\n",
        "training_results = pd.DataFrame(index=range(1,number_of_epochs+1))\n",
        "training_results['Training'] = model_history['categorical_accuracy']\n",
        "training_results['Validation'] = model_history['val_categorical_accuracy']\n",
        "training_results.plot(title = 'Performance Across Training and Validation')"
      ]
    }
  ],
  "metadata": {
    "kernelspec": {
      "display_name": "Python 3 (ipykernel)",
      "language": "python",
      "name": "python3"
    },
    "language_info": {
      "codemirror_mode": {
        "name": "ipython",
        "version": 3
      },
      "file_extension": ".py",
      "mimetype": "text/x-python",
      "name": "python",
      "nbconvert_exporter": "python",
      "pygments_lexer": "ipython3",
      "version": "3.8.11"
    },
    "colab": {
      "name": "Colab_ins_overfitting.ipynb",
      "provenance": []
    }
  },
  "nbformat": 4,
  "nbformat_minor": 5
}