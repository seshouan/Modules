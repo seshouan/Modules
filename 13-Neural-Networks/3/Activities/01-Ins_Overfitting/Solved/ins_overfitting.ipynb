{
 "cells": [
  {
   "cell_type": "markdown",
   "id": "4104bbc9",
   "metadata": {},
   "source": [
    "# Overfitting"
   ]
  },
  {
   "cell_type": "code",
   "execution_count": 1,
   "id": "038c919a",
   "metadata": {},
   "outputs": [],
   "source": [
    "import pandas as pd\n",
    "import numpy as np"
   ]
  },
  {
   "cell_type": "code",
   "execution_count": 2,
   "id": "292c574b",
   "metadata": {},
   "outputs": [],
   "source": [
    "from keras.models import Sequential\n",
    "from keras.layers import Dense, Activation"
   ]
  },
  {
   "cell_type": "code",
   "execution_count": 3,
   "id": "322048df",
   "metadata": {},
   "outputs": [],
   "source": [
    "df = pd.read_csv('../Resources/meet_or_beat.csv')"
   ]
  },
  {
   "cell_type": "markdown",
   "id": "c8e6b8ab",
   "metadata": {},
   "source": [
    "### Preparing the Data"
   ]
  },
  {
   "cell_type": "code",
   "execution_count": 4,
   "id": "f5765905",
   "metadata": {},
   "outputs": [
    {
     "data": {
      "text/plain": [
       "2    14676\n",
       "1    14555\n",
       "5    14268\n",
       "4    14251\n",
       "3    14218\n",
       "Name: earnings_quantile, dtype: int64"
      ]
     },
     "execution_count": 4,
     "metadata": {},
     "output_type": "execute_result"
    }
   ],
   "source": [
    "# Use qcut to group earnings results into 5 buckets\n",
    "df['earnings_quantile'] = (pd.qcut(df['EPS'], q=5, labels=False))+1\n",
    "# Verify buckets are approximately balanced \n",
    "# (Slight imbalance from ties is OK)\n",
    "df['earnings_quantile'].value_counts()"
   ]
  },
  {
   "cell_type": "code",
   "execution_count": 5,
   "id": "e029a4ce",
   "metadata": {},
   "outputs": [],
   "source": [
    "# Save bucket (\"quantile\") value as the new  `y` variable\n",
    "y_quantile = df['earnings_quantile']"
   ]
  },
  {
   "cell_type": "code",
   "execution_count": 6,
   "id": "56854242",
   "metadata": {},
   "outputs": [],
   "source": [
    "# Save the unique count of categories for later use\n",
    "number_of_classes = len(y_quantile.unique())"
   ]
  },
  {
   "cell_type": "code",
   "execution_count": 7,
   "id": "b225898d",
   "metadata": {},
   "outputs": [
    {
     "data": {
      "text/plain": [
       "array([4, 2, 1, ..., 2, 1, 0])"
      ]
     },
     "execution_count": 7,
     "metadata": {},
     "output_type": "execute_result"
    }
   ],
   "source": [
    "# Encode quantiles into labels\n",
    "from sklearn.preprocessing import LabelEncoder\n",
    "encoder = LabelEncoder()\n",
    "encoder.fit(y_quantile)\n",
    "encoded_y = encoder.transform(y_quantile)\n",
    "encoded_y"
   ]
  },
  {
   "cell_type": "code",
   "execution_count": 8,
   "id": "fa4a563f",
   "metadata": {},
   "outputs": [],
   "source": [
    "# Encode labels into categories\n",
    "from keras.utils.np_utils import to_categorical\n",
    "y_categorical = to_categorical(encoded_y, num_classes=number_of_classes)"
   ]
  },
  {
   "cell_type": "code",
   "execution_count": 9,
   "id": "f1219ca4",
   "metadata": {},
   "outputs": [
    {
     "data": {
      "text/html": [
       "<div>\n",
       "<style scoped>\n",
       "    .dataframe tbody tr th:only-of-type {\n",
       "        vertical-align: middle;\n",
       "    }\n",
       "\n",
       "    .dataframe tbody tr th {\n",
       "        vertical-align: top;\n",
       "    }\n",
       "\n",
       "    .dataframe thead th {\n",
       "        text-align: right;\n",
       "    }\n",
       "</style>\n",
       "<table border=\"1\" class=\"dataframe\">\n",
       "  <thead>\n",
       "    <tr style=\"text-align: right;\">\n",
       "      <th></th>\n",
       "      <th>forecasted_eps</th>\n",
       "      <th>before_total_returns</th>\n",
       "      <th>noOfEsts</th>\n",
       "    </tr>\n",
       "  </thead>\n",
       "  <tbody>\n",
       "    <tr>\n",
       "      <th>0</th>\n",
       "      <td>1.67</td>\n",
       "      <td>0.018585</td>\n",
       "      <td>11.0</td>\n",
       "    </tr>\n",
       "    <tr>\n",
       "      <th>1</th>\n",
       "      <td>0.19</td>\n",
       "      <td>-0.000510</td>\n",
       "      <td>6.0</td>\n",
       "    </tr>\n",
       "    <tr>\n",
       "      <th>2</th>\n",
       "      <td>0.14</td>\n",
       "      <td>-0.046104</td>\n",
       "      <td>4.0</td>\n",
       "    </tr>\n",
       "  </tbody>\n",
       "</table>\n",
       "</div>"
      ],
      "text/plain": [
       "   forecasted_eps  before_total_returns  noOfEsts\n",
       "0            1.67              0.018585      11.0\n",
       "1            0.19             -0.000510       6.0\n",
       "2            0.14             -0.046104       4.0"
      ]
     },
     "execution_count": 9,
     "metadata": {},
     "output_type": "execute_result"
    }
   ],
   "source": [
    "# Specify X (predictor) variables\n",
    "X = df[['forecasted_eps',\n",
    "              'before_total_returns','noOfEsts']]\n",
    "X.head(3)"
   ]
  },
  {
   "cell_type": "code",
   "execution_count": 10,
   "id": "09f6d2b3",
   "metadata": {},
   "outputs": [],
   "source": [
    "# Split into training and testing windows\n",
    "from sklearn.model_selection import train_test_split\n",
    "X_train, X_test, y_train, y_test = train_test_split(X, y_categorical, random_state=1)"
   ]
  },
  {
   "cell_type": "code",
   "execution_count": 11,
   "id": "047e581e",
   "metadata": {},
   "outputs": [
    {
     "data": {
      "text/plain": [
       "array([[0., 0., 0., 0., 1.],\n",
       "       [0., 0., 0., 1., 0.],\n",
       "       [0., 0., 0., 0., 1.],\n",
       "       ...,\n",
       "       [0., 0., 1., 0., 0.],\n",
       "       [0., 0., 1., 0., 0.],\n",
       "       [0., 0., 0., 1., 0.]], dtype=float32)"
      ]
     },
     "execution_count": 11,
     "metadata": {},
     "output_type": "execute_result"
    }
   ],
   "source": [
    "# Preview the `y_train` values\n",
    "y_train"
   ]
  },
  {
   "cell_type": "code",
   "execution_count": 12,
   "id": "d8a8314d",
   "metadata": {},
   "outputs": [
    {
     "data": {
      "text/plain": [
       "3"
      ]
     },
     "execution_count": 12,
     "metadata": {},
     "output_type": "execute_result"
    }
   ],
   "source": [
    "# Save the count of unique predictor variables for use in model\n",
    "number_of_predictors = len(X.columns)\n",
    "len(X.columns)"
   ]
  },
  {
   "cell_type": "markdown",
   "id": "a1c124ca",
   "metadata": {},
   "source": [
    "### Building the Model"
   ]
  },
  {
   "cell_type": "code",
   "execution_count": 13,
   "id": "88fff3da",
   "metadata": {},
   "outputs": [],
   "source": [
    "# Import the `Dropout` layer\n",
    "from keras.layers import Dropout\n",
    "# Import regularizers\n",
    "from keras.regularizers import l1, l2"
   ]
  },
  {
   "cell_type": "code",
   "execution_count": 14,
   "id": "d3f0702b",
   "metadata": {},
   "outputs": [
    {
     "name": "stdout",
     "output_type": "stream",
     "text": [
      "Metal device set to: Apple M1 Max\n"
     ]
    },
    {
     "name": "stderr",
     "output_type": "stream",
     "text": [
      "2022-03-12 12:25:07.629490: I tensorflow/core/common_runtime/pluggable_device/pluggable_device_factory.cc:305] Could not identify NUMA node of platform GPU ID 0, defaulting to 0. Your kernel may not have been built with NUMA support.\n",
      "2022-03-12 12:25:07.629595: I tensorflow/core/common_runtime/pluggable_device/pluggable_device_factory.cc:271] Created TensorFlow device (/job:localhost/replica:0/task:0/device:GPU:0 with 0 MB memory) -> physical PluggableDevice (device: 0, name: METAL, pci bus id: <undefined>)\n"
     ]
    }
   ],
   "source": [
    "# Build the Model\n",
    "model = Sequential()\n",
    "# Add a dense layer (as before)\n",
    "model.add(Dense(10, input_dim=number_of_predictors, activation='relu'))\n",
    "# Now add a dropout layer\n",
    "model.add(Dropout(.2,input_shape=(10,)))\n",
    "# Add regularization to another dense layer\n",
    "model.add(Dense(5, activation='relu', kernel_regularizer=l2(0.01), bias_regularizer=l2(0.01)))"
   ]
  },
  {
   "cell_type": "code",
   "execution_count": 15,
   "id": "2e188acc",
   "metadata": {},
   "outputs": [],
   "source": [
    "# Add the final output layer\n",
    "# (Set the # of possible outputs equal to the number classes)\n",
    "model.add(Dense(number_of_classes, activation='softmax'))"
   ]
  },
  {
   "cell_type": "code",
   "execution_count": 16,
   "id": "234f97d9",
   "metadata": {},
   "outputs": [],
   "source": [
    "# Compile the model\n",
    "model.compile(loss=\"categorical_crossentropy\", \n",
    "              optimizer= \"adam\", \n",
    "              metrics=['categorical_accuracy'])"
   ]
  },
  {
   "cell_type": "code",
   "execution_count": 17,
   "id": "fb552948",
   "metadata": {},
   "outputs": [
    {
     "name": "stdout",
     "output_type": "stream",
     "text": [
      "Model: \"sequential\"\n",
      "_________________________________________________________________\n",
      " Layer (type)                Output Shape              Param #   \n",
      "=================================================================\n",
      " dense (Dense)               (None, 10)                40        \n",
      "                                                                 \n",
      " dropout (Dropout)           (None, 10)                0         \n",
      "                                                                 \n",
      " dense_1 (Dense)             (None, 5)                 55        \n",
      "                                                                 \n",
      " dense_2 (Dense)             (None, 5)                 30        \n",
      "                                                                 \n",
      "=================================================================\n",
      "Total params: 125\n",
      "Trainable params: 125\n",
      "Non-trainable params: 0\n",
      "_________________________________________________________________\n"
     ]
    }
   ],
   "source": [
    "# Summarise the model\n",
    "model.summary()"
   ]
  },
  {
   "cell_type": "code",
   "execution_count": 18,
   "id": "0cd4bbee",
   "metadata": {},
   "outputs": [
    {
     "name": "stdout",
     "output_type": "stream",
     "text": [
      "Epoch 1/50\n"
     ]
    },
    {
     "name": "stderr",
     "output_type": "stream",
     "text": [
      "2022-03-12 12:25:07.774055: W tensorflow/core/platform/profile_utils/cpu_utils.cc:128] Failed to get CPU frequency: 0 Hz\n",
      "2022-03-12 12:25:07.936300: I tensorflow/core/grappler/optimizers/custom_graph_optimizer_registry.cc:113] Plugin optimizer for device_type GPU is enabled.\n"
     ]
    },
    {
     "name": "stdout",
     "output_type": "stream",
     "text": [
      "44/44 [==============================] - 1s 12ms/step - loss: 1.6884 - categorical_accuracy: 0.2157 - val_loss: 1.6523 - val_categorical_accuracy: 0.2465\n",
      "Epoch 2/50\n",
      " 8/44 [====>.........................] - ETA: 0s - loss: 1.6486 - categorical_accuracy: 0.2650"
     ]
    },
    {
     "name": "stderr",
     "output_type": "stream",
     "text": [
      "2022-03-12 12:25:09.081346: I tensorflow/core/grappler/optimizers/custom_graph_optimizer_registry.cc:113] Plugin optimizer for device_type GPU is enabled.\n"
     ]
    },
    {
     "name": "stdout",
     "output_type": "stream",
     "text": [
      "44/44 [==============================] - 0s 9ms/step - loss: 1.6410 - categorical_accuracy: 0.2974 - val_loss: 1.6046 - val_categorical_accuracy: 0.4221\n",
      "Epoch 3/50\n",
      "44/44 [==============================] - 0s 9ms/step - loss: 1.6019 - categorical_accuracy: 0.3564 - val_loss: 1.5443 - val_categorical_accuracy: 0.3874\n",
      "Epoch 4/50\n",
      "44/44 [==============================] - 0s 9ms/step - loss: 1.5561 - categorical_accuracy: 0.3848 - val_loss: 1.4983 - val_categorical_accuracy: 0.4503\n",
      "Epoch 5/50\n",
      "44/44 [==============================] - 0s 9ms/step - loss: 1.4918 - categorical_accuracy: 0.4058 - val_loss: 1.4348 - val_categorical_accuracy: 0.4553\n",
      "Epoch 6/50\n",
      "44/44 [==============================] - 0s 9ms/step - loss: 1.4096 - categorical_accuracy: 0.4027 - val_loss: 1.3153 - val_categorical_accuracy: 0.4461\n",
      "Epoch 7/50\n",
      "44/44 [==============================] - 0s 9ms/step - loss: 1.3165 - categorical_accuracy: 0.4018 - val_loss: 1.2163 - val_categorical_accuracy: 0.4513\n",
      "Epoch 8/50\n",
      "44/44 [==============================] - 0s 9ms/step - loss: 1.2356 - categorical_accuracy: 0.4330 - val_loss: 1.1278 - val_categorical_accuracy: 0.4789\n",
      "Epoch 9/50\n",
      "44/44 [==============================] - 0s 9ms/step - loss: 1.1666 - categorical_accuracy: 0.4723 - val_loss: 1.0637 - val_categorical_accuracy: 0.5730\n",
      "Epoch 10/50\n",
      "44/44 [==============================] - 0s 9ms/step - loss: 1.1123 - categorical_accuracy: 0.5365 - val_loss: 1.0142 - val_categorical_accuracy: 0.6728\n",
      "Epoch 11/50\n",
      "44/44 [==============================] - 0s 9ms/step - loss: 1.0709 - categorical_accuracy: 0.5844 - val_loss: 0.9733 - val_categorical_accuracy: 0.7323\n",
      "Epoch 12/50\n",
      "44/44 [==============================] - 0s 9ms/step - loss: 1.0363 - categorical_accuracy: 0.6211 - val_loss: 0.9381 - val_categorical_accuracy: 0.7646\n",
      "Epoch 13/50\n",
      "44/44 [==============================] - 0s 9ms/step - loss: 1.0096 - categorical_accuracy: 0.6420 - val_loss: 0.9098 - val_categorical_accuracy: 0.7824\n",
      "Epoch 14/50\n",
      "44/44 [==============================] - 0s 9ms/step - loss: 0.9878 - categorical_accuracy: 0.6619 - val_loss: 0.8861 - val_categorical_accuracy: 0.7953\n",
      "Epoch 15/50\n",
      "44/44 [==============================] - 0s 9ms/step - loss: 0.9633 - categorical_accuracy: 0.6732 - val_loss: 0.8655 - val_categorical_accuracy: 0.8084\n",
      "Epoch 16/50\n",
      "44/44 [==============================] - 0s 9ms/step - loss: 0.9535 - categorical_accuracy: 0.6820 - val_loss: 0.8473 - val_categorical_accuracy: 0.8116\n",
      "Epoch 17/50\n",
      "44/44 [==============================] - 0s 9ms/step - loss: 0.9385 - categorical_accuracy: 0.6860 - val_loss: 0.8322 - val_categorical_accuracy: 0.8188\n",
      "Epoch 18/50\n",
      "44/44 [==============================] - 0s 9ms/step - loss: 0.9257 - categorical_accuracy: 0.6909 - val_loss: 0.8197 - val_categorical_accuracy: 0.8238\n",
      "Epoch 19/50\n",
      "44/44 [==============================] - 0s 10ms/step - loss: 0.9156 - categorical_accuracy: 0.6958 - val_loss: 0.8073 - val_categorical_accuracy: 0.8258\n",
      "Epoch 20/50\n",
      "44/44 [==============================] - 0s 9ms/step - loss: 0.9064 - categorical_accuracy: 0.7013 - val_loss: 0.7966 - val_categorical_accuracy: 0.8292\n",
      "Epoch 21/50\n",
      "44/44 [==============================] - 0s 9ms/step - loss: 0.8933 - categorical_accuracy: 0.7039 - val_loss: 0.7851 - val_categorical_accuracy: 0.8292\n",
      "Epoch 22/50\n",
      "44/44 [==============================] - 0s 9ms/step - loss: 0.8889 - categorical_accuracy: 0.7075 - val_loss: 0.7780 - val_categorical_accuracy: 0.8323\n",
      "Epoch 23/50\n",
      "44/44 [==============================] - 0s 9ms/step - loss: 0.8786 - categorical_accuracy: 0.7092 - val_loss: 0.7681 - val_categorical_accuracy: 0.8310\n",
      "Epoch 24/50\n",
      "44/44 [==============================] - 0s 9ms/step - loss: 0.8720 - categorical_accuracy: 0.7121 - val_loss: 0.7612 - val_categorical_accuracy: 0.8331\n",
      "Epoch 25/50\n",
      "44/44 [==============================] - 0s 9ms/step - loss: 0.8671 - categorical_accuracy: 0.7156 - val_loss: 0.7554 - val_categorical_accuracy: 0.8321\n",
      "Epoch 26/50\n",
      "44/44 [==============================] - 0s 9ms/step - loss: 0.8630 - categorical_accuracy: 0.7180 - val_loss: 0.7474 - val_categorical_accuracy: 0.8320\n",
      "Epoch 27/50\n",
      "44/44 [==============================] - 0s 9ms/step - loss: 0.8541 - categorical_accuracy: 0.7187 - val_loss: 0.7417 - val_categorical_accuracy: 0.8357\n",
      "Epoch 28/50\n",
      "44/44 [==============================] - 0s 9ms/step - loss: 0.8459 - categorical_accuracy: 0.7244 - val_loss: 0.7337 - val_categorical_accuracy: 0.8340\n",
      "Epoch 29/50\n",
      "44/44 [==============================] - 0s 9ms/step - loss: 0.8372 - categorical_accuracy: 0.7258 - val_loss: 0.7262 - val_categorical_accuracy: 0.8335\n",
      "Epoch 30/50\n",
      "44/44 [==============================] - 0s 9ms/step - loss: 0.8324 - categorical_accuracy: 0.7292 - val_loss: 0.7210 - val_categorical_accuracy: 0.8342\n",
      "Epoch 31/50\n",
      "44/44 [==============================] - 0s 9ms/step - loss: 0.8273 - categorical_accuracy: 0.7331 - val_loss: 0.7146 - val_categorical_accuracy: 0.8346\n",
      "Epoch 32/50\n",
      "44/44 [==============================] - 0s 9ms/step - loss: 0.8229 - categorical_accuracy: 0.7306 - val_loss: 0.7089 - val_categorical_accuracy: 0.8365\n",
      "Epoch 33/50\n",
      "44/44 [==============================] - 0s 9ms/step - loss: 0.8144 - categorical_accuracy: 0.7322 - val_loss: 0.7028 - val_categorical_accuracy: 0.8368\n",
      "Epoch 34/50\n",
      "44/44 [==============================] - 0s 9ms/step - loss: 0.8080 - categorical_accuracy: 0.7373 - val_loss: 0.6978 - val_categorical_accuracy: 0.8371\n",
      "Epoch 35/50\n",
      "44/44 [==============================] - 0s 9ms/step - loss: 0.8014 - categorical_accuracy: 0.7388 - val_loss: 0.6919 - val_categorical_accuracy: 0.8357\n",
      "Epoch 36/50\n",
      "44/44 [==============================] - 0s 9ms/step - loss: 0.7985 - categorical_accuracy: 0.7385 - val_loss: 0.6876 - val_categorical_accuracy: 0.8347\n",
      "Epoch 37/50\n",
      "44/44 [==============================] - 0s 9ms/step - loss: 0.7938 - categorical_accuracy: 0.7419 - val_loss: 0.6841 - val_categorical_accuracy: 0.8369\n",
      "Epoch 38/50\n",
      "44/44 [==============================] - 0s 9ms/step - loss: 0.7902 - categorical_accuracy: 0.7405 - val_loss: 0.6787 - val_categorical_accuracy: 0.8357\n",
      "Epoch 39/50\n",
      "44/44 [==============================] - 0s 9ms/step - loss: 0.7842 - categorical_accuracy: 0.7449 - val_loss: 0.6740 - val_categorical_accuracy: 0.8375\n",
      "Epoch 40/50\n",
      "44/44 [==============================] - 0s 9ms/step - loss: 0.7820 - categorical_accuracy: 0.7453 - val_loss: 0.6704 - val_categorical_accuracy: 0.8383\n",
      "Epoch 41/50\n",
      "44/44 [==============================] - 0s 9ms/step - loss: 0.7777 - categorical_accuracy: 0.7446 - val_loss: 0.6648 - val_categorical_accuracy: 0.8364\n",
      "Epoch 42/50\n",
      "44/44 [==============================] - 0s 9ms/step - loss: 0.7702 - categorical_accuracy: 0.7480 - val_loss: 0.6599 - val_categorical_accuracy: 0.8373\n",
      "Epoch 43/50\n",
      "44/44 [==============================] - 0s 9ms/step - loss: 0.7677 - categorical_accuracy: 0.7472 - val_loss: 0.6563 - val_categorical_accuracy: 0.8367\n",
      "Epoch 44/50\n",
      "44/44 [==============================] - 0s 10ms/step - loss: 0.7647 - categorical_accuracy: 0.7493 - val_loss: 0.6539 - val_categorical_accuracy: 0.8376\n",
      "Epoch 45/50\n",
      "44/44 [==============================] - 0s 9ms/step - loss: 0.7619 - categorical_accuracy: 0.7512 - val_loss: 0.6506 - val_categorical_accuracy: 0.8385\n",
      "Epoch 46/50\n",
      "44/44 [==============================] - 0s 9ms/step - loss: 0.7552 - categorical_accuracy: 0.7540 - val_loss: 0.6453 - val_categorical_accuracy: 0.8378\n",
      "Epoch 47/50\n",
      "44/44 [==============================] - 0s 9ms/step - loss: 0.7479 - categorical_accuracy: 0.7540 - val_loss: 0.6424 - val_categorical_accuracy: 0.8377\n",
      "Epoch 48/50\n",
      "44/44 [==============================] - 0s 9ms/step - loss: 0.7468 - categorical_accuracy: 0.7575 - val_loss: 0.6385 - val_categorical_accuracy: 0.8382\n",
      "Epoch 49/50\n",
      "44/44 [==============================] - 0s 10ms/step - loss: 0.7456 - categorical_accuracy: 0.7546 - val_loss: 0.6356 - val_categorical_accuracy: 0.8379\n",
      "Epoch 50/50\n",
      "44/44 [==============================] - 0s 10ms/step - loss: 0.7431 - categorical_accuracy: 0.7588 - val_loss: 0.6323 - val_categorical_accuracy: 0.8377\n"
     ]
    },
    {
     "data": {
      "text/plain": [
       "<keras.callbacks.History at 0x297027d30>"
      ]
     },
     "execution_count": 18,
     "metadata": {},
     "output_type": "execute_result"
    }
   ],
   "source": [
    "# Add in validation loss to select the number of epochs\n",
    "# Fit the model\n",
    "number_of_epochs = 50\n",
    "model.fit(X_train,y_train, \n",
    "                    epochs=number_of_epochs,\n",
    "                    batch_size=1000,\n",
    "                      validation_split=0.2,\n",
    "                    shuffle=True)"
   ]
  },
  {
   "cell_type": "code",
   "execution_count": 19,
   "id": "53b0063a",
   "metadata": {},
   "outputs": [
    {
     "data": {
      "text/plain": [
       "dict_keys(['loss', 'categorical_accuracy', 'val_loss', 'val_categorical_accuracy'])"
      ]
     },
     "execution_count": 19,
     "metadata": {},
     "output_type": "execute_result"
    }
   ],
   "source": [
    "# Save model history across epochs\n",
    "model_history = model.history.history\n",
    "model_history.keys()"
   ]
  },
  {
   "cell_type": "code",
   "execution_count": 20,
   "id": "2124d070",
   "metadata": {},
   "outputs": [
    {
     "data": {
      "text/plain": [
       "[0.2157248854637146,\n",
       " 0.29740622639656067,\n",
       " 0.35643818974494934,\n",
       " 0.3847614824771881,\n",
       " 0.4058128893375397,\n",
       " 0.4026864469051361,\n",
       " 0.4017832577228546,\n",
       " 0.4329550862312317,\n",
       " 0.4723251760005951,\n",
       " 0.5365215539932251,\n",
       " 0.5843678116798401,\n",
       " 0.6211440563201904,\n",
       " 0.6420333981513977,\n",
       " 0.6619499921798706,\n",
       " 0.67322838306427,\n",
       " 0.6819592714309692,\n",
       " 0.6860120892524719,\n",
       " 0.690898597240448,\n",
       " 0.6957851052284241,\n",
       " 0.7012506127357483,\n",
       " 0.7039138674736023,\n",
       " 0.707526683807373,\n",
       " 0.7092404365539551,\n",
       " 0.7121352553367615,\n",
       " 0.7155628204345703,\n",
       " 0.7180408239364624,\n",
       " 0.7187123894691467,\n",
       " 0.7244094610214233,\n",
       " 0.7258453369140625,\n",
       " 0.729157030582428,\n",
       " 0.7331404089927673,\n",
       " 0.7305929064750671,\n",
       " 0.7321677207946777,\n",
       " 0.7372857928276062,\n",
       " 0.738837480545044,\n",
       " 0.738490104675293,\n",
       " 0.7419407367706299,\n",
       " 0.7404817342758179,\n",
       " 0.7449051141738892,\n",
       " 0.7452988028526306,\n",
       " 0.7446271777153015,\n",
       " 0.7479620575904846,\n",
       " 0.7472209930419922,\n",
       " 0.749305248260498,\n",
       " 0.7512274384498596,\n",
       " 0.7539833784103394,\n",
       " 0.7539833784103394,\n",
       " 0.7574803829193115,\n",
       " 0.7545623183250427,\n",
       " 0.7588467001914978]"
      ]
     },
     "execution_count": 20,
     "metadata": {},
     "output_type": "execute_result"
    }
   ],
   "source": [
    "# View `categorical_accuracy` for the training dataset\n",
    "model_history['categorical_accuracy']"
   ]
  },
  {
   "cell_type": "code",
   "execution_count": 21,
   "id": "3ef4fda4",
   "metadata": {},
   "outputs": [
    {
     "data": {
      "text/plain": [
       "<AxesSubplot:title={'center':'Performance Across Training and Validation'}>"
      ]
     },
     "execution_count": 21,
     "metadata": {},
     "output_type": "execute_result"
    },
    {
     "data": {
      "image/png": "[encoded data removed]",
      "text/plain": [
       "<Figure size 432x288 with 1 Axes>"
      ]
     },
     "metadata": {
      "needs_background": "light"
     },
     "output_type": "display_data"
    }
   ],
   "source": [
    "# Save accuracy for training and validation set across epochs\n",
    "training_results = pd.DataFrame(index=range(1,number_of_epochs+1))\n",
    "training_results['Training'] = model_history['categorical_accuracy']\n",
    "training_results['Validation'] = model_history['val_categorical_accuracy']\n",
    "training_results.plot(title = 'Performance Across Training and Validation')"
   ]
  }
 ],
 "metadata": {
  "kernelspec": {
   "display_name": "Python 3 (ipykernel)",
   "language": "python",
   "name": "python3"
  },
  "language_info": {
   "codemirror_mode": {
    "name": "ipython",
    "version": 3
   },
   "file_extension": ".py",
   "mimetype": "text/x-python",
   "name": "python",
   "nbconvert_exporter": "python",
   "pygments_lexer": "ipython3",
   "version": "3.8.11"
  }
 },
 "nbformat": 4,
 "nbformat_minor": 5
}
