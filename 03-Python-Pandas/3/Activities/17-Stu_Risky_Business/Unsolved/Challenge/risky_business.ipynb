{
 "cells": [
  {
   "cell_type": "markdown",
   "metadata": {},
   "source": [
    "# Risky Business"
   ]
  },
  {
   "cell_type": "markdown",
   "metadata": {},
   "source": [
    "Harold has been boasting about his recent cryptocurrency returns. He's even bet you five bucks that his trading algorithm has made his returns better than yours. Calculate the standard deviation and sharpe ratio for each your portfolios to determine which portfolio is the better investment based off of the greatest risk to reward ratio."
   ]
  },
  {
   "cell_type": "code",
   "execution_count": 7,
   "metadata": {},
   "outputs": [],
   "source": [
    "import pandas as pd\n",
    "import numpy as np\n",
    "from pathlib import Path\n",
    "%matplotlib inline"
   ]
  },
  {
   "cell_type": "markdown",
   "metadata": {},
   "source": [
    "### Read in data"
   ]
  },
  {
   "cell_type": "code",
   "execution_count": 8,
   "metadata": {},
   "outputs": [
    {
     "data": {
      "text/html": [
       "<div>\n",
       "<style scoped>\n",
       "    .dataframe tbody tr th:only-of-type {\n",
       "        vertical-align: middle;\n",
       "    }\n",
       "\n",
       "    .dataframe tbody tr th {\n",
       "        vertical-align: top;\n",
       "    }\n",
       "\n",
       "    .dataframe thead th {\n",
       "        text-align: right;\n",
       "    }\n",
       "</style>\n",
       "<table border=\"1\" class=\"dataframe\">\n",
       "  <thead>\n",
       "    <tr style=\"text-align: right;\">\n",
       "      <th></th>\n",
       "      <th>BTC</th>\n",
       "      <th>BTT</th>\n",
       "      <th>DOGE</th>\n",
       "      <th>ETH</th>\n",
       "      <th>LTC</th>\n",
       "      <th>XRP</th>\n",
       "      <th>SOLVE</th>\n",
       "      <th>XLM</th>\n",
       "      <th>TRON</th>\n",
       "      <th>ZIL</th>\n",
       "    </tr>\n",
       "    <tr>\n",
       "      <th>Date</th>\n",
       "      <th></th>\n",
       "      <th></th>\n",
       "      <th></th>\n",
       "      <th></th>\n",
       "      <th></th>\n",
       "      <th></th>\n",
       "      <th></th>\n",
       "      <th></th>\n",
       "      <th></th>\n",
       "      <th></th>\n",
       "    </tr>\n",
       "  </thead>\n",
       "  <tbody>\n",
       "    <tr>\n",
       "      <th>2019-05-20</th>\n",
       "      <td>8118.39</td>\n",
       "      <td>0.001187</td>\n",
       "      <td>0.003041</td>\n",
       "      <td>261.09</td>\n",
       "      <td>95.06</td>\n",
       "      <td>0.398003</td>\n",
       "      <td>0.338667</td>\n",
       "      <td>0.135545</td>\n",
       "      <td>0.028509</td>\n",
       "      <td>0.017992</td>\n",
       "    </tr>\n",
       "    <tr>\n",
       "      <th>2019-05-19</th>\n",
       "      <td>8200.00</td>\n",
       "      <td>0.001056</td>\n",
       "      <td>0.003178</td>\n",
       "      <td>234.03</td>\n",
       "      <td>86.65</td>\n",
       "      <td>0.417700</td>\n",
       "      <td>0.300430</td>\n",
       "      <td>0.141485</td>\n",
       "      <td>0.029277</td>\n",
       "      <td>0.019170</td>\n",
       "    </tr>\n",
       "    <tr>\n",
       "      <th>2019-05-18</th>\n",
       "      <td>7262.40</td>\n",
       "      <td>0.000993</td>\n",
       "      <td>0.003005</td>\n",
       "      <td>244.59</td>\n",
       "      <td>89.88</td>\n",
       "      <td>0.372736</td>\n",
       "      <td>0.287630</td>\n",
       "      <td>0.128833</td>\n",
       "      <td>0.026823</td>\n",
       "      <td>0.017685</td>\n",
       "    </tr>\n",
       "    <tr>\n",
       "      <th>2019-05-17</th>\n",
       "      <td>7363.69</td>\n",
       "      <td>0.000957</td>\n",
       "      <td>0.002962</td>\n",
       "      <td>264.39</td>\n",
       "      <td>95.75</td>\n",
       "      <td>0.386193</td>\n",
       "      <td>0.259506</td>\n",
       "      <td>0.126562</td>\n",
       "      <td>0.027220</td>\n",
       "      <td>0.017892</td>\n",
       "    </tr>\n",
       "    <tr>\n",
       "      <th>2019-05-16</th>\n",
       "      <td>7878.96</td>\n",
       "      <td>0.000885</td>\n",
       "      <td>0.003168</td>\n",
       "      <td>249.00</td>\n",
       "      <td>102.26</td>\n",
       "      <td>0.419707</td>\n",
       "      <td>0.223316</td>\n",
       "      <td>0.137283</td>\n",
       "      <td>0.028857</td>\n",
       "      <td>0.018725</td>\n",
       "    </tr>\n",
       "  </tbody>\n",
       "</table>\n",
       "</div>"
      ],
      "text/plain": [
       "                BTC       BTT      DOGE     ETH     LTC       XRP     SOLVE  \\\n",
       "Date                                                                          \n",
       "2019-05-20  8118.39  0.001187  0.003041  261.09   95.06  0.398003  0.338667   \n",
       "2019-05-19  8200.00  0.001056  0.003178  234.03   86.65  0.417700  0.300430   \n",
       "2019-05-18  7262.40  0.000993  0.003005  244.59   89.88  0.372736  0.287630   \n",
       "2019-05-17  7363.69  0.000957  0.002962  264.39   95.75  0.386193  0.259506   \n",
       "2019-05-16  7878.96  0.000885  0.003168  249.00  102.26  0.419707  0.223316   \n",
       "\n",
       "                 XLM      TRON       ZIL  \n",
       "Date                                      \n",
       "2019-05-20  0.135545  0.028509  0.017992  \n",
       "2019-05-19  0.141485  0.029277  0.019170  \n",
       "2019-05-18  0.128833  0.026823  0.017685  \n",
       "2019-05-17  0.126562  0.027220  0.017892  \n",
       "2019-05-16  0.137283  0.028857  0.018725  "
      ]
     },
     "execution_count": 8,
     "metadata": {},
     "output_type": "execute_result"
    }
   ],
   "source": [
    "harold_portfolio_path = Path(\"../../Resources/harold_portfolio.csv\")\n",
    "my_portfolio_path = Path(\"../../Resources/my_portfolio.csv\")\n",
    "risk_free_path = Path(\"../../../16-Ins_Sharpe_Ratios/Resources/risk_free_rate.csv\")\n",
    "\n",
    "# Read in data\n",
    "harold_portfolio = pd.read_csv(harold_portfolio_path, parse_dates=True, infer_datetime_format=True)\n",
    "my_portfolio = pd.read_csv(my_portfolio_path, parse_dates=True, infer_datetime_format=True)\n",
    "risk_free_returns = pd.read_csv(risk_free_path, parse_dates=True, infer_datetime_format=True)\n",
    "\n",
    "# Drop na\n",
    "harold_portfolio = harold_portfolio.dropna()\n",
    "my_portfolio = my_portfolio.dropna()\n",
    "risk_free_returns = risk_free_returns.dropna()\n",
    "\n",
    "# Set Date as index\n",
    "harold_portfolio = harold_portfolio.set_index('Date')\n",
    "my_portfolio = my_portfolio.set_index('Date')\n",
    "risk_free_returns = risk_free_returns.set_index('Date')\n",
    "\n",
    "harold_portfolio.head()"
   ]
  },
  {
   "cell_type": "markdown",
   "metadata": {},
   "source": [
    "### Calculate daily returns "
   ]
  },
  {
   "cell_type": "code",
   "execution_count": 9,
   "metadata": {
    "tags": []
   },
   "outputs": [
    {
     "data": {
      "text/html": [
       "<div>\n",
       "<style scoped>\n",
       "    .dataframe tbody tr th:only-of-type {\n",
       "        vertical-align: middle;\n",
       "    }\n",
       "\n",
       "    .dataframe tbody tr th {\n",
       "        vertical-align: top;\n",
       "    }\n",
       "\n",
       "    .dataframe thead th {\n",
       "        text-align: right;\n",
       "    }\n",
       "</style>\n",
       "<table border=\"1\" class=\"dataframe\">\n",
       "  <thead>\n",
       "    <tr style=\"text-align: right;\">\n",
       "      <th></th>\n",
       "      <th>BTC</th>\n",
       "      <th>BTT</th>\n",
       "      <th>DOGE</th>\n",
       "      <th>ETH</th>\n",
       "      <th>LTC</th>\n",
       "      <th>XRP</th>\n",
       "      <th>SOLVE</th>\n",
       "      <th>XLM</th>\n",
       "      <th>TRON</th>\n",
       "      <th>ZIL</th>\n",
       "    </tr>\n",
       "    <tr>\n",
       "      <th>Date</th>\n",
       "      <th></th>\n",
       "      <th></th>\n",
       "      <th></th>\n",
       "      <th></th>\n",
       "      <th></th>\n",
       "      <th></th>\n",
       "      <th></th>\n",
       "      <th></th>\n",
       "      <th></th>\n",
       "      <th></th>\n",
       "    </tr>\n",
       "  </thead>\n",
       "  <tbody>\n",
       "    <tr>\n",
       "      <th>2019-05-20</th>\n",
       "      <td>NaN</td>\n",
       "      <td>NaN</td>\n",
       "      <td>NaN</td>\n",
       "      <td>NaN</td>\n",
       "      <td>NaN</td>\n",
       "      <td>NaN</td>\n",
       "      <td>NaN</td>\n",
       "      <td>NaN</td>\n",
       "      <td>NaN</td>\n",
       "      <td>NaN</td>\n",
       "    </tr>\n",
       "    <tr>\n",
       "      <th>2019-05-19</th>\n",
       "      <td>0.010052</td>\n",
       "      <td>-0.110362</td>\n",
       "      <td>0.045051</td>\n",
       "      <td>-0.103642</td>\n",
       "      <td>-0.088470</td>\n",
       "      <td>0.049490</td>\n",
       "      <td>-0.112904</td>\n",
       "      <td>0.043823</td>\n",
       "      <td>0.026939</td>\n",
       "      <td>0.065474</td>\n",
       "    </tr>\n",
       "    <tr>\n",
       "      <th>2019-05-18</th>\n",
       "      <td>-0.114341</td>\n",
       "      <td>-0.059659</td>\n",
       "      <td>-0.054437</td>\n",
       "      <td>0.045122</td>\n",
       "      <td>0.037276</td>\n",
       "      <td>-0.107647</td>\n",
       "      <td>-0.042606</td>\n",
       "      <td>-0.089423</td>\n",
       "      <td>-0.083820</td>\n",
       "      <td>-0.077465</td>\n",
       "    </tr>\n",
       "    <tr>\n",
       "      <th>2019-05-17</th>\n",
       "      <td>0.013947</td>\n",
       "      <td>-0.036254</td>\n",
       "      <td>-0.014309</td>\n",
       "      <td>0.080952</td>\n",
       "      <td>0.065309</td>\n",
       "      <td>0.036103</td>\n",
       "      <td>-0.097778</td>\n",
       "      <td>-0.017627</td>\n",
       "      <td>0.014801</td>\n",
       "      <td>0.011705</td>\n",
       "    </tr>\n",
       "    <tr>\n",
       "      <th>2019-05-16</th>\n",
       "      <td>0.069974</td>\n",
       "      <td>-0.075235</td>\n",
       "      <td>0.069548</td>\n",
       "      <td>-0.058209</td>\n",
       "      <td>0.067990</td>\n",
       "      <td>0.086780</td>\n",
       "      <td>-0.139457</td>\n",
       "      <td>0.084709</td>\n",
       "      <td>0.060140</td>\n",
       "      <td>0.046557</td>\n",
       "    </tr>\n",
       "    <tr>\n",
       "      <th>2019-05-15</th>\n",
       "      <td>0.041168</td>\n",
       "      <td>-0.037288</td>\n",
       "      <td>0.044192</td>\n",
       "      <td>-0.126747</td>\n",
       "      <td>-0.103364</td>\n",
       "      <td>0.086484</td>\n",
       "      <td>0.007420</td>\n",
       "      <td>-0.002047</td>\n",
       "      <td>0.086322</td>\n",
       "      <td>0.088224</td>\n",
       "    </tr>\n",
       "  </tbody>\n",
       "</table>\n",
       "</div>"
      ],
      "text/plain": [
       "                 BTC       BTT      DOGE       ETH       LTC       XRP  \\\n",
       "Date                                                                     \n",
       "2019-05-20       NaN       NaN       NaN       NaN       NaN       NaN   \n",
       "2019-05-19  0.010052 -0.110362  0.045051 -0.103642 -0.088470  0.049490   \n",
       "2019-05-18 -0.114341 -0.059659 -0.054437  0.045122  0.037276 -0.107647   \n",
       "2019-05-17  0.013947 -0.036254 -0.014309  0.080952  0.065309  0.036103   \n",
       "2019-05-16  0.069974 -0.075235  0.069548 -0.058209  0.067990  0.086780   \n",
       "2019-05-15  0.041168 -0.037288  0.044192 -0.126747 -0.103364  0.086484   \n",
       "\n",
       "               SOLVE       XLM      TRON       ZIL  \n",
       "Date                                                \n",
       "2019-05-20       NaN       NaN       NaN       NaN  \n",
       "2019-05-19 -0.112904  0.043823  0.026939  0.065474  \n",
       "2019-05-18 -0.042606 -0.089423 -0.083820 -0.077465  \n",
       "2019-05-17 -0.097778 -0.017627  0.014801  0.011705  \n",
       "2019-05-16 -0.139457  0.084709  0.060140  0.046557  \n",
       "2019-05-15  0.007420 -0.002047  0.086322  0.088224  "
      ]
     },
     "execution_count": 9,
     "metadata": {},
     "output_type": "execute_result"
    }
   ],
   "source": [
    "# Calculate daily returns for each portfolio\n",
    "harold_returns = harold_portfolio.pct_change()\n",
    "my_returns = my_portfolio.pct_change()\n",
    "harold_returns"
   ]
  },
  {
   "cell_type": "markdown",
   "metadata": {},
   "source": [
    "### `Concat` portfolios into one DataFrame"
   ]
  },
  {
   "cell_type": "code",
   "execution_count": 10,
   "metadata": {
    "tags": []
   },
   "outputs": [
    {
     "data": {
      "text/html": [
       "<div>\n",
       "<style scoped>\n",
       "    .dataframe tbody tr th:only-of-type {\n",
       "        vertical-align: middle;\n",
       "    }\n",
       "\n",
       "    .dataframe tbody tr th {\n",
       "        vertical-align: top;\n",
       "    }\n",
       "\n",
       "    .dataframe thead th {\n",
       "        text-align: right;\n",
       "    }\n",
       "</style>\n",
       "<table border=\"1\" class=\"dataframe\">\n",
       "  <thead>\n",
       "    <tr style=\"text-align: right;\">\n",
       "      <th></th>\n",
       "      <th>BTC</th>\n",
       "      <th>BTT</th>\n",
       "      <th>DOGE</th>\n",
       "      <th>ETH</th>\n",
       "      <th>LTC</th>\n",
       "      <th>XRP</th>\n",
       "      <th>SOLVE</th>\n",
       "      <th>XLM</th>\n",
       "      <th>TRON</th>\n",
       "      <th>ZIL</th>\n",
       "      <th>BTC</th>\n",
       "      <th>DOGE</th>\n",
       "      <th>ETH</th>\n",
       "      <th>LTC</th>\n",
       "      <th>XRP</th>\n",
       "      <th>XLM</th>\n",
       "      <th>rf_rate</th>\n",
       "    </tr>\n",
       "    <tr>\n",
       "      <th>Date</th>\n",
       "      <th></th>\n",
       "      <th></th>\n",
       "      <th></th>\n",
       "      <th></th>\n",
       "      <th></th>\n",
       "      <th></th>\n",
       "      <th></th>\n",
       "      <th></th>\n",
       "      <th></th>\n",
       "      <th></th>\n",
       "      <th></th>\n",
       "      <th></th>\n",
       "      <th></th>\n",
       "      <th></th>\n",
       "      <th></th>\n",
       "      <th></th>\n",
       "      <th></th>\n",
       "    </tr>\n",
       "  </thead>\n",
       "  <tbody>\n",
       "    <tr>\n",
       "      <th>2019-05-20</th>\n",
       "      <td>NaN</td>\n",
       "      <td>NaN</td>\n",
       "      <td>NaN</td>\n",
       "      <td>NaN</td>\n",
       "      <td>NaN</td>\n",
       "      <td>NaN</td>\n",
       "      <td>NaN</td>\n",
       "      <td>NaN</td>\n",
       "      <td>NaN</td>\n",
       "      <td>NaN</td>\n",
       "      <td>NaN</td>\n",
       "      <td>NaN</td>\n",
       "      <td>NaN</td>\n",
       "      <td>NaN</td>\n",
       "      <td>NaN</td>\n",
       "      <td>NaN</td>\n",
       "      <td>0.000260</td>\n",
       "    </tr>\n",
       "    <tr>\n",
       "      <th>2019-05-19</th>\n",
       "      <td>0.010052</td>\n",
       "      <td>-0.110362</td>\n",
       "      <td>0.045051</td>\n",
       "      <td>-0.103642</td>\n",
       "      <td>-0.088470</td>\n",
       "      <td>0.049490</td>\n",
       "      <td>-0.112904</td>\n",
       "      <td>0.043823</td>\n",
       "      <td>0.026939</td>\n",
       "      <td>0.065474</td>\n",
       "      <td>-0.114341</td>\n",
       "      <td>0.045051</td>\n",
       "      <td>-0.103642</td>\n",
       "      <td>-0.088470</td>\n",
       "      <td>0.049490</td>\n",
       "      <td>0.043823</td>\n",
       "      <td>NaN</td>\n",
       "    </tr>\n",
       "    <tr>\n",
       "      <th>2019-05-18</th>\n",
       "      <td>-0.114341</td>\n",
       "      <td>-0.059659</td>\n",
       "      <td>-0.054437</td>\n",
       "      <td>0.045122</td>\n",
       "      <td>0.037276</td>\n",
       "      <td>-0.107647</td>\n",
       "      <td>-0.042606</td>\n",
       "      <td>-0.089423</td>\n",
       "      <td>-0.083820</td>\n",
       "      <td>-0.077465</td>\n",
       "      <td>0.013947</td>\n",
       "      <td>-0.054437</td>\n",
       "      <td>0.045122</td>\n",
       "      <td>0.037276</td>\n",
       "      <td>-0.107647</td>\n",
       "      <td>-0.089423</td>\n",
       "      <td>NaN</td>\n",
       "    </tr>\n",
       "    <tr>\n",
       "      <th>2019-05-17</th>\n",
       "      <td>0.013947</td>\n",
       "      <td>-0.036254</td>\n",
       "      <td>-0.014309</td>\n",
       "      <td>0.080952</td>\n",
       "      <td>0.065309</td>\n",
       "      <td>0.036103</td>\n",
       "      <td>-0.097778</td>\n",
       "      <td>-0.017627</td>\n",
       "      <td>0.014801</td>\n",
       "      <td>0.011705</td>\n",
       "      <td>0.069974</td>\n",
       "      <td>-0.014309</td>\n",
       "      <td>0.080952</td>\n",
       "      <td>0.065309</td>\n",
       "      <td>0.036103</td>\n",
       "      <td>-0.017627</td>\n",
       "      <td>0.000260</td>\n",
       "    </tr>\n",
       "    <tr>\n",
       "      <th>2019-05-16</th>\n",
       "      <td>0.069974</td>\n",
       "      <td>-0.075235</td>\n",
       "      <td>0.069548</td>\n",
       "      <td>-0.058209</td>\n",
       "      <td>0.067990</td>\n",
       "      <td>0.086780</td>\n",
       "      <td>-0.139457</td>\n",
       "      <td>0.084709</td>\n",
       "      <td>0.060140</td>\n",
       "      <td>0.046557</td>\n",
       "      <td>0.041168</td>\n",
       "      <td>0.069548</td>\n",
       "      <td>-0.058209</td>\n",
       "      <td>0.067990</td>\n",
       "      <td>0.086780</td>\n",
       "      <td>0.084709</td>\n",
       "      <td>0.000261</td>\n",
       "    </tr>\n",
       "    <tr>\n",
       "      <th>...</th>\n",
       "      <td>...</td>\n",
       "      <td>...</td>\n",
       "      <td>...</td>\n",
       "      <td>...</td>\n",
       "      <td>...</td>\n",
       "      <td>...</td>\n",
       "      <td>...</td>\n",
       "      <td>...</td>\n",
       "      <td>...</td>\n",
       "      <td>...</td>\n",
       "      <td>...</td>\n",
       "      <td>...</td>\n",
       "      <td>...</td>\n",
       "      <td>...</td>\n",
       "      <td>...</td>\n",
       "      <td>...</td>\n",
       "      <td>...</td>\n",
       "    </tr>\n",
       "    <tr>\n",
       "      <th>2020-11-27</th>\n",
       "      <td>NaN</td>\n",
       "      <td>NaN</td>\n",
       "      <td>NaN</td>\n",
       "      <td>NaN</td>\n",
       "      <td>NaN</td>\n",
       "      <td>NaN</td>\n",
       "      <td>NaN</td>\n",
       "      <td>NaN</td>\n",
       "      <td>NaN</td>\n",
       "      <td>NaN</td>\n",
       "      <td>NaN</td>\n",
       "      <td>NaN</td>\n",
       "      <td>NaN</td>\n",
       "      <td>NaN</td>\n",
       "      <td>NaN</td>\n",
       "      <td>NaN</td>\n",
       "      <td>0.000010</td>\n",
       "    </tr>\n",
       "    <tr>\n",
       "      <th>2020-11-30</th>\n",
       "      <td>NaN</td>\n",
       "      <td>NaN</td>\n",
       "      <td>NaN</td>\n",
       "      <td>NaN</td>\n",
       "      <td>NaN</td>\n",
       "      <td>NaN</td>\n",
       "      <td>NaN</td>\n",
       "      <td>NaN</td>\n",
       "      <td>NaN</td>\n",
       "      <td>NaN</td>\n",
       "      <td>NaN</td>\n",
       "      <td>NaN</td>\n",
       "      <td>NaN</td>\n",
       "      <td>NaN</td>\n",
       "      <td>NaN</td>\n",
       "      <td>NaN</td>\n",
       "      <td>0.000009</td>\n",
       "    </tr>\n",
       "    <tr>\n",
       "      <th>2020-12-01</th>\n",
       "      <td>NaN</td>\n",
       "      <td>NaN</td>\n",
       "      <td>NaN</td>\n",
       "      <td>NaN</td>\n",
       "      <td>NaN</td>\n",
       "      <td>NaN</td>\n",
       "      <td>NaN</td>\n",
       "      <td>NaN</td>\n",
       "      <td>NaN</td>\n",
       "      <td>NaN</td>\n",
       "      <td>NaN</td>\n",
       "      <td>NaN</td>\n",
       "      <td>NaN</td>\n",
       "      <td>NaN</td>\n",
       "      <td>NaN</td>\n",
       "      <td>NaN</td>\n",
       "      <td>0.000010</td>\n",
       "    </tr>\n",
       "    <tr>\n",
       "      <th>2020-12-02</th>\n",
       "      <td>NaN</td>\n",
       "      <td>NaN</td>\n",
       "      <td>NaN</td>\n",
       "      <td>NaN</td>\n",
       "      <td>NaN</td>\n",
       "      <td>NaN</td>\n",
       "      <td>NaN</td>\n",
       "      <td>NaN</td>\n",
       "      <td>NaN</td>\n",
       "      <td>NaN</td>\n",
       "      <td>NaN</td>\n",
       "      <td>NaN</td>\n",
       "      <td>NaN</td>\n",
       "      <td>NaN</td>\n",
       "      <td>NaN</td>\n",
       "      <td>NaN</td>\n",
       "      <td>0.000010</td>\n",
       "    </tr>\n",
       "    <tr>\n",
       "      <th>2020-12-03</th>\n",
       "      <td>NaN</td>\n",
       "      <td>NaN</td>\n",
       "      <td>NaN</td>\n",
       "      <td>NaN</td>\n",
       "      <td>NaN</td>\n",
       "      <td>NaN</td>\n",
       "      <td>NaN</td>\n",
       "      <td>NaN</td>\n",
       "      <td>NaN</td>\n",
       "      <td>NaN</td>\n",
       "      <td>NaN</td>\n",
       "      <td>NaN</td>\n",
       "      <td>NaN</td>\n",
       "      <td>NaN</td>\n",
       "      <td>NaN</td>\n",
       "      <td>NaN</td>\n",
       "      <td>0.000009</td>\n",
       "    </tr>\n",
       "  </tbody>\n",
       "</table>\n",
       "<p>17035 rows × 17 columns</p>\n",
       "</div>"
      ],
      "text/plain": [
       "                 BTC       BTT      DOGE       ETH       LTC       XRP  \\\n",
       "Date                                                                     \n",
       "2019-05-20       NaN       NaN       NaN       NaN       NaN       NaN   \n",
       "2019-05-19  0.010052 -0.110362  0.045051 -0.103642 -0.088470  0.049490   \n",
       "2019-05-18 -0.114341 -0.059659 -0.054437  0.045122  0.037276 -0.107647   \n",
       "2019-05-17  0.013947 -0.036254 -0.014309  0.080952  0.065309  0.036103   \n",
       "2019-05-16  0.069974 -0.075235  0.069548 -0.058209  0.067990  0.086780   \n",
       "...              ...       ...       ...       ...       ...       ...   \n",
       "2020-11-27       NaN       NaN       NaN       NaN       NaN       NaN   \n",
       "2020-11-30       NaN       NaN       NaN       NaN       NaN       NaN   \n",
       "2020-12-01       NaN       NaN       NaN       NaN       NaN       NaN   \n",
       "2020-12-02       NaN       NaN       NaN       NaN       NaN       NaN   \n",
       "2020-12-03       NaN       NaN       NaN       NaN       NaN       NaN   \n",
       "\n",
       "               SOLVE       XLM      TRON       ZIL       BTC      DOGE  \\\n",
       "Date                                                                     \n",
       "2019-05-20       NaN       NaN       NaN       NaN       NaN       NaN   \n",
       "2019-05-19 -0.112904  0.043823  0.026939  0.065474 -0.114341  0.045051   \n",
       "2019-05-18 -0.042606 -0.089423 -0.083820 -0.077465  0.013947 -0.054437   \n",
       "2019-05-17 -0.097778 -0.017627  0.014801  0.011705  0.069974 -0.014309   \n",
       "2019-05-16 -0.139457  0.084709  0.060140  0.046557  0.041168  0.069548   \n",
       "...              ...       ...       ...       ...       ...       ...   \n",
       "2020-11-27       NaN       NaN       NaN       NaN       NaN       NaN   \n",
       "2020-11-30       NaN       NaN       NaN       NaN       NaN       NaN   \n",
       "2020-12-01       NaN       NaN       NaN       NaN       NaN       NaN   \n",
       "2020-12-02       NaN       NaN       NaN       NaN       NaN       NaN   \n",
       "2020-12-03       NaN       NaN       NaN       NaN       NaN       NaN   \n",
       "\n",
       "                 ETH       LTC       XRP       XLM   rf_rate  \n",
       "Date                                                          \n",
       "2019-05-20       NaN       NaN       NaN       NaN  0.000260  \n",
       "2019-05-19 -0.103642 -0.088470  0.049490  0.043823       NaN  \n",
       "2019-05-18  0.045122  0.037276 -0.107647 -0.089423       NaN  \n",
       "2019-05-17  0.080952  0.065309  0.036103 -0.017627  0.000260  \n",
       "2019-05-16 -0.058209  0.067990  0.086780  0.084709  0.000261  \n",
       "...              ...       ...       ...       ...       ...  \n",
       "2020-11-27       NaN       NaN       NaN       NaN  0.000010  \n",
       "2020-11-30       NaN       NaN       NaN       NaN  0.000009  \n",
       "2020-12-01       NaN       NaN       NaN       NaN  0.000010  \n",
       "2020-12-02       NaN       NaN       NaN       NaN  0.000010  \n",
       "2020-12-03       NaN       NaN       NaN       NaN  0.000009  \n",
       "\n",
       "[17035 rows x 17 columns]"
      ]
     },
     "execution_count": 10,
     "metadata": {},
     "output_type": "execute_result"
    }
   ],
   "source": [
    "# Concat returns DataFrames\n",
    "combined_returns = pd.concat([harold_returns,my_returns,risk_free_returns],axis=\"columns\",join=\"outer\")\n",
    "combined_returns"
   ]
  },
  {
   "cell_type": "markdown",
   "metadata": {},
   "source": [
    "### Calculate `std dev` for all data"
   ]
  },
  {
   "cell_type": "code",
   "execution_count": 11,
   "metadata": {
    "tags": []
   },
   "outputs": [
    {
     "data": {
      "text/plain": [
       "ETH        0.091517\n",
       "LTC        0.084703\n",
       "XLM        0.084177\n",
       "XRP        0.080277\n",
       "XRP        0.077449\n",
       "BTC        0.070488\n",
       "DOGE       0.070467\n",
       "XLM        0.065825\n",
       "TRON       0.064923\n",
       "ZIL        0.064726\n",
       "LTC        0.062719\n",
       "ETH        0.059042\n",
       "SOLVE      0.059016\n",
       "DOGE       0.050907\n",
       "BTC        0.042377\n",
       "BTT        0.030731\n",
       "rf_rate    0.000345\n",
       "dtype: float64"
      ]
     },
     "execution_count": 11,
     "metadata": {},
     "output_type": "execute_result"
    }
   ],
   "source": [
    "# Calculate std dev\n",
    "combined_std = combined_returns.std().sort_values(ascending=False)\n",
    "combined_std"
   ]
  },
  {
   "cell_type": "markdown",
   "metadata": {},
   "source": [
    "### Calculate `sharpe ratio` for all data"
   ]
  },
  {
   "cell_type": "code",
   "execution_count": 12,
   "metadata": {
    "tags": []
   },
   "outputs": [
    {
     "data": {
      "text/plain": [
       "BTC         0.830030\n",
       "BTT       -33.180840\n",
       "DOGE        5.467846\n",
       "ETH        -5.720616\n",
       "LTC        -0.885783\n",
       "XRP         5.886424\n",
       "SOLVE     -20.857181\n",
       "XLM         0.822976\n",
       "TRON        4.988527\n",
       "ZIL         6.480782\n",
       "BTC        -0.844384\n",
       "DOGE       -0.127007\n",
       "ETH        -0.516907\n",
       "LTC        -0.406057\n",
       "XRP        -0.309595\n",
       "XLM        -0.181999\n",
       "rf_rate     0.000000\n",
       "dtype: float64"
      ]
     },
     "execution_count": 12,
     "metadata": {},
     "output_type": "execute_result"
    }
   ],
   "source": [
    "# Calculate sharpe ratio\n",
    "combined_sharpe_ratios = ((combined_returns.mean()-combined_returns['rf_rate'].mean()) * 252) / (combined_returns.std() * np.sqrt(252))\n",
    "combined_sharpe_ratios"
   ]
  },
  {
   "cell_type": "markdown",
   "metadata": {},
   "source": [
    "### Plot Sharpe Ratios"
   ]
  },
  {
   "cell_type": "code",
   "execution_count": 14,
   "metadata": {
    "tags": []
   },
   "outputs": [
    {
     "data": {
      "text/plain": [
       "<Axes: >"
      ]
     },
     "execution_count": 14,
     "metadata": {},
     "output_type": "execute_result"
    },
    {
     "data": {
      "image/png": "[encoded data removed]",
      "text/plain": [
       "<Figure size 640x480 with 1 Axes>"
      ]
     },
     "metadata": {},
     "output_type": "display_data"
    }
   ],
   "source": [
    "# Plot\n",
    "combined_sharpe_ratios.plot(kind=\"bar\")"
   ]
  },
  {
   "cell_type": "markdown",
   "metadata": {},
   "source": [
    "### How many smart investments did Harold make compared to risky investments? How many did you make?"
   ]
  },
  {
   "cell_type": "markdown",
   "metadata": {},
   "source": [
    "*Your answer here: 6 smart investments vs 4 risky ones*"
   ]
  },
  {
   "cell_type": "markdown",
   "metadata": {},
   "source": [
    "### Which cryptos have been the smartest investment?"
   ]
  },
  {
   "cell_type": "markdown",
   "metadata": {},
   "source": [
    "*Your answer here: DOGE, XRP, TRON, and ZIL*"
   ]
  },
  {
   "cell_type": "markdown",
   "metadata": {},
   "source": [
    "### Calculate annualized std dev for each portfolio individually"
   ]
  },
  {
   "cell_type": "code",
   "execution_count": 15,
   "metadata": {
    "tags": []
   },
   "outputs": [
    {
     "data": {
      "text/plain": [
       "BTC      1.118962\n",
       "BTT      0.487842\n",
       "DOGE     0.808117\n",
       "ETH      1.452783\n",
       "LTC      1.344613\n",
       "XRP      1.274365\n",
       "SOLVE    0.936847\n",
       "XLM      1.044947\n",
       "TRON     1.030614\n",
       "ZIL      1.027496\n",
       "dtype: float64"
      ]
     },
     "metadata": {},
     "output_type": "display_data"
    },
    {
     "data": {
      "text/plain": [
       "BTC     0.672712\n",
       "DOGE    1.118621\n",
       "ETH     0.937257\n",
       "LTC     0.995635\n",
       "XRP     1.229463\n",
       "XLM     1.336267\n",
       "dtype: float64"
      ]
     },
     "metadata": {},
     "output_type": "display_data"
    }
   ],
   "source": [
    "# Calculate std dev for all investments for each portfolio\n",
    "\n",
    "# Harold's portfolio's annualized std dev\n",
    "display(harold_returns.std() * np.sqrt(252))\n",
    "\n",
    "# My portfolio's annualized std dev\n",
    "display(my_returns.std() * np.sqrt(252))"
   ]
  },
  {
   "cell_type": "markdown",
   "metadata": {},
   "source": [
    "### Calculate the sharpe ratios for each individual portfolio"
   ]
  },
  {
   "cell_type": "code",
   "execution_count": 17,
   "metadata": {
    "tags": []
   },
   "outputs": [
    {
     "data": {
      "text/plain": [
       "BTC         0.830030\n",
       "BTT       -33.180840\n",
       "DOGE        5.467846\n",
       "ETH        -5.720616\n",
       "LTC        -0.885783\n",
       "XRP         5.886424\n",
       "SOLVE     -20.857181\n",
       "XLM         0.822976\n",
       "TRON        4.988527\n",
       "ZIL         6.480782\n",
       "rf_rate     0.000000\n",
       "dtype: float64"
      ]
     },
     "metadata": {},
     "output_type": "display_data"
    },
    {
     "data": {
      "text/plain": [
       "BTC       -0.844384\n",
       "DOGE      -0.127007\n",
       "ETH       -0.516907\n",
       "LTC       -0.406057\n",
       "XRP       -0.309595\n",
       "XLM       -0.181999\n",
       "rf_rate    0.000000\n",
       "dtype: float64"
      ]
     },
     "metadata": {},
     "output_type": "display_data"
    }
   ],
   "source": [
    "# Calculate sharpe ratio\n",
    "\n",
    "# Harold's portfolio's Sharpe ratio\n",
    "Harold_combined_returns = pd.concat([harold_returns,risk_free_returns],axis=\"columns\",join=\"outer\")\n",
    "Harold_sharpe_ratios = ((Harold_combined_returns.mean()-Harold_combined_returns['rf_rate'].mean()) * 252) / (Harold_combined_returns.std() * np.sqrt(252))\n",
    "\n",
    "# My portfolio's Sharpe ratio\n",
    "My_combined_returns = pd.concat([my_returns,risk_free_returns],axis=\"columns\",join=\"outer\")\n",
    "My_sharpe_ratios = ((My_combined_returns.mean()-My_combined_returns['rf_rate'].mean()) * 252) / (My_combined_returns.std() * np.sqrt(252))\n",
    "\n",
    "display(Harold_sharpe_ratios)\n",
    "display(My_sharpe_ratios)"
   ]
  },
  {
   "cell_type": "markdown",
   "metadata": {},
   "source": [
    "### Average sharpe ratios for each portfolio and output to screen"
   ]
  },
  {
   "cell_type": "code",
   "execution_count": 20,
   "metadata": {
    "tags": []
   },
   "outputs": [
    {
     "data": {
      "text/plain": [
       "-3.2879849237694954"
      ]
     },
     "metadata": {},
     "output_type": "display_data"
    },
    {
     "data": {
      "text/plain": [
       "-0.34084977852441634"
      ]
     },
     "metadata": {},
     "output_type": "display_data"
    }
   ],
   "source": [
    "# Averaging sharpe ratios\n",
    "display(Harold_sharpe_ratios.mean())\n",
    "display(My_sharpe_ratios.mean())"
   ]
  },
  {
   "cell_type": "markdown",
   "metadata": {},
   "source": [
    "### Compare Sharpe Ratios Averages"
   ]
  },
  {
   "cell_type": "code",
   "execution_count": 21,
   "metadata": {
    "tags": []
   },
   "outputs": [
    {
     "name": "stdout",
     "output_type": "stream",
     "text": [
      "I invested smarter than Harold did\n"
     ]
    }
   ],
   "source": [
    "# Use comparison operator to determine if Harold's sharpe ratio avg is greater\n",
    "if Harold_sharpe_ratios.mean() > My_sharpe_ratios.mean():\n",
    "    print(\"Harold invested smarter than I did\")\n",
    "elif Harold_sharpe_ratios.mean() < My_sharpe_ratios.mean():\n",
    "    print(\"I invested smarter than Harold did\")\n",
    "else:\n",
    "    print(\"We both invested about the same\")"
   ]
  },
  {
   "cell_type": "markdown",
   "metadata": {},
   "source": [
    "### Which portfolio is the smartest investment, based off of risk to reward ratio?"
   ]
  },
  {
   "cell_type": "markdown",
   "metadata": {},
   "source": [
    "*Your answer here: My portfolio is the smartest investment*"
   ]
  },
  {
   "cell_type": "code",
   "execution_count": null,
   "metadata": {},
   "outputs": [],
   "source": []
  }
 ],
 "metadata": {
  "kernelspec": {
   "display_name": "Python 3 (ipykernel)",
   "language": "python",
   "name": "python3"
  },
  "language_info": {
   "codemirror_mode": {
    "name": "ipython",
    "version": 3
   },
   "file_extension": ".py",
   "mimetype": "text/x-python",
   "name": "python",
   "nbconvert_exporter": "python",
   "pygments_lexer": "ipython3",
   "version": "3.11.3"
  }
 },
 "nbformat": 4,
 "nbformat_minor": 4
}
